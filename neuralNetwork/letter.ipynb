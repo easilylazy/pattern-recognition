{
 "metadata": {
  "language_info": {
   "codemirror_mode": {
    "name": "ipython",
    "version": 3
   },
   "file_extension": ".py",
   "mimetype": "text/x-python",
   "name": "python",
   "nbconvert_exporter": "python",
   "pygments_lexer": "ipython3",
   "version": "3.7.4"
  },
  "orig_nbformat": 2,
  "kernelspec": {
   "name": "python374jvsc74a57bd03f857618d8b6a3d270a8a45aea13fd0dc2a28a907e8d4ef70fe87ce2a92698f8",
   "display_name": "Python 3.7.4 64-bit"
  }
 },
 "nbformat": 4,
 "nbformat_minor": 2,
 "cells": [
  {
   "source": [
    "author: leezeeyee   \n",
    "date: 2021/4/15    \n",
    "link: [github](https://github.com/easilylazy/pattern-recognition) "
   ],
   "cell_type": "markdown",
   "metadata": {}
  },
  {
   "cell_type": "code",
   "execution_count": 1,
   "metadata": {},
   "outputs": [],
   "source": [
    "import numpy as np\n",
    "import torch"
   ]
  },
  {
   "cell_type": "code",
   "execution_count": 2,
   "metadata": {},
   "outputs": [],
   "source": [
    "from torch import nn\n",
    "from torch.utils.data import DataLoader\n",
    "from torchvision import datasets\n",
    "from torchvision.transforms import ToTensor, Lambda, Compose\n",
    "import matplotlib.pyplot as plt"
   ]
  },
  {
   "source": [
    "## 字母识别\n",
    "2，用3*3的矩阵共9维特征来表示字母，假设   \n",
    "向量(0，1，0，0，1，0，0，1，0)T表示字母“I”，    \n",
    "向量(1，1，1，0，1，0，0，1，0)T表示字母“T”，    \n",
    "向量(1，0，1，1，0，1，1，1，1)T表示字母“U”，   \n",
    "请自行设计神经网络实现对这三个字母的识别，希望能通过设计不同的隐含层数、每层的节点数、不同的学习率、不同的激活函数等对实验结果进行讨论。"
   ],
   "cell_type": "markdown",
   "metadata": {}
  },
  {
   "source": [
    "## 过程中的问题与思考"
   ],
   "cell_type": "markdown",
   "metadata": {}
  },
  {
   "source": [
    "1. 学习率很低，不收敛    \n",
    "不知是否是算法有问题，更换数据后有所改善\n",
    "因此需要调整网络结构\n",
    "2. 增加网络隐藏层的节点数，收敛速度增加\n",
    "3. 增加学习率，SGD的收敛速度有所提升\n",
    "\n",
    "其实对于这部分的训练可视为过拟合的过程，没有测试集的验证"
   ],
   "cell_type": "markdown",
   "metadata": {}
  },
  {
   "source": [
    "### 数据"
   ],
   "cell_type": "markdown",
   "metadata": {}
  },
  {
   "cell_type": "code",
   "execution_count": 6,
   "metadata": {},
   "outputs": [
    {
     "output_type": "execute_result",
     "data": {
      "text/plain": [
       "'1,0,1,1,0,1,1,1,1'"
      ]
     },
     "metadata": {},
     "execution_count": 6
    }
   ],
   "source": [
    "string='1，0，1，1，0，1，1，1，1'\n",
    "string.replace('，',',')"
   ]
  },
  {
   "cell_type": "code",
   "execution_count": 7,
   "metadata": {},
   "outputs": [],
   "source": [
    "D=np.asarray([[0,1,0,0,1,0,0,1,0],[1,1,1,0,1,0,0,1,0],[1,0,1,1,0,1,1,1,1]])\n",
    "Y=np.array([0,1,2],dtype=np.int64)"
   ]
  },
  {
   "cell_type": "code",
   "execution_count": 8,
   "metadata": {},
   "outputs": [],
   "source": [
    "D = D.astype(np.float32)\n",
    "D_np = torch.from_numpy(D)\n",
    "# D_np\n",
    "Y_np=torch.tensor(Y)\n",
    "# Y_np"
   ]
  },
  {
   "cell_type": "code",
   "execution_count": 9,
   "metadata": {},
   "outputs": [],
   "source": [
    "train_data=[]\n",
    "for i in range(len(D)):\n",
    "    train_data.append([D_np[i],Y_np[i]])"
   ]
  },
  {
   "cell_type": "code",
   "execution_count": 10,
   "metadata": {},
   "outputs": [
    {
     "output_type": "stream",
     "name": "stdout",
     "text": [
      "[tensor([[1., 1., 1., 0., 1., 0., 0., 1., 0.]]), tensor([1])]\n"
     ]
    }
   ],
   "source": [
    "batch_size = 1\n",
    "\n",
    "# Create data loaders.\n",
    "train_dataloader = DataLoader(train_data,batch_size=batch_size,shuffle=True)\n",
    "# test_dataloader = DataLoader(test_data, batch_size=batch_size)\n",
    "\n",
    "for X in train_dataloader:\n",
    "    # print(\"Shape of X [N, C, H, W]: \", X.shape)\n",
    "    print(X)\n",
    "    # print(\"Shape of y: \", y.shape, y.dtype)\n",
    "    break"
   ]
  },
  {
   "cell_type": "code",
   "execution_count": 11,
   "metadata": {},
   "outputs": [
    {
     "output_type": "stream",
     "name": "stdout",
     "text": [
      "Feature batch shape: torch.Size([1, 9])\n",
      "Labels batch shape: torch.Size([1])\n"
     ]
    }
   ],
   "source": [
    "# Display image and label.\n",
    "train_features, train_labels = next(iter(train_dataloader))\n",
    "print(f\"Feature batch shape: {train_features.size()}\")\n",
    "print(f\"Labels batch shape: {train_labels.size()}\")"
   ]
  },
  {
   "cell_type": "code",
   "execution_count": 12,
   "metadata": {
    "tags": []
   },
   "outputs": [
    {
     "output_type": "stream",
     "name": "stdout",
     "text": [
      "Using cpu device\n"
     ]
    }
   ],
   "source": [
    "# Get cpu or gpu device for training.\n",
    "device = \"cuda\" if torch.cuda.is_available() else \"cpu\"\n",
    "print(\"Using {} device\".format(device))\n",
    "\n",
    "# Define model\n",
    "class NeuralNetwork(nn.Module):\n",
    "    def __init__(self):\n",
    "        super(NeuralNetwork, self).__init__()\n",
    "        self.flatten = nn.Flatten()\n",
    "        self.linear_relu_stack = nn.Sequential(\n",
    "            nn.ReLU(),\n",
    "            nn.Linear(9, 18),\n",
    "            nn.ReLU(),\n",
    "            # nn.Linear(8, 3),\n",
    "            nn.Linear(18, 5),\n",
    "            nn.ReLU(),\n",
    "            nn.Linear(5, 3),\n",
    "        )\n",
    "\n",
    "    def forward(self, x):\n",
    "        x = self.flatten(x)\n",
    "        logits = self.linear_relu_stack(x)\n",
    "        return logits\n",
    "\n"
   ]
  },
  {
   "cell_type": "code",
   "execution_count": 13,
   "metadata": {},
   "outputs": [
    {
     "output_type": "stream",
     "name": "stdout",
     "text": [
      "tensor([[1., 0., 1., 1., 0., 1., 1., 1., 1.]])\n",
      "tensor([2])\n",
      "tensor([[1., 1., 1., 0., 1., 0., 0., 1., 0.]])\n",
      "tensor([1])\n",
      "tensor([[0., 1., 0., 0., 1., 0., 0., 1., 0.]])\n",
      "tensor([0])\n"
     ]
    }
   ],
   "source": [
    "for batch, (X, y) in enumerate(train_dataloader):\n",
    "        X, y = X.to(device), y.to(device)\n",
    "        print(X)\n",
    "        print(y)"
   ]
  },
  {
   "cell_type": "code",
   "execution_count": 14,
   "metadata": {},
   "outputs": [],
   "source": [
    "def train(dataloader, model, loss_fn, optimizer):\n",
    "    size = len(dataloader.dataset)\n",
    "\n",
    "    for batch, (X, y) in enumerate(dataloader):\n",
    "        X, y = X.to(device), y.to(device)\n",
    "\n",
    "        # Compute prediction error\n",
    "        pred = model(X)\n",
    "        # y=torch.tensor(y,dtype=torch.long)\n",
    "        # print(pred,y)\n",
    "        # print('sf')\n",
    "        # print(pred[0][y[0]])\n",
    "        loss = loss_fn(pred, y)\n",
    "        # loss=(pred-y)**2\n",
    "        # print(pred.argmax(1)==y)\n",
    "\n",
    "        # print(loss)\n",
    "        # print(loss.grad_fn)\n",
    "        # Backpropagation\n",
    "        optimizer.zero_grad()\n",
    "\n",
    "        loss.backward()\n",
    "        optimizer.step()\n",
    "\n",
    "        # if batch % 8 == 0:\n",
    "        #     loss, current = loss.item(), batch * len(X)\n",
    "        #     print(f\"loss: {loss:>7f}  [{current:>5d}/{size:>5d}]\")"
   ]
  },
  {
   "cell_type": "code",
   "execution_count": 15,
   "metadata": {},
   "outputs": [],
   "source": [
    "def test(dataloader, model, epoch):\n",
    "    size = len(dataloader.dataset)\n",
    "    model.eval()\n",
    "    test_loss, correct = 0, 0\n",
    "    with torch.no_grad():\n",
    "        for X, y in dataloader:\n",
    "            X, y = X.to(device), y.to(device)\n",
    "            pred = model(X)\n",
    "            test_loss += loss_fn(pred, y).item()\n",
    "            # print(pred)\n",
    "            # print(pred.argmax(1))\n",
    "            # print(y)\n",
    "            correct += (pred.argmax(1) == y).type(torch.float).sum().item()\n",
    "    test_loss /= size\n",
    "    correct /= size\n",
    "    # if epoch%10==0:\n",
    "    #     print(f\"Epoch {t+1}\\n-------------------------------\")\n",
    "    #     print(f\"Test Error: \\n Accuracy: {(100*correct):>0.1f}%, Avg loss: {test_loss:>8f} \\n\")\n",
    "    return test_loss,correct"
   ]
  },
  {
   "cell_type": "code",
   "execution_count": 18,
   "metadata": {},
   "outputs": [
    {
     "output_type": "stream",
     "name": "stdout",
     "text": [
      "NeuralNetwork(\n",
      "  (flatten): Flatten()\n",
      "  (linear_relu_stack): Sequential(\n",
      "    (0): ReLU()\n",
      "    (1): Linear(in_features=9, out_features=18, bias=True)\n",
      "    (2): ReLU()\n",
      "    (3): Linear(in_features=18, out_features=5, bias=True)\n",
      "    (4): ReLU()\n",
      "    (5): Linear(in_features=5, out_features=3, bias=True)\n",
      "  )\n",
      ")\n"
     ]
    }
   ],
   "source": [
    "model = NeuralNetwork().to(device)\n",
    "\n",
    "loss_fn = nn.CrossEntropyLoss()\n",
    "optimizer = torch.optim.Adam(model.parameters(), lr=1e-3)\n",
    "print(model)"
   ]
  },
  {
   "cell_type": "code",
   "execution_count": 21,
   "metadata": {
    "tags": []
   },
   "outputs": [
    {
     "output_type": "stream",
     "name": "stdout",
     "text": [
      "0.6395428776741028\n",
      "1.0\n",
      "Done!\n"
     ]
    }
   ],
   "source": [
    "epochs = 1000\n",
    "# fig=plt.figure()\n",
    "maxCorrect=0\n",
    "for t in range(epochs):\n",
    "    \n",
    "    train(train_dataloader, model, loss_fn, optimizer)\n",
    "    loss,correct=test(train_dataloader, model,t)\n",
    "    if correct>maxCorrect:\n",
    "        print(loss)\n",
    "        print(correct)\n",
    "        maxCorrect=correct\n",
    "        if abs(maxCorrect-1)<1e-6:\n",
    "            break\n",
    "    # plt.plot(t,loss,'o')\n",
    "print(\"Done!\")"
   ]
  },
  {
   "cell_type": "code",
   "execution_count": 20,
   "metadata": {},
   "outputs": [
    {
     "output_type": "stream",
     "name": "stdout",
     "text": [
      "1.1478555003801982\n",
      "0.3333333333333333\n",
      "1.071012059847514\n",
      "0.6666666666666666\n",
      "0.642576664686203\n",
      "1.0\n"
     ]
    },
    {
     "output_type": "display_data",
     "data": {
      "text/plain": "<Figure size 432x288 with 1 Axes>",
      "image/svg+xml": "<?xml version=\"1.0\" encoding=\"utf-8\" standalone=\"no\"?>\r\n<!DOCTYPE svg PUBLIC \"-//W3C//DTD SVG 1.1//EN\"\r\n  \"http://www.w3.org/Graphics/SVG/1.1/DTD/svg11.dtd\">\r\n<!-- Created with matplotlib (https://matplotlib.org/) -->\r\n<svg height=\"248.518125pt\" version=\"1.1\" viewBox=\"0 0 372.103125 248.518125\" width=\"372.103125pt\" xmlns=\"http://www.w3.org/2000/svg\" xmlns:xlink=\"http://www.w3.org/1999/xlink\">\r\n <defs>\r\n  <style type=\"text/css\">\r\n*{stroke-linecap:butt;stroke-linejoin:round;}\r\n  </style>\r\n </defs>\r\n <g id=\"figure_1\">\r\n  <g id=\"patch_1\">\r\n   <path d=\"M 0 248.518125 \r\nL 372.103125 248.518125 \r\nL 372.103125 0 \r\nL 0 0 \r\nz\r\n\" style=\"fill:none;\"/>\r\n  </g>\r\n  <g id=\"axes_1\">\r\n   <g id=\"patch_2\">\r\n    <path d=\"M 30.103125 224.64 \r\nL 364.903125 224.64 \r\nL 364.903125 7.2 \r\nL 30.103125 7.2 \r\nz\r\n\" style=\"fill:#ffffff;\"/>\r\n   </g>\r\n   <g id=\"matplotlib.axis_1\">\r\n    <g id=\"xtick_1\">\r\n     <g id=\"line2d_1\">\r\n      <defs>\r\n       <path d=\"M 0 0 \r\nL 0 3.5 \r\n\" id=\"me54daebefa\" style=\"stroke:#000000;stroke-width:0.8;\"/>\r\n      </defs>\r\n      <g>\r\n       <use style=\"stroke:#000000;stroke-width:0.8;\" x=\"45.321307\" xlink:href=\"#me54daebefa\" y=\"224.64\"/>\r\n      </g>\r\n     </g>\r\n     <g id=\"text_1\">\r\n      <!-- 0 -->\r\n      <defs>\r\n       <path d=\"M 31.78125 66.40625 \r\nQ 24.171875 66.40625 20.328125 58.90625 \r\nQ 16.5 51.421875 16.5 36.375 \r\nQ 16.5 21.390625 20.328125 13.890625 \r\nQ 24.171875 6.390625 31.78125 6.390625 \r\nQ 39.453125 6.390625 43.28125 13.890625 \r\nQ 47.125 21.390625 47.125 36.375 \r\nQ 47.125 51.421875 43.28125 58.90625 \r\nQ 39.453125 66.40625 31.78125 66.40625 \r\nz\r\nM 31.78125 74.21875 \r\nQ 44.046875 74.21875 50.515625 64.515625 \r\nQ 56.984375 54.828125 56.984375 36.375 \r\nQ 56.984375 17.96875 50.515625 8.265625 \r\nQ 44.046875 -1.421875 31.78125 -1.421875 \r\nQ 19.53125 -1.421875 13.0625 8.265625 \r\nQ 6.59375 17.96875 6.59375 36.375 \r\nQ 6.59375 54.828125 13.0625 64.515625 \r\nQ 19.53125 74.21875 31.78125 74.21875 \r\nz\r\n\" id=\"DejaVuSans-48\"/>\r\n      </defs>\r\n      <g transform=\"translate(42.140057 239.238437)scale(0.1 -0.1)\">\r\n       <use xlink:href=\"#DejaVuSans-48\"/>\r\n      </g>\r\n     </g>\r\n    </g>\r\n    <g id=\"xtick_2\">\r\n     <g id=\"line2d_2\">\r\n      <g>\r\n       <use style=\"stroke:#000000;stroke-width:0.8;\" x=\"115.451177\" xlink:href=\"#me54daebefa\" y=\"224.64\"/>\r\n      </g>\r\n     </g>\r\n     <g id=\"text_2\">\r\n      <!-- 50 -->\r\n      <defs>\r\n       <path d=\"M 10.796875 72.90625 \r\nL 49.515625 72.90625 \r\nL 49.515625 64.59375 \r\nL 19.828125 64.59375 \r\nL 19.828125 46.734375 \r\nQ 21.96875 47.46875 24.109375 47.828125 \r\nQ 26.265625 48.1875 28.421875 48.1875 \r\nQ 40.625 48.1875 47.75 41.5 \r\nQ 54.890625 34.8125 54.890625 23.390625 \r\nQ 54.890625 11.625 47.5625 5.09375 \r\nQ 40.234375 -1.421875 26.90625 -1.421875 \r\nQ 22.3125 -1.421875 17.546875 -0.640625 \r\nQ 12.796875 0.140625 7.71875 1.703125 \r\nL 7.71875 11.625 \r\nQ 12.109375 9.234375 16.796875 8.0625 \r\nQ 21.484375 6.890625 26.703125 6.890625 \r\nQ 35.15625 6.890625 40.078125 11.328125 \r\nQ 45.015625 15.765625 45.015625 23.390625 \r\nQ 45.015625 31 40.078125 35.4375 \r\nQ 35.15625 39.890625 26.703125 39.890625 \r\nQ 22.75 39.890625 18.8125 39.015625 \r\nQ 14.890625 38.140625 10.796875 36.28125 \r\nz\r\n\" id=\"DejaVuSans-53\"/>\r\n      </defs>\r\n      <g transform=\"translate(109.088677 239.238437)scale(0.1 -0.1)\">\r\n       <use xlink:href=\"#DejaVuSans-53\"/>\r\n       <use x=\"63.623047\" xlink:href=\"#DejaVuSans-48\"/>\r\n      </g>\r\n     </g>\r\n    </g>\r\n    <g id=\"xtick_3\">\r\n     <g id=\"line2d_3\">\r\n      <g>\r\n       <use style=\"stroke:#000000;stroke-width:0.8;\" x=\"185.581047\" xlink:href=\"#me54daebefa\" y=\"224.64\"/>\r\n      </g>\r\n     </g>\r\n     <g id=\"text_3\">\r\n      <!-- 100 -->\r\n      <defs>\r\n       <path d=\"M 12.40625 8.296875 \r\nL 28.515625 8.296875 \r\nL 28.515625 63.921875 \r\nL 10.984375 60.40625 \r\nL 10.984375 69.390625 \r\nL 28.421875 72.90625 \r\nL 38.28125 72.90625 \r\nL 38.28125 8.296875 \r\nL 54.390625 8.296875 \r\nL 54.390625 0 \r\nL 12.40625 0 \r\nz\r\n\" id=\"DejaVuSans-49\"/>\r\n      </defs>\r\n      <g transform=\"translate(176.037297 239.238437)scale(0.1 -0.1)\">\r\n       <use xlink:href=\"#DejaVuSans-49\"/>\r\n       <use x=\"63.623047\" xlink:href=\"#DejaVuSans-48\"/>\r\n       <use x=\"127.246094\" xlink:href=\"#DejaVuSans-48\"/>\r\n      </g>\r\n     </g>\r\n    </g>\r\n    <g id=\"xtick_4\">\r\n     <g id=\"line2d_4\">\r\n      <g>\r\n       <use style=\"stroke:#000000;stroke-width:0.8;\" x=\"255.710917\" xlink:href=\"#me54daebefa\" y=\"224.64\"/>\r\n      </g>\r\n     </g>\r\n     <g id=\"text_4\">\r\n      <!-- 150 -->\r\n      <g transform=\"translate(246.167167 239.238437)scale(0.1 -0.1)\">\r\n       <use xlink:href=\"#DejaVuSans-49\"/>\r\n       <use x=\"63.623047\" xlink:href=\"#DejaVuSans-53\"/>\r\n       <use x=\"127.246094\" xlink:href=\"#DejaVuSans-48\"/>\r\n      </g>\r\n     </g>\r\n    </g>\r\n    <g id=\"xtick_5\">\r\n     <g id=\"line2d_5\">\r\n      <g>\r\n       <use style=\"stroke:#000000;stroke-width:0.8;\" x=\"325.840787\" xlink:href=\"#me54daebefa\" y=\"224.64\"/>\r\n      </g>\r\n     </g>\r\n     <g id=\"text_5\">\r\n      <!-- 200 -->\r\n      <defs>\r\n       <path d=\"M 19.1875 8.296875 \r\nL 53.609375 8.296875 \r\nL 53.609375 0 \r\nL 7.328125 0 \r\nL 7.328125 8.296875 \r\nQ 12.9375 14.109375 22.625 23.890625 \r\nQ 32.328125 33.6875 34.8125 36.53125 \r\nQ 39.546875 41.84375 41.421875 45.53125 \r\nQ 43.3125 49.21875 43.3125 52.78125 \r\nQ 43.3125 58.59375 39.234375 62.25 \r\nQ 35.15625 65.921875 28.609375 65.921875 \r\nQ 23.96875 65.921875 18.8125 64.3125 \r\nQ 13.671875 62.703125 7.8125 59.421875 \r\nL 7.8125 69.390625 \r\nQ 13.765625 71.78125 18.9375 73 \r\nQ 24.125 74.21875 28.421875 74.21875 \r\nQ 39.75 74.21875 46.484375 68.546875 \r\nQ 53.21875 62.890625 53.21875 53.421875 \r\nQ 53.21875 48.921875 51.53125 44.890625 \r\nQ 49.859375 40.875 45.40625 35.40625 \r\nQ 44.1875 33.984375 37.640625 27.21875 \r\nQ 31.109375 20.453125 19.1875 8.296875 \r\nz\r\n\" id=\"DejaVuSans-50\"/>\r\n      </defs>\r\n      <g transform=\"translate(316.297037 239.238437)scale(0.1 -0.1)\">\r\n       <use xlink:href=\"#DejaVuSans-50\"/>\r\n       <use x=\"63.623047\" xlink:href=\"#DejaVuSans-48\"/>\r\n       <use x=\"127.246094\" xlink:href=\"#DejaVuSans-48\"/>\r\n      </g>\r\n     </g>\r\n    </g>\r\n   </g>\r\n   <g id=\"matplotlib.axis_2\">\r\n    <g id=\"ytick_1\">\r\n     <g id=\"line2d_6\">\r\n      <defs>\r\n       <path d=\"M 0 0 \r\nL -3.5 0 \r\n\" id=\"m9f61600f8c\" style=\"stroke:#000000;stroke-width:0.8;\"/>\r\n      </defs>\r\n      <g>\r\n       <use style=\"stroke:#000000;stroke-width:0.8;\" x=\"30.103125\" xlink:href=\"#m9f61600f8c\" y=\"193.345218\"/>\r\n      </g>\r\n     </g>\r\n     <g id=\"text_6\">\r\n      <!-- 0.7 -->\r\n      <defs>\r\n       <path d=\"M 10.6875 12.40625 \r\nL 21 12.40625 \r\nL 21 0 \r\nL 10.6875 0 \r\nz\r\n\" id=\"DejaVuSans-46\"/>\r\n       <path d=\"M 8.203125 72.90625 \r\nL 55.078125 72.90625 \r\nL 55.078125 68.703125 \r\nL 28.609375 0 \r\nL 18.3125 0 \r\nL 43.21875 64.59375 \r\nL 8.203125 64.59375 \r\nz\r\n\" id=\"DejaVuSans-55\"/>\r\n      </defs>\r\n      <g transform=\"translate(7.2 197.144437)scale(0.1 -0.1)\">\r\n       <use xlink:href=\"#DejaVuSans-48\"/>\r\n       <use x=\"63.623047\" xlink:href=\"#DejaVuSans-46\"/>\r\n       <use x=\"95.410156\" xlink:href=\"#DejaVuSans-55\"/>\r\n      </g>\r\n     </g>\r\n    </g>\r\n    <g id=\"ytick_2\">\r\n     <g id=\"line2d_7\">\r\n      <g>\r\n       <use style=\"stroke:#000000;stroke-width:0.8;\" x=\"30.103125\" xlink:href=\"#m9f61600f8c\" y=\"153.988421\"/>\r\n      </g>\r\n     </g>\r\n     <g id=\"text_7\">\r\n      <!-- 0.8 -->\r\n      <defs>\r\n       <path d=\"M 31.78125 34.625 \r\nQ 24.75 34.625 20.71875 30.859375 \r\nQ 16.703125 27.09375 16.703125 20.515625 \r\nQ 16.703125 13.921875 20.71875 10.15625 \r\nQ 24.75 6.390625 31.78125 6.390625 \r\nQ 38.8125 6.390625 42.859375 10.171875 \r\nQ 46.921875 13.96875 46.921875 20.515625 \r\nQ 46.921875 27.09375 42.890625 30.859375 \r\nQ 38.875 34.625 31.78125 34.625 \r\nz\r\nM 21.921875 38.8125 \r\nQ 15.578125 40.375 12.03125 44.71875 \r\nQ 8.5 49.078125 8.5 55.328125 \r\nQ 8.5 64.0625 14.71875 69.140625 \r\nQ 20.953125 74.21875 31.78125 74.21875 \r\nQ 42.671875 74.21875 48.875 69.140625 \r\nQ 55.078125 64.0625 55.078125 55.328125 \r\nQ 55.078125 49.078125 51.53125 44.71875 \r\nQ 48 40.375 41.703125 38.8125 \r\nQ 48.828125 37.15625 52.796875 32.3125 \r\nQ 56.78125 27.484375 56.78125 20.515625 \r\nQ 56.78125 9.90625 50.3125 4.234375 \r\nQ 43.84375 -1.421875 31.78125 -1.421875 \r\nQ 19.734375 -1.421875 13.25 4.234375 \r\nQ 6.78125 9.90625 6.78125 20.515625 \r\nQ 6.78125 27.484375 10.78125 32.3125 \r\nQ 14.796875 37.15625 21.921875 38.8125 \r\nz\r\nM 18.3125 54.390625 \r\nQ 18.3125 48.734375 21.84375 45.5625 \r\nQ 25.390625 42.390625 31.78125 42.390625 \r\nQ 38.140625 42.390625 41.71875 45.5625 \r\nQ 45.3125 48.734375 45.3125 54.390625 \r\nQ 45.3125 60.0625 41.71875 63.234375 \r\nQ 38.140625 66.40625 31.78125 66.40625 \r\nQ 25.390625 66.40625 21.84375 63.234375 \r\nQ 18.3125 60.0625 18.3125 54.390625 \r\nz\r\n\" id=\"DejaVuSans-56\"/>\r\n      </defs>\r\n      <g transform=\"translate(7.2 157.78764)scale(0.1 -0.1)\">\r\n       <use xlink:href=\"#DejaVuSans-48\"/>\r\n       <use x=\"63.623047\" xlink:href=\"#DejaVuSans-46\"/>\r\n       <use x=\"95.410156\" xlink:href=\"#DejaVuSans-56\"/>\r\n      </g>\r\n     </g>\r\n    </g>\r\n    <g id=\"ytick_3\">\r\n     <g id=\"line2d_8\">\r\n      <g>\r\n       <use style=\"stroke:#000000;stroke-width:0.8;\" x=\"30.103125\" xlink:href=\"#m9f61600f8c\" y=\"114.631624\"/>\r\n      </g>\r\n     </g>\r\n     <g id=\"text_8\">\r\n      <!-- 0.9 -->\r\n      <defs>\r\n       <path d=\"M 10.984375 1.515625 \r\nL 10.984375 10.5 \r\nQ 14.703125 8.734375 18.5 7.8125 \r\nQ 22.3125 6.890625 25.984375 6.890625 \r\nQ 35.75 6.890625 40.890625 13.453125 \r\nQ 46.046875 20.015625 46.78125 33.40625 \r\nQ 43.953125 29.203125 39.59375 26.953125 \r\nQ 35.25 24.703125 29.984375 24.703125 \r\nQ 19.046875 24.703125 12.671875 31.3125 \r\nQ 6.296875 37.9375 6.296875 49.421875 \r\nQ 6.296875 60.640625 12.9375 67.421875 \r\nQ 19.578125 74.21875 30.609375 74.21875 \r\nQ 43.265625 74.21875 49.921875 64.515625 \r\nQ 56.59375 54.828125 56.59375 36.375 \r\nQ 56.59375 19.140625 48.40625 8.859375 \r\nQ 40.234375 -1.421875 26.421875 -1.421875 \r\nQ 22.703125 -1.421875 18.890625 -0.6875 \r\nQ 15.09375 0.046875 10.984375 1.515625 \r\nz\r\nM 30.609375 32.421875 \r\nQ 37.25 32.421875 41.125 36.953125 \r\nQ 45.015625 41.5 45.015625 49.421875 \r\nQ 45.015625 57.28125 41.125 61.84375 \r\nQ 37.25 66.40625 30.609375 66.40625 \r\nQ 23.96875 66.40625 20.09375 61.84375 \r\nQ 16.21875 57.28125 16.21875 49.421875 \r\nQ 16.21875 41.5 20.09375 36.953125 \r\nQ 23.96875 32.421875 30.609375 32.421875 \r\nz\r\n\" id=\"DejaVuSans-57\"/>\r\n      </defs>\r\n      <g transform=\"translate(7.2 118.430842)scale(0.1 -0.1)\">\r\n       <use xlink:href=\"#DejaVuSans-48\"/>\r\n       <use x=\"63.623047\" xlink:href=\"#DejaVuSans-46\"/>\r\n       <use x=\"95.410156\" xlink:href=\"#DejaVuSans-57\"/>\r\n      </g>\r\n     </g>\r\n    </g>\r\n    <g id=\"ytick_4\">\r\n     <g id=\"line2d_9\">\r\n      <g>\r\n       <use style=\"stroke:#000000;stroke-width:0.8;\" x=\"30.103125\" xlink:href=\"#m9f61600f8c\" y=\"75.274826\"/>\r\n      </g>\r\n     </g>\r\n     <g id=\"text_9\">\r\n      <!-- 1.0 -->\r\n      <g transform=\"translate(7.2 79.074045)scale(0.1 -0.1)\">\r\n       <use xlink:href=\"#DejaVuSans-49\"/>\r\n       <use x=\"63.623047\" xlink:href=\"#DejaVuSans-46\"/>\r\n       <use x=\"95.410156\" xlink:href=\"#DejaVuSans-48\"/>\r\n      </g>\r\n     </g>\r\n    </g>\r\n    <g id=\"ytick_5\">\r\n     <g id=\"line2d_10\">\r\n      <g>\r\n       <use style=\"stroke:#000000;stroke-width:0.8;\" x=\"30.103125\" xlink:href=\"#m9f61600f8c\" y=\"35.918029\"/>\r\n      </g>\r\n     </g>\r\n     <g id=\"text_10\">\r\n      <!-- 1.1 -->\r\n      <g transform=\"translate(7.2 39.717247)scale(0.1 -0.1)\">\r\n       <use xlink:href=\"#DejaVuSans-49\"/>\r\n       <use x=\"63.623047\" xlink:href=\"#DejaVuSans-46\"/>\r\n       <use x=\"95.410156\" xlink:href=\"#DejaVuSans-49\"/>\r\n      </g>\r\n     </g>\r\n    </g>\r\n   </g>\r\n   <g id=\"line2d_11\">\r\n    <defs>\r\n     <path d=\"M 0 3 \r\nC 0.795609 3 1.55874 2.683901 2.12132 2.12132 \r\nC 2.683901 1.55874 3 0.795609 3 0 \r\nC 3 -0.795609 2.683901 -1.55874 2.12132 -2.12132 \r\nC 1.55874 -2.683901 0.795609 -3 0 -3 \r\nC -0.795609 -3 -1.55874 -2.683901 -2.12132 -2.12132 \r\nC -2.683901 -1.55874 -3 -0.795609 -3 0 \r\nC -3 0.795609 -2.683901 1.55874 -2.12132 2.12132 \r\nC -1.55874 2.683901 -0.795609 3 0 3 \r\nz\r\n\" id=\"m6e3589a933\" style=\"stroke:#ff0000;\"/>\r\n    </defs>\r\n    <g clip-path=\"url(#p3b56e22f0b)\">\r\n     <use style=\"fill:#ff0000;stroke:#ff0000;\" x=\"45.321307\" xlink:href=\"#m6e3589a933\" y=\"17.083636\"/>\r\n    </g>\r\n   </g>\r\n   <g id=\"line2d_12\">\r\n    <g clip-path=\"url(#p3b56e22f0b)\">\r\n     <use style=\"fill:#ff0000;stroke:#ff0000;\" x=\"46.723904\" xlink:href=\"#m6e3589a933\" y=\"17.506569\"/>\r\n    </g>\r\n   </g>\r\n   <g id=\"line2d_13\">\r\n    <g clip-path=\"url(#p3b56e22f0b)\">\r\n     <use style=\"fill:#ff0000;stroke:#ff0000;\" x=\"48.126502\" xlink:href=\"#m6e3589a933\" y=\"17.924678\"/>\r\n    </g>\r\n   </g>\r\n   <g id=\"line2d_14\">\r\n    <g clip-path=\"url(#p3b56e22f0b)\">\r\n     <use style=\"fill:#ff0000;stroke:#ff0000;\" x=\"49.529099\" xlink:href=\"#m6e3589a933\" y=\"18.335764\"/>\r\n    </g>\r\n   </g>\r\n   <g id=\"line2d_15\">\r\n    <g clip-path=\"url(#p3b56e22f0b)\">\r\n     <use style=\"fill:#ff0000;stroke:#ff0000;\" x=\"50.931696\" xlink:href=\"#m6e3589a933\" y=\"18.734198\"/>\r\n    </g>\r\n   </g>\r\n   <g id=\"line2d_16\">\r\n    <g clip-path=\"url(#p3b56e22f0b)\">\r\n     <use style=\"fill:#ff0000;stroke:#ff0000;\" x=\"52.334294\" xlink:href=\"#m6e3589a933\" y=\"19.320559\"/>\r\n    </g>\r\n   </g>\r\n   <g id=\"line2d_17\">\r\n    <g clip-path=\"url(#p3b56e22f0b)\">\r\n     <use style=\"fill:#ff0000;stroke:#ff0000;\" x=\"53.736891\" xlink:href=\"#m6e3589a933\" y=\"19.917233\"/>\r\n    </g>\r\n   </g>\r\n   <g id=\"line2d_18\">\r\n    <g clip-path=\"url(#p3b56e22f0b)\">\r\n     <use style=\"fill:#ff0000;stroke:#ff0000;\" x=\"55.139489\" xlink:href=\"#m6e3589a933\" y=\"20.504477\"/>\r\n    </g>\r\n   </g>\r\n   <g id=\"line2d_19\">\r\n    <g clip-path=\"url(#p3b56e22f0b)\">\r\n     <use style=\"fill:#ff0000;stroke:#ff0000;\" x=\"56.542086\" xlink:href=\"#m6e3589a933\" y=\"21.08147\"/>\r\n    </g>\r\n   </g>\r\n   <g id=\"line2d_20\">\r\n    <g clip-path=\"url(#p3b56e22f0b)\">\r\n     <use style=\"fill:#ff0000;stroke:#ff0000;\" x=\"57.944683\" xlink:href=\"#m6e3589a933\" y=\"21.650306\"/>\r\n    </g>\r\n   </g>\r\n   <g id=\"line2d_21\">\r\n    <g clip-path=\"url(#p3b56e22f0b)\">\r\n     <use style=\"fill:#ff0000;stroke:#ff0000;\" x=\"59.347281\" xlink:href=\"#m6e3589a933\" y=\"22.216289\"/>\r\n    </g>\r\n   </g>\r\n   <g id=\"line2d_22\">\r\n    <g clip-path=\"url(#p3b56e22f0b)\">\r\n     <use style=\"fill:#ff0000;stroke:#ff0000;\" x=\"60.749878\" xlink:href=\"#m6e3589a933\" y=\"22.772685\"/>\r\n    </g>\r\n   </g>\r\n   <g id=\"line2d_23\">\r\n    <g clip-path=\"url(#p3b56e22f0b)\">\r\n     <use style=\"fill:#ff0000;stroke:#ff0000;\" x=\"62.152476\" xlink:href=\"#m6e3589a933\" y=\"23.326313\"/>\r\n    </g>\r\n   </g>\r\n   <g id=\"line2d_24\">\r\n    <g clip-path=\"url(#p3b56e22f0b)\">\r\n     <use style=\"fill:#ff0000;stroke:#ff0000;\" x=\"63.555073\" xlink:href=\"#m6e3589a933\" y=\"23.876031\"/>\r\n    </g>\r\n   </g>\r\n   <g id=\"line2d_25\">\r\n    <g clip-path=\"url(#p3b56e22f0b)\">\r\n     <use style=\"fill:#ff0000;stroke:#ff0000;\" x=\"64.95767\" xlink:href=\"#m6e3589a933\" y=\"24.420675\"/>\r\n    </g>\r\n   </g>\r\n   <g id=\"line2d_26\">\r\n    <g clip-path=\"url(#p3b56e22f0b)\">\r\n     <use style=\"fill:#ff0000;stroke:#ff0000;\" x=\"66.360268\" xlink:href=\"#m6e3589a933\" y=\"24.953636\"/>\r\n    </g>\r\n   </g>\r\n   <g id=\"line2d_27\">\r\n    <g clip-path=\"url(#p3b56e22f0b)\">\r\n     <use style=\"fill:#ff0000;stroke:#ff0000;\" x=\"67.762865\" xlink:href=\"#m6e3589a933\" y=\"25.487261\"/>\r\n    </g>\r\n   </g>\r\n   <g id=\"line2d_28\">\r\n    <g clip-path=\"url(#p3b56e22f0b)\">\r\n     <use style=\"fill:#ff0000;stroke:#ff0000;\" x=\"69.165463\" xlink:href=\"#m6e3589a933\" y=\"26.017149\"/>\r\n    </g>\r\n   </g>\r\n   <g id=\"line2d_29\">\r\n    <g clip-path=\"url(#p3b56e22f0b)\">\r\n     <use style=\"fill:#ff0000;stroke:#ff0000;\" x=\"70.56806\" xlink:href=\"#m6e3589a933\" y=\"26.538983\"/>\r\n    </g>\r\n   </g>\r\n   <g id=\"line2d_30\">\r\n    <g clip-path=\"url(#p3b56e22f0b)\">\r\n     <use style=\"fill:#ff0000;stroke:#ff0000;\" x=\"71.970657\" xlink:href=\"#m6e3589a933\" y=\"27.059621\"/>\r\n    </g>\r\n   </g>\r\n   <g id=\"line2d_31\">\r\n    <g clip-path=\"url(#p3b56e22f0b)\">\r\n     <use style=\"fill:#ff0000;stroke:#ff0000;\" x=\"73.373255\" xlink:href=\"#m6e3589a933\" y=\"27.577787\"/>\r\n    </g>\r\n   </g>\r\n   <g id=\"line2d_32\">\r\n    <g clip-path=\"url(#p3b56e22f0b)\">\r\n     <use style=\"fill:#ff0000;stroke:#ff0000;\" x=\"74.775852\" xlink:href=\"#m6e3589a933\" y=\"28.094226\"/>\r\n    </g>\r\n   </g>\r\n   <g id=\"line2d_33\">\r\n    <g clip-path=\"url(#p3b56e22f0b)\">\r\n     <use style=\"fill:#ff0000;stroke:#ff0000;\" x=\"76.17845\" xlink:href=\"#m6e3589a933\" y=\"28.611696\"/>\r\n    </g>\r\n   </g>\r\n   <g id=\"line2d_34\">\r\n    <g clip-path=\"url(#p3b56e22f0b)\">\r\n     <use style=\"fill:#ff0000;stroke:#ff0000;\" x=\"77.581047\" xlink:href=\"#m6e3589a933\" y=\"29.129401\"/>\r\n    </g>\r\n   </g>\r\n   <g id=\"line2d_35\">\r\n    <g clip-path=\"url(#p3b56e22f0b)\">\r\n     <use style=\"fill:#ff0000;stroke:#ff0000;\" x=\"78.983644\" xlink:href=\"#m6e3589a933\" y=\"29.641312\"/>\r\n    </g>\r\n   </g>\r\n   <g id=\"line2d_36\">\r\n    <g clip-path=\"url(#p3b56e22f0b)\">\r\n     <use style=\"fill:#ff0000;stroke:#ff0000;\" x=\"80.386242\" xlink:href=\"#m6e3589a933\" y=\"30.150369\"/>\r\n    </g>\r\n   </g>\r\n   <g id=\"line2d_37\">\r\n    <g clip-path=\"url(#p3b56e22f0b)\">\r\n     <use style=\"fill:#ff0000;stroke:#ff0000;\" x=\"81.788839\" xlink:href=\"#m6e3589a933\" y=\"30.659035\"/>\r\n    </g>\r\n   </g>\r\n   <g id=\"line2d_38\">\r\n    <g clip-path=\"url(#p3b56e22f0b)\">\r\n     <use style=\"fill:#ff0000;stroke:#ff0000;\" x=\"83.191437\" xlink:href=\"#m6e3589a933\" y=\"31.151069\"/>\r\n    </g>\r\n   </g>\r\n   <g id=\"line2d_39\">\r\n    <g clip-path=\"url(#p3b56e22f0b)\">\r\n     <use style=\"fill:#ff0000;stroke:#ff0000;\" x=\"84.594034\" xlink:href=\"#m6e3589a933\" y=\"31.65706\"/>\r\n    </g>\r\n   </g>\r\n   <g id=\"line2d_40\">\r\n    <g clip-path=\"url(#p3b56e22f0b)\">\r\n     <use style=\"fill:#ff0000;stroke:#ff0000;\" x=\"85.996631\" xlink:href=\"#m6e3589a933\" y=\"32.169315\"/>\r\n    </g>\r\n   </g>\r\n   <g id=\"line2d_41\">\r\n    <g clip-path=\"url(#p3b56e22f0b)\">\r\n     <use style=\"fill:#ff0000;stroke:#ff0000;\" x=\"87.399229\" xlink:href=\"#m6e3589a933\" y=\"32.663015\"/>\r\n    </g>\r\n   </g>\r\n   <g id=\"line2d_42\">\r\n    <g clip-path=\"url(#p3b56e22f0b)\">\r\n     <use style=\"fill:#ff0000;stroke:#ff0000;\" x=\"88.801826\" xlink:href=\"#m6e3589a933\" y=\"33.178554\"/>\r\n    </g>\r\n   </g>\r\n   <g id=\"line2d_43\">\r\n    <g clip-path=\"url(#p3b56e22f0b)\">\r\n     <use style=\"fill:#ff0000;stroke:#ff0000;\" x=\"90.204424\" xlink:href=\"#m6e3589a933\" y=\"33.688776\"/>\r\n    </g>\r\n   </g>\r\n   <g id=\"line2d_44\">\r\n    <g clip-path=\"url(#p3b56e22f0b)\">\r\n     <use style=\"fill:#ff0000;stroke:#ff0000;\" x=\"91.607021\" xlink:href=\"#m6e3589a933\" y=\"34.188856\"/>\r\n    </g>\r\n   </g>\r\n   <g id=\"line2d_45\">\r\n    <g clip-path=\"url(#p3b56e22f0b)\">\r\n     <use style=\"fill:#ff0000;stroke:#ff0000;\" x=\"93.009619\" xlink:href=\"#m6e3589a933\" y=\"34.710901\"/>\r\n    </g>\r\n   </g>\r\n   <g id=\"line2d_46\">\r\n    <g clip-path=\"url(#p3b56e22f0b)\">\r\n     <use style=\"fill:#ff0000;stroke:#ff0000;\" x=\"94.412216\" xlink:href=\"#m6e3589a933\" y=\"35.228582\"/>\r\n    </g>\r\n   </g>\r\n   <g id=\"line2d_47\">\r\n    <g clip-path=\"url(#p3b56e22f0b)\">\r\n     <use style=\"fill:#ff0000;stroke:#ff0000;\" x=\"95.814813\" xlink:href=\"#m6e3589a933\" y=\"35.732729\"/>\r\n    </g>\r\n   </g>\r\n   <g id=\"line2d_48\">\r\n    <g clip-path=\"url(#p3b56e22f0b)\">\r\n     <use style=\"fill:#ff0000;stroke:#ff0000;\" x=\"97.217411\" xlink:href=\"#m6e3589a933\" y=\"36.081986\"/>\r\n    </g>\r\n   </g>\r\n   <g id=\"line2d_49\">\r\n    <g clip-path=\"url(#p3b56e22f0b)\">\r\n     <use style=\"fill:#ff0000;stroke:#ff0000;\" x=\"98.620008\" xlink:href=\"#m6e3589a933\" y=\"36.647148\"/>\r\n    </g>\r\n   </g>\r\n   <g id=\"line2d_50\">\r\n    <g clip-path=\"url(#p3b56e22f0b)\">\r\n     <use style=\"fill:#ff0000;stroke:#ff0000;\" x=\"100.022606\" xlink:href=\"#m6e3589a933\" y=\"36.996656\"/>\r\n    </g>\r\n   </g>\r\n   <g id=\"line2d_51\">\r\n    <g clip-path=\"url(#p3b56e22f0b)\">\r\n     <use style=\"fill:#ff0000;stroke:#ff0000;\" x=\"101.425203\" xlink:href=\"#m6e3589a933\" y=\"37.394316\"/>\r\n    </g>\r\n   </g>\r\n   <g id=\"line2d_52\">\r\n    <g clip-path=\"url(#p3b56e22f0b)\">\r\n     <use style=\"fill:#ff0000;stroke:#ff0000;\" x=\"102.8278\" xlink:href=\"#m6e3589a933\" y=\"37.895944\"/>\r\n    </g>\r\n   </g>\r\n   <g id=\"line2d_53\">\r\n    <g clip-path=\"url(#p3b56e22f0b)\">\r\n     <use style=\"fill:#ff0000;stroke:#ff0000;\" x=\"104.230398\" xlink:href=\"#m6e3589a933\" y=\"38.284589\"/>\r\n    </g>\r\n   </g>\r\n   <g id=\"line2d_54\">\r\n    <g clip-path=\"url(#p3b56e22f0b)\">\r\n     <use style=\"fill:#ff0000;stroke:#ff0000;\" x=\"105.632995\" xlink:href=\"#m6e3589a933\" y=\"38.721284\"/>\r\n    </g>\r\n   </g>\r\n   <g id=\"line2d_55\">\r\n    <g clip-path=\"url(#p3b56e22f0b)\">\r\n     <use style=\"fill:#ff0000;stroke:#ff0000;\" x=\"107.035593\" xlink:href=\"#m6e3589a933\" y=\"39.162718\"/>\r\n    </g>\r\n   </g>\r\n   <g id=\"line2d_56\">\r\n    <g clip-path=\"url(#p3b56e22f0b)\">\r\n     <use style=\"fill:#ff0000;stroke:#ff0000;\" x=\"108.43819\" xlink:href=\"#m6e3589a933\" y=\"39.595073\"/>\r\n    </g>\r\n   </g>\r\n   <g id=\"line2d_57\">\r\n    <g clip-path=\"url(#p3b56e22f0b)\">\r\n     <use style=\"fill:#ff0000;stroke:#ff0000;\" x=\"109.840787\" xlink:href=\"#m6e3589a933\" y=\"39.977971\"/>\r\n    </g>\r\n   </g>\r\n   <g id=\"line2d_58\">\r\n    <g clip-path=\"url(#p3b56e22f0b)\">\r\n     <use style=\"fill:#ff0000;stroke:#ff0000;\" x=\"111.243385\" xlink:href=\"#m6e3589a933\" y=\"40.449009\"/>\r\n    </g>\r\n   </g>\r\n   <g id=\"line2d_59\">\r\n    <g clip-path=\"url(#p3b56e22f0b)\">\r\n     <use style=\"fill:#ff0000;stroke:#ff0000;\" x=\"112.645982\" xlink:href=\"#m6e3589a933\" y=\"40.891475\"/>\r\n    </g>\r\n   </g>\r\n   <g id=\"line2d_60\">\r\n    <g clip-path=\"url(#p3b56e22f0b)\">\r\n     <use style=\"fill:#ff0000;stroke:#ff0000;\" x=\"114.04858\" xlink:href=\"#m6e3589a933\" y=\"41.293303\"/>\r\n    </g>\r\n   </g>\r\n   <g id=\"line2d_61\">\r\n    <g clip-path=\"url(#p3b56e22f0b)\">\r\n     <use style=\"fill:#ff0000;stroke:#ff0000;\" x=\"115.451177\" xlink:href=\"#m6e3589a933\" y=\"41.672822\"/>\r\n    </g>\r\n   </g>\r\n   <g id=\"line2d_62\">\r\n    <g clip-path=\"url(#p3b56e22f0b)\">\r\n     <use style=\"fill:#ff0000;stroke:#ff0000;\" x=\"116.853774\" xlink:href=\"#m6e3589a933\" y=\"42.224761\"/>\r\n    </g>\r\n   </g>\r\n   <g id=\"line2d_63\">\r\n    <g clip-path=\"url(#p3b56e22f0b)\">\r\n     <use style=\"fill:#ff0000;stroke:#ff0000;\" x=\"118.256372\" xlink:href=\"#m6e3589a933\" y=\"42.624541\"/>\r\n    </g>\r\n   </g>\r\n   <g id=\"line2d_64\">\r\n    <g clip-path=\"url(#p3b56e22f0b)\">\r\n     <use style=\"fill:#ff0000;stroke:#ff0000;\" x=\"119.658969\" xlink:href=\"#m6e3589a933\" y=\"43.004724\"/>\r\n    </g>\r\n   </g>\r\n   <g id=\"line2d_65\">\r\n    <g clip-path=\"url(#p3b56e22f0b)\">\r\n     <use style=\"fill:#ff0000;stroke:#ff0000;\" x=\"121.061567\" xlink:href=\"#m6e3589a933\" y=\"43.587879\"/>\r\n    </g>\r\n   </g>\r\n   <g id=\"line2d_66\">\r\n    <g clip-path=\"url(#p3b56e22f0b)\">\r\n     <use style=\"fill:#ff0000;stroke:#ff0000;\" x=\"122.464164\" xlink:href=\"#m6e3589a933\" y=\"43.974639\"/>\r\n    </g>\r\n   </g>\r\n   <g id=\"line2d_67\">\r\n    <g clip-path=\"url(#p3b56e22f0b)\">\r\n     <use style=\"fill:#ff0000;stroke:#ff0000;\" x=\"123.866761\" xlink:href=\"#m6e3589a933\" y=\"44.46087\"/>\r\n    </g>\r\n   </g>\r\n   <g id=\"line2d_68\">\r\n    <g clip-path=\"url(#p3b56e22f0b)\">\r\n     <use style=\"fill:#ff0000;stroke:#ff0000;\" x=\"125.269359\" xlink:href=\"#m6e3589a933\" y=\"44.953451\"/>\r\n    </g>\r\n   </g>\r\n   <g id=\"line2d_69\">\r\n    <g clip-path=\"url(#p3b56e22f0b)\">\r\n     <use style=\"fill:#ff0000;stroke:#ff0000;\" x=\"126.671956\" xlink:href=\"#m6e3589a933\" y=\"45.373554\"/>\r\n    </g>\r\n   </g>\r\n   <g id=\"line2d_70\">\r\n    <g clip-path=\"url(#p3b56e22f0b)\">\r\n     <use style=\"fill:#ff0000;stroke:#ff0000;\" x=\"128.074554\" xlink:href=\"#m6e3589a933\" y=\"45.765975\"/>\r\n    </g>\r\n   </g>\r\n   <g id=\"line2d_71\">\r\n    <g clip-path=\"url(#p3b56e22f0b)\">\r\n     <use style=\"fill:#ff0000;stroke:#ff0000;\" x=\"129.477151\" xlink:href=\"#m6e3589a933\" y=\"46.397415\"/>\r\n    </g>\r\n   </g>\r\n   <g id=\"line2d_72\">\r\n    <g clip-path=\"url(#p3b56e22f0b)\">\r\n     <use style=\"fill:#ff0000;stroke:#ff0000;\" x=\"130.879748\" xlink:href=\"#m6e3589a933\" y=\"46.80847\"/>\r\n    </g>\r\n   </g>\r\n   <g id=\"line2d_73\">\r\n    <g clip-path=\"url(#p3b56e22f0b)\">\r\n     <use style=\"fill:#ff0000;stroke:#ff0000;\" x=\"132.282346\" xlink:href=\"#m6e3589a933\" y=\"47.326754\"/>\r\n    </g>\r\n   </g>\r\n   <g id=\"line2d_74\">\r\n    <g clip-path=\"url(#p3b56e22f0b)\">\r\n     <use style=\"fill:#ff0000;stroke:#ff0000;\" x=\"133.684943\" xlink:href=\"#m6e3589a933\" y=\"47.843646\"/>\r\n    </g>\r\n   </g>\r\n   <g id=\"line2d_75\">\r\n    <g clip-path=\"url(#p3b56e22f0b)\">\r\n     <use style=\"fill:#ff0000;stroke:#ff0000;\" x=\"135.087541\" xlink:href=\"#m6e3589a933\" y=\"48.238796\"/>\r\n    </g>\r\n   </g>\r\n   <g id=\"line2d_76\">\r\n    <g clip-path=\"url(#p3b56e22f0b)\">\r\n     <use style=\"fill:#ff0000;stroke:#ff0000;\" x=\"136.490138\" xlink:href=\"#m6e3589a933\" y=\"48.843798\"/>\r\n    </g>\r\n   </g>\r\n   <g id=\"line2d_77\">\r\n    <g clip-path=\"url(#p3b56e22f0b)\">\r\n     <use style=\"fill:#ff0000;stroke:#ff0000;\" x=\"137.892735\" xlink:href=\"#m6e3589a933\" y=\"49.327785\"/>\r\n    </g>\r\n   </g>\r\n   <g id=\"line2d_78\">\r\n    <g clip-path=\"url(#p3b56e22f0b)\">\r\n     <use style=\"fill:#ff0000;stroke:#ff0000;\" x=\"139.295333\" xlink:href=\"#m6e3589a933\" y=\"49.842996\"/>\r\n    </g>\r\n   </g>\r\n   <g id=\"line2d_79\">\r\n    <g clip-path=\"url(#p3b56e22f0b)\">\r\n     <use style=\"fill:#ff0000;stroke:#ff0000;\" x=\"140.69793\" xlink:href=\"#m6e3589a933\" y=\"50.424086\"/>\r\n    </g>\r\n   </g>\r\n   <g id=\"line2d_80\">\r\n    <g clip-path=\"url(#p3b56e22f0b)\">\r\n     <use style=\"fill:#ff0000;stroke:#ff0000;\" x=\"142.100528\" xlink:href=\"#m6e3589a933\" y=\"50.855566\"/>\r\n    </g>\r\n   </g>\r\n   <g id=\"line2d_81\">\r\n    <g clip-path=\"url(#p3b56e22f0b)\">\r\n     <use style=\"fill:#ff0000;stroke:#ff0000;\" x=\"143.503125\" xlink:href=\"#m6e3589a933\" y=\"51.450903\"/>\r\n    </g>\r\n   </g>\r\n   <g id=\"line2d_82\">\r\n    <g clip-path=\"url(#p3b56e22f0b)\">\r\n     <use style=\"fill:#ff0000;stroke:#ff0000;\" x=\"144.905722\" xlink:href=\"#m6e3589a933\" y=\"51.998611\"/>\r\n    </g>\r\n   </g>\r\n   <g id=\"line2d_83\">\r\n    <g clip-path=\"url(#p3b56e22f0b)\">\r\n     <use style=\"fill:#ff0000;stroke:#ff0000;\" x=\"146.30832\" xlink:href=\"#m6e3589a933\" y=\"52.414538\"/>\r\n    </g>\r\n   </g>\r\n   <g id=\"line2d_84\">\r\n    <g clip-path=\"url(#p3b56e22f0b)\">\r\n     <use style=\"fill:#ff0000;stroke:#ff0000;\" x=\"147.710917\" xlink:href=\"#m6e3589a933\" y=\"53.13695\"/>\r\n    </g>\r\n   </g>\r\n   <g id=\"line2d_85\">\r\n    <g clip-path=\"url(#p3b56e22f0b)\">\r\n     <use style=\"fill:#ff0000;stroke:#ff0000;\" x=\"149.113515\" xlink:href=\"#m6e3589a933\" y=\"53.598284\"/>\r\n    </g>\r\n   </g>\r\n   <g id=\"line2d_86\">\r\n    <g clip-path=\"url(#p3b56e22f0b)\">\r\n     <use style=\"fill:#ff0000;stroke:#ff0000;\" x=\"150.516112\" xlink:href=\"#m6e3589a933\" y=\"54.229747\"/>\r\n    </g>\r\n   </g>\r\n   <g id=\"line2d_87\">\r\n    <g clip-path=\"url(#p3b56e22f0b)\">\r\n     <use style=\"fill:#ff0000;stroke:#ff0000;\" x=\"151.918709\" xlink:href=\"#m6e3589a933\" y=\"54.797224\"/>\r\n    </g>\r\n   </g>\r\n   <g id=\"line2d_88\">\r\n    <g clip-path=\"url(#p3b56e22f0b)\">\r\n     <use style=\"fill:#ff0000;stroke:#ff0000;\" x=\"153.321307\" xlink:href=\"#m6e3589a933\" y=\"55.233403\"/>\r\n    </g>\r\n   </g>\r\n   <g id=\"line2d_89\">\r\n    <g clip-path=\"url(#p3b56e22f0b)\">\r\n     <use style=\"fill:#ff0000;stroke:#ff0000;\" x=\"154.723904\" xlink:href=\"#m6e3589a933\" y=\"56.027191\"/>\r\n    </g>\r\n   </g>\r\n   <g id=\"line2d_90\">\r\n    <g clip-path=\"url(#p3b56e22f0b)\">\r\n     <use style=\"fill:#ff0000;stroke:#ff0000;\" x=\"156.126502\" xlink:href=\"#m6e3589a933\" y=\"56.521328\"/>\r\n    </g>\r\n   </g>\r\n   <g id=\"line2d_91\">\r\n    <g clip-path=\"url(#p3b56e22f0b)\">\r\n     <use style=\"fill:#ff0000;stroke:#ff0000;\" x=\"157.529099\" xlink:href=\"#m6e3589a933\" y=\"57.237789\"/>\r\n    </g>\r\n   </g>\r\n   <g id=\"line2d_92\">\r\n    <g clip-path=\"url(#p3b56e22f0b)\">\r\n     <use style=\"fill:#ff0000;stroke:#ff0000;\" x=\"158.931696\" xlink:href=\"#m6e3589a933\" y=\"57.749872\"/>\r\n    </g>\r\n   </g>\r\n   <g id=\"line2d_93\">\r\n    <g clip-path=\"url(#p3b56e22f0b)\">\r\n     <use style=\"fill:#ff0000;stroke:#ff0000;\" x=\"160.334294\" xlink:href=\"#m6e3589a933\" y=\"58.440396\"/>\r\n    </g>\r\n   </g>\r\n   <g id=\"line2d_94\">\r\n    <g clip-path=\"url(#p3b56e22f0b)\">\r\n     <use style=\"fill:#ff0000;stroke:#ff0000;\" x=\"161.736891\" xlink:href=\"#m6e3589a933\" y=\"59.044905\"/>\r\n    </g>\r\n   </g>\r\n   <g id=\"line2d_95\">\r\n    <g clip-path=\"url(#p3b56e22f0b)\">\r\n     <use style=\"fill:#ff0000;stroke:#ff0000;\" x=\"163.139489\" xlink:href=\"#m6e3589a933\" y=\"59.697653\"/>\r\n    </g>\r\n   </g>\r\n   <g id=\"line2d_96\">\r\n    <g clip-path=\"url(#p3b56e22f0b)\">\r\n     <use style=\"fill:#ff0000;stroke:#ff0000;\" x=\"164.542086\" xlink:href=\"#m6e3589a933\" y=\"60.377691\"/>\r\n    </g>\r\n   </g>\r\n   <g id=\"line2d_97\">\r\n    <g clip-path=\"url(#p3b56e22f0b)\">\r\n     <use style=\"fill:#ff0000;stroke:#ff0000;\" x=\"165.944683\" xlink:href=\"#m6e3589a933\" y=\"60.855431\"/>\r\n    </g>\r\n   </g>\r\n   <g id=\"line2d_98\">\r\n    <g clip-path=\"url(#p3b56e22f0b)\">\r\n     <use style=\"fill:#ff0000;stroke:#ff0000;\" x=\"167.347281\" xlink:href=\"#m6e3589a933\" y=\"61.740112\"/>\r\n    </g>\r\n   </g>\r\n   <g id=\"line2d_99\">\r\n    <g clip-path=\"url(#p3b56e22f0b)\">\r\n     <use style=\"fill:#ff0000;stroke:#ff0000;\" x=\"168.749878\" xlink:href=\"#m6e3589a933\" y=\"63.161415\"/>\r\n    </g>\r\n   </g>\r\n   <g id=\"line2d_100\">\r\n    <g clip-path=\"url(#p3b56e22f0b)\">\r\n     <use style=\"fill:#ff0000;stroke:#ff0000;\" x=\"170.152476\" xlink:href=\"#m6e3589a933\" y=\"64.850433\"/>\r\n    </g>\r\n   </g>\r\n   <g id=\"line2d_101\">\r\n    <g clip-path=\"url(#p3b56e22f0b)\">\r\n     <use style=\"fill:#ff0000;stroke:#ff0000;\" x=\"171.555073\" xlink:href=\"#m6e3589a933\" y=\"66.285811\"/>\r\n    </g>\r\n   </g>\r\n   <g id=\"line2d_102\">\r\n    <g clip-path=\"url(#p3b56e22f0b)\">\r\n     <use style=\"fill:#ff0000;stroke:#ff0000;\" x=\"172.95767\" xlink:href=\"#m6e3589a933\" y=\"67.915745\"/>\r\n    </g>\r\n   </g>\r\n   <g id=\"line2d_103\">\r\n    <g clip-path=\"url(#p3b56e22f0b)\">\r\n     <use style=\"fill:#ff0000;stroke:#ff0000;\" x=\"174.360268\" xlink:href=\"#m6e3589a933\" y=\"69.488526\"/>\r\n    </g>\r\n   </g>\r\n   <g id=\"line2d_104\">\r\n    <g clip-path=\"url(#p3b56e22f0b)\">\r\n     <use style=\"fill:#ff0000;stroke:#ff0000;\" x=\"175.762865\" xlink:href=\"#m6e3589a933\" y=\"71.057046\"/>\r\n    </g>\r\n   </g>\r\n   <g id=\"line2d_105\">\r\n    <g clip-path=\"url(#p3b56e22f0b)\">\r\n     <use style=\"fill:#ff0000;stroke:#ff0000;\" x=\"177.165463\" xlink:href=\"#m6e3589a933\" y=\"72.755253\"/>\r\n    </g>\r\n   </g>\r\n   <g id=\"line2d_106\">\r\n    <g clip-path=\"url(#p3b56e22f0b)\">\r\n     <use style=\"fill:#ff0000;stroke:#ff0000;\" x=\"178.56806\" xlink:href=\"#m6e3589a933\" y=\"73.760276\"/>\r\n    </g>\r\n   </g>\r\n   <g id=\"line2d_107\">\r\n    <g clip-path=\"url(#p3b56e22f0b)\">\r\n     <use style=\"fill:#ff0000;stroke:#ff0000;\" x=\"179.970657\" xlink:href=\"#m6e3589a933\" y=\"74.941051\"/>\r\n    </g>\r\n   </g>\r\n   <g id=\"line2d_108\">\r\n    <g clip-path=\"url(#p3b56e22f0b)\">\r\n     <use style=\"fill:#ff0000;stroke:#ff0000;\" x=\"181.373255\" xlink:href=\"#m6e3589a933\" y=\"75.785533\"/>\r\n    </g>\r\n   </g>\r\n   <g id=\"line2d_109\">\r\n    <g clip-path=\"url(#p3b56e22f0b)\">\r\n     <use style=\"fill:#ff0000;stroke:#ff0000;\" x=\"182.775852\" xlink:href=\"#m6e3589a933\" y=\"76.976418\"/>\r\n    </g>\r\n   </g>\r\n   <g id=\"line2d_110\">\r\n    <g clip-path=\"url(#p3b56e22f0b)\">\r\n     <use style=\"fill:#ff0000;stroke:#ff0000;\" x=\"184.17845\" xlink:href=\"#m6e3589a933\" y=\"77.745723\"/>\r\n    </g>\r\n   </g>\r\n   <g id=\"line2d_111\">\r\n    <g clip-path=\"url(#p3b56e22f0b)\">\r\n     <use style=\"fill:#ff0000;stroke:#ff0000;\" x=\"185.581047\" xlink:href=\"#m6e3589a933\" y=\"78.495441\"/>\r\n    </g>\r\n   </g>\r\n   <g id=\"line2d_112\">\r\n    <g clip-path=\"url(#p3b56e22f0b)\">\r\n     <use style=\"fill:#ff0000;stroke:#ff0000;\" x=\"186.983644\" xlink:href=\"#m6e3589a933\" y=\"79.736246\"/>\r\n    </g>\r\n   </g>\r\n   <g id=\"line2d_113\">\r\n    <g clip-path=\"url(#p3b56e22f0b)\">\r\n     <use style=\"fill:#ff0000;stroke:#ff0000;\" x=\"188.386242\" xlink:href=\"#m6e3589a933\" y=\"80.972891\"/>\r\n    </g>\r\n   </g>\r\n   <g id=\"line2d_114\">\r\n    <g clip-path=\"url(#p3b56e22f0b)\">\r\n     <use style=\"fill:#ff0000;stroke:#ff0000;\" x=\"189.788839\" xlink:href=\"#m6e3589a933\" y=\"81.736589\"/>\r\n    </g>\r\n   </g>\r\n   <g id=\"line2d_115\">\r\n    <g clip-path=\"url(#p3b56e22f0b)\">\r\n     <use style=\"fill:#ff0000;stroke:#ff0000;\" x=\"191.191437\" xlink:href=\"#m6e3589a933\" y=\"83.005967\"/>\r\n    </g>\r\n   </g>\r\n   <g id=\"line2d_116\">\r\n    <g clip-path=\"url(#p3b56e22f0b)\">\r\n     <use style=\"fill:#ff0000;stroke:#ff0000;\" x=\"192.594034\" xlink:href=\"#m6e3589a933\" y=\"83.71966\"/>\r\n    </g>\r\n   </g>\r\n   <g id=\"line2d_117\">\r\n    <g clip-path=\"url(#p3b56e22f0b)\">\r\n     <use style=\"fill:#ff0000;stroke:#ff0000;\" x=\"193.996631\" xlink:href=\"#m6e3589a933\" y=\"85.060257\"/>\r\n    </g>\r\n   </g>\r\n   <g id=\"line2d_118\">\r\n    <g clip-path=\"url(#p3b56e22f0b)\">\r\n     <use style=\"fill:#ff0000;stroke:#ff0000;\" x=\"195.399229\" xlink:href=\"#m6e3589a933\" y=\"86.065562\"/>\r\n    </g>\r\n   </g>\r\n   <g id=\"line2d_119\">\r\n    <g clip-path=\"url(#p3b56e22f0b)\">\r\n     <use style=\"fill:#ff0000;stroke:#ff0000;\" x=\"196.801826\" xlink:href=\"#m6e3589a933\" y=\"87.146615\"/>\r\n    </g>\r\n   </g>\r\n   <g id=\"line2d_120\">\r\n    <g clip-path=\"url(#p3b56e22f0b)\">\r\n     <use style=\"fill:#ff0000;stroke:#ff0000;\" x=\"198.204424\" xlink:href=\"#m6e3589a933\" y=\"87.856093\"/>\r\n    </g>\r\n   </g>\r\n   <g id=\"line2d_121\">\r\n    <g clip-path=\"url(#p3b56e22f0b)\">\r\n     <use style=\"fill:#ff0000;stroke:#ff0000;\" x=\"199.607021\" xlink:href=\"#m6e3589a933\" y=\"89.253421\"/>\r\n    </g>\r\n   </g>\r\n   <g id=\"line2d_122\">\r\n    <g clip-path=\"url(#p3b56e22f0b)\">\r\n     <use style=\"fill:#ff0000;stroke:#ff0000;\" x=\"201.009619\" xlink:href=\"#m6e3589a933\" y=\"90.598358\"/>\r\n    </g>\r\n   </g>\r\n   <g id=\"line2d_123\">\r\n    <g clip-path=\"url(#p3b56e22f0b)\">\r\n     <use style=\"fill:#ff0000;stroke:#ff0000;\" x=\"202.412216\" xlink:href=\"#m6e3589a933\" y=\"91.343955\"/>\r\n    </g>\r\n   </g>\r\n   <g id=\"line2d_124\">\r\n    <g clip-path=\"url(#p3b56e22f0b)\">\r\n     <use style=\"fill:#ff0000;stroke:#ff0000;\" x=\"203.814813\" xlink:href=\"#m6e3589a933\" y=\"92.742416\"/>\r\n    </g>\r\n   </g>\r\n   <g id=\"line2d_125\">\r\n    <g clip-path=\"url(#p3b56e22f0b)\">\r\n     <use style=\"fill:#ff0000;stroke:#ff0000;\" x=\"205.217411\" xlink:href=\"#m6e3589a933\" y=\"93.827864\"/>\r\n    </g>\r\n   </g>\r\n   <g id=\"line2d_126\">\r\n    <g clip-path=\"url(#p3b56e22f0b)\">\r\n     <use style=\"fill:#ff0000;stroke:#ff0000;\" x=\"206.620008\" xlink:href=\"#m6e3589a933\" y=\"94.79795\"/>\r\n    </g>\r\n   </g>\r\n   <g id=\"line2d_127\">\r\n    <g clip-path=\"url(#p3b56e22f0b)\">\r\n     <use style=\"fill:#ff0000;stroke:#ff0000;\" x=\"208.022606\" xlink:href=\"#m6e3589a933\" y=\"96.225477\"/>\r\n    </g>\r\n   </g>\r\n   <g id=\"line2d_128\">\r\n    <g clip-path=\"url(#p3b56e22f0b)\">\r\n     <use style=\"fill:#ff0000;stroke:#ff0000;\" x=\"209.425203\" xlink:href=\"#m6e3589a933\" y=\"97.090672\"/>\r\n    </g>\r\n   </g>\r\n   <g id=\"line2d_129\">\r\n    <g clip-path=\"url(#p3b56e22f0b)\">\r\n     <use style=\"fill:#ff0000;stroke:#ff0000;\" x=\"210.8278\" xlink:href=\"#m6e3589a933\" y=\"98.507025\"/>\r\n    </g>\r\n   </g>\r\n   <g id=\"line2d_130\">\r\n    <g clip-path=\"url(#p3b56e22f0b)\">\r\n     <use style=\"fill:#ff0000;stroke:#ff0000;\" x=\"212.230398\" xlink:href=\"#m6e3589a933\" y=\"99.495761\"/>\r\n    </g>\r\n   </g>\r\n   <g id=\"line2d_131\">\r\n    <g clip-path=\"url(#p3b56e22f0b)\">\r\n     <use style=\"fill:#ff0000;stroke:#ff0000;\" x=\"213.632995\" xlink:href=\"#m6e3589a933\" y=\"100.650583\"/>\r\n    </g>\r\n   </g>\r\n   <g id=\"line2d_132\">\r\n    <g clip-path=\"url(#p3b56e22f0b)\">\r\n     <use style=\"fill:#ff0000;stroke:#ff0000;\" x=\"215.035593\" xlink:href=\"#m6e3589a933\" y=\"102.04074\"/>\r\n    </g>\r\n   </g>\r\n   <g id=\"line2d_133\">\r\n    <g clip-path=\"url(#p3b56e22f0b)\">\r\n     <use style=\"fill:#ff0000;stroke:#ff0000;\" x=\"216.43819\" xlink:href=\"#m6e3589a933\" y=\"102.91345\"/>\r\n    </g>\r\n   </g>\r\n   <g id=\"line2d_134\">\r\n    <g clip-path=\"url(#p3b56e22f0b)\">\r\n     <use style=\"fill:#ff0000;stroke:#ff0000;\" x=\"217.840787\" xlink:href=\"#m6e3589a933\" y=\"104.35549\"/>\r\n    </g>\r\n   </g>\r\n   <g id=\"line2d_135\">\r\n    <g clip-path=\"url(#p3b56e22f0b)\">\r\n     <use style=\"fill:#ff0000;stroke:#ff0000;\" x=\"219.243385\" xlink:href=\"#m6e3589a933\" y=\"105.156542\"/>\r\n    </g>\r\n   </g>\r\n   <g id=\"line2d_136\">\r\n    <g clip-path=\"url(#p3b56e22f0b)\">\r\n     <use style=\"fill:#ff0000;stroke:#ff0000;\" x=\"220.645982\" xlink:href=\"#m6e3589a933\" y=\"106.613126\"/>\r\n    </g>\r\n   </g>\r\n   <g id=\"line2d_137\">\r\n    <g clip-path=\"url(#p3b56e22f0b)\">\r\n     <use style=\"fill:#ff0000;stroke:#ff0000;\" x=\"222.04858\" xlink:href=\"#m6e3589a933\" y=\"108.068545\"/>\r\n    </g>\r\n   </g>\r\n   <g id=\"line2d_138\">\r\n    <g clip-path=\"url(#p3b56e22f0b)\">\r\n     <use style=\"fill:#ff0000;stroke:#ff0000;\" x=\"223.451177\" xlink:href=\"#m6e3589a933\" y=\"108.82842\"/>\r\n    </g>\r\n   </g>\r\n   <g id=\"line2d_139\">\r\n    <g clip-path=\"url(#p3b56e22f0b)\">\r\n     <use style=\"fill:#ff0000;stroke:#ff0000;\" x=\"224.853774\" xlink:href=\"#m6e3589a933\" y=\"110.324969\"/>\r\n    </g>\r\n   </g>\r\n   <g id=\"line2d_140\">\r\n    <g clip-path=\"url(#p3b56e22f0b)\">\r\n     <use style=\"fill:#ff0000;stroke:#ff0000;\" x=\"226.256372\" xlink:href=\"#m6e3589a933\" y=\"111.809445\"/>\r\n    </g>\r\n   </g>\r\n   <g id=\"line2d_141\">\r\n    <g clip-path=\"url(#p3b56e22f0b)\">\r\n     <use style=\"fill:#ff0000;stroke:#ff0000;\" x=\"227.658969\" xlink:href=\"#m6e3589a933\" y=\"112.620491\"/>\r\n    </g>\r\n   </g>\r\n   <g id=\"line2d_142\">\r\n    <g clip-path=\"url(#p3b56e22f0b)\">\r\n     <use style=\"fill:#ff0000;stroke:#ff0000;\" x=\"229.061567\" xlink:href=\"#m6e3589a933\" y=\"114.073861\"/>\r\n    </g>\r\n   </g>\r\n   <g id=\"line2d_143\">\r\n    <g clip-path=\"url(#p3b56e22f0b)\">\r\n     <use style=\"fill:#ff0000;stroke:#ff0000;\" x=\"230.464164\" xlink:href=\"#m6e3589a933\" y=\"115.56069\"/>\r\n    </g>\r\n   </g>\r\n   <g id=\"line2d_144\">\r\n    <g clip-path=\"url(#p3b56e22f0b)\">\r\n     <use style=\"fill:#ff0000;stroke:#ff0000;\" x=\"231.866761\" xlink:href=\"#m6e3589a933\" y=\"116.266384\"/>\r\n    </g>\r\n   </g>\r\n   <g id=\"line2d_145\">\r\n    <g clip-path=\"url(#p3b56e22f0b)\">\r\n     <use style=\"fill:#ff0000;stroke:#ff0000;\" x=\"233.269359\" xlink:href=\"#m6e3589a933\" y=\"117.801992\"/>\r\n    </g>\r\n   </g>\r\n   <g id=\"line2d_146\">\r\n    <g clip-path=\"url(#p3b56e22f0b)\">\r\n     <use style=\"fill:#ff0000;stroke:#ff0000;\" x=\"234.671956\" xlink:href=\"#m6e3589a933\" y=\"119.205129\"/>\r\n    </g>\r\n   </g>\r\n   <g id=\"line2d_147\">\r\n    <g clip-path=\"url(#p3b56e22f0b)\">\r\n     <use style=\"fill:#ff0000;stroke:#ff0000;\" x=\"236.074554\" xlink:href=\"#m6e3589a933\" y=\"119.901447\"/>\r\n    </g>\r\n   </g>\r\n   <g id=\"line2d_148\">\r\n    <g clip-path=\"url(#p3b56e22f0b)\">\r\n     <use style=\"fill:#ff0000;stroke:#ff0000;\" x=\"237.477151\" xlink:href=\"#m6e3589a933\" y=\"121.444875\"/>\r\n    </g>\r\n   </g>\r\n   <g id=\"line2d_149\">\r\n    <g clip-path=\"url(#p3b56e22f0b)\">\r\n     <use style=\"fill:#ff0000;stroke:#ff0000;\" x=\"238.879748\" xlink:href=\"#m6e3589a933\" y=\"122.940478\"/>\r\n    </g>\r\n   </g>\r\n   <g id=\"line2d_150\">\r\n    <g clip-path=\"url(#p3b56e22f0b)\">\r\n     <use style=\"fill:#ff0000;stroke:#ff0000;\" x=\"240.282346\" xlink:href=\"#m6e3589a933\" y=\"123.554394\"/>\r\n    </g>\r\n   </g>\r\n   <g id=\"line2d_151\">\r\n    <g clip-path=\"url(#p3b56e22f0b)\">\r\n     <use style=\"fill:#ff0000;stroke:#ff0000;\" x=\"241.684943\" xlink:href=\"#m6e3589a933\" y=\"125.066011\"/>\r\n    </g>\r\n   </g>\r\n   <g id=\"line2d_152\">\r\n    <g clip-path=\"url(#p3b56e22f0b)\">\r\n     <use style=\"fill:#ff0000;stroke:#ff0000;\" x=\"243.087541\" xlink:href=\"#m6e3589a933\" y=\"126.574141\"/>\r\n    </g>\r\n   </g>\r\n   <g id=\"line2d_153\">\r\n    <g clip-path=\"url(#p3b56e22f0b)\">\r\n     <use style=\"fill:#ff0000;stroke:#ff0000;\" x=\"244.490138\" xlink:href=\"#m6e3589a933\" y=\"127.700391\"/>\r\n    </g>\r\n   </g>\r\n   <g id=\"line2d_154\">\r\n    <g clip-path=\"url(#p3b56e22f0b)\">\r\n     <use style=\"fill:#ff0000;stroke:#ff0000;\" x=\"245.892735\" xlink:href=\"#m6e3589a933\" y=\"128.807436\"/>\r\n    </g>\r\n   </g>\r\n   <g id=\"line2d_155\">\r\n    <g clip-path=\"url(#p3b56e22f0b)\">\r\n     <use style=\"fill:#ff0000;stroke:#ff0000;\" x=\"247.295333\" xlink:href=\"#m6e3589a933\" y=\"130.31225\"/>\r\n    </g>\r\n   </g>\r\n   <g id=\"line2d_156\">\r\n    <g clip-path=\"url(#p3b56e22f0b)\">\r\n     <use style=\"fill:#ff0000;stroke:#ff0000;\" x=\"248.69793\" xlink:href=\"#m6e3589a933\" y=\"130.942392\"/>\r\n    </g>\r\n   </g>\r\n   <g id=\"line2d_157\">\r\n    <g clip-path=\"url(#p3b56e22f0b)\">\r\n     <use style=\"fill:#ff0000;stroke:#ff0000;\" x=\"250.100528\" xlink:href=\"#m6e3589a933\" y=\"132.497306\"/>\r\n    </g>\r\n   </g>\r\n   <g id=\"line2d_158\">\r\n    <g clip-path=\"url(#p3b56e22f0b)\">\r\n     <use style=\"fill:#ff0000;stroke:#ff0000;\" x=\"251.503125\" xlink:href=\"#m6e3589a933\" y=\"133.991587\"/>\r\n    </g>\r\n   </g>\r\n   <g id=\"line2d_159\">\r\n    <g clip-path=\"url(#p3b56e22f0b)\">\r\n     <use style=\"fill:#ff0000;stroke:#ff0000;\" x=\"252.905722\" xlink:href=\"#m6e3589a933\" y=\"135.43057\"/>\r\n    </g>\r\n   </g>\r\n   <g id=\"line2d_160\">\r\n    <g clip-path=\"url(#p3b56e22f0b)\">\r\n     <use style=\"fill:#ff0000;stroke:#ff0000;\" x=\"254.30832\" xlink:href=\"#m6e3589a933\" y=\"136.174\"/>\r\n    </g>\r\n   </g>\r\n   <g id=\"line2d_161\">\r\n    <g clip-path=\"url(#p3b56e22f0b)\">\r\n     <use style=\"fill:#ff0000;stroke:#ff0000;\" x=\"255.710917\" xlink:href=\"#m6e3589a933\" y=\"137.547463\"/>\r\n    </g>\r\n   </g>\r\n   <g id=\"line2d_162\">\r\n    <g clip-path=\"url(#p3b56e22f0b)\">\r\n     <use style=\"fill:#ff0000;stroke:#ff0000;\" x=\"257.113515\" xlink:href=\"#m6e3589a933\" y=\"139.022884\"/>\r\n    </g>\r\n   </g>\r\n   <g id=\"line2d_163\">\r\n    <g clip-path=\"url(#p3b56e22f0b)\">\r\n     <use style=\"fill:#ff0000;stroke:#ff0000;\" x=\"258.516112\" xlink:href=\"#m6e3589a933\" y=\"140.498579\"/>\r\n    </g>\r\n   </g>\r\n   <g id=\"line2d_164\">\r\n    <g clip-path=\"url(#p3b56e22f0b)\">\r\n     <use style=\"fill:#ff0000;stroke:#ff0000;\" x=\"259.918709\" xlink:href=\"#m6e3589a933\" y=\"140.976522\"/>\r\n    </g>\r\n   </g>\r\n   <g id=\"line2d_165\">\r\n    <g clip-path=\"url(#p3b56e22f0b)\">\r\n     <use style=\"fill:#ff0000;stroke:#ff0000;\" x=\"261.321307\" xlink:href=\"#m6e3589a933\" y=\"142.502246\"/>\r\n    </g>\r\n   </g>\r\n   <g id=\"line2d_166\">\r\n    <g clip-path=\"url(#p3b56e22f0b)\">\r\n     <use style=\"fill:#ff0000;stroke:#ff0000;\" x=\"262.723904\" xlink:href=\"#m6e3589a933\" y=\"143.973256\"/>\r\n    </g>\r\n   </g>\r\n   <g id=\"line2d_167\">\r\n    <g clip-path=\"url(#p3b56e22f0b)\">\r\n     <use style=\"fill:#ff0000;stroke:#ff0000;\" x=\"264.126502\" xlink:href=\"#m6e3589a933\" y=\"145.407461\"/>\r\n    </g>\r\n   </g>\r\n   <g id=\"line2d_168\">\r\n    <g clip-path=\"url(#p3b56e22f0b)\">\r\n     <use style=\"fill:#ff0000;stroke:#ff0000;\" x=\"265.529099\" xlink:href=\"#m6e3589a933\" y=\"146.183131\"/>\r\n    </g>\r\n   </g>\r\n   <g id=\"line2d_169\">\r\n    <g clip-path=\"url(#p3b56e22f0b)\">\r\n     <use style=\"fill:#ff0000;stroke:#ff0000;\" x=\"266.931696\" xlink:href=\"#m6e3589a933\" y=\"147.274021\"/>\r\n    </g>\r\n   </g>\r\n   <g id=\"line2d_170\">\r\n    <g clip-path=\"url(#p3b56e22f0b)\">\r\n     <use style=\"fill:#ff0000;stroke:#ff0000;\" x=\"268.334294\" xlink:href=\"#m6e3589a933\" y=\"148.827027\"/>\r\n    </g>\r\n   </g>\r\n   <g id=\"line2d_171\">\r\n    <g clip-path=\"url(#p3b56e22f0b)\">\r\n     <use style=\"fill:#ff0000;stroke:#ff0000;\" x=\"269.736891\" xlink:href=\"#m6e3589a933\" y=\"150.246961\"/>\r\n    </g>\r\n   </g>\r\n   <g id=\"line2d_172\">\r\n    <g clip-path=\"url(#p3b56e22f0b)\">\r\n     <use style=\"fill:#ff0000;stroke:#ff0000;\" x=\"271.139489\" xlink:href=\"#m6e3589a933\" y=\"150.780235\"/>\r\n    </g>\r\n   </g>\r\n   <g id=\"line2d_173\">\r\n    <g clip-path=\"url(#p3b56e22f0b)\">\r\n     <use style=\"fill:#ff0000;stroke:#ff0000;\" x=\"272.542086\" xlink:href=\"#m6e3589a933\" y=\"152.297826\"/>\r\n    </g>\r\n   </g>\r\n   <g id=\"line2d_174\">\r\n    <g clip-path=\"url(#p3b56e22f0b)\">\r\n     <use style=\"fill:#ff0000;stroke:#ff0000;\" x=\"273.944683\" xlink:href=\"#m6e3589a933\" y=\"153.703623\"/>\r\n    </g>\r\n   </g>\r\n   <g id=\"line2d_175\">\r\n    <g clip-path=\"url(#p3b56e22f0b)\">\r\n     <use style=\"fill:#ff0000;stroke:#ff0000;\" x=\"275.347281\" xlink:href=\"#m6e3589a933\" y=\"155.119803\"/>\r\n    </g>\r\n   </g>\r\n   <g id=\"line2d_176\">\r\n    <g clip-path=\"url(#p3b56e22f0b)\">\r\n     <use style=\"fill:#ff0000;stroke:#ff0000;\" x=\"276.749878\" xlink:href=\"#m6e3589a933\" y=\"156.432774\"/>\r\n    </g>\r\n   </g>\r\n   <g id=\"line2d_177\">\r\n    <g clip-path=\"url(#p3b56e22f0b)\">\r\n     <use style=\"fill:#ff0000;stroke:#ff0000;\" x=\"278.152476\" xlink:href=\"#m6e3589a933\" y=\"157.116542\"/>\r\n    </g>\r\n   </g>\r\n   <g id=\"line2d_178\">\r\n    <g clip-path=\"url(#p3b56e22f0b)\">\r\n     <use style=\"fill:#ff0000;stroke:#ff0000;\" x=\"279.555073\" xlink:href=\"#m6e3589a933\" y=\"158.511766\"/>\r\n    </g>\r\n   </g>\r\n   <g id=\"line2d_179\">\r\n    <g clip-path=\"url(#p3b56e22f0b)\">\r\n     <use style=\"fill:#ff0000;stroke:#ff0000;\" x=\"280.95767\" xlink:href=\"#m6e3589a933\" y=\"159.909039\"/>\r\n    </g>\r\n   </g>\r\n   <g id=\"line2d_180\">\r\n    <g clip-path=\"url(#p3b56e22f0b)\">\r\n     <use style=\"fill:#ff0000;stroke:#ff0000;\" x=\"282.360268\" xlink:href=\"#m6e3589a933\" y=\"161.270006\"/>\r\n    </g>\r\n   </g>\r\n   <g id=\"line2d_181\">\r\n    <g clip-path=\"url(#p3b56e22f0b)\">\r\n     <use style=\"fill:#ff0000;stroke:#ff0000;\" x=\"283.762865\" xlink:href=\"#m6e3589a933\" y=\"162.139041\"/>\r\n    </g>\r\n   </g>\r\n   <g id=\"line2d_182\">\r\n    <g clip-path=\"url(#p3b56e22f0b)\">\r\n     <use style=\"fill:#ff0000;stroke:#ff0000;\" x=\"285.165463\" xlink:href=\"#m6e3589a933\" y=\"163.199193\"/>\r\n    </g>\r\n   </g>\r\n   <g id=\"line2d_183\">\r\n    <g clip-path=\"url(#p3b56e22f0b)\">\r\n     <use style=\"fill:#ff0000;stroke:#ff0000;\" x=\"286.56806\" xlink:href=\"#m6e3589a933\" y=\"164.545459\"/>\r\n    </g>\r\n   </g>\r\n   <g id=\"line2d_184\">\r\n    <g clip-path=\"url(#p3b56e22f0b)\">\r\n     <use style=\"fill:#ff0000;stroke:#ff0000;\" x=\"287.970657\" xlink:href=\"#m6e3589a933\" y=\"165.913081\"/>\r\n    </g>\r\n   </g>\r\n   <g id=\"line2d_185\">\r\n    <g clip-path=\"url(#p3b56e22f0b)\">\r\n     <use style=\"fill:#ff0000;stroke:#ff0000;\" x=\"289.373255\" xlink:href=\"#m6e3589a933\" y=\"167.260653\"/>\r\n    </g>\r\n   </g>\r\n   <g id=\"line2d_186\">\r\n    <g clip-path=\"url(#p3b56e22f0b)\">\r\n     <use style=\"fill:#ff0000;stroke:#ff0000;\" x=\"290.775852\" xlink:href=\"#m6e3589a933\" y=\"167.967911\"/>\r\n    </g>\r\n   </g>\r\n   <g id=\"line2d_187\">\r\n    <g clip-path=\"url(#p3b56e22f0b)\">\r\n     <use style=\"fill:#ff0000;stroke:#ff0000;\" x=\"292.17845\" xlink:href=\"#m6e3589a933\" y=\"168.897727\"/>\r\n    </g>\r\n   </g>\r\n   <g id=\"line2d_188\">\r\n    <g clip-path=\"url(#p3b56e22f0b)\">\r\n     <use style=\"fill:#ff0000;stroke:#ff0000;\" x=\"293.581047\" xlink:href=\"#m6e3589a933\" y=\"170.322032\"/>\r\n    </g>\r\n   </g>\r\n   <g id=\"line2d_189\">\r\n    <g clip-path=\"url(#p3b56e22f0b)\">\r\n     <use style=\"fill:#ff0000;stroke:#ff0000;\" x=\"294.983644\" xlink:href=\"#m6e3589a933\" y=\"171.662934\"/>\r\n    </g>\r\n   </g>\r\n   <g id=\"line2d_190\">\r\n    <g clip-path=\"url(#p3b56e22f0b)\">\r\n     <use style=\"fill:#ff0000;stroke:#ff0000;\" x=\"296.386242\" xlink:href=\"#m6e3589a933\" y=\"172.958686\"/>\r\n    </g>\r\n   </g>\r\n   <g id=\"line2d_191\">\r\n    <g clip-path=\"url(#p3b56e22f0b)\">\r\n     <use style=\"fill:#ff0000;stroke:#ff0000;\" x=\"297.788839\" xlink:href=\"#m6e3589a933\" y=\"174.198717\"/>\r\n    </g>\r\n   </g>\r\n   <g id=\"line2d_192\">\r\n    <g clip-path=\"url(#p3b56e22f0b)\">\r\n     <use style=\"fill:#ff0000;stroke:#ff0000;\" x=\"299.191437\" xlink:href=\"#m6e3589a933\" y=\"175.054741\"/>\r\n    </g>\r\n   </g>\r\n   <g id=\"line2d_193\">\r\n    <g clip-path=\"url(#p3b56e22f0b)\">\r\n     <use style=\"fill:#ff0000;stroke:#ff0000;\" x=\"300.594034\" xlink:href=\"#m6e3589a933\" y=\"175.975392\"/>\r\n    </g>\r\n   </g>\r\n   <g id=\"line2d_194\">\r\n    <g clip-path=\"url(#p3b56e22f0b)\">\r\n     <use style=\"fill:#ff0000;stroke:#ff0000;\" x=\"301.996631\" xlink:href=\"#m6e3589a933\" y=\"177.252714\"/>\r\n    </g>\r\n   </g>\r\n   <g id=\"line2d_195\">\r\n    <g clip-path=\"url(#p3b56e22f0b)\">\r\n     <use style=\"fill:#ff0000;stroke:#ff0000;\" x=\"303.399229\" xlink:href=\"#m6e3589a933\" y=\"178.551939\"/>\r\n    </g>\r\n   </g>\r\n   <g id=\"line2d_196\">\r\n    <g clip-path=\"url(#p3b56e22f0b)\">\r\n     <use style=\"fill:#ff0000;stroke:#ff0000;\" x=\"304.801826\" xlink:href=\"#m6e3589a933\" y=\"179.8369\"/>\r\n    </g>\r\n   </g>\r\n   <g id=\"line2d_197\">\r\n    <g clip-path=\"url(#p3b56e22f0b)\">\r\n     <use style=\"fill:#ff0000;stroke:#ff0000;\" x=\"306.204424\" xlink:href=\"#m6e3589a933\" y=\"181.096363\"/>\r\n    </g>\r\n   </g>\r\n   <g id=\"line2d_198\">\r\n    <g clip-path=\"url(#p3b56e22f0b)\">\r\n     <use style=\"fill:#ff0000;stroke:#ff0000;\" x=\"307.607021\" xlink:href=\"#m6e3589a933\" y=\"181.446347\"/>\r\n    </g>\r\n   </g>\r\n   <g id=\"line2d_199\">\r\n    <g clip-path=\"url(#p3b56e22f0b)\">\r\n     <use style=\"fill:#ff0000;stroke:#ff0000;\" x=\"309.009619\" xlink:href=\"#m6e3589a933\" y=\"182.817386\"/>\r\n    </g>\r\n   </g>\r\n   <g id=\"line2d_200\">\r\n    <g clip-path=\"url(#p3b56e22f0b)\">\r\n     <use style=\"fill:#ff0000;stroke:#ff0000;\" x=\"310.412216\" xlink:href=\"#m6e3589a933\" y=\"184.096084\"/>\r\n    </g>\r\n   </g>\r\n   <g id=\"line2d_201\">\r\n    <g clip-path=\"url(#p3b56e22f0b)\">\r\n     <use style=\"fill:#ff0000;stroke:#ff0000;\" x=\"311.814813\" xlink:href=\"#m6e3589a933\" y=\"185.340373\"/>\r\n    </g>\r\n   </g>\r\n   <g id=\"line2d_202\">\r\n    <g clip-path=\"url(#p3b56e22f0b)\">\r\n     <use style=\"fill:#ff0000;stroke:#ff0000;\" x=\"313.217411\" xlink:href=\"#m6e3589a933\" y=\"186.595871\"/>\r\n    </g>\r\n   </g>\r\n   <g id=\"line2d_203\">\r\n    <g clip-path=\"url(#p3b56e22f0b)\">\r\n     <use style=\"fill:#ff0000;stroke:#ff0000;\" x=\"314.620008\" xlink:href=\"#m6e3589a933\" y=\"187.81665\"/>\r\n    </g>\r\n   </g>\r\n   <g id=\"line2d_204\">\r\n    <g clip-path=\"url(#p3b56e22f0b)\">\r\n     <use style=\"fill:#ff0000;stroke:#ff0000;\" x=\"316.022606\" xlink:href=\"#m6e3589a933\" y=\"188.220343\"/>\r\n    </g>\r\n   </g>\r\n   <g id=\"line2d_205\">\r\n    <g clip-path=\"url(#p3b56e22f0b)\">\r\n     <use style=\"fill:#ff0000;stroke:#ff0000;\" x=\"317.425203\" xlink:href=\"#m6e3589a933\" y=\"189.49478\"/>\r\n    </g>\r\n   </g>\r\n   <g id=\"line2d_206\">\r\n    <g clip-path=\"url(#p3b56e22f0b)\">\r\n     <use style=\"fill:#ff0000;stroke:#ff0000;\" x=\"318.8278\" xlink:href=\"#m6e3589a933\" y=\"190.734404\"/>\r\n    </g>\r\n   </g>\r\n   <g id=\"line2d_207\">\r\n    <g clip-path=\"url(#p3b56e22f0b)\">\r\n     <use style=\"fill:#ff0000;stroke:#ff0000;\" x=\"320.230398\" xlink:href=\"#m6e3589a933\" y=\"191.958706\"/>\r\n    </g>\r\n   </g>\r\n   <g id=\"line2d_208\">\r\n    <g clip-path=\"url(#p3b56e22f0b)\">\r\n     <use style=\"fill:#ff0000;stroke:#ff0000;\" x=\"321.632995\" xlink:href=\"#m6e3589a933\" y=\"193.187394\"/>\r\n    </g>\r\n   </g>\r\n   <g id=\"line2d_209\">\r\n    <g clip-path=\"url(#p3b56e22f0b)\">\r\n     <use style=\"fill:#ff0000;stroke:#ff0000;\" x=\"323.035593\" xlink:href=\"#m6e3589a933\" y=\"194.397731\"/>\r\n    </g>\r\n   </g>\r\n   <g id=\"line2d_210\">\r\n    <g clip-path=\"url(#p3b56e22f0b)\">\r\n     <use style=\"fill:#ff0000;stroke:#ff0000;\" x=\"324.43819\" xlink:href=\"#m6e3589a933\" y=\"194.668215\"/>\r\n    </g>\r\n   </g>\r\n   <g id=\"line2d_211\">\r\n    <g clip-path=\"url(#p3b56e22f0b)\">\r\n     <use style=\"fill:#ff0000;stroke:#ff0000;\" x=\"325.840787\" xlink:href=\"#m6e3589a933\" y=\"195.966434\"/>\r\n    </g>\r\n   </g>\r\n   <g id=\"line2d_212\">\r\n    <g clip-path=\"url(#p3b56e22f0b)\">\r\n     <use style=\"fill:#ff0000;stroke:#ff0000;\" x=\"327.243385\" xlink:href=\"#m6e3589a933\" y=\"197.20417\"/>\r\n    </g>\r\n   </g>\r\n   <g id=\"line2d_213\">\r\n    <g clip-path=\"url(#p3b56e22f0b)\">\r\n     <use style=\"fill:#ff0000;stroke:#ff0000;\" x=\"328.645982\" xlink:href=\"#m6e3589a933\" y=\"198.39615\"/>\r\n    </g>\r\n   </g>\r\n   <g id=\"line2d_214\">\r\n    <g clip-path=\"url(#p3b56e22f0b)\">\r\n     <use style=\"fill:#ff0000;stroke:#ff0000;\" x=\"330.04858\" xlink:href=\"#m6e3589a933\" y=\"199.583122\"/>\r\n    </g>\r\n   </g>\r\n   <g id=\"line2d_215\">\r\n    <g clip-path=\"url(#p3b56e22f0b)\">\r\n     <use style=\"fill:#ff0000;stroke:#ff0000;\" x=\"331.451177\" xlink:href=\"#m6e3589a933\" y=\"200.803319\"/>\r\n    </g>\r\n   </g>\r\n   <g id=\"line2d_216\">\r\n    <g clip-path=\"url(#p3b56e22f0b)\">\r\n     <use style=\"fill:#ff0000;stroke:#ff0000;\" x=\"332.853774\" xlink:href=\"#m6e3589a933\" y=\"201.9788\"/>\r\n    </g>\r\n   </g>\r\n   <g id=\"line2d_217\">\r\n    <g clip-path=\"url(#p3b56e22f0b)\">\r\n     <use style=\"fill:#ff0000;stroke:#ff0000;\" x=\"334.256372\" xlink:href=\"#m6e3589a933\" y=\"203.191587\"/>\r\n    </g>\r\n   </g>\r\n   <g id=\"line2d_218\">\r\n    <g clip-path=\"url(#p3b56e22f0b)\">\r\n     <use style=\"fill:#ff0000;stroke:#ff0000;\" x=\"335.658969\" xlink:href=\"#m6e3589a933\" y=\"203.827332\"/>\r\n    </g>\r\n   </g>\r\n   <g id=\"line2d_219\">\r\n    <g clip-path=\"url(#p3b56e22f0b)\">\r\n     <use style=\"fill:#ff0000;stroke:#ff0000;\" x=\"337.061567\" xlink:href=\"#m6e3589a933\" y=\"204.725189\"/>\r\n    </g>\r\n   </g>\r\n   <g id=\"line2d_220\">\r\n    <g clip-path=\"url(#p3b56e22f0b)\">\r\n     <use style=\"fill:#ff0000;stroke:#ff0000;\" x=\"338.464164\" xlink:href=\"#m6e3589a933\" y=\"206.004537\"/>\r\n    </g>\r\n   </g>\r\n   <g id=\"line2d_221\">\r\n    <g clip-path=\"url(#p3b56e22f0b)\">\r\n     <use style=\"fill:#ff0000;stroke:#ff0000;\" x=\"339.866761\" xlink:href=\"#m6e3589a933\" y=\"207.19342\"/>\r\n    </g>\r\n   </g>\r\n   <g id=\"line2d_222\">\r\n    <g clip-path=\"url(#p3b56e22f0b)\">\r\n     <use style=\"fill:#ff0000;stroke:#ff0000;\" x=\"341.269359\" xlink:href=\"#m6e3589a933\" y=\"208.37778\"/>\r\n    </g>\r\n   </g>\r\n   <g id=\"line2d_223\">\r\n    <g clip-path=\"url(#p3b56e22f0b)\">\r\n     <use style=\"fill:#ff0000;stroke:#ff0000;\" x=\"342.671956\" xlink:href=\"#m6e3589a933\" y=\"209.573514\"/>\r\n    </g>\r\n   </g>\r\n   <g id=\"line2d_224\">\r\n    <g clip-path=\"url(#p3b56e22f0b)\">\r\n     <use style=\"fill:#ff0000;stroke:#ff0000;\" x=\"344.074554\" xlink:href=\"#m6e3589a933\" y=\"210.734736\"/>\r\n    </g>\r\n   </g>\r\n   <g id=\"line2d_225\">\r\n    <g clip-path=\"url(#p3b56e22f0b)\">\r\n     <use style=\"fill:#ff0000;stroke:#ff0000;\" x=\"345.477151\" xlink:href=\"#m6e3589a933\" y=\"211.881226\"/>\r\n    </g>\r\n   </g>\r\n   <g id=\"line2d_226\">\r\n    <g clip-path=\"url(#p3b56e22f0b)\">\r\n     <use style=\"fill:#ff0000;stroke:#ff0000;\" x=\"346.879748\" xlink:href=\"#m6e3589a933\" y=\"212.347667\"/>\r\n    </g>\r\n   </g>\r\n   <g id=\"line2d_227\">\r\n    <g clip-path=\"url(#p3b56e22f0b)\">\r\n     <use style=\"fill:#ff0000;stroke:#ff0000;\" x=\"348.282346\" xlink:href=\"#m6e3589a933\" y=\"213.537414\"/>\r\n    </g>\r\n   </g>\r\n   <g id=\"line2d_228\">\r\n    <g clip-path=\"url(#p3b56e22f0b)\">\r\n     <use style=\"fill:#ff0000;stroke:#ff0000;\" x=\"349.684943\" xlink:href=\"#m6e3589a933\" y=\"214.756364\"/>\r\n    </g>\r\n   </g>\r\n   <g id=\"patch_3\">\r\n    <path d=\"M 30.103125 224.64 \r\nL 30.103125 7.2 \r\n\" style=\"fill:none;stroke:#000000;stroke-linecap:square;stroke-linejoin:miter;stroke-width:0.8;\"/>\r\n   </g>\r\n   <g id=\"patch_4\">\r\n    <path d=\"M 364.903125 224.64 \r\nL 364.903125 7.2 \r\n\" style=\"fill:none;stroke:#000000;stroke-linecap:square;stroke-linejoin:miter;stroke-width:0.8;\"/>\r\n   </g>\r\n   <g id=\"patch_5\">\r\n    <path d=\"M 30.103125 224.64 \r\nL 364.903125 224.64 \r\n\" style=\"fill:none;stroke:#000000;stroke-linecap:square;stroke-linejoin:miter;stroke-width:0.8;\"/>\r\n   </g>\r\n   <g id=\"patch_6\">\r\n    <path d=\"M 30.103125 7.2 \r\nL 364.903125 7.2 \r\n\" style=\"fill:none;stroke:#000000;stroke-linecap:square;stroke-linejoin:miter;stroke-width:0.8;\"/>\r\n   </g>\r\n  </g>\r\n </g>\r\n <defs>\r\n  <clipPath id=\"p3b56e22f0b\">\r\n   <rect height=\"217.44\" width=\"334.8\" x=\"30.103125\" y=\"7.2\"/>\r\n  </clipPath>\r\n </defs>\r\n</svg>\r\n",
      "image/png": "[encoded data removed]"
     },
     "metadata": {
      "needs_background": "light"
     }
    }
   ],
   "source": [
    "model = NeuralNetwork().to(device)\n",
    "loss_fn = nn.CrossEntropyLoss()\n",
    "optimizer = torch.optim.SGD(model.parameters(), lr=1e-2)\n",
    "epochs = 1000\n",
    "fig=plt.figure()\n",
    "maxCorrect=0\n",
    "for t in range(epochs):\n",
    "    \n",
    "    train(train_dataloader, model, loss_fn, optimizer)\n",
    "    loss,correct=test(train_dataloader, model,t)\n",
    "    if correct>maxCorrect:\n",
    "        print(loss)\n",
    "        print(correct)\n",
    "        maxCorrect=correct\n",
    "        if abs(maxCorrect-1)<1e-6:\n",
    "            break\n",
    "    plt.plot(t,loss,'o',color='r')"
   ]
  },
  {
   "cell_type": "code",
   "execution_count": null,
   "metadata": {},
   "outputs": [],
   "source": []
  }
 ]
}