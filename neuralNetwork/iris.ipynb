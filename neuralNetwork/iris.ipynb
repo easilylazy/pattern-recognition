{
 "metadata": {
  "language_info": {
   "codemirror_mode": {
    "name": "ipython",
    "version": 3
   },
   "file_extension": ".py",
   "mimetype": "text/x-python",
   "name": "python",
   "nbconvert_exporter": "python",
   "pygments_lexer": "ipython3",
   "version": "3.7.4"
  },
  "orig_nbformat": 2,
  "kernelspec": {
   "name": "python374jvsc74a57bd03f857618d8b6a3d270a8a45aea13fd0dc2a28a907e8d4ef70fe87ce2a92698f8",
   "display_name": "Python 3.7.4 64-bit"
  }
 },
 "nbformat": 4,
 "nbformat_minor": 2,
 "cells": [
  {
   "source": [
    "author: leezeeyee   \n",
    "date: 2021/4/16  \n",
    "link: [github](https://github.com/easilylazy/pattern-recognition) "
   ],
   "cell_type": "markdown",
   "metadata": {}
  },
  {
   "cell_type": "code",
   "execution_count": 1,
   "metadata": {},
   "outputs": [],
   "source": [
    "import pandas as pd\n",
    "import numpy as np"
   ]
  },
  {
   "cell_type": "code",
   "execution_count": 40,
   "metadata": {},
   "outputs": [],
   "source": [
    "import torch\n",
    "from torch import nn\n",
    "from torch.utils.data import DataLoader\n",
    "from torchvision import datasets\n",
    "from torchvision.transforms import ToTensor, Lambda, Compose\n",
    "import matplotlib.pyplot as plt"
   ]
  },
  {
   "source": [
    "## load data"
   ],
   "cell_type": "markdown",
   "metadata": {}
  },
  {
   "cell_type": "code",
   "execution_count": 4,
   "metadata": {},
   "outputs": [
    {
     "output_type": "execute_result",
     "data": {
      "text/plain": [
       "   Unnamed: 0  Sepal.Length  Sepal.Width  Petal.Length  Petal.Width Species\n",
       "0           1           5.1          3.5           1.4          0.2  setosa\n",
       "1           2           4.9          3.0           1.4          0.2  setosa\n",
       "2           3           4.7          3.2           1.3          0.2  setosa\n",
       "3           4           4.6          3.1           1.5          0.2  setosa\n",
       "4           5           5.0          3.6           1.4          0.2  setosa"
      ],
      "text/html": "<div>\n<style scoped>\n    .dataframe tbody tr th:only-of-type {\n        vertical-align: middle;\n    }\n\n    .dataframe tbody tr th {\n        vertical-align: top;\n    }\n\n    .dataframe thead th {\n        text-align: right;\n    }\n</style>\n<table border=\"1\" class=\"dataframe\">\n  <thead>\n    <tr style=\"text-align: right;\">\n      <th></th>\n      <th>Unnamed: 0</th>\n      <th>Sepal.Length</th>\n      <th>Sepal.Width</th>\n      <th>Petal.Length</th>\n      <th>Petal.Width</th>\n      <th>Species</th>\n    </tr>\n  </thead>\n  <tbody>\n    <tr>\n      <th>0</th>\n      <td>1</td>\n      <td>5.1</td>\n      <td>3.5</td>\n      <td>1.4</td>\n      <td>0.2</td>\n      <td>setosa</td>\n    </tr>\n    <tr>\n      <th>1</th>\n      <td>2</td>\n      <td>4.9</td>\n      <td>3.0</td>\n      <td>1.4</td>\n      <td>0.2</td>\n      <td>setosa</td>\n    </tr>\n    <tr>\n      <th>2</th>\n      <td>3</td>\n      <td>4.7</td>\n      <td>3.2</td>\n      <td>1.3</td>\n      <td>0.2</td>\n      <td>setosa</td>\n    </tr>\n    <tr>\n      <th>3</th>\n      <td>4</td>\n      <td>4.6</td>\n      <td>3.1</td>\n      <td>1.5</td>\n      <td>0.2</td>\n      <td>setosa</td>\n    </tr>\n    <tr>\n      <th>4</th>\n      <td>5</td>\n      <td>5.0</td>\n      <td>3.6</td>\n      <td>1.4</td>\n      <td>0.2</td>\n      <td>setosa</td>\n    </tr>\n  </tbody>\n</table>\n</div>"
     },
     "metadata": {},
     "execution_count": 4
    }
   ],
   "source": [
    "irisData=pd.read_csv('../multiClass/iris.csv')\n",
    "irisData.head()"
   ]
  },
  {
   "cell_type": "code",
   "execution_count": 25,
   "metadata": {},
   "outputs": [
    {
     "output_type": "execute_result",
     "data": {
      "text/plain": [
       "Unnamed: 0              81\n",
       "Sepal.Length           5.5\n",
       "Sepal.Width            2.4\n",
       "Petal.Length           3.8\n",
       "Petal.Width            1.1\n",
       "Species         versicolor\n",
       "Name: 80, dtype: object"
      ]
     },
     "metadata": {},
     "execution_count": 25
    }
   ],
   "source": [
    "irisData.iloc[80]"
   ]
  },
  {
   "cell_type": "code",
   "execution_count": 26,
   "metadata": {},
   "outputs": [],
   "source": [
    "labelDict={}\n",
    "labelDict['setosa']=0\n",
    "labelDict['versicolor']=1\n",
    "labelDict['virginica']=2"
   ]
  },
  {
   "cell_type": "code",
   "execution_count": 13,
   "metadata": {},
   "outputs": [],
   "source": [
    "data=irisData[['Sepal.Length',\t'Sepal.Width',\t'Petal.Length',\t'Petal.Width']]"
   ]
  },
  {
   "cell_type": "code",
   "execution_count": 20,
   "metadata": {},
   "outputs": [],
   "source": [
    "data=np.asarray(data)"
   ]
  },
  {
   "cell_type": "code",
   "execution_count": 39,
   "metadata": {},
   "outputs": [
    {
     "output_type": "stream",
     "name": "stdout",
     "text": [
      "setosa\n0\nversicolor\n1\nvirginica\n2\n"
     ]
    }
   ],
   "source": [
    "labels=np.zeros(len(data))\n",
    "\n",
    "for key in labelDict:\n",
    "    print(key)\n",
    "    print(labelDict[key])\n",
    "    # print( irisData[irisData['Species']==key].index.tolist())\n",
    "    labels[irisData[irisData['Species']==key].index.tolist()]=labelDict[key]"
   ]
  },
  {
   "cell_type": "code",
   "execution_count": 42,
   "metadata": {},
   "outputs": [],
   "source": [
    "X=data\n",
    "one_hot_Y=labels"
   ]
  },
  {
   "cell_type": "code",
   "execution_count": 46,
   "metadata": {},
   "outputs": [
    {
     "output_type": "stream",
     "name": "stdout",
     "text": [
      "[17 13 20 25  8 26 49  0 35 28  6 22 36 24 34 46  2 12 16  3 43  7  9 38\n",
      "  5 41 11 47 15  4 44 40 29 23 31 37 33 21 30 14 39 48 18 10 42 45 27 32\n",
      "  1 19]\n",
      "[71 55 96 80 64 85 91 62 90 53 54 98 86 93 59 76 99 52 51 66 97 83 94 63\n",
      " 81 58 82 68 61 65 73 78 50 69 77 57 92 95 56 89 74 87 67 84 70 79 60 72\n",
      " 88 75]\n",
      "[149 128 112 100 115 108 106 134 105 147 136 130 146 117 111 132 138 109\n",
      " 143 124 121 120 113 145 116 141 119 135 133 148 118 107 131 114 137 122\n",
      " 125 103 123 110 144 140 129 127 142 104 102 126 139 101]\n",
      "[5.9 3.  5.1 1.8]\n",
      "[5.9 3.  5.1 1.8]\n"
     ]
    },
    {
     "output_type": "execute_result",
     "data": {
      "text/plain": [
       "array([[6.5, 3. , 5.2, 2. ],\n",
       "       [7.4, 2.8, 6.1, 1.9],\n",
       "       [5.5, 2.4, 3.7, 1. ]])"
      ]
     },
     "metadata": {},
     "execution_count": 46
    }
   ],
   "source": [
    "trainX=[]\n",
    "trainY=[]\n",
    "testX=[]\n",
    "testY=[]\n",
    "\n",
    "for i in range(3):\n",
    "    index=np.where(labels==i)[0]\n",
    "    np.random.shuffle(index)\n",
    "    \n",
    "    trainX.append(X[index[:30]])\n",
    "    trainY.append(labels[index[:30]])\n",
    "    testX.append(X[index[30:]])\n",
    "    testY.append(labels[index[30:]])\n",
    "    print(index)\n",
    "print(trainX[2][0])\n",
    "print(X[index[0]])\n",
    "trainX_all=np.r_[trainX[0],trainX[1],trainX[2]]\n",
    "trainY_all=np.r_[trainY[0],trainY[1],trainY[2]]\n",
    "indexTrain=np.arange(len(trainX_all))\n",
    "np.random.shuffle(indexTrain)\n",
    "trainX_sh=trainX_all[indexTrain]\n",
    "trainY_sh=trainY_all[indexTrain]\n",
    "testX_all=np.r_[testX[0],testX[1],testX[2]]\n",
    "testY_all=np.r_[testY[0],testY[1],testY[2]]\n",
    "indexTest=np.arange(len(testX_all))\n",
    "np.random.shuffle(indexTest)\n",
    "testX_sh=testX_all[indexTest]\n",
    "testY_sh=testY_all[indexTest]\n",
    "\n",
    "trainX_sh[:3]"
   ]
  },
  {
   "cell_type": "code",
   "execution_count": 71,
   "metadata": {},
   "outputs": [],
   "source": [
    "trainX_sh=trainX_sh.astype(np.float32)\n",
    "testX_sh=testX_sh.astype(np.float32)"
   ]
  },
  {
   "cell_type": "code",
   "execution_count": 72,
   "metadata": {},
   "outputs": [],
   "source": [
    "train_data=[]\n",
    "test_data=[]\n",
    "for i in range(len(trainX_sh)):\n",
    "    train_data.append([trainX_sh[i],trainY_sh[i]])\n",
    "for i in range(len(testX_sh)):\n",
    "    train_data.append([testX_sh[i],testY_sh[i]])"
   ]
  },
  {
   "cell_type": "code",
   "execution_count": 73,
   "metadata": {},
   "outputs": [
    {
     "output_type": "stream",
     "name": "stdout",
     "text": [
      "[tensor([[7.2000, 3.6000, 6.1000, 2.5000],\n",
      "        [5.4000, 3.7000, 1.5000, 0.2000],\n",
      "        [6.3000, 3.3000, 6.0000, 2.5000]]), tensor([2., 0., 2.])]\n"
     ]
    }
   ],
   "source": [
    "batch_size = 3\n",
    "\n",
    "# Create data loaders.\n",
    "train_dataloader = DataLoader(train_data,batch_size=batch_size,shuffle=True)\n",
    "test_dataloader = DataLoader(test_data, batch_size=batch_size)\n",
    "\n",
    "for X in train_dataloader:\n",
    "    # print(\"Shape of X [N, C, H, W]: \", X.shape)\n",
    "    print(X)\n",
    "    # print(\"Shape of y: \", y.shape, y.dtype)\n",
    "    break"
   ]
  },
  {
   "cell_type": "code",
   "execution_count": 74,
   "metadata": {},
   "outputs": [
    {
     "output_type": "stream",
     "name": "stdout",
     "text": [
      "[tensor([[4.8000, 3.0000, 1.4000, 0.1000],\n",
      "        [7.7000, 3.0000, 6.1000, 2.3000],\n",
      "        [4.8000, 3.0000, 1.4000, 0.3000]]), tensor([0., 2., 0.])]\n"
     ]
    }
   ],
   "source": [
    "print(next(iter(train_dataloader)))"
   ]
  },
  {
   "cell_type": "code",
   "execution_count": 75,
   "metadata": {},
   "outputs": [
    {
     "output_type": "stream",
     "name": "stdout",
     "text": [
      "Feature batch shape: torch.Size([3, 4])\n",
      "Labels batch shape: torch.Size([3])\n"
     ]
    }
   ],
   "source": [
    "# Display image and label.\n",
    "train_features, train_labels = next(iter(train_dataloader))\n",
    "print(f\"Feature batch shape: {train_features.size()}\")\n",
    "print(f\"Labels batch shape: {train_labels.size()}\")"
   ]
  },
  {
   "source": [
    "## model"
   ],
   "cell_type": "markdown",
   "metadata": {}
  },
  {
   "cell_type": "code",
   "execution_count": 76,
   "metadata": {},
   "outputs": [
    {
     "output_type": "stream",
     "name": "stdout",
     "text": [
      "Using cpu device\n"
     ]
    }
   ],
   "source": [
    "# Get cpu or gpu device for training.\n",
    "device = \"cuda\" if torch.cuda.is_available() else \"cpu\"\n",
    "print(\"Using {} device\".format(device))\n",
    "\n",
    "# Define model\n",
    "class NeuralNetwork(nn.Module):\n",
    "    def __init__(self):\n",
    "        super(NeuralNetwork, self).__init__()\n",
    "        self.flatten = nn.Flatten()\n",
    "        self.linear_relu_stack = nn.Sequential(\n",
    "            nn.ReLU(),\n",
    "            nn.Linear(4, 8),\n",
    "            nn.ReLU(),\n",
    "            # nn.Linear(8, 3),\n",
    "            nn.Linear(8, 5),\n",
    "            nn.ReLU(),\n",
    "            nn.Linear(5, 3),\n",
    "        )\n",
    "\n",
    "    def forward(self, x):\n",
    "        x = self.flatten(x)\n",
    "        logits = self.linear_relu_stack(x)\n",
    "        return logits"
   ]
  },
  {
   "source": [
    "## train & test"
   ],
   "cell_type": "markdown",
   "metadata": {}
  },
  {
   "cell_type": "code",
   "execution_count": 120,
   "metadata": {},
   "outputs": [],
   "source": [
    "def train(dataloader, model, loss_fn, optimizer, info=False):\n",
    "    size = len(dataloader.dataset)\n",
    "\n",
    "    for batch, (X, y) in enumerate(dataloader):\n",
    "        X, y = X.to(device), y.to(device)\n",
    "        # Compute prediction error\n",
    "        pred = model(X)\n",
    "        y=torch.tensor(y,dtype=torch.long)\n",
    "        # print(pred,y)\n",
    "        # print('sf')\n",
    "        # print(pred[0][y[0]])\n",
    "        loss = loss_fn(pred, y)\n",
    "        # loss=(pred-y)**2\n",
    "        # print(pred.argmax(1)==y)\n",
    "\n",
    "        # print(loss)\n",
    "        # print(loss.grad_fn)\n",
    "        # Backpropagation\n",
    "        optimizer.zero_grad()\n",
    "\n",
    "        loss.backward()\n",
    "        optimizer.step()\n",
    "\n",
    "        if info is True and batch % 50 == 0:\n",
    "            loss, current = loss.item(), batch * len(X)\n",
    "            print(f\"loss: {loss:>7f}  [{current:>5d}/{size:>5d}]\")\n",
    "    return loss"
   ]
  },
  {
   "cell_type": "code",
   "execution_count": 121,
   "metadata": {},
   "outputs": [],
   "source": [
    "def test(dataloader, model, epoch, info=False):\n",
    "    size = len(dataloader.dataset)\n",
    "    model.eval()\n",
    "    test_loss, correct = 0, 0\n",
    "    with torch.no_grad():\n",
    "        for X, y in dataloader:\n",
    "            X, y = X.to(device), y.to(device)\n",
    "            pred = model(X)\n",
    "            y=torch.tensor(y,dtype=torch.long)\n",
    "            test_loss += loss_fn(pred, y).item()\n",
    "            # print(pred)\n",
    "            # print(pred.argmax(1))\n",
    "            # print(y)\n",
    "            correct += (pred.argmax(1) == y).type(torch.float).sum().item()\n",
    "    test_loss /= size\n",
    "    correct /= size\n",
    "    if info is True and epoch%50==0:\n",
    "        print(f\"Epoch {t+1}\\n-------------------------------\")\n",
    "        print(f\"Test Error: \\n Accuracy: {(100*correct):>0.1f}%, Avg loss: {test_loss:>8f} \\n\")\n",
    "    return test_loss,correct"
   ]
  },
  {
   "cell_type": "code",
   "execution_count": 122,
   "metadata": {},
   "outputs": [],
   "source": [
    "model = NeuralNetwork().to(device)\n",
    "loss_fn = nn.CrossEntropyLoss()\n",
    "optimizer = torch.optim.Adam(model.parameters(), lr=1e-3)"
   ]
  },
  {
   "cell_type": "code",
   "execution_count": 140,
   "metadata": {
    "tags": []
   },
   "outputs": [
    {
     "output_type": "stream",
     "name": "stderr",
     "text": [
      "ipykernel_launcher:8: UserWarning: To copy construct from a tensor, it is recommended to use sourceTensor.clone().detach() or sourceTensor.clone().detach().requires_grad_(True), rather than torch.tensor(sourceTensor).\n",
      "loss: 0.008246  [    0/  150]\n",
      "ipykernel_launcher:9: UserWarning: To copy construct from a tensor, it is recommended to use sourceTensor.clone().detach() or sourceTensor.clone().detach().requires_grad_(True), rather than torch.tensor(sourceTensor).\n",
      "\n",
      "0.09382967775066693\n",
      "0.9733333333333334\n",
      "Done!\n"
     ]
    }
   ],
   "source": [
    "epochs = 1\n",
    "# fig=plt.figure()\n",
    "maxCorrect=0\n",
    "for t in range(epochs):\n",
    "    \n",
    "    train_loss=train(train_dataloader, model, loss_fn, optimizer,info=True)\n",
    "    test_loss,test_correct=test(train_dataloader, model,t)\n",
    "    if correct>maxCorrect:\n",
    "        print(loss)\n",
    "        print(correct)\n",
    "        maxCorrect=correct\n",
    "        if abs(maxCorrect-1)<1e-6:\n",
    "            break\n",
    "    # plt.plot(t,loss,'o')\n",
    "print(\"Done!\")"
   ]
  },
  {
   "cell_type": "code",
   "execution_count": 114,
   "metadata": {},
   "outputs": [],
   "source": [
    "## plot"
   ]
  },
  {
   "cell_type": "code",
   "execution_count": 141,
   "metadata": {},
   "outputs": [
    {
     "output_type": "stream",
     "name": "stderr",
     "text": [
      "ipykernel_launcher:8: UserWarning: To copy construct from a tensor, it is recommended to use sourceTensor.clone().detach() or sourceTensor.clone().detach().requires_grad_(True), rather than torch.tensor(sourceTensor).\n",
      "ipykernel_launcher:9: UserWarning: To copy construct from a tensor, it is recommended to use sourceTensor.clone().detach() or sourceTensor.clone().detach().requires_grad_(True), rather than torch.tensor(sourceTensor).\n"
     ]
    },
    {
     "output_type": "execute_result",
     "data": {
      "text/plain": [
       "<matplotlib.legend.Legend at 0x17378ccf6c8>"
      ]
     },
     "metadata": {},
     "execution_count": 141
    },
    {
     "output_type": "display_data",
     "data": {
      "text/plain": "<Figure size 432x288 with 1 Axes>",
      "image/svg+xml": "<?xml version=\"1.0\" encoding=\"utf-8\" standalone=\"no\"?>\r\n<!DOCTYPE svg PUBLIC \"-//W3C//DTD SVG 1.1//EN\"\r\n  \"http://www.w3.org/Graphics/SVG/1.1/DTD/svg11.dtd\">\r\n<!-- Created with matplotlib (https://matplotlib.org/) -->\r\n<svg height=\"264.000302pt\" version=\"1.1\" viewBox=\"0 0 385.78125 264.000302\" width=\"385.78125pt\" xmlns=\"http://www.w3.org/2000/svg\" xmlns:xlink=\"http://www.w3.org/1999/xlink\">\r\n <defs>\r\n  <style type=\"text/css\">\r\n*{stroke-linecap:butt;stroke-linejoin:round;}\r\n  </style>\r\n </defs>\r\n <g id=\"figure_1\">\r\n  <g id=\"patch_1\">\r\n   <path d=\"M 0 264.000302 \r\nL 385.78125 264.000302 \r\nL 385.78125 0 \r\nL 0 0 \r\nz\r\n\" style=\"fill:none;\"/>\r\n  </g>\r\n  <g id=\"axes_1\">\r\n   <g id=\"patch_2\">\r\n    <path d=\"M 43.78125 226.444052 \r\nL 378.58125 226.444052 \r\nL 378.58125 9.004052 \r\nL 43.78125 9.004052 \r\nz\r\n\" style=\"fill:#ffffff;\"/>\r\n   </g>\r\n   <g id=\"matplotlib.axis_1\">\r\n    <g id=\"xtick_1\">\r\n     <g id=\"line2d_1\">\r\n      <defs>\r\n       <path d=\"M 0 0 \r\nL 0 3.5 \r\n\" id=\"md46222be62\" style=\"stroke:#000000;stroke-width:0.8;\"/>\r\n      </defs>\r\n      <g>\r\n       <use style=\"stroke:#000000;stroke-width:0.8;\" x=\"58.999432\" xlink:href=\"#md46222be62\" y=\"226.444052\"/>\r\n      </g>\r\n     </g>\r\n     <g id=\"text_1\">\r\n      <!-- 0 -->\r\n      <defs>\r\n       <path d=\"M 31.78125 66.40625 \r\nQ 24.171875 66.40625 20.328125 58.90625 \r\nQ 16.5 51.421875 16.5 36.375 \r\nQ 16.5 21.390625 20.328125 13.890625 \r\nQ 24.171875 6.390625 31.78125 6.390625 \r\nQ 39.453125 6.390625 43.28125 13.890625 \r\nQ 47.125 21.390625 47.125 36.375 \r\nQ 47.125 51.421875 43.28125 58.90625 \r\nQ 39.453125 66.40625 31.78125 66.40625 \r\nz\r\nM 31.78125 74.21875 \r\nQ 44.046875 74.21875 50.515625 64.515625 \r\nQ 56.984375 54.828125 56.984375 36.375 \r\nQ 56.984375 17.96875 50.515625 8.265625 \r\nQ 44.046875 -1.421875 31.78125 -1.421875 \r\nQ 19.53125 -1.421875 13.0625 8.265625 \r\nQ 6.59375 17.96875 6.59375 36.375 \r\nQ 6.59375 54.828125 13.0625 64.515625 \r\nQ 19.53125 74.21875 31.78125 74.21875 \r\nz\r\n\" id=\"DejaVuSans-48\"/>\r\n      </defs>\r\n      <g transform=\"translate(55.818182 241.04249)scale(0.1 -0.1)\">\r\n       <use xlink:href=\"#DejaVuSans-48\"/>\r\n      </g>\r\n     </g>\r\n    </g>\r\n    <g id=\"xtick_2\">\r\n     <g id=\"line2d_2\">\r\n      <g>\r\n       <use style=\"stroke:#000000;stroke-width:0.8;\" x=\"120.487035\" xlink:href=\"#md46222be62\" y=\"226.444052\"/>\r\n      </g>\r\n     </g>\r\n     <g id=\"text_2\">\r\n      <!-- 20 -->\r\n      <defs>\r\n       <path d=\"M 19.1875 8.296875 \r\nL 53.609375 8.296875 \r\nL 53.609375 0 \r\nL 7.328125 0 \r\nL 7.328125 8.296875 \r\nQ 12.9375 14.109375 22.625 23.890625 \r\nQ 32.328125 33.6875 34.8125 36.53125 \r\nQ 39.546875 41.84375 41.421875 45.53125 \r\nQ 43.3125 49.21875 43.3125 52.78125 \r\nQ 43.3125 58.59375 39.234375 62.25 \r\nQ 35.15625 65.921875 28.609375 65.921875 \r\nQ 23.96875 65.921875 18.8125 64.3125 \r\nQ 13.671875 62.703125 7.8125 59.421875 \r\nL 7.8125 69.390625 \r\nQ 13.765625 71.78125 18.9375 73 \r\nQ 24.125 74.21875 28.421875 74.21875 \r\nQ 39.75 74.21875 46.484375 68.546875 \r\nQ 53.21875 62.890625 53.21875 53.421875 \r\nQ 53.21875 48.921875 51.53125 44.890625 \r\nQ 49.859375 40.875 45.40625 35.40625 \r\nQ 44.1875 33.984375 37.640625 27.21875 \r\nQ 31.109375 20.453125 19.1875 8.296875 \r\nz\r\n\" id=\"DejaVuSans-50\"/>\r\n      </defs>\r\n      <g transform=\"translate(114.124535 241.04249)scale(0.1 -0.1)\">\r\n       <use xlink:href=\"#DejaVuSans-50\"/>\r\n       <use x=\"63.623047\" xlink:href=\"#DejaVuSans-48\"/>\r\n      </g>\r\n     </g>\r\n    </g>\r\n    <g id=\"xtick_3\">\r\n     <g id=\"line2d_3\">\r\n      <g>\r\n       <use style=\"stroke:#000000;stroke-width:0.8;\" x=\"181.974638\" xlink:href=\"#md46222be62\" y=\"226.444052\"/>\r\n      </g>\r\n     </g>\r\n     <g id=\"text_3\">\r\n      <!-- 40 -->\r\n      <defs>\r\n       <path d=\"M 37.796875 64.3125 \r\nL 12.890625 25.390625 \r\nL 37.796875 25.390625 \r\nz\r\nM 35.203125 72.90625 \r\nL 47.609375 72.90625 \r\nL 47.609375 25.390625 \r\nL 58.015625 25.390625 \r\nL 58.015625 17.1875 \r\nL 47.609375 17.1875 \r\nL 47.609375 0 \r\nL 37.796875 0 \r\nL 37.796875 17.1875 \r\nL 4.890625 17.1875 \r\nL 4.890625 26.703125 \r\nz\r\n\" id=\"DejaVuSans-52\"/>\r\n      </defs>\r\n      <g transform=\"translate(175.612138 241.04249)scale(0.1 -0.1)\">\r\n       <use xlink:href=\"#DejaVuSans-52\"/>\r\n       <use x=\"63.623047\" xlink:href=\"#DejaVuSans-48\"/>\r\n      </g>\r\n     </g>\r\n    </g>\r\n    <g id=\"xtick_4\">\r\n     <g id=\"line2d_4\">\r\n      <g>\r\n       <use style=\"stroke:#000000;stroke-width:0.8;\" x=\"243.462242\" xlink:href=\"#md46222be62\" y=\"226.444052\"/>\r\n      </g>\r\n     </g>\r\n     <g id=\"text_4\">\r\n      <!-- 60 -->\r\n      <defs>\r\n       <path d=\"M 33.015625 40.375 \r\nQ 26.375 40.375 22.484375 35.828125 \r\nQ 18.609375 31.296875 18.609375 23.390625 \r\nQ 18.609375 15.53125 22.484375 10.953125 \r\nQ 26.375 6.390625 33.015625 6.390625 \r\nQ 39.65625 6.390625 43.53125 10.953125 \r\nQ 47.40625 15.53125 47.40625 23.390625 \r\nQ 47.40625 31.296875 43.53125 35.828125 \r\nQ 39.65625 40.375 33.015625 40.375 \r\nz\r\nM 52.59375 71.296875 \r\nL 52.59375 62.3125 \r\nQ 48.875 64.0625 45.09375 64.984375 \r\nQ 41.3125 65.921875 37.59375 65.921875 \r\nQ 27.828125 65.921875 22.671875 59.328125 \r\nQ 17.53125 52.734375 16.796875 39.40625 \r\nQ 19.671875 43.65625 24.015625 45.921875 \r\nQ 28.375 48.1875 33.59375 48.1875 \r\nQ 44.578125 48.1875 50.953125 41.515625 \r\nQ 57.328125 34.859375 57.328125 23.390625 \r\nQ 57.328125 12.15625 50.6875 5.359375 \r\nQ 44.046875 -1.421875 33.015625 -1.421875 \r\nQ 20.359375 -1.421875 13.671875 8.265625 \r\nQ 6.984375 17.96875 6.984375 36.375 \r\nQ 6.984375 53.65625 15.1875 63.9375 \r\nQ 23.390625 74.21875 37.203125 74.21875 \r\nQ 40.921875 74.21875 44.703125 73.484375 \r\nQ 48.484375 72.75 52.59375 71.296875 \r\nz\r\n\" id=\"DejaVuSans-54\"/>\r\n      </defs>\r\n      <g transform=\"translate(237.099742 241.04249)scale(0.1 -0.1)\">\r\n       <use xlink:href=\"#DejaVuSans-54\"/>\r\n       <use x=\"63.623047\" xlink:href=\"#DejaVuSans-48\"/>\r\n      </g>\r\n     </g>\r\n    </g>\r\n    <g id=\"xtick_5\">\r\n     <g id=\"line2d_5\">\r\n      <g>\r\n       <use style=\"stroke:#000000;stroke-width:0.8;\" x=\"304.949845\" xlink:href=\"#md46222be62\" y=\"226.444052\"/>\r\n      </g>\r\n     </g>\r\n     <g id=\"text_5\">\r\n      <!-- 80 -->\r\n      <defs>\r\n       <path d=\"M 31.78125 34.625 \r\nQ 24.75 34.625 20.71875 30.859375 \r\nQ 16.703125 27.09375 16.703125 20.515625 \r\nQ 16.703125 13.921875 20.71875 10.15625 \r\nQ 24.75 6.390625 31.78125 6.390625 \r\nQ 38.8125 6.390625 42.859375 10.171875 \r\nQ 46.921875 13.96875 46.921875 20.515625 \r\nQ 46.921875 27.09375 42.890625 30.859375 \r\nQ 38.875 34.625 31.78125 34.625 \r\nz\r\nM 21.921875 38.8125 \r\nQ 15.578125 40.375 12.03125 44.71875 \r\nQ 8.5 49.078125 8.5 55.328125 \r\nQ 8.5 64.0625 14.71875 69.140625 \r\nQ 20.953125 74.21875 31.78125 74.21875 \r\nQ 42.671875 74.21875 48.875 69.140625 \r\nQ 55.078125 64.0625 55.078125 55.328125 \r\nQ 55.078125 49.078125 51.53125 44.71875 \r\nQ 48 40.375 41.703125 38.8125 \r\nQ 48.828125 37.15625 52.796875 32.3125 \r\nQ 56.78125 27.484375 56.78125 20.515625 \r\nQ 56.78125 9.90625 50.3125 4.234375 \r\nQ 43.84375 -1.421875 31.78125 -1.421875 \r\nQ 19.734375 -1.421875 13.25 4.234375 \r\nQ 6.78125 9.90625 6.78125 20.515625 \r\nQ 6.78125 27.484375 10.78125 32.3125 \r\nQ 14.796875 37.15625 21.921875 38.8125 \r\nz\r\nM 18.3125 54.390625 \r\nQ 18.3125 48.734375 21.84375 45.5625 \r\nQ 25.390625 42.390625 31.78125 42.390625 \r\nQ 38.140625 42.390625 41.71875 45.5625 \r\nQ 45.3125 48.734375 45.3125 54.390625 \r\nQ 45.3125 60.0625 41.71875 63.234375 \r\nQ 38.140625 66.40625 31.78125 66.40625 \r\nQ 25.390625 66.40625 21.84375 63.234375 \r\nQ 18.3125 60.0625 18.3125 54.390625 \r\nz\r\n\" id=\"DejaVuSans-56\"/>\r\n      </defs>\r\n      <g transform=\"translate(298.587345 241.04249)scale(0.1 -0.1)\">\r\n       <use xlink:href=\"#DejaVuSans-56\"/>\r\n       <use x=\"63.623047\" xlink:href=\"#DejaVuSans-48\"/>\r\n      </g>\r\n     </g>\r\n    </g>\r\n    <g id=\"xtick_6\">\r\n     <g id=\"line2d_6\">\r\n      <g>\r\n       <use style=\"stroke:#000000;stroke-width:0.8;\" x=\"366.437448\" xlink:href=\"#md46222be62\" y=\"226.444052\"/>\r\n      </g>\r\n     </g>\r\n     <g id=\"text_6\">\r\n      <!-- 100 -->\r\n      <defs>\r\n       <path d=\"M 12.40625 8.296875 \r\nL 28.515625 8.296875 \r\nL 28.515625 63.921875 \r\nL 10.984375 60.40625 \r\nL 10.984375 69.390625 \r\nL 28.421875 72.90625 \r\nL 38.28125 72.90625 \r\nL 38.28125 8.296875 \r\nL 54.390625 8.296875 \r\nL 54.390625 0 \r\nL 12.40625 0 \r\nz\r\n\" id=\"DejaVuSans-49\"/>\r\n      </defs>\r\n      <g transform=\"translate(356.893698 241.04249)scale(0.1 -0.1)\">\r\n       <use xlink:href=\"#DejaVuSans-49\"/>\r\n       <use x=\"63.623047\" xlink:href=\"#DejaVuSans-48\"/>\r\n       <use x=\"127.246094\" xlink:href=\"#DejaVuSans-48\"/>\r\n      </g>\r\n     </g>\r\n    </g>\r\n    <g id=\"text_7\">\r\n     <!-- iteration -->\r\n     <defs>\r\n      <path d=\"M 9.421875 54.6875 \r\nL 18.40625 54.6875 \r\nL 18.40625 0 \r\nL 9.421875 0 \r\nz\r\nM 9.421875 75.984375 \r\nL 18.40625 75.984375 \r\nL 18.40625 64.59375 \r\nL 9.421875 64.59375 \r\nz\r\n\" id=\"DejaVuSans-105\"/>\r\n      <path d=\"M 18.3125 70.21875 \r\nL 18.3125 54.6875 \r\nL 36.8125 54.6875 \r\nL 36.8125 47.703125 \r\nL 18.3125 47.703125 \r\nL 18.3125 18.015625 \r\nQ 18.3125 11.328125 20.140625 9.421875 \r\nQ 21.96875 7.515625 27.59375 7.515625 \r\nL 36.8125 7.515625 \r\nL 36.8125 0 \r\nL 27.59375 0 \r\nQ 17.1875 0 13.234375 3.875 \r\nQ 9.28125 7.765625 9.28125 18.015625 \r\nL 9.28125 47.703125 \r\nL 2.6875 47.703125 \r\nL 2.6875 54.6875 \r\nL 9.28125 54.6875 \r\nL 9.28125 70.21875 \r\nz\r\n\" id=\"DejaVuSans-116\"/>\r\n      <path d=\"M 56.203125 29.59375 \r\nL 56.203125 25.203125 \r\nL 14.890625 25.203125 \r\nQ 15.484375 15.921875 20.484375 11.0625 \r\nQ 25.484375 6.203125 34.421875 6.203125 \r\nQ 39.59375 6.203125 44.453125 7.46875 \r\nQ 49.3125 8.734375 54.109375 11.28125 \r\nL 54.109375 2.78125 \r\nQ 49.265625 0.734375 44.1875 -0.34375 \r\nQ 39.109375 -1.421875 33.890625 -1.421875 \r\nQ 20.796875 -1.421875 13.15625 6.1875 \r\nQ 5.515625 13.8125 5.515625 26.8125 \r\nQ 5.515625 40.234375 12.765625 48.109375 \r\nQ 20.015625 56 32.328125 56 \r\nQ 43.359375 56 49.78125 48.890625 \r\nQ 56.203125 41.796875 56.203125 29.59375 \r\nz\r\nM 47.21875 32.234375 \r\nQ 47.125 39.59375 43.09375 43.984375 \r\nQ 39.0625 48.390625 32.421875 48.390625 \r\nQ 24.90625 48.390625 20.390625 44.140625 \r\nQ 15.875 39.890625 15.1875 32.171875 \r\nz\r\n\" id=\"DejaVuSans-101\"/>\r\n      <path d=\"M 41.109375 46.296875 \r\nQ 39.59375 47.171875 37.8125 47.578125 \r\nQ 36.03125 48 33.890625 48 \r\nQ 26.265625 48 22.1875 43.046875 \r\nQ 18.109375 38.09375 18.109375 28.8125 \r\nL 18.109375 0 \r\nL 9.078125 0 \r\nL 9.078125 54.6875 \r\nL 18.109375 54.6875 \r\nL 18.109375 46.1875 \r\nQ 20.953125 51.171875 25.484375 53.578125 \r\nQ 30.03125 56 36.53125 56 \r\nQ 37.453125 56 38.578125 55.875 \r\nQ 39.703125 55.765625 41.0625 55.515625 \r\nz\r\n\" id=\"DejaVuSans-114\"/>\r\n      <path d=\"M 34.28125 27.484375 \r\nQ 23.390625 27.484375 19.1875 25 \r\nQ 14.984375 22.515625 14.984375 16.5 \r\nQ 14.984375 11.71875 18.140625 8.90625 \r\nQ 21.296875 6.109375 26.703125 6.109375 \r\nQ 34.1875 6.109375 38.703125 11.40625 \r\nQ 43.21875 16.703125 43.21875 25.484375 \r\nL 43.21875 27.484375 \r\nz\r\nM 52.203125 31.203125 \r\nL 52.203125 0 \r\nL 43.21875 0 \r\nL 43.21875 8.296875 \r\nQ 40.140625 3.328125 35.546875 0.953125 \r\nQ 30.953125 -1.421875 24.3125 -1.421875 \r\nQ 15.921875 -1.421875 10.953125 3.296875 \r\nQ 6 8.015625 6 15.921875 \r\nQ 6 25.140625 12.171875 29.828125 \r\nQ 18.359375 34.515625 30.609375 34.515625 \r\nL 43.21875 34.515625 \r\nL 43.21875 35.40625 \r\nQ 43.21875 41.609375 39.140625 45 \r\nQ 35.0625 48.390625 27.6875 48.390625 \r\nQ 23 48.390625 18.546875 47.265625 \r\nQ 14.109375 46.140625 10.015625 43.890625 \r\nL 10.015625 52.203125 \r\nQ 14.9375 54.109375 19.578125 55.046875 \r\nQ 24.21875 56 28.609375 56 \r\nQ 40.484375 56 46.34375 49.84375 \r\nQ 52.203125 43.703125 52.203125 31.203125 \r\nz\r\n\" id=\"DejaVuSans-97\"/>\r\n      <path d=\"M 30.609375 48.390625 \r\nQ 23.390625 48.390625 19.1875 42.75 \r\nQ 14.984375 37.109375 14.984375 27.296875 \r\nQ 14.984375 17.484375 19.15625 11.84375 \r\nQ 23.34375 6.203125 30.609375 6.203125 \r\nQ 37.796875 6.203125 41.984375 11.859375 \r\nQ 46.1875 17.53125 46.1875 27.296875 \r\nQ 46.1875 37.015625 41.984375 42.703125 \r\nQ 37.796875 48.390625 30.609375 48.390625 \r\nz\r\nM 30.609375 56 \r\nQ 42.328125 56 49.015625 48.375 \r\nQ 55.71875 40.765625 55.71875 27.296875 \r\nQ 55.71875 13.875 49.015625 6.21875 \r\nQ 42.328125 -1.421875 30.609375 -1.421875 \r\nQ 18.84375 -1.421875 12.171875 6.21875 \r\nQ 5.515625 13.875 5.515625 27.296875 \r\nQ 5.515625 40.765625 12.171875 48.375 \r\nQ 18.84375 56 30.609375 56 \r\nz\r\n\" id=\"DejaVuSans-111\"/>\r\n      <path d=\"M 54.890625 33.015625 \r\nL 54.890625 0 \r\nL 45.90625 0 \r\nL 45.90625 32.71875 \r\nQ 45.90625 40.484375 42.875 44.328125 \r\nQ 39.84375 48.1875 33.796875 48.1875 \r\nQ 26.515625 48.1875 22.3125 43.546875 \r\nQ 18.109375 38.921875 18.109375 30.90625 \r\nL 18.109375 0 \r\nL 9.078125 0 \r\nL 9.078125 54.6875 \r\nL 18.109375 54.6875 \r\nL 18.109375 46.1875 \r\nQ 21.34375 51.125 25.703125 53.5625 \r\nQ 30.078125 56 35.796875 56 \r\nQ 45.21875 56 50.046875 50.171875 \r\nQ 54.890625 44.34375 54.890625 33.015625 \r\nz\r\n\" id=\"DejaVuSans-110\"/>\r\n     </defs>\r\n     <g transform=\"translate(190.058594 254.720615)scale(0.1 -0.1)\">\r\n      <use xlink:href=\"#DejaVuSans-105\"/>\r\n      <use x=\"27.783203\" xlink:href=\"#DejaVuSans-116\"/>\r\n      <use x=\"66.992188\" xlink:href=\"#DejaVuSans-101\"/>\r\n      <use x=\"128.515625\" xlink:href=\"#DejaVuSans-114\"/>\r\n      <use x=\"169.628906\" xlink:href=\"#DejaVuSans-97\"/>\r\n      <use x=\"230.908203\" xlink:href=\"#DejaVuSans-116\"/>\r\n      <use x=\"270.117188\" xlink:href=\"#DejaVuSans-105\"/>\r\n      <use x=\"297.900391\" xlink:href=\"#DejaVuSans-111\"/>\r\n      <use x=\"359.082031\" xlink:href=\"#DejaVuSans-110\"/>\r\n     </g>\r\n    </g>\r\n   </g>\r\n   <g id=\"matplotlib.axis_2\">\r\n    <g id=\"ytick_1\">\r\n     <g id=\"line2d_7\">\r\n      <defs>\r\n       <path d=\"M 0 0 \r\nL -3.5 0 \r\n\" id=\"m95451bf3f6\" style=\"stroke:#000000;stroke-width:0.8;\"/>\r\n      </defs>\r\n      <g>\r\n       <use style=\"stroke:#000000;stroke-width:0.8;\" x=\"43.78125\" xlink:href=\"#m95451bf3f6\" y=\"216.868278\"/>\r\n      </g>\r\n     </g>\r\n     <g id=\"text_8\">\r\n      <!-- 0.0 -->\r\n      <defs>\r\n       <path d=\"M 10.6875 12.40625 \r\nL 21 12.40625 \r\nL 21 0 \r\nL 10.6875 0 \r\nz\r\n\" id=\"DejaVuSans-46\"/>\r\n      </defs>\r\n      <g transform=\"translate(20.878125 220.667497)scale(0.1 -0.1)\">\r\n       <use xlink:href=\"#DejaVuSans-48\"/>\r\n       <use x=\"63.623047\" xlink:href=\"#DejaVuSans-46\"/>\r\n       <use x=\"95.410156\" xlink:href=\"#DejaVuSans-48\"/>\r\n      </g>\r\n     </g>\r\n    </g>\r\n    <g id=\"ytick_2\">\r\n     <g id=\"line2d_8\">\r\n      <g>\r\n       <use style=\"stroke:#000000;stroke-width:0.8;\" x=\"43.78125\" xlink:href=\"#m95451bf3f6\" y=\"182.556768\"/>\r\n      </g>\r\n     </g>\r\n     <g id=\"text_9\">\r\n      <!-- 0.2 -->\r\n      <g transform=\"translate(20.878125 186.355987)scale(0.1 -0.1)\">\r\n       <use xlink:href=\"#DejaVuSans-48\"/>\r\n       <use x=\"63.623047\" xlink:href=\"#DejaVuSans-46\"/>\r\n       <use x=\"95.410156\" xlink:href=\"#DejaVuSans-50\"/>\r\n      </g>\r\n     </g>\r\n    </g>\r\n    <g id=\"ytick_3\">\r\n     <g id=\"line2d_9\">\r\n      <g>\r\n       <use style=\"stroke:#000000;stroke-width:0.8;\" x=\"43.78125\" xlink:href=\"#m95451bf3f6\" y=\"148.245258\"/>\r\n      </g>\r\n     </g>\r\n     <g id=\"text_10\">\r\n      <!-- 0.4 -->\r\n      <g transform=\"translate(20.878125 152.044477)scale(0.1 -0.1)\">\r\n       <use xlink:href=\"#DejaVuSans-48\"/>\r\n       <use x=\"63.623047\" xlink:href=\"#DejaVuSans-46\"/>\r\n       <use x=\"95.410156\" xlink:href=\"#DejaVuSans-52\"/>\r\n      </g>\r\n     </g>\r\n    </g>\r\n    <g id=\"ytick_4\">\r\n     <g id=\"line2d_10\">\r\n      <g>\r\n       <use style=\"stroke:#000000;stroke-width:0.8;\" x=\"43.78125\" xlink:href=\"#m95451bf3f6\" y=\"113.933748\"/>\r\n      </g>\r\n     </g>\r\n     <g id=\"text_11\">\r\n      <!-- 0.6 -->\r\n      <g transform=\"translate(20.878125 117.732967)scale(0.1 -0.1)\">\r\n       <use xlink:href=\"#DejaVuSans-48\"/>\r\n       <use x=\"63.623047\" xlink:href=\"#DejaVuSans-46\"/>\r\n       <use x=\"95.410156\" xlink:href=\"#DejaVuSans-54\"/>\r\n      </g>\r\n     </g>\r\n    </g>\r\n    <g id=\"ytick_5\">\r\n     <g id=\"line2d_11\">\r\n      <g>\r\n       <use style=\"stroke:#000000;stroke-width:0.8;\" x=\"43.78125\" xlink:href=\"#m95451bf3f6\" y=\"79.622238\"/>\r\n      </g>\r\n     </g>\r\n     <g id=\"text_12\">\r\n      <!-- 0.8 -->\r\n      <g transform=\"translate(20.878125 83.421457)scale(0.1 -0.1)\">\r\n       <use xlink:href=\"#DejaVuSans-48\"/>\r\n       <use x=\"63.623047\" xlink:href=\"#DejaVuSans-46\"/>\r\n       <use x=\"95.410156\" xlink:href=\"#DejaVuSans-56\"/>\r\n      </g>\r\n     </g>\r\n    </g>\r\n    <g id=\"ytick_6\">\r\n     <g id=\"line2d_12\">\r\n      <g>\r\n       <use style=\"stroke:#000000;stroke-width:0.8;\" x=\"43.78125\" xlink:href=\"#m95451bf3f6\" y=\"45.310729\"/>\r\n      </g>\r\n     </g>\r\n     <g id=\"text_13\">\r\n      <!-- 1.0 -->\r\n      <g transform=\"translate(20.878125 49.109947)scale(0.1 -0.1)\">\r\n       <use xlink:href=\"#DejaVuSans-49\"/>\r\n       <use x=\"63.623047\" xlink:href=\"#DejaVuSans-46\"/>\r\n       <use x=\"95.410156\" xlink:href=\"#DejaVuSans-48\"/>\r\n      </g>\r\n     </g>\r\n    </g>\r\n    <g id=\"ytick_7\">\r\n     <g id=\"line2d_13\">\r\n      <g>\r\n       <use style=\"stroke:#000000;stroke-width:0.8;\" x=\"43.78125\" xlink:href=\"#m95451bf3f6\" y=\"10.999219\"/>\r\n      </g>\r\n     </g>\r\n     <g id=\"text_14\">\r\n      <!-- 1.2 -->\r\n      <g transform=\"translate(20.878125 14.798437)scale(0.1 -0.1)\">\r\n       <use xlink:href=\"#DejaVuSans-49\"/>\r\n       <use x=\"63.623047\" xlink:href=\"#DejaVuSans-46\"/>\r\n       <use x=\"95.410156\" xlink:href=\"#DejaVuSans-50\"/>\r\n      </g>\r\n     </g>\r\n    </g>\r\n    <g id=\"text_15\">\r\n     <!-- loss -->\r\n     <defs>\r\n      <path d=\"M 9.421875 75.984375 \r\nL 18.40625 75.984375 \r\nL 18.40625 0 \r\nL 9.421875 0 \r\nz\r\n\" id=\"DejaVuSans-108\"/>\r\n      <path d=\"M 44.28125 53.078125 \r\nL 44.28125 44.578125 \r\nQ 40.484375 46.53125 36.375 47.5 \r\nQ 32.28125 48.484375 27.875 48.484375 \r\nQ 21.1875 48.484375 17.84375 46.4375 \r\nQ 14.5 44.390625 14.5 40.28125 \r\nQ 14.5 37.15625 16.890625 35.375 \r\nQ 19.28125 33.59375 26.515625 31.984375 \r\nL 29.59375 31.296875 \r\nQ 39.15625 29.25 43.1875 25.515625 \r\nQ 47.21875 21.78125 47.21875 15.09375 \r\nQ 47.21875 7.46875 41.1875 3.015625 \r\nQ 35.15625 -1.421875 24.609375 -1.421875 \r\nQ 20.21875 -1.421875 15.453125 -0.5625 \r\nQ 10.6875 0.296875 5.421875 2 \r\nL 5.421875 11.28125 \r\nQ 10.40625 8.6875 15.234375 7.390625 \r\nQ 20.0625 6.109375 24.8125 6.109375 \r\nQ 31.15625 6.109375 34.5625 8.28125 \r\nQ 37.984375 10.453125 37.984375 14.40625 \r\nQ 37.984375 18.0625 35.515625 20.015625 \r\nQ 33.0625 21.96875 24.703125 23.78125 \r\nL 21.578125 24.515625 \r\nQ 13.234375 26.265625 9.515625 29.90625 \r\nQ 5.8125 33.546875 5.8125 39.890625 \r\nQ 5.8125 47.609375 11.28125 51.796875 \r\nQ 16.75 56 26.8125 56 \r\nQ 31.78125 56 36.171875 55.265625 \r\nQ 40.578125 54.546875 44.28125 53.078125 \r\nz\r\n\" id=\"DejaVuSans-115\"/>\r\n     </defs>\r\n     <g transform=\"translate(14.798438 127.381865)rotate(-90)scale(0.1 -0.1)\">\r\n      <use xlink:href=\"#DejaVuSans-108\"/>\r\n      <use x=\"27.783203\" xlink:href=\"#DejaVuSans-111\"/>\r\n      <use x=\"88.964844\" xlink:href=\"#DejaVuSans-115\"/>\r\n      <use x=\"141.064453\" xlink:href=\"#DejaVuSans-115\"/>\r\n     </g>\r\n    </g>\r\n   </g>\r\n   <g id=\"line2d_14\">\r\n    <defs>\r\n     <path d=\"M 0 3 \r\nC 0.795609 3 1.55874 2.683901 2.12132 2.12132 \r\nC 2.683901 1.55874 3 0.795609 3 0 \r\nC 3 -0.795609 2.683901 -1.55874 2.12132 -2.12132 \r\nC 1.55874 -2.683901 0.795609 -3 0 -3 \r\nC -0.795609 -3 -1.55874 -2.683901 -2.12132 -2.12132 \r\nC -2.683901 -1.55874 -3 -0.795609 -3 0 \r\nC -3 0.795609 -2.683901 1.55874 -2.12132 2.12132 \r\nC -1.55874 2.683901 -0.795609 3 0 3 \r\nz\r\n\" id=\"mf72ba41682\" style=\"stroke:#ff0000;\"/>\r\n    </defs>\r\n    <g clip-path=\"url(#p6cfec5ddd4)\">\r\n     <use style=\"fill:#ff0000;stroke:#ff0000;\" x=\"58.999432\" xlink:href=\"#mf72ba41682\" y=\"28.784909\"/>\r\n    </g>\r\n   </g>\r\n   <g id=\"line2d_15\">\r\n    <defs>\r\n     <path d=\"M -3 3 \r\nL 3 -3 \r\nM -3 -3 \r\nL 3 3 \r\n\" id=\"mc4e3a10c57\" style=\"stroke:#008000;\"/>\r\n    </defs>\r\n    <g clip-path=\"url(#p6cfec5ddd4)\">\r\n     <use style=\"fill:#008000;stroke:#008000;\" x=\"58.999432\" xlink:href=\"#mc4e3a10c57\" y=\"153.502143\"/>\r\n    </g>\r\n   </g>\r\n   <g id=\"line2d_16\">\r\n    <g clip-path=\"url(#p6cfec5ddd4)\">\r\n     <use style=\"fill:#ff0000;stroke:#ff0000;\" x=\"62.073812\" xlink:href=\"#mf72ba41682\" y=\"28.500555\"/>\r\n    </g>\r\n   </g>\r\n   <g id=\"line2d_17\">\r\n    <g clip-path=\"url(#p6cfec5ddd4)\">\r\n     <use style=\"fill:#008000;stroke:#008000;\" x=\"62.073812\" xlink:href=\"#mc4e3a10c57\" y=\"154.20397\"/>\r\n    </g>\r\n   </g>\r\n   <g id=\"line2d_18\">\r\n    <g clip-path=\"url(#p6cfec5ddd4)\">\r\n     <use style=\"fill:#ff0000;stroke:#ff0000;\" x=\"65.148192\" xlink:href=\"#mf72ba41682\" y=\"29.345805\"/>\r\n    </g>\r\n   </g>\r\n   <g id=\"line2d_19\">\r\n    <g clip-path=\"url(#p6cfec5ddd4)\">\r\n     <use style=\"fill:#008000;stroke:#008000;\" x=\"65.148192\" xlink:href=\"#mc4e3a10c57\" y=\"154.849215\"/>\r\n    </g>\r\n   </g>\r\n   <g id=\"line2d_20\">\r\n    <g clip-path=\"url(#p6cfec5ddd4)\">\r\n     <use style=\"fill:#ff0000;stroke:#ff0000;\" x=\"68.222572\" xlink:href=\"#mf72ba41682\" y=\"42.170623\"/>\r\n    </g>\r\n   </g>\r\n   <g id=\"line2d_21\">\r\n    <g clip-path=\"url(#p6cfec5ddd4)\">\r\n     <use style=\"fill:#008000;stroke:#008000;\" x=\"68.222572\" xlink:href=\"#mc4e3a10c57\" y=\"155.517773\"/>\r\n    </g>\r\n   </g>\r\n   <g id=\"line2d_22\">\r\n    <g clip-path=\"url(#p6cfec5ddd4)\">\r\n     <use style=\"fill:#ff0000;stroke:#ff0000;\" x=\"71.296952\" xlink:href=\"#mf72ba41682\" y=\"38.08618\"/>\r\n    </g>\r\n   </g>\r\n   <g id=\"line2d_23\">\r\n    <g clip-path=\"url(#p6cfec5ddd4)\">\r\n     <use style=\"fill:#008000;stroke:#008000;\" x=\"71.296952\" xlink:href=\"#mc4e3a10c57\" y=\"156.556381\"/>\r\n    </g>\r\n   </g>\r\n   <g id=\"line2d_24\">\r\n    <g clip-path=\"url(#p6cfec5ddd4)\">\r\n     <use style=\"fill:#ff0000;stroke:#ff0000;\" x=\"74.371333\" xlink:href=\"#mf72ba41682\" y=\"45.348267\"/>\r\n    </g>\r\n   </g>\r\n   <g id=\"line2d_25\">\r\n    <g clip-path=\"url(#p6cfec5ddd4)\">\r\n     <use style=\"fill:#008000;stroke:#008000;\" x=\"74.371333\" xlink:href=\"#mc4e3a10c57\" y=\"158.090169\"/>\r\n    </g>\r\n   </g>\r\n   <g id=\"line2d_26\">\r\n    <g clip-path=\"url(#p6cfec5ddd4)\">\r\n     <use style=\"fill:#ff0000;stroke:#ff0000;\" x=\"77.445713\" xlink:href=\"#mf72ba41682\" y=\"47.497264\"/>\r\n    </g>\r\n   </g>\r\n   <g id=\"line2d_27\">\r\n    <g clip-path=\"url(#p6cfec5ddd4)\">\r\n     <use style=\"fill:#008000;stroke:#008000;\" x=\"77.445713\" xlink:href=\"#mc4e3a10c57\" y=\"160.365974\"/>\r\n    </g>\r\n   </g>\r\n   <g id=\"line2d_28\">\r\n    <g clip-path=\"url(#p6cfec5ddd4)\">\r\n     <use style=\"fill:#ff0000;stroke:#ff0000;\" x=\"80.520093\" xlink:href=\"#mf72ba41682\" y=\"47.743405\"/>\r\n    </g>\r\n   </g>\r\n   <g id=\"line2d_29\">\r\n    <g clip-path=\"url(#p6cfec5ddd4)\">\r\n     <use style=\"fill:#008000;stroke:#008000;\" x=\"80.520093\" xlink:href=\"#mc4e3a10c57\" y=\"164.044416\"/>\r\n    </g>\r\n   </g>\r\n   <g id=\"line2d_30\">\r\n    <g clip-path=\"url(#p6cfec5ddd4)\">\r\n     <use style=\"fill:#ff0000;stroke:#ff0000;\" x=\"83.594473\" xlink:href=\"#mf72ba41682\" y=\"84.729988\"/>\r\n    </g>\r\n   </g>\r\n   <g id=\"line2d_31\">\r\n    <g clip-path=\"url(#p6cfec5ddd4)\">\r\n     <use style=\"fill:#008000;stroke:#008000;\" x=\"83.594473\" xlink:href=\"#mc4e3a10c57\" y=\"169.170175\"/>\r\n    </g>\r\n   </g>\r\n   <g id=\"line2d_32\">\r\n    <g clip-path=\"url(#p6cfec5ddd4)\">\r\n     <use style=\"fill:#ff0000;stroke:#ff0000;\" x=\"86.668853\" xlink:href=\"#mf72ba41682\" y=\"107.852083\"/>\r\n    </g>\r\n   </g>\r\n   <g id=\"line2d_33\">\r\n    <g clip-path=\"url(#p6cfec5ddd4)\">\r\n     <use style=\"fill:#008000;stroke:#008000;\" x=\"86.668853\" xlink:href=\"#mc4e3a10c57\" y=\"175.774478\"/>\r\n    </g>\r\n   </g>\r\n   <g id=\"line2d_34\">\r\n    <g clip-path=\"url(#p6cfec5ddd4)\">\r\n     <use style=\"fill:#ff0000;stroke:#ff0000;\" x=\"89.743233\" xlink:href=\"#mf72ba41682\" y=\"86.913456\"/>\r\n    </g>\r\n   </g>\r\n   <g id=\"line2d_35\">\r\n    <g clip-path=\"url(#p6cfec5ddd4)\">\r\n     <use style=\"fill:#008000;stroke:#008000;\" x=\"89.743233\" xlink:href=\"#mc4e3a10c57\" y=\"181.063624\"/>\r\n    </g>\r\n   </g>\r\n   <g id=\"line2d_36\">\r\n    <g clip-path=\"url(#p6cfec5ddd4)\">\r\n     <use style=\"fill:#ff0000;stroke:#ff0000;\" x=\"92.817614\" xlink:href=\"#mf72ba41682\" y=\"131.346979\"/>\r\n    </g>\r\n   </g>\r\n   <g id=\"line2d_37\">\r\n    <g clip-path=\"url(#p6cfec5ddd4)\">\r\n     <use style=\"fill:#008000;stroke:#008000;\" x=\"92.817614\" xlink:href=\"#mc4e3a10c57\" y=\"185.563378\"/>\r\n    </g>\r\n   </g>\r\n   <g id=\"line2d_38\">\r\n    <g clip-path=\"url(#p6cfec5ddd4)\">\r\n     <use style=\"fill:#ff0000;stroke:#ff0000;\" x=\"95.891994\" xlink:href=\"#mf72ba41682\" y=\"100.628629\"/>\r\n    </g>\r\n   </g>\r\n   <g id=\"line2d_39\">\r\n    <g clip-path=\"url(#p6cfec5ddd4)\">\r\n     <use style=\"fill:#008000;stroke:#008000;\" x=\"95.891994\" xlink:href=\"#mc4e3a10c57\" y=\"188.843421\"/>\r\n    </g>\r\n   </g>\r\n   <g id=\"line2d_40\">\r\n    <g clip-path=\"url(#p6cfec5ddd4)\">\r\n     <use style=\"fill:#ff0000;stroke:#ff0000;\" x=\"98.966374\" xlink:href=\"#mf72ba41682\" y=\"129.535003\"/>\r\n    </g>\r\n   </g>\r\n   <g id=\"line2d_41\">\r\n    <g clip-path=\"url(#p6cfec5ddd4)\">\r\n     <use style=\"fill:#008000;stroke:#008000;\" x=\"98.966374\" xlink:href=\"#mc4e3a10c57\" y=\"190.455528\"/>\r\n    </g>\r\n   </g>\r\n   <g id=\"line2d_42\">\r\n    <g clip-path=\"url(#p6cfec5ddd4)\">\r\n     <use style=\"fill:#ff0000;stroke:#ff0000;\" x=\"102.040754\" xlink:href=\"#mf72ba41682\" y=\"170.500751\"/>\r\n    </g>\r\n   </g>\r\n   <g id=\"line2d_43\">\r\n    <g clip-path=\"url(#p6cfec5ddd4)\">\r\n     <use style=\"fill:#008000;stroke:#008000;\" x=\"102.040754\" xlink:href=\"#mc4e3a10c57\" y=\"193.051727\"/>\r\n    </g>\r\n   </g>\r\n   <g id=\"line2d_44\">\r\n    <g clip-path=\"url(#p6cfec5ddd4)\">\r\n     <use style=\"fill:#ff0000;stroke:#ff0000;\" x=\"105.115134\" xlink:href=\"#mf72ba41682\" y=\"100.464682\"/>\r\n    </g>\r\n   </g>\r\n   <g id=\"line2d_45\">\r\n    <g clip-path=\"url(#p6cfec5ddd4)\">\r\n     <use style=\"fill:#008000;stroke:#008000;\" x=\"105.115134\" xlink:href=\"#mc4e3a10c57\" y=\"195.009581\"/>\r\n    </g>\r\n   </g>\r\n   <g id=\"line2d_46\">\r\n    <g clip-path=\"url(#p6cfec5ddd4)\">\r\n     <use style=\"fill:#ff0000;stroke:#ff0000;\" x=\"108.189514\" xlink:href=\"#mf72ba41682\" y=\"184.620854\"/>\r\n    </g>\r\n   </g>\r\n   <g id=\"line2d_47\">\r\n    <g clip-path=\"url(#p6cfec5ddd4)\">\r\n     <use style=\"fill:#008000;stroke:#008000;\" x=\"108.189514\" xlink:href=\"#mc4e3a10c57\" y=\"196.091289\"/>\r\n    </g>\r\n   </g>\r\n   <g id=\"line2d_48\">\r\n    <g clip-path=\"url(#p6cfec5ddd4)\">\r\n     <use style=\"fill:#ff0000;stroke:#ff0000;\" x=\"111.263895\" xlink:href=\"#mf72ba41682\" y=\"189.61145\"/>\r\n    </g>\r\n   </g>\r\n   <g id=\"line2d_49\">\r\n    <g clip-path=\"url(#p6cfec5ddd4)\">\r\n     <use style=\"fill:#008000;stroke:#008000;\" x=\"111.263895\" xlink:href=\"#mc4e3a10c57\" y=\"195.585947\"/>\r\n    </g>\r\n   </g>\r\n   <g id=\"line2d_50\">\r\n    <g clip-path=\"url(#p6cfec5ddd4)\">\r\n     <use style=\"fill:#ff0000;stroke:#ff0000;\" x=\"114.338275\" xlink:href=\"#mf72ba41682\" y=\"166.82947\"/>\r\n    </g>\r\n   </g>\r\n   <g id=\"line2d_51\">\r\n    <g clip-path=\"url(#p6cfec5ddd4)\">\r\n     <use style=\"fill:#008000;stroke:#008000;\" x=\"114.338275\" xlink:href=\"#mc4e3a10c57\" y=\"198.871279\"/>\r\n    </g>\r\n   </g>\r\n   <g id=\"line2d_52\">\r\n    <g clip-path=\"url(#p6cfec5ddd4)\">\r\n     <use style=\"fill:#ff0000;stroke:#ff0000;\" x=\"117.412655\" xlink:href=\"#mf72ba41682\" y=\"115.417104\"/>\r\n    </g>\r\n   </g>\r\n   <g id=\"line2d_53\">\r\n    <g clip-path=\"url(#p6cfec5ddd4)\">\r\n     <use style=\"fill:#008000;stroke:#008000;\" x=\"117.412655\" xlink:href=\"#mc4e3a10c57\" y=\"201.43815\"/>\r\n    </g>\r\n   </g>\r\n   <g id=\"line2d_54\">\r\n    <g clip-path=\"url(#p6cfec5ddd4)\">\r\n     <use style=\"fill:#ff0000;stroke:#ff0000;\" x=\"120.487035\" xlink:href=\"#mf72ba41682\" y=\"161.334601\"/>\r\n    </g>\r\n   </g>\r\n   <g id=\"line2d_55\">\r\n    <g clip-path=\"url(#p6cfec5ddd4)\">\r\n     <use style=\"fill:#008000;stroke:#008000;\" x=\"120.487035\" xlink:href=\"#mc4e3a10c57\" y=\"202.262794\"/>\r\n    </g>\r\n   </g>\r\n   <g id=\"line2d_56\">\r\n    <g clip-path=\"url(#p6cfec5ddd4)\">\r\n     <use style=\"fill:#ff0000;stroke:#ff0000;\" x=\"123.561415\" xlink:href=\"#mf72ba41682\" y=\"199.731126\"/>\r\n    </g>\r\n   </g>\r\n   <g id=\"line2d_57\">\r\n    <g clip-path=\"url(#p6cfec5ddd4)\">\r\n     <use style=\"fill:#008000;stroke:#008000;\" x=\"123.561415\" xlink:href=\"#mc4e3a10c57\" y=\"200.036462\"/>\r\n    </g>\r\n   </g>\r\n   <g id=\"line2d_58\">\r\n    <g clip-path=\"url(#p6cfec5ddd4)\">\r\n     <use style=\"fill:#ff0000;stroke:#ff0000;\" x=\"126.635795\" xlink:href=\"#mf72ba41682\" y=\"203.150504\"/>\r\n    </g>\r\n   </g>\r\n   <g id=\"line2d_59\">\r\n    <g clip-path=\"url(#p6cfec5ddd4)\">\r\n     <use style=\"fill:#008000;stroke:#008000;\" x=\"126.635795\" xlink:href=\"#mc4e3a10c57\" y=\"202.988251\"/>\r\n    </g>\r\n   </g>\r\n   <g id=\"line2d_60\">\r\n    <g clip-path=\"url(#p6cfec5ddd4)\">\r\n     <use style=\"fill:#ff0000;stroke:#ff0000;\" x=\"129.710176\" xlink:href=\"#mf72ba41682\" y=\"175.990455\"/>\r\n    </g>\r\n   </g>\r\n   <g id=\"line2d_61\">\r\n    <g clip-path=\"url(#p6cfec5ddd4)\">\r\n     <use style=\"fill:#008000;stroke:#008000;\" x=\"129.710176\" xlink:href=\"#mc4e3a10c57\" y=\"206.172467\"/>\r\n    </g>\r\n   </g>\r\n   <g id=\"line2d_62\">\r\n    <g clip-path=\"url(#p6cfec5ddd4)\">\r\n     <use style=\"fill:#ff0000;stroke:#ff0000;\" x=\"132.784556\" xlink:href=\"#mf72ba41682\" y=\"194.314045\"/>\r\n    </g>\r\n   </g>\r\n   <g id=\"line2d_63\">\r\n    <g clip-path=\"url(#p6cfec5ddd4)\">\r\n     <use style=\"fill:#008000;stroke:#008000;\" x=\"132.784556\" xlink:href=\"#mc4e3a10c57\" y=\"206.505386\"/>\r\n    </g>\r\n   </g>\r\n   <g id=\"line2d_64\">\r\n    <g clip-path=\"url(#p6cfec5ddd4)\">\r\n     <use style=\"fill:#ff0000;stroke:#ff0000;\" x=\"135.858936\" xlink:href=\"#mf72ba41682\" y=\"121.76957\"/>\r\n    </g>\r\n   </g>\r\n   <g id=\"line2d_65\">\r\n    <g clip-path=\"url(#p6cfec5ddd4)\">\r\n     <use style=\"fill:#008000;stroke:#008000;\" x=\"135.858936\" xlink:href=\"#mc4e3a10c57\" y=\"194.300879\"/>\r\n    </g>\r\n   </g>\r\n   <g id=\"line2d_66\">\r\n    <g clip-path=\"url(#p6cfec5ddd4)\">\r\n     <use style=\"fill:#ff0000;stroke:#ff0000;\" x=\"138.933316\" xlink:href=\"#mf72ba41682\" y=\"181.385176\"/>\r\n    </g>\r\n   </g>\r\n   <g id=\"line2d_67\">\r\n    <g clip-path=\"url(#p6cfec5ddd4)\">\r\n     <use style=\"fill:#008000;stroke:#008000;\" x=\"138.933316\" xlink:href=\"#mc4e3a10c57\" y=\"208.408162\"/>\r\n    </g>\r\n   </g>\r\n   <g id=\"line2d_68\">\r\n    <g clip-path=\"url(#p6cfec5ddd4)\">\r\n     <use style=\"fill:#ff0000;stroke:#ff0000;\" x=\"142.007696\" xlink:href=\"#mf72ba41682\" y=\"212.112513\"/>\r\n    </g>\r\n   </g>\r\n   <g id=\"line2d_69\">\r\n    <g clip-path=\"url(#p6cfec5ddd4)\">\r\n     <use style=\"fill:#008000;stroke:#008000;\" x=\"142.007696\" xlink:href=\"#mc4e3a10c57\" y=\"170.869189\"/>\r\n    </g>\r\n   </g>\r\n   <g id=\"line2d_70\">\r\n    <g clip-path=\"url(#p6cfec5ddd4)\">\r\n     <use style=\"fill:#ff0000;stroke:#ff0000;\" x=\"145.082076\" xlink:href=\"#mf72ba41682\" y=\"184.085095\"/>\r\n    </g>\r\n   </g>\r\n   <g id=\"line2d_71\">\r\n    <g clip-path=\"url(#p6cfec5ddd4)\">\r\n     <use style=\"fill:#008000;stroke:#008000;\" x=\"145.082076\" xlink:href=\"#mc4e3a10c57\" y=\"209.287734\"/>\r\n    </g>\r\n   </g>\r\n   <g id=\"line2d_72\">\r\n    <g clip-path=\"url(#p6cfec5ddd4)\">\r\n     <use style=\"fill:#ff0000;stroke:#ff0000;\" x=\"148.156457\" xlink:href=\"#mf72ba41682\" y=\"196.688462\"/>\r\n    </g>\r\n   </g>\r\n   <g id=\"line2d_73\">\r\n    <g clip-path=\"url(#p6cfec5ddd4)\">\r\n     <use style=\"fill:#008000;stroke:#008000;\" x=\"148.156457\" xlink:href=\"#mc4e3a10c57\" y=\"209.69506\"/>\r\n    </g>\r\n   </g>\r\n   <g id=\"line2d_74\">\r\n    <g clip-path=\"url(#p6cfec5ddd4)\">\r\n     <use style=\"fill:#ff0000;stroke:#ff0000;\" x=\"151.230837\" xlink:href=\"#mf72ba41682\" y=\"214.853101\"/>\r\n    </g>\r\n   </g>\r\n   <g id=\"line2d_75\">\r\n    <g clip-path=\"url(#p6cfec5ddd4)\">\r\n     <use style=\"fill:#008000;stroke:#008000;\" x=\"151.230837\" xlink:href=\"#mc4e3a10c57\" y=\"210.173824\"/>\r\n    </g>\r\n   </g>\r\n   <g id=\"line2d_76\">\r\n    <g clip-path=\"url(#p6cfec5ddd4)\">\r\n     <use style=\"fill:#ff0000;stroke:#ff0000;\" x=\"154.305217\" xlink:href=\"#mf72ba41682\" y=\"213.370982\"/>\r\n    </g>\r\n   </g>\r\n   <g id=\"line2d_77\">\r\n    <g clip-path=\"url(#p6cfec5ddd4)\">\r\n     <use style=\"fill:#008000;stroke:#008000;\" x=\"154.305217\" xlink:href=\"#mc4e3a10c57\" y=\"210.22827\"/>\r\n    </g>\r\n   </g>\r\n   <g id=\"line2d_78\">\r\n    <g clip-path=\"url(#p6cfec5ddd4)\">\r\n     <use style=\"fill:#ff0000;stroke:#ff0000;\" x=\"157.379597\" xlink:href=\"#mf72ba41682\" y=\"201.194888\"/>\r\n    </g>\r\n   </g>\r\n   <g id=\"line2d_79\">\r\n    <g clip-path=\"url(#p6cfec5ddd4)\">\r\n     <use style=\"fill:#008000;stroke:#008000;\" x=\"157.379597\" xlink:href=\"#mc4e3a10c57\" y=\"207.112083\"/>\r\n    </g>\r\n   </g>\r\n   <g id=\"line2d_80\">\r\n    <g clip-path=\"url(#p6cfec5ddd4)\">\r\n     <use style=\"fill:#ff0000;stroke:#ff0000;\" x=\"160.453977\" xlink:href=\"#mf72ba41682\" y=\"215.02664\"/>\r\n    </g>\r\n   </g>\r\n   <g id=\"line2d_81\">\r\n    <g clip-path=\"url(#p6cfec5ddd4)\">\r\n     <use style=\"fill:#008000;stroke:#008000;\" x=\"160.453977\" xlink:href=\"#mc4e3a10c57\" y=\"210.889651\"/>\r\n    </g>\r\n   </g>\r\n   <g id=\"line2d_82\">\r\n    <g clip-path=\"url(#p6cfec5ddd4)\">\r\n     <use style=\"fill:#ff0000;stroke:#ff0000;\" x=\"163.528357\" xlink:href=\"#mf72ba41682\" y=\"195.208976\"/>\r\n    </g>\r\n   </g>\r\n   <g id=\"line2d_83\">\r\n    <g clip-path=\"url(#p6cfec5ddd4)\">\r\n     <use style=\"fill:#008000;stroke:#008000;\" x=\"163.528357\" xlink:href=\"#mc4e3a10c57\" y=\"207.145464\"/>\r\n    </g>\r\n   </g>\r\n   <g id=\"line2d_84\">\r\n    <g clip-path=\"url(#p6cfec5ddd4)\">\r\n     <use style=\"fill:#ff0000;stroke:#ff0000;\" x=\"166.602738\" xlink:href=\"#mf72ba41682\" y=\"198.448868\"/>\r\n    </g>\r\n   </g>\r\n   <g id=\"line2d_85\">\r\n    <g clip-path=\"url(#p6cfec5ddd4)\">\r\n     <use style=\"fill:#008000;stroke:#008000;\" x=\"166.602738\" xlink:href=\"#mc4e3a10c57\" y=\"209.102896\"/>\r\n    </g>\r\n   </g>\r\n   <g id=\"line2d_86\">\r\n    <g clip-path=\"url(#p6cfec5ddd4)\">\r\n     <use style=\"fill:#ff0000;stroke:#ff0000;\" x=\"169.677118\" xlink:href=\"#mf72ba41682\" y=\"191.369494\"/>\r\n    </g>\r\n   </g>\r\n   <g id=\"line2d_87\">\r\n    <g clip-path=\"url(#p6cfec5ddd4)\">\r\n     <use style=\"fill:#008000;stroke:#008000;\" x=\"169.677118\" xlink:href=\"#mc4e3a10c57\" y=\"211.325327\"/>\r\n    </g>\r\n   </g>\r\n   <g id=\"line2d_88\">\r\n    <g clip-path=\"url(#p6cfec5ddd4)\">\r\n     <use style=\"fill:#ff0000;stroke:#ff0000;\" x=\"172.751498\" xlink:href=\"#mf72ba41682\" y=\"208.190169\"/>\r\n    </g>\r\n   </g>\r\n   <g id=\"line2d_89\">\r\n    <g clip-path=\"url(#p6cfec5ddd4)\">\r\n     <use style=\"fill:#008000;stroke:#008000;\" x=\"172.751498\" xlink:href=\"#mc4e3a10c57\" y=\"207.845589\"/>\r\n    </g>\r\n   </g>\r\n   <g id=\"line2d_90\">\r\n    <g clip-path=\"url(#p6cfec5ddd4)\">\r\n     <use style=\"fill:#ff0000;stroke:#ff0000;\" x=\"175.825878\" xlink:href=\"#mf72ba41682\" y=\"207.972567\"/>\r\n    </g>\r\n   </g>\r\n   <g id=\"line2d_91\">\r\n    <g clip-path=\"url(#p6cfec5ddd4)\">\r\n     <use style=\"fill:#008000;stroke:#008000;\" x=\"175.825878\" xlink:href=\"#mc4e3a10c57\" y=\"211.506398\"/>\r\n    </g>\r\n   </g>\r\n   <g id=\"line2d_92\">\r\n    <g clip-path=\"url(#p6cfec5ddd4)\">\r\n     <use style=\"fill:#ff0000;stroke:#ff0000;\" x=\"178.900258\" xlink:href=\"#mf72ba41682\" y=\"210.175229\"/>\r\n    </g>\r\n   </g>\r\n   <g id=\"line2d_93\">\r\n    <g clip-path=\"url(#p6cfec5ddd4)\">\r\n     <use style=\"fill:#008000;stroke:#008000;\" x=\"178.900258\" xlink:href=\"#mc4e3a10c57\" y=\"211.91627\"/>\r\n    </g>\r\n   </g>\r\n   <g id=\"line2d_94\">\r\n    <g clip-path=\"url(#p6cfec5ddd4)\">\r\n     <use style=\"fill:#ff0000;stroke:#ff0000;\" x=\"181.974638\" xlink:href=\"#mf72ba41682\" y=\"214.858977\"/>\r\n    </g>\r\n   </g>\r\n   <g id=\"line2d_95\">\r\n    <g clip-path=\"url(#p6cfec5ddd4)\">\r\n     <use style=\"fill:#008000;stroke:#008000;\" x=\"181.974638\" xlink:href=\"#mc4e3a10c57\" y=\"211.619847\"/>\r\n    </g>\r\n   </g>\r\n   <g id=\"line2d_96\">\r\n    <g clip-path=\"url(#p6cfec5ddd4)\">\r\n     <use style=\"fill:#ff0000;stroke:#ff0000;\" x=\"185.049019\" xlink:href=\"#mf72ba41682\" y=\"214.859786\"/>\r\n    </g>\r\n   </g>\r\n   <g id=\"line2d_97\">\r\n    <g clip-path=\"url(#p6cfec5ddd4)\">\r\n     <use style=\"fill:#008000;stroke:#008000;\" x=\"185.049019\" xlink:href=\"#mc4e3a10c57\" y=\"212.150684\"/>\r\n    </g>\r\n   </g>\r\n   <g id=\"line2d_98\">\r\n    <g clip-path=\"url(#p6cfec5ddd4)\">\r\n     <use style=\"fill:#ff0000;stroke:#ff0000;\" x=\"188.123399\" xlink:href=\"#mf72ba41682\" y=\"183.593758\"/>\r\n    </g>\r\n   </g>\r\n   <g id=\"line2d_99\">\r\n    <g clip-path=\"url(#p6cfec5ddd4)\">\r\n     <use style=\"fill:#008000;stroke:#008000;\" x=\"188.123399\" xlink:href=\"#mc4e3a10c57\" y=\"211.989578\"/>\r\n    </g>\r\n   </g>\r\n   <g id=\"line2d_100\">\r\n    <g clip-path=\"url(#p6cfec5ddd4)\">\r\n     <use style=\"fill:#ff0000;stroke:#ff0000;\" x=\"191.197779\" xlink:href=\"#mf72ba41682\" y=\"195.934399\"/>\r\n    </g>\r\n   </g>\r\n   <g id=\"line2d_101\">\r\n    <g clip-path=\"url(#p6cfec5ddd4)\">\r\n     <use style=\"fill:#008000;stroke:#008000;\" x=\"191.197779\" xlink:href=\"#mc4e3a10c57\" y=\"204.240481\"/>\r\n    </g>\r\n   </g>\r\n   <g id=\"line2d_102\">\r\n    <g clip-path=\"url(#p6cfec5ddd4)\">\r\n     <use style=\"fill:#ff0000;stroke:#ff0000;\" x=\"194.272159\" xlink:href=\"#mf72ba41682\" y=\"215.681614\"/>\r\n    </g>\r\n   </g>\r\n   <g id=\"line2d_103\">\r\n    <g clip-path=\"url(#p6cfec5ddd4)\">\r\n     <use style=\"fill:#008000;stroke:#008000;\" x=\"194.272159\" xlink:href=\"#mc4e3a10c57\" y=\"211.756809\"/>\r\n    </g>\r\n   </g>\r\n   <g id=\"line2d_104\">\r\n    <g clip-path=\"url(#p6cfec5ddd4)\">\r\n     <use style=\"fill:#ff0000;stroke:#ff0000;\" x=\"197.346539\" xlink:href=\"#mf72ba41682\" y=\"211.885604\"/>\r\n    </g>\r\n   </g>\r\n   <g id=\"line2d_105\">\r\n    <g clip-path=\"url(#p6cfec5ddd4)\">\r\n     <use style=\"fill:#008000;stroke:#008000;\" x=\"197.346539\" xlink:href=\"#mc4e3a10c57\" y=\"212.380097\"/>\r\n    </g>\r\n   </g>\r\n   <g id=\"line2d_106\">\r\n    <g clip-path=\"url(#p6cfec5ddd4)\">\r\n     <use style=\"fill:#ff0000;stroke:#ff0000;\" x=\"200.420919\" xlink:href=\"#mf72ba41682\" y=\"18.887689\"/>\r\n    </g>\r\n   </g>\r\n   <g id=\"line2d_107\">\r\n    <g clip-path=\"url(#p6cfec5ddd4)\">\r\n     <use style=\"fill:#008000;stroke:#008000;\" x=\"200.420919\" xlink:href=\"#mc4e3a10c57\" y=\"202.008332\"/>\r\n    </g>\r\n   </g>\r\n   <g id=\"line2d_108\">\r\n    <g clip-path=\"url(#p6cfec5ddd4)\">\r\n     <use style=\"fill:#ff0000;stroke:#ff0000;\" x=\"203.4953\" xlink:href=\"#mf72ba41682\" y=\"212.543543\"/>\r\n    </g>\r\n   </g>\r\n   <g id=\"line2d_109\">\r\n    <g clip-path=\"url(#p6cfec5ddd4)\">\r\n     <use style=\"fill:#008000;stroke:#008000;\" x=\"203.4953\" xlink:href=\"#mc4e3a10c57\" y=\"212.506806\"/>\r\n    </g>\r\n   </g>\r\n   <g id=\"line2d_110\">\r\n    <g clip-path=\"url(#p6cfec5ddd4)\">\r\n     <use style=\"fill:#ff0000;stroke:#ff0000;\" x=\"206.56968\" xlink:href=\"#mf72ba41682\" y=\"180.464062\"/>\r\n    </g>\r\n   </g>\r\n   <g id=\"line2d_111\">\r\n    <g clip-path=\"url(#p6cfec5ddd4)\">\r\n     <use style=\"fill:#008000;stroke:#008000;\" x=\"206.56968\" xlink:href=\"#mc4e3a10c57\" y=\"212.523419\"/>\r\n    </g>\r\n   </g>\r\n   <g id=\"line2d_112\">\r\n    <g clip-path=\"url(#p6cfec5ddd4)\">\r\n     <use style=\"fill:#ff0000;stroke:#ff0000;\" x=\"209.64406\" xlink:href=\"#mf72ba41682\" y=\"209.958592\"/>\r\n    </g>\r\n   </g>\r\n   <g id=\"line2d_113\">\r\n    <g clip-path=\"url(#p6cfec5ddd4)\">\r\n     <use style=\"fill:#008000;stroke:#008000;\" x=\"209.64406\" xlink:href=\"#mc4e3a10c57\" y=\"212.598984\"/>\r\n    </g>\r\n   </g>\r\n   <g id=\"line2d_114\">\r\n    <g clip-path=\"url(#p6cfec5ddd4)\">\r\n     <use style=\"fill:#ff0000;stroke:#ff0000;\" x=\"212.71844\" xlink:href=\"#mf72ba41682\" y=\"38.264126\"/>\r\n    </g>\r\n   </g>\r\n   <g id=\"line2d_115\">\r\n    <g clip-path=\"url(#p6cfec5ddd4)\">\r\n     <use style=\"fill:#008000;stroke:#008000;\" x=\"212.71844\" xlink:href=\"#mc4e3a10c57\" y=\"196.820203\"/>\r\n    </g>\r\n   </g>\r\n   <g id=\"line2d_116\">\r\n    <g clip-path=\"url(#p6cfec5ddd4)\">\r\n     <use style=\"fill:#ff0000;stroke:#ff0000;\" x=\"215.79282\" xlink:href=\"#mf72ba41682\" y=\"152.004059\"/>\r\n    </g>\r\n   </g>\r\n   <g id=\"line2d_117\">\r\n    <g clip-path=\"url(#p6cfec5ddd4)\">\r\n     <use style=\"fill:#008000;stroke:#008000;\" x=\"215.79282\" xlink:href=\"#mc4e3a10c57\" y=\"212.713193\"/>\r\n    </g>\r\n   </g>\r\n   <g id=\"line2d_118\">\r\n    <g clip-path=\"url(#p6cfec5ddd4)\">\r\n     <use style=\"fill:#ff0000;stroke:#ff0000;\" x=\"218.8672\" xlink:href=\"#mf72ba41682\" y=\"216.057115\"/>\r\n    </g>\r\n   </g>\r\n   <g id=\"line2d_119\">\r\n    <g clip-path=\"url(#p6cfec5ddd4)\">\r\n     <use style=\"fill:#008000;stroke:#008000;\" x=\"218.8672\" xlink:href=\"#mc4e3a10c57\" y=\"211.241702\"/>\r\n    </g>\r\n   </g>\r\n   <g id=\"line2d_120\">\r\n    <g clip-path=\"url(#p6cfec5ddd4)\">\r\n     <use style=\"fill:#ff0000;stroke:#ff0000;\" x=\"221.941581\" xlink:href=\"#mf72ba41682\" y=\"203.962109\"/>\r\n    </g>\r\n   </g>\r\n   <g id=\"line2d_121\">\r\n    <g clip-path=\"url(#p6cfec5ddd4)\">\r\n     <use style=\"fill:#008000;stroke:#008000;\" x=\"221.941581\" xlink:href=\"#mc4e3a10c57\" y=\"208.632143\"/>\r\n    </g>\r\n   </g>\r\n   <g id=\"line2d_122\">\r\n    <g clip-path=\"url(#p6cfec5ddd4)\">\r\n     <use style=\"fill:#ff0000;stroke:#ff0000;\" x=\"225.015961\" xlink:href=\"#mf72ba41682\" y=\"160.762897\"/>\r\n    </g>\r\n   </g>\r\n   <g id=\"line2d_123\">\r\n    <g clip-path=\"url(#p6cfec5ddd4)\">\r\n     <use style=\"fill:#008000;stroke:#008000;\" x=\"225.015961\" xlink:href=\"#mc4e3a10c57\" y=\"211.937803\"/>\r\n    </g>\r\n   </g>\r\n   <g id=\"line2d_124\">\r\n    <g clip-path=\"url(#p6cfec5ddd4)\">\r\n     <use style=\"fill:#ff0000;stroke:#ff0000;\" x=\"228.090341\" xlink:href=\"#mf72ba41682\" y=\"215.981279\"/>\r\n    </g>\r\n   </g>\r\n   <g id=\"line2d_125\">\r\n    <g clip-path=\"url(#p6cfec5ddd4)\">\r\n     <use style=\"fill:#008000;stroke:#008000;\" x=\"228.090341\" xlink:href=\"#mc4e3a10c57\" y=\"212.768021\"/>\r\n    </g>\r\n   </g>\r\n   <g id=\"line2d_126\">\r\n    <g clip-path=\"url(#p6cfec5ddd4)\">\r\n     <use style=\"fill:#ff0000;stroke:#ff0000;\" x=\"231.164721\" xlink:href=\"#mf72ba41682\" y=\"214.156055\"/>\r\n    </g>\r\n   </g>\r\n   <g id=\"line2d_127\">\r\n    <g clip-path=\"url(#p6cfec5ddd4)\">\r\n     <use style=\"fill:#008000;stroke:#008000;\" x=\"231.164721\" xlink:href=\"#mc4e3a10c57\" y=\"212.816938\"/>\r\n    </g>\r\n   </g>\r\n   <g id=\"line2d_128\">\r\n    <g clip-path=\"url(#p6cfec5ddd4)\">\r\n     <use style=\"fill:#ff0000;stroke:#ff0000;\" x=\"234.239101\" xlink:href=\"#mf72ba41682\" y=\"158.883473\"/>\r\n    </g>\r\n   </g>\r\n   <g id=\"line2d_129\">\r\n    <g clip-path=\"url(#p6cfec5ddd4)\">\r\n     <use style=\"fill:#008000;stroke:#008000;\" x=\"234.239101\" xlink:href=\"#mc4e3a10c57\" y=\"207.567338\"/>\r\n    </g>\r\n   </g>\r\n   <g id=\"line2d_130\">\r\n    <g clip-path=\"url(#p6cfec5ddd4)\">\r\n     <use style=\"fill:#ff0000;stroke:#ff0000;\" x=\"237.313481\" xlink:href=\"#mf72ba41682\" y=\"214.961588\"/>\r\n    </g>\r\n   </g>\r\n   <g id=\"line2d_131\">\r\n    <g clip-path=\"url(#p6cfec5ddd4)\">\r\n     <use style=\"fill:#008000;stroke:#008000;\" x=\"237.313481\" xlink:href=\"#mc4e3a10c57\" y=\"211.153924\"/>\r\n    </g>\r\n   </g>\r\n   <g id=\"line2d_132\">\r\n    <g clip-path=\"url(#p6cfec5ddd4)\">\r\n     <use style=\"fill:#ff0000;stroke:#ff0000;\" x=\"240.387862\" xlink:href=\"#mf72ba41682\" y=\"216.36354\"/>\r\n    </g>\r\n   </g>\r\n   <g id=\"line2d_133\">\r\n    <g clip-path=\"url(#p6cfec5ddd4)\">\r\n     <use style=\"fill:#008000;stroke:#008000;\" x=\"240.387862\" xlink:href=\"#mc4e3a10c57\" y=\"212.391029\"/>\r\n    </g>\r\n   </g>\r\n   <g id=\"line2d_134\">\r\n    <g clip-path=\"url(#p6cfec5ddd4)\">\r\n     <use style=\"fill:#ff0000;stroke:#ff0000;\" x=\"243.462242\" xlink:href=\"#mf72ba41682\" y=\"199.647102\"/>\r\n    </g>\r\n   </g>\r\n   <g id=\"line2d_135\">\r\n    <g clip-path=\"url(#p6cfec5ddd4)\">\r\n     <use style=\"fill:#008000;stroke:#008000;\" x=\"243.462242\" xlink:href=\"#mc4e3a10c57\" y=\"210.093365\"/>\r\n    </g>\r\n   </g>\r\n   <g id=\"line2d_136\">\r\n    <g clip-path=\"url(#p6cfec5ddd4)\">\r\n     <use style=\"fill:#ff0000;stroke:#ff0000;\" x=\"246.536622\" xlink:href=\"#mf72ba41682\" y=\"212.540253\"/>\r\n    </g>\r\n   </g>\r\n   <g id=\"line2d_137\">\r\n    <g clip-path=\"url(#p6cfec5ddd4)\">\r\n     <use style=\"fill:#008000;stroke:#008000;\" x=\"246.536622\" xlink:href=\"#mc4e3a10c57\" y=\"201.49858\"/>\r\n    </g>\r\n   </g>\r\n   <g id=\"line2d_138\">\r\n    <g clip-path=\"url(#p6cfec5ddd4)\">\r\n     <use style=\"fill:#ff0000;stroke:#ff0000;\" x=\"249.611002\" xlink:href=\"#mf72ba41682\" y=\"215.59269\"/>\r\n    </g>\r\n   </g>\r\n   <g id=\"line2d_139\">\r\n    <g clip-path=\"url(#p6cfec5ddd4)\">\r\n     <use style=\"fill:#008000;stroke:#008000;\" x=\"249.611002\" xlink:href=\"#mc4e3a10c57\" y=\"212.467424\"/>\r\n    </g>\r\n   </g>\r\n   <g id=\"line2d_140\">\r\n    <g clip-path=\"url(#p6cfec5ddd4)\">\r\n     <use style=\"fill:#ff0000;stroke:#ff0000;\" x=\"252.685382\" xlink:href=\"#mf72ba41682\" y=\"215.998167\"/>\r\n    </g>\r\n   </g>\r\n   <g id=\"line2d_141\">\r\n    <g clip-path=\"url(#p6cfec5ddd4)\">\r\n     <use style=\"fill:#008000;stroke:#008000;\" x=\"252.685382\" xlink:href=\"#mc4e3a10c57\" y=\"211.083578\"/>\r\n    </g>\r\n   </g>\r\n   <g id=\"line2d_142\">\r\n    <g clip-path=\"url(#p6cfec5ddd4)\">\r\n     <use style=\"fill:#ff0000;stroke:#ff0000;\" x=\"255.759762\" xlink:href=\"#mf72ba41682\" y=\"157.517702\"/>\r\n    </g>\r\n   </g>\r\n   <g id=\"line2d_143\">\r\n    <g clip-path=\"url(#p6cfec5ddd4)\">\r\n     <use style=\"fill:#008000;stroke:#008000;\" x=\"255.759762\" xlink:href=\"#mc4e3a10c57\" y=\"212.412864\"/>\r\n    </g>\r\n   </g>\r\n   <g id=\"line2d_144\">\r\n    <g clip-path=\"url(#p6cfec5ddd4)\">\r\n     <use style=\"fill:#ff0000;stroke:#ff0000;\" x=\"258.834143\" xlink:href=\"#mf72ba41682\" y=\"202.865274\"/>\r\n    </g>\r\n   </g>\r\n   <g id=\"line2d_145\">\r\n    <g clip-path=\"url(#p6cfec5ddd4)\">\r\n     <use style=\"fill:#008000;stroke:#008000;\" x=\"258.834143\" xlink:href=\"#mc4e3a10c57\" y=\"208.761991\"/>\r\n    </g>\r\n   </g>\r\n   <g id=\"line2d_146\">\r\n    <g clip-path=\"url(#p6cfec5ddd4)\">\r\n     <use style=\"fill:#ff0000;stroke:#ff0000;\" x=\"261.908523\" xlink:href=\"#mf72ba41682\" y=\"214.331023\"/>\r\n    </g>\r\n   </g>\r\n   <g id=\"line2d_147\">\r\n    <g clip-path=\"url(#p6cfec5ddd4)\">\r\n     <use style=\"fill:#008000;stroke:#008000;\" x=\"261.908523\" xlink:href=\"#mc4e3a10c57\" y=\"212.982038\"/>\r\n    </g>\r\n   </g>\r\n   <g id=\"line2d_148\">\r\n    <g clip-path=\"url(#p6cfec5ddd4)\">\r\n     <use style=\"fill:#ff0000;stroke:#ff0000;\" x=\"264.982903\" xlink:href=\"#mf72ba41682\" y=\"211.586299\"/>\r\n    </g>\r\n   </g>\r\n   <g id=\"line2d_149\">\r\n    <g clip-path=\"url(#p6cfec5ddd4)\">\r\n     <use style=\"fill:#008000;stroke:#008000;\" x=\"264.982903\" xlink:href=\"#mc4e3a10c57\" y=\"212.540812\"/>\r\n    </g>\r\n   </g>\r\n   <g id=\"line2d_150\">\r\n    <g clip-path=\"url(#p6cfec5ddd4)\">\r\n     <use style=\"fill:#ff0000;stroke:#ff0000;\" x=\"268.057283\" xlink:href=\"#mf72ba41682\" y=\"55.42509\"/>\r\n    </g>\r\n   </g>\r\n   <g id=\"line2d_151\">\r\n    <g clip-path=\"url(#p6cfec5ddd4)\">\r\n     <use style=\"fill:#008000;stroke:#008000;\" x=\"268.057283\" xlink:href=\"#mc4e3a10c57\" y=\"185.642228\"/>\r\n    </g>\r\n   </g>\r\n   <g id=\"line2d_152\">\r\n    <g clip-path=\"url(#p6cfec5ddd4)\">\r\n     <use style=\"fill:#ff0000;stroke:#ff0000;\" x=\"271.131663\" xlink:href=\"#mf72ba41682\" y=\"216.178688\"/>\r\n    </g>\r\n   </g>\r\n   <g id=\"line2d_153\">\r\n    <g clip-path=\"url(#p6cfec5ddd4)\">\r\n     <use style=\"fill:#008000;stroke:#008000;\" x=\"271.131663\" xlink:href=\"#mc4e3a10c57\" y=\"212.334062\"/>\r\n    </g>\r\n   </g>\r\n   <g id=\"line2d_154\">\r\n    <g clip-path=\"url(#p6cfec5ddd4)\">\r\n     <use style=\"fill:#ff0000;stroke:#ff0000;\" x=\"274.206043\" xlink:href=\"#mf72ba41682\" y=\"216.317276\"/>\r\n    </g>\r\n   </g>\r\n   <g id=\"line2d_155\">\r\n    <g clip-path=\"url(#p6cfec5ddd4)\">\r\n     <use style=\"fill:#008000;stroke:#008000;\" x=\"274.206043\" xlink:href=\"#mc4e3a10c57\" y=\"194.305953\"/>\r\n    </g>\r\n   </g>\r\n   <g id=\"line2d_156\">\r\n    <g clip-path=\"url(#p6cfec5ddd4)\">\r\n     <use style=\"fill:#ff0000;stroke:#ff0000;\" x=\"277.280424\" xlink:href=\"#mf72ba41682\" y=\"216.560416\"/>\r\n    </g>\r\n   </g>\r\n   <g id=\"line2d_157\">\r\n    <g clip-path=\"url(#p6cfec5ddd4)\">\r\n     <use style=\"fill:#008000;stroke:#008000;\" x=\"277.280424\" xlink:href=\"#mc4e3a10c57\" y=\"177.676953\"/>\r\n    </g>\r\n   </g>\r\n   <g id=\"line2d_158\">\r\n    <g clip-path=\"url(#p6cfec5ddd4)\">\r\n     <use style=\"fill:#ff0000;stroke:#ff0000;\" x=\"280.354804\" xlink:href=\"#mf72ba41682\" y=\"213.606553\"/>\r\n    </g>\r\n   </g>\r\n   <g id=\"line2d_159\">\r\n    <g clip-path=\"url(#p6cfec5ddd4)\">\r\n     <use style=\"fill:#008000;stroke:#008000;\" x=\"280.354804\" xlink:href=\"#mc4e3a10c57\" y=\"212.818315\"/>\r\n    </g>\r\n   </g>\r\n   <g id=\"line2d_160\">\r\n    <g clip-path=\"url(#p6cfec5ddd4)\">\r\n     <use style=\"fill:#ff0000;stroke:#ff0000;\" x=\"283.429184\" xlink:href=\"#mf72ba41682\" y=\"86.822642\"/>\r\n    </g>\r\n   </g>\r\n   <g id=\"line2d_161\">\r\n    <g clip-path=\"url(#p6cfec5ddd4)\">\r\n     <use style=\"fill:#008000;stroke:#008000;\" x=\"283.429184\" xlink:href=\"#mc4e3a10c57\" y=\"200.881245\"/>\r\n    </g>\r\n   </g>\r\n   <g id=\"line2d_162\">\r\n    <g clip-path=\"url(#p6cfec5ddd4)\">\r\n     <use style=\"fill:#ff0000;stroke:#ff0000;\" x=\"286.503564\" xlink:href=\"#mf72ba41682\" y=\"169.629032\"/>\r\n    </g>\r\n   </g>\r\n   <g id=\"line2d_163\">\r\n    <g clip-path=\"url(#p6cfec5ddd4)\">\r\n     <use style=\"fill:#008000;stroke:#008000;\" x=\"286.503564\" xlink:href=\"#mc4e3a10c57\" y=\"208.25458\"/>\r\n    </g>\r\n   </g>\r\n   <g id=\"line2d_164\">\r\n    <g clip-path=\"url(#p6cfec5ddd4)\">\r\n     <use style=\"fill:#ff0000;stroke:#ff0000;\" x=\"289.577944\" xlink:href=\"#mf72ba41682\" y=\"216.274852\"/>\r\n    </g>\r\n   </g>\r\n   <g id=\"line2d_165\">\r\n    <g clip-path=\"url(#p6cfec5ddd4)\">\r\n     <use style=\"fill:#008000;stroke:#008000;\" x=\"289.577944\" xlink:href=\"#mc4e3a10c57\" y=\"212.986398\"/>\r\n    </g>\r\n   </g>\r\n   <g id=\"line2d_166\">\r\n    <g clip-path=\"url(#p6cfec5ddd4)\">\r\n     <use style=\"fill:#ff0000;stroke:#ff0000;\" x=\"292.652324\" xlink:href=\"#mf72ba41682\" y=\"206.854459\"/>\r\n    </g>\r\n   </g>\r\n   <g id=\"line2d_167\">\r\n    <g clip-path=\"url(#p6cfec5ddd4)\">\r\n     <use style=\"fill:#008000;stroke:#008000;\" x=\"292.652324\" xlink:href=\"#mc4e3a10c57\" y=\"212.749874\"/>\r\n    </g>\r\n   </g>\r\n   <g id=\"line2d_168\">\r\n    <g clip-path=\"url(#p6cfec5ddd4)\">\r\n     <use style=\"fill:#ff0000;stroke:#ff0000;\" x=\"295.726705\" xlink:href=\"#mf72ba41682\" y=\"215.489598\"/>\r\n    </g>\r\n   </g>\r\n   <g id=\"line2d_169\">\r\n    <g clip-path=\"url(#p6cfec5ddd4)\">\r\n     <use style=\"fill:#008000;stroke:#008000;\" x=\"295.726705\" xlink:href=\"#mc4e3a10c57\" y=\"209.07104\"/>\r\n    </g>\r\n   </g>\r\n   <g id=\"line2d_170\">\r\n    <g clip-path=\"url(#p6cfec5ddd4)\">\r\n     <use style=\"fill:#ff0000;stroke:#ff0000;\" x=\"298.801085\" xlink:href=\"#mf72ba41682\" y=\"215.969924\"/>\r\n    </g>\r\n   </g>\r\n   <g id=\"line2d_171\">\r\n    <g clip-path=\"url(#p6cfec5ddd4)\">\r\n     <use style=\"fill:#008000;stroke:#008000;\" x=\"298.801085\" xlink:href=\"#mc4e3a10c57\" y=\"196.63902\"/>\r\n    </g>\r\n   </g>\r\n   <g id=\"line2d_172\">\r\n    <g clip-path=\"url(#p6cfec5ddd4)\">\r\n     <use style=\"fill:#ff0000;stroke:#ff0000;\" x=\"301.875465\" xlink:href=\"#mf72ba41682\" y=\"216.254259\"/>\r\n    </g>\r\n   </g>\r\n   <g id=\"line2d_173\">\r\n    <g clip-path=\"url(#p6cfec5ddd4)\">\r\n     <use style=\"fill:#008000;stroke:#008000;\" x=\"301.875465\" xlink:href=\"#mc4e3a10c57\" y=\"212.456334\"/>\r\n    </g>\r\n   </g>\r\n   <g id=\"line2d_174\">\r\n    <g clip-path=\"url(#p6cfec5ddd4)\">\r\n     <use style=\"fill:#ff0000;stroke:#ff0000;\" x=\"304.949845\" xlink:href=\"#mf72ba41682\" y=\"216.23658\"/>\r\n    </g>\r\n   </g>\r\n   <g id=\"line2d_175\">\r\n    <g clip-path=\"url(#p6cfec5ddd4)\">\r\n     <use style=\"fill:#008000;stroke:#008000;\" x=\"304.949845\" xlink:href=\"#mc4e3a10c57\" y=\"208.768196\"/>\r\n    </g>\r\n   </g>\r\n   <g id=\"line2d_176\">\r\n    <g clip-path=\"url(#p6cfec5ddd4)\">\r\n     <use style=\"fill:#ff0000;stroke:#ff0000;\" x=\"308.024225\" xlink:href=\"#mf72ba41682\" y=\"192.467491\"/>\r\n    </g>\r\n   </g>\r\n   <g id=\"line2d_177\">\r\n    <g clip-path=\"url(#p6cfec5ddd4)\">\r\n     <use style=\"fill:#008000;stroke:#008000;\" x=\"308.024225\" xlink:href=\"#mc4e3a10c57\" y=\"207.207258\"/>\r\n    </g>\r\n   </g>\r\n   <g id=\"line2d_178\">\r\n    <g clip-path=\"url(#p6cfec5ddd4)\">\r\n     <use style=\"fill:#ff0000;stroke:#ff0000;\" x=\"311.098605\" xlink:href=\"#mf72ba41682\" y=\"216.455015\"/>\r\n    </g>\r\n   </g>\r\n   <g id=\"line2d_179\">\r\n    <g clip-path=\"url(#p6cfec5ddd4)\">\r\n     <use style=\"fill:#008000;stroke:#008000;\" x=\"311.098605\" xlink:href=\"#mc4e3a10c57\" y=\"212.393697\"/>\r\n    </g>\r\n   </g>\r\n   <g id=\"line2d_180\">\r\n    <g clip-path=\"url(#p6cfec5ddd4)\">\r\n     <use style=\"fill:#ff0000;stroke:#ff0000;\" x=\"314.172986\" xlink:href=\"#mf72ba41682\" y=\"216.524237\"/>\r\n    </g>\r\n   </g>\r\n   <g id=\"line2d_181\">\r\n    <g clip-path=\"url(#p6cfec5ddd4)\">\r\n     <use style=\"fill:#008000;stroke:#008000;\" x=\"314.172986\" xlink:href=\"#mc4e3a10c57\" y=\"211.888308\"/>\r\n    </g>\r\n   </g>\r\n   <g id=\"line2d_182\">\r\n    <g clip-path=\"url(#p6cfec5ddd4)\">\r\n     <use style=\"fill:#ff0000;stroke:#ff0000;\" x=\"317.247366\" xlink:href=\"#mf72ba41682\" y=\"204.056645\"/>\r\n    </g>\r\n   </g>\r\n   <g id=\"line2d_183\">\r\n    <g clip-path=\"url(#p6cfec5ddd4)\">\r\n     <use style=\"fill:#008000;stroke:#008000;\" x=\"317.247366\" xlink:href=\"#mc4e3a10c57\" y=\"211.016904\"/>\r\n    </g>\r\n   </g>\r\n   <g id=\"line2d_184\">\r\n    <g clip-path=\"url(#p6cfec5ddd4)\">\r\n     <use style=\"fill:#ff0000;stroke:#ff0000;\" x=\"320.321746\" xlink:href=\"#mf72ba41682\" y=\"213.461385\"/>\r\n    </g>\r\n   </g>\r\n   <g id=\"line2d_185\">\r\n    <g clip-path=\"url(#p6cfec5ddd4)\">\r\n     <use style=\"fill:#008000;stroke:#008000;\" x=\"320.321746\" xlink:href=\"#mc4e3a10c57\" y=\"212.995311\"/>\r\n    </g>\r\n   </g>\r\n   <g id=\"line2d_186\">\r\n    <g clip-path=\"url(#p6cfec5ddd4)\">\r\n     <use style=\"fill:#ff0000;stroke:#ff0000;\" x=\"323.396126\" xlink:href=\"#mf72ba41682\" y=\"194.203792\"/>\r\n    </g>\r\n   </g>\r\n   <g id=\"line2d_187\">\r\n    <g clip-path=\"url(#p6cfec5ddd4)\">\r\n     <use style=\"fill:#008000;stroke:#008000;\" x=\"323.396126\" xlink:href=\"#mc4e3a10c57\" y=\"213.112389\"/>\r\n    </g>\r\n   </g>\r\n   <g id=\"line2d_188\">\r\n    <g clip-path=\"url(#p6cfec5ddd4)\">\r\n     <use style=\"fill:#ff0000;stroke:#ff0000;\" x=\"326.470506\" xlink:href=\"#mf72ba41682\" y=\"214.263312\"/>\r\n    </g>\r\n   </g>\r\n   <g id=\"line2d_189\">\r\n    <g clip-path=\"url(#p6cfec5ddd4)\">\r\n     <use style=\"fill:#008000;stroke:#008000;\" x=\"326.470506\" xlink:href=\"#mc4e3a10c57\" y=\"212.084653\"/>\r\n    </g>\r\n   </g>\r\n   <g id=\"line2d_190\">\r\n    <g clip-path=\"url(#p6cfec5ddd4)\">\r\n     <use style=\"fill:#ff0000;stroke:#ff0000;\" x=\"329.544886\" xlink:href=\"#mf72ba41682\" y=\"201.609399\"/>\r\n    </g>\r\n   </g>\r\n   <g id=\"line2d_191\">\r\n    <g clip-path=\"url(#p6cfec5ddd4)\">\r\n     <use style=\"fill:#008000;stroke:#008000;\" x=\"329.544886\" xlink:href=\"#mc4e3a10c57\" y=\"212.403917\"/>\r\n    </g>\r\n   </g>\r\n   <g id=\"line2d_192\">\r\n    <g clip-path=\"url(#p6cfec5ddd4)\">\r\n     <use style=\"fill:#ff0000;stroke:#ff0000;\" x=\"332.619267\" xlink:href=\"#mf72ba41682\" y=\"209.764853\"/>\r\n    </g>\r\n   </g>\r\n   <g id=\"line2d_193\">\r\n    <g clip-path=\"url(#p6cfec5ddd4)\">\r\n     <use style=\"fill:#008000;stroke:#008000;\" x=\"332.619267\" xlink:href=\"#mc4e3a10c57\" y=\"212.742146\"/>\r\n    </g>\r\n   </g>\r\n   <g id=\"line2d_194\">\r\n    <g clip-path=\"url(#p6cfec5ddd4)\">\r\n     <use style=\"fill:#ff0000;stroke:#ff0000;\" x=\"335.693647\" xlink:href=\"#mf72ba41682\" y=\"215.219981\"/>\r\n    </g>\r\n   </g>\r\n   <g id=\"line2d_195\">\r\n    <g clip-path=\"url(#p6cfec5ddd4)\">\r\n     <use style=\"fill:#008000;stroke:#008000;\" x=\"335.693647\" xlink:href=\"#mc4e3a10c57\" y=\"211.993377\"/>\r\n    </g>\r\n   </g>\r\n   <g id=\"line2d_196\">\r\n    <g clip-path=\"url(#p6cfec5ddd4)\">\r\n     <use style=\"fill:#ff0000;stroke:#ff0000;\" x=\"338.768027\" xlink:href=\"#mf72ba41682\" y=\"215.015135\"/>\r\n    </g>\r\n   </g>\r\n   <g id=\"line2d_197\">\r\n    <g clip-path=\"url(#p6cfec5ddd4)\">\r\n     <use style=\"fill:#008000;stroke:#008000;\" x=\"338.768027\" xlink:href=\"#mc4e3a10c57\" y=\"210.561793\"/>\r\n    </g>\r\n   </g>\r\n   <g id=\"line2d_198\">\r\n    <g clip-path=\"url(#p6cfec5ddd4)\">\r\n     <use style=\"fill:#ff0000;stroke:#ff0000;\" x=\"341.842407\" xlink:href=\"#mf72ba41682\" y=\"214.631297\"/>\r\n    </g>\r\n   </g>\r\n   <g id=\"line2d_199\">\r\n    <g clip-path=\"url(#p6cfec5ddd4)\">\r\n     <use style=\"fill:#008000;stroke:#008000;\" x=\"341.842407\" xlink:href=\"#mc4e3a10c57\" y=\"213.112409\"/>\r\n    </g>\r\n   </g>\r\n   <g id=\"line2d_200\">\r\n    <g clip-path=\"url(#p6cfec5ddd4)\">\r\n     <use style=\"fill:#ff0000;stroke:#ff0000;\" x=\"344.916787\" xlink:href=\"#mf72ba41682\" y=\"216.356342\"/>\r\n    </g>\r\n   </g>\r\n   <g id=\"line2d_201\">\r\n    <g clip-path=\"url(#p6cfec5ddd4)\">\r\n     <use style=\"fill:#008000;stroke:#008000;\" x=\"344.916787\" xlink:href=\"#mc4e3a10c57\" y=\"213.013863\"/>\r\n    </g>\r\n   </g>\r\n   <g id=\"line2d_202\">\r\n    <g clip-path=\"url(#p6cfec5ddd4)\">\r\n     <use style=\"fill:#ff0000;stroke:#ff0000;\" x=\"347.991167\" xlink:href=\"#mf72ba41682\" y=\"215.729962\"/>\r\n    </g>\r\n   </g>\r\n   <g id=\"line2d_203\">\r\n    <g clip-path=\"url(#p6cfec5ddd4)\">\r\n     <use style=\"fill:#008000;stroke:#008000;\" x=\"347.991167\" xlink:href=\"#mc4e3a10c57\" y=\"169.457224\"/>\r\n    </g>\r\n   </g>\r\n   <g id=\"line2d_204\">\r\n    <g clip-path=\"url(#p6cfec5ddd4)\">\r\n     <use style=\"fill:#ff0000;stroke:#ff0000;\" x=\"351.065548\" xlink:href=\"#mf72ba41682\" y=\"210.581006\"/>\r\n    </g>\r\n   </g>\r\n   <g id=\"line2d_205\">\r\n    <g clip-path=\"url(#p6cfec5ddd4)\">\r\n     <use style=\"fill:#008000;stroke:#008000;\" x=\"351.065548\" xlink:href=\"#mc4e3a10c57\" y=\"211.996534\"/>\r\n    </g>\r\n   </g>\r\n   <g id=\"line2d_206\">\r\n    <g clip-path=\"url(#p6cfec5ddd4)\">\r\n     <use style=\"fill:#ff0000;stroke:#ff0000;\" x=\"354.139928\" xlink:href=\"#mf72ba41682\" y=\"208.016869\"/>\r\n    </g>\r\n   </g>\r\n   <g id=\"line2d_207\">\r\n    <g clip-path=\"url(#p6cfec5ddd4)\">\r\n     <use style=\"fill:#008000;stroke:#008000;\" x=\"354.139928\" xlink:href=\"#mc4e3a10c57\" y=\"210.70998\"/>\r\n    </g>\r\n   </g>\r\n   <g id=\"line2d_208\">\r\n    <g clip-path=\"url(#p6cfec5ddd4)\">\r\n     <use style=\"fill:#ff0000;stroke:#ff0000;\" x=\"357.214308\" xlink:href=\"#mf72ba41682\" y=\"210.3576\"/>\r\n    </g>\r\n   </g>\r\n   <g id=\"line2d_209\">\r\n    <g clip-path=\"url(#p6cfec5ddd4)\">\r\n     <use style=\"fill:#008000;stroke:#008000;\" x=\"357.214308\" xlink:href=\"#mc4e3a10c57\" y=\"211.840805\"/>\r\n    </g>\r\n   </g>\r\n   <g id=\"line2d_210\">\r\n    <g clip-path=\"url(#p6cfec5ddd4)\">\r\n     <use style=\"fill:#ff0000;stroke:#ff0000;\" x=\"360.288688\" xlink:href=\"#mf72ba41682\" y=\"212.875277\"/>\r\n    </g>\r\n   </g>\r\n   <g id=\"line2d_211\">\r\n    <g clip-path=\"url(#p6cfec5ddd4)\">\r\n     <use style=\"fill:#008000;stroke:#008000;\" x=\"360.288688\" xlink:href=\"#mc4e3a10c57\" y=\"212.759267\"/>\r\n    </g>\r\n   </g>\r\n   <g id=\"line2d_212\">\r\n    <g clip-path=\"url(#p6cfec5ddd4)\">\r\n     <use style=\"fill:#ff0000;stroke:#ff0000;\" x=\"363.363068\" xlink:href=\"#mf72ba41682\" y=\"216.543855\"/>\r\n    </g>\r\n   </g>\r\n   <g id=\"line2d_213\">\r\n    <g clip-path=\"url(#p6cfec5ddd4)\">\r\n     <use style=\"fill:#008000;stroke:#008000;\" x=\"363.363068\" xlink:href=\"#mc4e3a10c57\" y=\"212.701697\"/>\r\n    </g>\r\n   </g>\r\n   <g id=\"patch_3\">\r\n    <path d=\"M 43.78125 226.444052 \r\nL 43.78125 9.004052 \r\n\" style=\"fill:none;stroke:#000000;stroke-linecap:square;stroke-linejoin:miter;stroke-width:0.8;\"/>\r\n   </g>\r\n   <g id=\"patch_4\">\r\n    <path d=\"M 378.58125 226.444052 \r\nL 378.58125 9.004052 \r\n\" style=\"fill:none;stroke:#000000;stroke-linecap:square;stroke-linejoin:miter;stroke-width:0.8;\"/>\r\n   </g>\r\n   <g id=\"patch_5\">\r\n    <path d=\"M 43.78125 226.444052 \r\nL 378.58125 226.444052 \r\n\" style=\"fill:none;stroke:#000000;stroke-linecap:square;stroke-linejoin:miter;stroke-width:0.8;\"/>\r\n   </g>\r\n   <g id=\"patch_6\">\r\n    <path d=\"M 43.78125 9.004052 \r\nL 378.58125 9.004052 \r\n\" style=\"fill:none;stroke:#000000;stroke-linecap:square;stroke-linejoin:miter;stroke-width:0.8;\"/>\r\n   </g>\r\n   <g id=\"legend_1\">\r\n    <g id=\"patch_7\">\r\n     <path d=\"M 316.30625 46.360302 \r\nL 371.58125 46.360302 \r\nQ 373.58125 46.360302 373.58125 44.360302 \r\nL 373.58125 16.004052 \r\nQ 373.58125 14.004052 371.58125 14.004052 \r\nL 316.30625 14.004052 \r\nQ 314.30625 14.004052 314.30625 16.004052 \r\nL 314.30625 44.360302 \r\nQ 314.30625 46.360302 316.30625 46.360302 \r\nz\r\n\" style=\"fill:#ffffff;opacity:0.8;stroke:#cccccc;stroke-linejoin:miter;\"/>\r\n    </g>\r\n    <g id=\"line2d_214\"/>\r\n    <g id=\"line2d_215\">\r\n     <g>\r\n      <use style=\"fill:#ff0000;stroke:#ff0000;\" x=\"328.30625\" xlink:href=\"#mf72ba41682\" y=\"22.10249\"/>\r\n     </g>\r\n    </g>\r\n    <g id=\"text_16\">\r\n     <!-- train -->\r\n     <g transform=\"translate(346.30625 25.60249)scale(0.1 -0.1)\">\r\n      <use xlink:href=\"#DejaVuSans-116\"/>\r\n      <use x=\"39.208984\" xlink:href=\"#DejaVuSans-114\"/>\r\n      <use x=\"80.322266\" xlink:href=\"#DejaVuSans-97\"/>\r\n      <use x=\"141.601562\" xlink:href=\"#DejaVuSans-105\"/>\r\n      <use x=\"169.384766\" xlink:href=\"#DejaVuSans-110\"/>\r\n     </g>\r\n    </g>\r\n    <g id=\"line2d_216\"/>\r\n    <g id=\"line2d_217\">\r\n     <g>\r\n      <use style=\"fill:#008000;stroke:#008000;\" x=\"328.30625\" xlink:href=\"#mc4e3a10c57\" y=\"36.780615\"/>\r\n     </g>\r\n    </g>\r\n    <g id=\"text_17\">\r\n     <!-- test -->\r\n     <g transform=\"translate(346.30625 40.280615)scale(0.1 -0.1)\">\r\n      <use xlink:href=\"#DejaVuSans-116\"/>\r\n      <use x=\"39.208984\" xlink:href=\"#DejaVuSans-101\"/>\r\n      <use x=\"100.732422\" xlink:href=\"#DejaVuSans-115\"/>\r\n      <use x=\"152.832031\" xlink:href=\"#DejaVuSans-116\"/>\r\n     </g>\r\n    </g>\r\n   </g>\r\n  </g>\r\n </g>\r\n <defs>\r\n  <clipPath id=\"p6cfec5ddd4\">\r\n   <rect height=\"217.44\" width=\"334.8\" x=\"43.78125\" y=\"9.004052\"/>\r\n  </clipPath>\r\n </defs>\r\n</svg>\r\n",
      "image/png": "[encoded data removed]"
     },
     "metadata": {
      "needs_background": "light"
     }
    }
   ],
   "source": [
    "model = NeuralNetwork().to(device)\n",
    "loss_fn = nn.CrossEntropyLoss()\n",
    "optimizer = torch.optim.SGD(model.parameters(), lr=1e-2)\n",
    "epochs = 100\n",
    "fig=plt.figure()\n",
    "maxCorrect=0\n",
    "for t in range(epochs):\n",
    "    \n",
    "    train_loss=train(train_dataloader, model, loss_fn, optimizer)\n",
    "    test_loss,test_correct=test(train_dataloader, model,t)\n",
    "    if correct>maxCorrect:\n",
    "        maxCorrect=correct\n",
    "        if abs(maxCorrect-1)<1e-6:\n",
    "            break\n",
    "    plt.plot(t,train_loss.item(),'o',color='r')\n",
    "    plt.plot(t,test_loss,'x',color='g')\n",
    "plt.xlabel('iteration')\n",
    "plt.ylabel('loss')\n",
    "plt.legend(['train','test'])"
   ]
  },
  {
   "cell_type": "code",
   "execution_count": null,
   "metadata": {},
   "outputs": [],
   "source": []
  }
 ]
}