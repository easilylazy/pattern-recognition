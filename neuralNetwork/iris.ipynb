{
 "metadata": {
  "language_info": {
   "codemirror_mode": {
    "name": "ipython",
    "version": 3
   },
   "file_extension": ".py",
   "mimetype": "text/x-python",
   "name": "python",
   "nbconvert_exporter": "python",
   "pygments_lexer": "ipython3",
   "version": "3.7.4"
  },
  "orig_nbformat": 2,
  "kernelspec": {
   "name": "python374jvsc74a57bd03f857618d8b6a3d270a8a45aea13fd0dc2a28a907e8d4ef70fe87ce2a92698f8",
   "display_name": "Python 3.7.4 64-bit"
  }
 },
 "nbformat": 4,
 "nbformat_minor": 2,
 "cells": [
  {
   "source": [
    "author: leezeeyee   \n",
    "date: 2021/4/16  \n",
    "link: [github](https://github.com/easilylazy/pattern-recognition) "
   ],
   "cell_type": "markdown",
   "metadata": {}
  },
  {
   "cell_type": "code",
   "execution_count": 1,
   "metadata": {},
   "outputs": [],
   "source": [
    "import pandas as pd\n",
    "import numpy as np"
   ]
  },
  {
   "cell_type": "code",
   "execution_count": 40,
   "metadata": {},
   "outputs": [],
   "source": [
    "import torch\n",
    "from torch import nn\n",
    "from torch.utils.data import DataLoader\n",
    "from torchvision import datasets\n",
    "from torchvision.transforms import ToTensor, Lambda, Compose\n",
    "import matplotlib.pyplot as plt"
   ]
  },
  {
   "source": [
    "## load data"
   ],
   "cell_type": "markdown",
   "metadata": {}
  },
  {
   "cell_type": "code",
   "execution_count": 4,
   "metadata": {},
   "outputs": [
    {
     "output_type": "execute_result",
     "data": {
      "text/plain": [
       "   Unnamed: 0  Sepal.Length  Sepal.Width  Petal.Length  Petal.Width Species\n",
       "0           1           5.1          3.5           1.4          0.2  setosa\n",
       "1           2           4.9          3.0           1.4          0.2  setosa\n",
       "2           3           4.7          3.2           1.3          0.2  setosa\n",
       "3           4           4.6          3.1           1.5          0.2  setosa\n",
       "4           5           5.0          3.6           1.4          0.2  setosa"
      ],
      "text/html": "<div>\n<style scoped>\n    .dataframe tbody tr th:only-of-type {\n        vertical-align: middle;\n    }\n\n    .dataframe tbody tr th {\n        vertical-align: top;\n    }\n\n    .dataframe thead th {\n        text-align: right;\n    }\n</style>\n<table border=\"1\" class=\"dataframe\">\n  <thead>\n    <tr style=\"text-align: right;\">\n      <th></th>\n      <th>Unnamed: 0</th>\n      <th>Sepal.Length</th>\n      <th>Sepal.Width</th>\n      <th>Petal.Length</th>\n      <th>Petal.Width</th>\n      <th>Species</th>\n    </tr>\n  </thead>\n  <tbody>\n    <tr>\n      <th>0</th>\n      <td>1</td>\n      <td>5.1</td>\n      <td>3.5</td>\n      <td>1.4</td>\n      <td>0.2</td>\n      <td>setosa</td>\n    </tr>\n    <tr>\n      <th>1</th>\n      <td>2</td>\n      <td>4.9</td>\n      <td>3.0</td>\n      <td>1.4</td>\n      <td>0.2</td>\n      <td>setosa</td>\n    </tr>\n    <tr>\n      <th>2</th>\n      <td>3</td>\n      <td>4.7</td>\n      <td>3.2</td>\n      <td>1.3</td>\n      <td>0.2</td>\n      <td>setosa</td>\n    </tr>\n    <tr>\n      <th>3</th>\n      <td>4</td>\n      <td>4.6</td>\n      <td>3.1</td>\n      <td>1.5</td>\n      <td>0.2</td>\n      <td>setosa</td>\n    </tr>\n    <tr>\n      <th>4</th>\n      <td>5</td>\n      <td>5.0</td>\n      <td>3.6</td>\n      <td>1.4</td>\n      <td>0.2</td>\n      <td>setosa</td>\n    </tr>\n  </tbody>\n</table>\n</div>"
     },
     "metadata": {},
     "execution_count": 4
    }
   ],
   "source": [
    "irisData=pd.read_csv('../multiClass/iris.csv')\n",
    "irisData.head()"
   ]
  },
  {
   "cell_type": "code",
   "execution_count": 25,
   "metadata": {},
   "outputs": [
    {
     "output_type": "execute_result",
     "data": {
      "text/plain": [
       "Unnamed: 0              81\n",
       "Sepal.Length           5.5\n",
       "Sepal.Width            2.4\n",
       "Petal.Length           3.8\n",
       "Petal.Width            1.1\n",
       "Species         versicolor\n",
       "Name: 80, dtype: object"
      ]
     },
     "metadata": {},
     "execution_count": 25
    }
   ],
   "source": [
    "irisData.iloc[80]"
   ]
  },
  {
   "cell_type": "code",
   "execution_count": 26,
   "metadata": {},
   "outputs": [],
   "source": [
    "labelDict={}\n",
    "labelDict['setosa']=0\n",
    "labelDict['versicolor']=1\n",
    "labelDict['virginica']=2"
   ]
  },
  {
   "cell_type": "code",
   "execution_count": 13,
   "metadata": {},
   "outputs": [],
   "source": [
    "data=irisData[['Sepal.Length',\t'Sepal.Width',\t'Petal.Length',\t'Petal.Width']]"
   ]
  },
  {
   "cell_type": "code",
   "execution_count": 20,
   "metadata": {},
   "outputs": [],
   "source": [
    "data=np.asarray(data)"
   ]
  },
  {
   "cell_type": "code",
   "execution_count": 39,
   "metadata": {},
   "outputs": [
    {
     "output_type": "stream",
     "name": "stdout",
     "text": [
      "setosa\n0\nversicolor\n1\nvirginica\n2\n"
     ]
    }
   ],
   "source": [
    "labels=np.zeros(len(data))\n",
    "\n",
    "for key in labelDict:\n",
    "    print(key)\n",
    "    print(labelDict[key])\n",
    "    # print( irisData[irisData['Species']==key].index.tolist())\n",
    "    labels[irisData[irisData['Species']==key].index.tolist()]=labelDict[key]"
   ]
  },
  {
   "cell_type": "code",
   "execution_count": 42,
   "metadata": {},
   "outputs": [],
   "source": [
    "X=data\n",
    "one_hot_Y=labels"
   ]
  },
  {
   "cell_type": "code",
   "execution_count": 46,
   "metadata": {},
   "outputs": [
    {
     "output_type": "stream",
     "name": "stdout",
     "text": [
      "[17 13 20 25  8 26 49  0 35 28  6 22 36 24 34 46  2 12 16  3 43  7  9 38\n",
      "  5 41 11 47 15  4 44 40 29 23 31 37 33 21 30 14 39 48 18 10 42 45 27 32\n",
      "  1 19]\n",
      "[71 55 96 80 64 85 91 62 90 53 54 98 86 93 59 76 99 52 51 66 97 83 94 63\n",
      " 81 58 82 68 61 65 73 78 50 69 77 57 92 95 56 89 74 87 67 84 70 79 60 72\n",
      " 88 75]\n",
      "[149 128 112 100 115 108 106 134 105 147 136 130 146 117 111 132 138 109\n",
      " 143 124 121 120 113 145 116 141 119 135 133 148 118 107 131 114 137 122\n",
      " 125 103 123 110 144 140 129 127 142 104 102 126 139 101]\n",
      "[5.9 3.  5.1 1.8]\n",
      "[5.9 3.  5.1 1.8]\n"
     ]
    },
    {
     "output_type": "execute_result",
     "data": {
      "text/plain": [
       "array([[6.5, 3. , 5.2, 2. ],\n",
       "       [7.4, 2.8, 6.1, 1.9],\n",
       "       [5.5, 2.4, 3.7, 1. ]])"
      ]
     },
     "metadata": {},
     "execution_count": 46
    }
   ],
   "source": [
    "trainX=[]\n",
    "trainY=[]\n",
    "testX=[]\n",
    "testY=[]\n",
    "\n",
    "for i in range(3):\n",
    "    index=np.where(labels==i)[0]\n",
    "    np.random.shuffle(index)\n",
    "    \n",
    "    trainX.append(X[index[:30]])\n",
    "    trainY.append(labels[index[:30]])\n",
    "    testX.append(X[index[30:]])\n",
    "    testY.append(labels[index[30:]])\n",
    "    print(index)\n",
    "print(trainX[2][0])\n",
    "print(X[index[0]])\n",
    "trainX_all=np.r_[trainX[0],trainX[1],trainX[2]]\n",
    "trainY_all=np.r_[trainY[0],trainY[1],trainY[2]]\n",
    "indexTrain=np.arange(len(trainX_all))\n",
    "np.random.shuffle(indexTrain)\n",
    "trainX_sh=trainX_all[indexTrain]\n",
    "trainY_sh=trainY_all[indexTrain]\n",
    "testX_all=np.r_[testX[0],testX[1],testX[2]]\n",
    "testY_all=np.r_[testY[0],testY[1],testY[2]]\n",
    "indexTest=np.arange(len(testX_all))\n",
    "np.random.shuffle(indexTest)\n",
    "testX_sh=testX_all[indexTest]\n",
    "testY_sh=testY_all[indexTest]\n",
    "\n",
    "trainX_sh[:3]"
   ]
  },
  {
   "cell_type": "code",
   "execution_count": 71,
   "metadata": {},
   "outputs": [],
   "source": [
    "trainX_sh=trainX_sh.astype(np.float32)\n",
    "testX_sh=testX_sh.astype(np.float32)"
   ]
  },
  {
   "cell_type": "code",
   "execution_count": 72,
   "metadata": {},
   "outputs": [],
   "source": [
    "train_data=[]\n",
    "test_data=[]\n",
    "for i in range(len(trainX_sh)):\n",
    "    train_data.append([trainX_sh[i],trainY_sh[i]])\n",
    "for i in range(len(testX_sh)):\n",
    "    train_data.append([testX_sh[i],testY_sh[i]])"
   ]
  },
  {
   "cell_type": "code",
   "execution_count": 73,
   "metadata": {},
   "outputs": [
    {
     "output_type": "stream",
     "name": "stdout",
     "text": [
      "[tensor([[7.2000, 3.6000, 6.1000, 2.5000],\n",
      "        [5.4000, 3.7000, 1.5000, 0.2000],\n",
      "        [6.3000, 3.3000, 6.0000, 2.5000]]), tensor([2., 0., 2.])]\n"
     ]
    }
   ],
   "source": [
    "batch_size = 3\n",
    "\n",
    "# Create data loaders.\n",
    "train_dataloader = DataLoader(train_data,batch_size=batch_size,shuffle=True)\n",
    "test_dataloader = DataLoader(test_data, batch_size=batch_size)\n",
    "\n",
    "for X in train_dataloader:\n",
    "    # print(\"Shape of X [N, C, H, W]: \", X.shape)\n",
    "    print(X)\n",
    "    # print(\"Shape of y: \", y.shape, y.dtype)\n",
    "    break"
   ]
  },
  {
   "cell_type": "code",
   "execution_count": 74,
   "metadata": {},
   "outputs": [
    {
     "output_type": "stream",
     "name": "stdout",
     "text": [
      "[tensor([[4.8000, 3.0000, 1.4000, 0.1000],\n",
      "        [7.7000, 3.0000, 6.1000, 2.3000],\n",
      "        [4.8000, 3.0000, 1.4000, 0.3000]]), tensor([0., 2., 0.])]\n"
     ]
    }
   ],
   "source": [
    "print(next(iter(train_dataloader)))"
   ]
  },
  {
   "cell_type": "code",
   "execution_count": 75,
   "metadata": {},
   "outputs": [
    {
     "output_type": "stream",
     "name": "stdout",
     "text": [
      "Feature batch shape: torch.Size([3, 4])\n",
      "Labels batch shape: torch.Size([3])\n"
     ]
    }
   ],
   "source": [
    "# Display image and label.\n",
    "train_features, train_labels = next(iter(train_dataloader))\n",
    "print(f\"Feature batch shape: {train_features.size()}\")\n",
    "print(f\"Labels batch shape: {train_labels.size()}\")"
   ]
  },
  {
   "source": [
    "## model"
   ],
   "cell_type": "markdown",
   "metadata": {}
  },
  {
   "cell_type": "code",
   "execution_count": 76,
   "metadata": {},
   "outputs": [
    {
     "output_type": "stream",
     "name": "stdout",
     "text": [
      "Using cpu device\n"
     ]
    }
   ],
   "source": [
    "# Get cpu or gpu device for training.\n",
    "device = \"cuda\" if torch.cuda.is_available() else \"cpu\"\n",
    "print(\"Using {} device\".format(device))\n",
    "\n",
    "# Define model\n",
    "class NeuralNetwork(nn.Module):\n",
    "    def __init__(self):\n",
    "        super(NeuralNetwork, self).__init__()\n",
    "        self.flatten = nn.Flatten()\n",
    "        self.linear_relu_stack = nn.Sequential(\n",
    "            nn.ReLU(),\n",
    "            nn.Linear(4, 8),\n",
    "            nn.ReLU(),\n",
    "            # nn.Linear(8, 3),\n",
    "            nn.Linear(8, 5),\n",
    "            nn.ReLU(),\n",
    "            nn.Linear(5, 3),\n",
    "        )\n",
    "\n",
    "    def forward(self, x):\n",
    "        x = self.flatten(x)\n",
    "        logits = self.linear_relu_stack(x)\n",
    "        return logits"
   ]
  },
  {
   "source": [
    "## train & test"
   ],
   "cell_type": "markdown",
   "metadata": {}
  },
  {
   "cell_type": "code",
   "execution_count": 120,
   "metadata": {},
   "outputs": [],
   "source": [
    "def train(dataloader, model, loss_fn, optimizer, info=False):\n",
    "    size = len(dataloader.dataset)\n",
    "\n",
    "    for batch, (X, y) in enumerate(dataloader):\n",
    "        X, y = X.to(device), y.to(device)\n",
    "        # Compute prediction error\n",
    "        pred = model(X)\n",
    "        y=torch.tensor(y,dtype=torch.long)\n",
    "        # print(pred,y)\n",
    "        # print('sf')\n",
    "        # print(pred[0][y[0]])\n",
    "        loss = loss_fn(pred, y)\n",
    "        # loss=(pred-y)**2\n",
    "        # print(pred.argmax(1)==y)\n",
    "\n",
    "        # print(loss)\n",
    "        # print(loss.grad_fn)\n",
    "        # Backpropagation\n",
    "        optimizer.zero_grad()\n",
    "\n",
    "        loss.backward()\n",
    "        optimizer.step()\n",
    "\n",
    "        if info is True and batch % 50 == 0:\n",
    "            loss, current = loss.item(), batch * len(X)\n",
    "            print(f\"loss: {loss:>7f}  [{current:>5d}/{size:>5d}]\")\n",
    "    return loss"
   ]
  },
  {
   "cell_type": "code",
   "execution_count": 121,
   "metadata": {},
   "outputs": [],
   "source": [
    "def test(dataloader, model, epoch, info=False):\n",
    "    size = len(dataloader.dataset)\n",
    "    model.eval()\n",
    "    test_loss, correct = 0, 0\n",
    "    with torch.no_grad():\n",
    "        for X, y in dataloader:\n",
    "            X, y = X.to(device), y.to(device)\n",
    "            pred = model(X)\n",
    "            y=torch.tensor(y,dtype=torch.long)\n",
    "            test_loss += loss_fn(pred, y).item()\n",
    "            # print(pred)\n",
    "            # print(pred.argmax(1))\n",
    "            # print(y)\n",
    "            correct += (pred.argmax(1) == y).type(torch.float).sum().item()\n",
    "    test_loss /= size\n",
    "    correct /= size\n",
    "    if info is True and epoch%50==0:\n",
    "        print(f\"Epoch {t+1}\\n-------------------------------\")\n",
    "        print(f\"Test Error: \\n Accuracy: {(100*correct):>0.1f}%, Avg loss: {test_loss:>8f} \\n\")\n",
    "    return test_loss,correct"
   ]
  },
  {
   "cell_type": "code",
   "execution_count": 122,
   "metadata": {},
   "outputs": [],
   "source": [
    "model = NeuralNetwork().to(device)\n",
    "loss_fn = nn.CrossEntropyLoss()\n",
    "optimizer = torch.optim.Adam(model.parameters(), lr=1e-3)"
   ]
  },
  {
   "cell_type": "code",
   "execution_count": 140,
   "metadata": {
    "tags": []
   },
   "outputs": [
    {
     "output_type": "stream",
     "name": "stderr",
     "text": [
      "ipykernel_launcher:8: UserWarning: To copy construct from a tensor, it is recommended to use sourceTensor.clone().detach() or sourceTensor.clone().detach().requires_grad_(True), rather than torch.tensor(sourceTensor).\n",
      "loss: 0.008246  [    0/  150]\n",
      "ipykernel_launcher:9: UserWarning: To copy construct from a tensor, it is recommended to use sourceTensor.clone().detach() or sourceTensor.clone().detach().requires_grad_(True), rather than torch.tensor(sourceTensor).\n",
      "\n",
      "0.09382967775066693\n",
      "0.9733333333333334\n",
      "Done!\n"
     ]
    }
   ],
   "source": [
    "epochs = 1\n",
    "# fig=plt.figure()\n",
    "maxCorrect=0\n",
    "for t in range(epochs):\n",
    "    \n",
    "    train_loss=train(train_dataloader, model, loss_fn, optimizer,info=True)\n",
    "    test_loss,test_correct=test(train_dataloader, model,t)\n",
    "    if correct>maxCorrect:\n",
    "        print(loss)\n",
    "        print(correct)\n",
    "        maxCorrect=correct\n",
    "        if abs(maxCorrect-1)<1e-6:\n",
    "            break\n",
    "    # plt.plot(t,loss,'o')\n",
    "print(\"Done!\")"
   ]
  },
  {
   "cell_type": "code",
   "execution_count": 114,
   "metadata": {},
   "outputs": [],
   "source": [
    "## plot"
   ]
  },
  {
   "cell_type": "code",
   "execution_count": 139,
   "metadata": {},
   "outputs": [
    {
     "output_type": "stream",
     "name": "stderr",
     "text": [
      "ipykernel_launcher:8: UserWarning: To copy construct from a tensor, it is recommended to use sourceTensor.clone().detach() or sourceTensor.clone().detach().requires_grad_(True), rather than torch.tensor(sourceTensor).\n",
      "ipykernel_launcher:9: UserWarning: To copy construct from a tensor, it is recommended to use sourceTensor.clone().detach() or sourceTensor.clone().detach().requires_grad_(True), rather than torch.tensor(sourceTensor).\n"
     ]
    },
    {
     "output_type": "execute_result",
     "data": {
      "text/plain": [
       "<matplotlib.legend.Legend at 0x173788f6948>"
      ]
     },
     "metadata": {},
     "execution_count": 139
    },
    {
     "output_type": "display_data",
     "data": {
      "text/plain": "<Figure size 432x288 with 1 Axes>",
      "image/svg+xml": "<?xml version=\"1.0\" encoding=\"utf-8\" standalone=\"no\"?>\r\n<!DOCTYPE svg PUBLIC \"-//W3C//DTD SVG 1.1//EN\"\r\n  \"http://www.w3.org/Graphics/SVG/1.1/DTD/svg11.dtd\">\r\n<!-- Created with matplotlib (https://matplotlib.org/) -->\r\n<svg height=\"248.518125pt\" version=\"1.1\" viewBox=\"0 0 372.103125 248.518125\" width=\"372.103125pt\" xmlns=\"http://www.w3.org/2000/svg\" xmlns:xlink=\"http://www.w3.org/1999/xlink\">\r\n <defs>\r\n  <style type=\"text/css\">\r\n*{stroke-linecap:butt;stroke-linejoin:round;}\r\n  </style>\r\n </defs>\r\n <g id=\"figure_1\">\r\n  <g id=\"patch_1\">\r\n   <path d=\"M 0 248.518125 \r\nL 372.103125 248.518125 \r\nL 372.103125 0 \r\nL 0 0 \r\nz\r\n\" style=\"fill:none;\"/>\r\n  </g>\r\n  <g id=\"axes_1\">\r\n   <g id=\"patch_2\">\r\n    <path d=\"M 30.103125 224.64 \r\nL 364.903125 224.64 \r\nL 364.903125 7.2 \r\nL 30.103125 7.2 \r\nz\r\n\" style=\"fill:#ffffff;\"/>\r\n   </g>\r\n   <g id=\"matplotlib.axis_1\">\r\n    <g id=\"xtick_1\">\r\n     <g id=\"line2d_1\">\r\n      <defs>\r\n       <path d=\"M 0 0 \r\nL 0 3.5 \r\n\" id=\"mf880db59e9\" style=\"stroke:#000000;stroke-width:0.8;\"/>\r\n      </defs>\r\n      <g>\r\n       <use style=\"stroke:#000000;stroke-width:0.8;\" x=\"45.321307\" xlink:href=\"#mf880db59e9\" y=\"224.64\"/>\r\n      </g>\r\n     </g>\r\n     <g id=\"text_1\">\r\n      <!-- 0 -->\r\n      <defs>\r\n       <path d=\"M 31.78125 66.40625 \r\nQ 24.171875 66.40625 20.328125 58.90625 \r\nQ 16.5 51.421875 16.5 36.375 \r\nQ 16.5 21.390625 20.328125 13.890625 \r\nQ 24.171875 6.390625 31.78125 6.390625 \r\nQ 39.453125 6.390625 43.28125 13.890625 \r\nQ 47.125 21.390625 47.125 36.375 \r\nQ 47.125 51.421875 43.28125 58.90625 \r\nQ 39.453125 66.40625 31.78125 66.40625 \r\nz\r\nM 31.78125 74.21875 \r\nQ 44.046875 74.21875 50.515625 64.515625 \r\nQ 56.984375 54.828125 56.984375 36.375 \r\nQ 56.984375 17.96875 50.515625 8.265625 \r\nQ 44.046875 -1.421875 31.78125 -1.421875 \r\nQ 19.53125 -1.421875 13.0625 8.265625 \r\nQ 6.59375 17.96875 6.59375 36.375 \r\nQ 6.59375 54.828125 13.0625 64.515625 \r\nQ 19.53125 74.21875 31.78125 74.21875 \r\nz\r\n\" id=\"DejaVuSans-48\"/>\r\n      </defs>\r\n      <g transform=\"translate(42.140057 239.238437)scale(0.1 -0.1)\">\r\n       <use xlink:href=\"#DejaVuSans-48\"/>\r\n      </g>\r\n     </g>\r\n    </g>\r\n    <g id=\"xtick_2\">\r\n     <g id=\"line2d_2\">\r\n      <g>\r\n       <use style=\"stroke:#000000;stroke-width:0.8;\" x=\"106.80891\" xlink:href=\"#mf880db59e9\" y=\"224.64\"/>\r\n      </g>\r\n     </g>\r\n     <g id=\"text_2\">\r\n      <!-- 20 -->\r\n      <defs>\r\n       <path d=\"M 19.1875 8.296875 \r\nL 53.609375 8.296875 \r\nL 53.609375 0 \r\nL 7.328125 0 \r\nL 7.328125 8.296875 \r\nQ 12.9375 14.109375 22.625 23.890625 \r\nQ 32.328125 33.6875 34.8125 36.53125 \r\nQ 39.546875 41.84375 41.421875 45.53125 \r\nQ 43.3125 49.21875 43.3125 52.78125 \r\nQ 43.3125 58.59375 39.234375 62.25 \r\nQ 35.15625 65.921875 28.609375 65.921875 \r\nQ 23.96875 65.921875 18.8125 64.3125 \r\nQ 13.671875 62.703125 7.8125 59.421875 \r\nL 7.8125 69.390625 \r\nQ 13.765625 71.78125 18.9375 73 \r\nQ 24.125 74.21875 28.421875 74.21875 \r\nQ 39.75 74.21875 46.484375 68.546875 \r\nQ 53.21875 62.890625 53.21875 53.421875 \r\nQ 53.21875 48.921875 51.53125 44.890625 \r\nQ 49.859375 40.875 45.40625 35.40625 \r\nQ 44.1875 33.984375 37.640625 27.21875 \r\nQ 31.109375 20.453125 19.1875 8.296875 \r\nz\r\n\" id=\"DejaVuSans-50\"/>\r\n      </defs>\r\n      <g transform=\"translate(100.44641 239.238437)scale(0.1 -0.1)\">\r\n       <use xlink:href=\"#DejaVuSans-50\"/>\r\n       <use x=\"63.623047\" xlink:href=\"#DejaVuSans-48\"/>\r\n      </g>\r\n     </g>\r\n    </g>\r\n    <g id=\"xtick_3\">\r\n     <g id=\"line2d_3\">\r\n      <g>\r\n       <use style=\"stroke:#000000;stroke-width:0.8;\" x=\"168.296513\" xlink:href=\"#mf880db59e9\" y=\"224.64\"/>\r\n      </g>\r\n     </g>\r\n     <g id=\"text_3\">\r\n      <!-- 40 -->\r\n      <defs>\r\n       <path d=\"M 37.796875 64.3125 \r\nL 12.890625 25.390625 \r\nL 37.796875 25.390625 \r\nz\r\nM 35.203125 72.90625 \r\nL 47.609375 72.90625 \r\nL 47.609375 25.390625 \r\nL 58.015625 25.390625 \r\nL 58.015625 17.1875 \r\nL 47.609375 17.1875 \r\nL 47.609375 0 \r\nL 37.796875 0 \r\nL 37.796875 17.1875 \r\nL 4.890625 17.1875 \r\nL 4.890625 26.703125 \r\nz\r\n\" id=\"DejaVuSans-52\"/>\r\n      </defs>\r\n      <g transform=\"translate(161.934013 239.238437)scale(0.1 -0.1)\">\r\n       <use xlink:href=\"#DejaVuSans-52\"/>\r\n       <use x=\"63.623047\" xlink:href=\"#DejaVuSans-48\"/>\r\n      </g>\r\n     </g>\r\n    </g>\r\n    <g id=\"xtick_4\">\r\n     <g id=\"line2d_4\">\r\n      <g>\r\n       <use style=\"stroke:#000000;stroke-width:0.8;\" x=\"229.784117\" xlink:href=\"#mf880db59e9\" y=\"224.64\"/>\r\n      </g>\r\n     </g>\r\n     <g id=\"text_4\">\r\n      <!-- 60 -->\r\n      <defs>\r\n       <path d=\"M 33.015625 40.375 \r\nQ 26.375 40.375 22.484375 35.828125 \r\nQ 18.609375 31.296875 18.609375 23.390625 \r\nQ 18.609375 15.53125 22.484375 10.953125 \r\nQ 26.375 6.390625 33.015625 6.390625 \r\nQ 39.65625 6.390625 43.53125 10.953125 \r\nQ 47.40625 15.53125 47.40625 23.390625 \r\nQ 47.40625 31.296875 43.53125 35.828125 \r\nQ 39.65625 40.375 33.015625 40.375 \r\nz\r\nM 52.59375 71.296875 \r\nL 52.59375 62.3125 \r\nQ 48.875 64.0625 45.09375 64.984375 \r\nQ 41.3125 65.921875 37.59375 65.921875 \r\nQ 27.828125 65.921875 22.671875 59.328125 \r\nQ 17.53125 52.734375 16.796875 39.40625 \r\nQ 19.671875 43.65625 24.015625 45.921875 \r\nQ 28.375 48.1875 33.59375 48.1875 \r\nQ 44.578125 48.1875 50.953125 41.515625 \r\nQ 57.328125 34.859375 57.328125 23.390625 \r\nQ 57.328125 12.15625 50.6875 5.359375 \r\nQ 44.046875 -1.421875 33.015625 -1.421875 \r\nQ 20.359375 -1.421875 13.671875 8.265625 \r\nQ 6.984375 17.96875 6.984375 36.375 \r\nQ 6.984375 53.65625 15.1875 63.9375 \r\nQ 23.390625 74.21875 37.203125 74.21875 \r\nQ 40.921875 74.21875 44.703125 73.484375 \r\nQ 48.484375 72.75 52.59375 71.296875 \r\nz\r\n\" id=\"DejaVuSans-54\"/>\r\n      </defs>\r\n      <g transform=\"translate(223.421617 239.238437)scale(0.1 -0.1)\">\r\n       <use xlink:href=\"#DejaVuSans-54\"/>\r\n       <use x=\"63.623047\" xlink:href=\"#DejaVuSans-48\"/>\r\n      </g>\r\n     </g>\r\n    </g>\r\n    <g id=\"xtick_5\">\r\n     <g id=\"line2d_5\">\r\n      <g>\r\n       <use style=\"stroke:#000000;stroke-width:0.8;\" x=\"291.27172\" xlink:href=\"#mf880db59e9\" y=\"224.64\"/>\r\n      </g>\r\n     </g>\r\n     <g id=\"text_5\">\r\n      <!-- 80 -->\r\n      <defs>\r\n       <path d=\"M 31.78125 34.625 \r\nQ 24.75 34.625 20.71875 30.859375 \r\nQ 16.703125 27.09375 16.703125 20.515625 \r\nQ 16.703125 13.921875 20.71875 10.15625 \r\nQ 24.75 6.390625 31.78125 6.390625 \r\nQ 38.8125 6.390625 42.859375 10.171875 \r\nQ 46.921875 13.96875 46.921875 20.515625 \r\nQ 46.921875 27.09375 42.890625 30.859375 \r\nQ 38.875 34.625 31.78125 34.625 \r\nz\r\nM 21.921875 38.8125 \r\nQ 15.578125 40.375 12.03125 44.71875 \r\nQ 8.5 49.078125 8.5 55.328125 \r\nQ 8.5 64.0625 14.71875 69.140625 \r\nQ 20.953125 74.21875 31.78125 74.21875 \r\nQ 42.671875 74.21875 48.875 69.140625 \r\nQ 55.078125 64.0625 55.078125 55.328125 \r\nQ 55.078125 49.078125 51.53125 44.71875 \r\nQ 48 40.375 41.703125 38.8125 \r\nQ 48.828125 37.15625 52.796875 32.3125 \r\nQ 56.78125 27.484375 56.78125 20.515625 \r\nQ 56.78125 9.90625 50.3125 4.234375 \r\nQ 43.84375 -1.421875 31.78125 -1.421875 \r\nQ 19.734375 -1.421875 13.25 4.234375 \r\nQ 6.78125 9.90625 6.78125 20.515625 \r\nQ 6.78125 27.484375 10.78125 32.3125 \r\nQ 14.796875 37.15625 21.921875 38.8125 \r\nz\r\nM 18.3125 54.390625 \r\nQ 18.3125 48.734375 21.84375 45.5625 \r\nQ 25.390625 42.390625 31.78125 42.390625 \r\nQ 38.140625 42.390625 41.71875 45.5625 \r\nQ 45.3125 48.734375 45.3125 54.390625 \r\nQ 45.3125 60.0625 41.71875 63.234375 \r\nQ 38.140625 66.40625 31.78125 66.40625 \r\nQ 25.390625 66.40625 21.84375 63.234375 \r\nQ 18.3125 60.0625 18.3125 54.390625 \r\nz\r\n\" id=\"DejaVuSans-56\"/>\r\n      </defs>\r\n      <g transform=\"translate(284.90922 239.238437)scale(0.1 -0.1)\">\r\n       <use xlink:href=\"#DejaVuSans-56\"/>\r\n       <use x=\"63.623047\" xlink:href=\"#DejaVuSans-48\"/>\r\n      </g>\r\n     </g>\r\n    </g>\r\n    <g id=\"xtick_6\">\r\n     <g id=\"line2d_6\">\r\n      <g>\r\n       <use style=\"stroke:#000000;stroke-width:0.8;\" x=\"352.759323\" xlink:href=\"#mf880db59e9\" y=\"224.64\"/>\r\n      </g>\r\n     </g>\r\n     <g id=\"text_6\">\r\n      <!-- 100 -->\r\n      <defs>\r\n       <path d=\"M 12.40625 8.296875 \r\nL 28.515625 8.296875 \r\nL 28.515625 63.921875 \r\nL 10.984375 60.40625 \r\nL 10.984375 69.390625 \r\nL 28.421875 72.90625 \r\nL 38.28125 72.90625 \r\nL 38.28125 8.296875 \r\nL 54.390625 8.296875 \r\nL 54.390625 0 \r\nL 12.40625 0 \r\nz\r\n\" id=\"DejaVuSans-49\"/>\r\n      </defs>\r\n      <g transform=\"translate(343.215573 239.238437)scale(0.1 -0.1)\">\r\n       <use xlink:href=\"#DejaVuSans-49\"/>\r\n       <use x=\"63.623047\" xlink:href=\"#DejaVuSans-48\"/>\r\n       <use x=\"127.246094\" xlink:href=\"#DejaVuSans-48\"/>\r\n      </g>\r\n     </g>\r\n    </g>\r\n   </g>\r\n   <g id=\"matplotlib.axis_2\">\r\n    <g id=\"ytick_1\">\r\n     <g id=\"line2d_7\">\r\n      <defs>\r\n       <path d=\"M 0 0 \r\nL -3.5 0 \r\n\" id=\"m9a58c23ce6\" style=\"stroke:#000000;stroke-width:0.8;\"/>\r\n      </defs>\r\n      <g>\r\n       <use style=\"stroke:#000000;stroke-width:0.8;\" x=\"30.103125\" xlink:href=\"#m9a58c23ce6\" y=\"215.304505\"/>\r\n      </g>\r\n     </g>\r\n     <g id=\"text_7\">\r\n      <!-- 0.0 -->\r\n      <defs>\r\n       <path d=\"M 10.6875 12.40625 \r\nL 21 12.40625 \r\nL 21 0 \r\nL 10.6875 0 \r\nz\r\n\" id=\"DejaVuSans-46\"/>\r\n      </defs>\r\n      <g transform=\"translate(7.2 219.103724)scale(0.1 -0.1)\">\r\n       <use xlink:href=\"#DejaVuSans-48\"/>\r\n       <use x=\"63.623047\" xlink:href=\"#DejaVuSans-46\"/>\r\n       <use x=\"95.410156\" xlink:href=\"#DejaVuSans-48\"/>\r\n      </g>\r\n     </g>\r\n    </g>\r\n    <g id=\"ytick_2\">\r\n     <g id=\"line2d_8\">\r\n      <g>\r\n       <use style=\"stroke:#000000;stroke-width:0.8;\" x=\"30.103125\" xlink:href=\"#m9a58c23ce6\" y=\"181.614312\"/>\r\n      </g>\r\n     </g>\r\n     <g id=\"text_8\">\r\n      <!-- 0.2 -->\r\n      <g transform=\"translate(7.2 185.413531)scale(0.1 -0.1)\">\r\n       <use xlink:href=\"#DejaVuSans-48\"/>\r\n       <use x=\"63.623047\" xlink:href=\"#DejaVuSans-46\"/>\r\n       <use x=\"95.410156\" xlink:href=\"#DejaVuSans-50\"/>\r\n      </g>\r\n     </g>\r\n    </g>\r\n    <g id=\"ytick_3\">\r\n     <g id=\"line2d_9\">\r\n      <g>\r\n       <use style=\"stroke:#000000;stroke-width:0.8;\" x=\"30.103125\" xlink:href=\"#m9a58c23ce6\" y=\"147.924119\"/>\r\n      </g>\r\n     </g>\r\n     <g id=\"text_9\">\r\n      <!-- 0.4 -->\r\n      <g transform=\"translate(7.2 151.723338)scale(0.1 -0.1)\">\r\n       <use xlink:href=\"#DejaVuSans-48\"/>\r\n       <use x=\"63.623047\" xlink:href=\"#DejaVuSans-46\"/>\r\n       <use x=\"95.410156\" xlink:href=\"#DejaVuSans-52\"/>\r\n      </g>\r\n     </g>\r\n    </g>\r\n    <g id=\"ytick_4\">\r\n     <g id=\"line2d_10\">\r\n      <g>\r\n       <use style=\"stroke:#000000;stroke-width:0.8;\" x=\"30.103125\" xlink:href=\"#m9a58c23ce6\" y=\"114.233926\"/>\r\n      </g>\r\n     </g>\r\n     <g id=\"text_10\">\r\n      <!-- 0.6 -->\r\n      <g transform=\"translate(7.2 118.033145)scale(0.1 -0.1)\">\r\n       <use xlink:href=\"#DejaVuSans-48\"/>\r\n       <use x=\"63.623047\" xlink:href=\"#DejaVuSans-46\"/>\r\n       <use x=\"95.410156\" xlink:href=\"#DejaVuSans-54\"/>\r\n      </g>\r\n     </g>\r\n    </g>\r\n    <g id=\"ytick_5\">\r\n     <g id=\"line2d_11\">\r\n      <g>\r\n       <use style=\"stroke:#000000;stroke-width:0.8;\" x=\"30.103125\" xlink:href=\"#m9a58c23ce6\" y=\"80.543733\"/>\r\n      </g>\r\n     </g>\r\n     <g id=\"text_11\">\r\n      <!-- 0.8 -->\r\n      <g transform=\"translate(7.2 84.342952)scale(0.1 -0.1)\">\r\n       <use xlink:href=\"#DejaVuSans-48\"/>\r\n       <use x=\"63.623047\" xlink:href=\"#DejaVuSans-46\"/>\r\n       <use x=\"95.410156\" xlink:href=\"#DejaVuSans-56\"/>\r\n      </g>\r\n     </g>\r\n    </g>\r\n    <g id=\"ytick_6\">\r\n     <g id=\"line2d_12\">\r\n      <g>\r\n       <use style=\"stroke:#000000;stroke-width:0.8;\" x=\"30.103125\" xlink:href=\"#m9a58c23ce6\" y=\"46.85354\"/>\r\n      </g>\r\n     </g>\r\n     <g id=\"text_12\">\r\n      <!-- 1.0 -->\r\n      <g transform=\"translate(7.2 50.652759)scale(0.1 -0.1)\">\r\n       <use xlink:href=\"#DejaVuSans-49\"/>\r\n       <use x=\"63.623047\" xlink:href=\"#DejaVuSans-46\"/>\r\n       <use x=\"95.410156\" xlink:href=\"#DejaVuSans-48\"/>\r\n      </g>\r\n     </g>\r\n    </g>\r\n    <g id=\"ytick_7\">\r\n     <g id=\"line2d_13\">\r\n      <g>\r\n       <use style=\"stroke:#000000;stroke-width:0.8;\" x=\"30.103125\" xlink:href=\"#m9a58c23ce6\" y=\"13.163347\"/>\r\n      </g>\r\n     </g>\r\n     <g id=\"text_13\">\r\n      <!-- 1.2 -->\r\n      <g transform=\"translate(7.2 16.962566)scale(0.1 -0.1)\">\r\n       <use xlink:href=\"#DejaVuSans-49\"/>\r\n       <use x=\"63.623047\" xlink:href=\"#DejaVuSans-46\"/>\r\n       <use x=\"95.410156\" xlink:href=\"#DejaVuSans-50\"/>\r\n      </g>\r\n     </g>\r\n    </g>\r\n   </g>\r\n   <g id=\"line2d_14\">\r\n    <defs>\r\n     <path d=\"M 0 3 \r\nC 0.795609 3 1.55874 2.683901 2.12132 2.12132 \r\nC 2.683901 1.55874 3 0.795609 3 0 \r\nC 3 -0.795609 2.683901 -1.55874 2.12132 -2.12132 \r\nC 1.55874 -2.683901 0.795609 -3 0 -3 \r\nC -0.795609 -3 -1.55874 -2.683901 -2.12132 -2.12132 \r\nC -2.683901 -1.55874 -3 -0.795609 -3 0 \r\nC -3 0.795609 -2.683901 1.55874 -2.12132 2.12132 \r\nC -1.55874 2.683901 -0.795609 3 0 3 \r\nz\r\n\" id=\"me43e7b41a1\" style=\"stroke:#ff0000;\"/>\r\n    </defs>\r\n    <g clip-path=\"url(#pd1ef21392f)\">\r\n     <use style=\"fill:#ff0000;stroke:#ff0000;\" x=\"45.321307\" xlink:href=\"#me43e7b41a1\" y=\"48.440174\"/>\r\n    </g>\r\n   </g>\r\n   <g id=\"line2d_15\">\r\n    <defs>\r\n     <path d=\"M -3 3 \r\nL 3 -3 \r\nM -3 -3 \r\nL 3 3 \r\n\" id=\"m729f728e8d\" style=\"stroke:#008000;\"/>\r\n    </defs>\r\n    <g clip-path=\"url(#pd1ef21392f)\">\r\n     <use style=\"fill:#008000;stroke:#008000;\" x=\"45.321307\" xlink:href=\"#m729f728e8d\" y=\"156.849999\"/>\r\n    </g>\r\n   </g>\r\n   <g id=\"line2d_16\">\r\n    <g clip-path=\"url(#pd1ef21392f)\">\r\n     <use style=\"fill:#ff0000;stroke:#ff0000;\" x=\"48.395687\" xlink:href=\"#me43e7b41a1\" y=\"51.65537\"/>\r\n    </g>\r\n   </g>\r\n   <g id=\"line2d_17\">\r\n    <g clip-path=\"url(#pd1ef21392f)\">\r\n     <use style=\"fill:#008000;stroke:#008000;\" x=\"48.395687\" xlink:href=\"#m729f728e8d\" y=\"161.155158\"/>\r\n    </g>\r\n   </g>\r\n   <g id=\"line2d_18\">\r\n    <g clip-path=\"url(#pd1ef21392f)\">\r\n     <use style=\"fill:#ff0000;stroke:#ff0000;\" x=\"51.470067\" xlink:href=\"#me43e7b41a1\" y=\"79.441971\"/>\r\n    </g>\r\n   </g>\r\n   <g id=\"line2d_19\">\r\n    <g clip-path=\"url(#pd1ef21392f)\">\r\n     <use style=\"fill:#008000;stroke:#008000;\" x=\"51.470067\" xlink:href=\"#m729f728e8d\" y=\"165.827542\"/>\r\n    </g>\r\n   </g>\r\n   <g id=\"line2d_20\">\r\n    <g clip-path=\"url(#pd1ef21392f)\">\r\n     <use style=\"fill:#ff0000;stroke:#ff0000;\" x=\"54.544447\" xlink:href=\"#me43e7b41a1\" y=\"83.356586\"/>\r\n    </g>\r\n   </g>\r\n   <g id=\"line2d_21\">\r\n    <g clip-path=\"url(#pd1ef21392f)\">\r\n     <use style=\"fill:#008000;stroke:#008000;\" x=\"54.544447\" xlink:href=\"#m729f728e8d\" y=\"170.832061\"/>\r\n    </g>\r\n   </g>\r\n   <g id=\"line2d_22\">\r\n    <g clip-path=\"url(#pd1ef21392f)\">\r\n     <use style=\"fill:#ff0000;stroke:#ff0000;\" x=\"57.618827\" xlink:href=\"#me43e7b41a1\" y=\"80.691296\"/>\r\n    </g>\r\n   </g>\r\n   <g id=\"line2d_23\">\r\n    <g clip-path=\"url(#pd1ef21392f)\">\r\n     <use style=\"fill:#008000;stroke:#008000;\" x=\"57.618827\" xlink:href=\"#m729f728e8d\" y=\"175.913307\"/>\r\n    </g>\r\n   </g>\r\n   <g id=\"line2d_24\">\r\n    <g clip-path=\"url(#pd1ef21392f)\">\r\n     <use style=\"fill:#ff0000;stroke:#ff0000;\" x=\"60.693208\" xlink:href=\"#me43e7b41a1\" y=\"90.51939\"/>\r\n    </g>\r\n   </g>\r\n   <g id=\"line2d_25\">\r\n    <g clip-path=\"url(#pd1ef21392f)\">\r\n     <use style=\"fill:#008000;stroke:#008000;\" x=\"60.693208\" xlink:href=\"#m729f728e8d\" y=\"180.709008\"/>\r\n    </g>\r\n   </g>\r\n   <g id=\"line2d_26\">\r\n    <g clip-path=\"url(#pd1ef21392f)\">\r\n     <use style=\"fill:#ff0000;stroke:#ff0000;\" x=\"63.767588\" xlink:href=\"#me43e7b41a1\" y=\"121.497301\"/>\r\n    </g>\r\n   </g>\r\n   <g id=\"line2d_27\">\r\n    <g clip-path=\"url(#pd1ef21392f)\">\r\n     <use style=\"fill:#008000;stroke:#008000;\" x=\"63.767588\" xlink:href=\"#m729f728e8d\" y=\"185.130232\"/>\r\n    </g>\r\n   </g>\r\n   <g id=\"line2d_28\">\r\n    <g clip-path=\"url(#pd1ef21392f)\">\r\n     <use style=\"fill:#ff0000;stroke:#ff0000;\" x=\"66.841968\" xlink:href=\"#me43e7b41a1\" y=\"121.416355\"/>\r\n    </g>\r\n   </g>\r\n   <g id=\"line2d_29\">\r\n    <g clip-path=\"url(#pd1ef21392f)\">\r\n     <use style=\"fill:#008000;stroke:#008000;\" x=\"66.841968\" xlink:href=\"#m729f728e8d\" y=\"187.59727\"/>\r\n    </g>\r\n   </g>\r\n   <g id=\"line2d_30\">\r\n    <g clip-path=\"url(#pd1ef21392f)\">\r\n     <use style=\"fill:#ff0000;stroke:#ff0000;\" x=\"69.916348\" xlink:href=\"#me43e7b41a1\" y=\"162.518298\"/>\r\n    </g>\r\n   </g>\r\n   <g id=\"line2d_31\">\r\n    <g clip-path=\"url(#pd1ef21392f)\">\r\n     <use style=\"fill:#008000;stroke:#008000;\" x=\"69.916348\" xlink:href=\"#m729f728e8d\" y=\"190.831396\"/>\r\n    </g>\r\n   </g>\r\n   <g id=\"line2d_32\">\r\n    <g clip-path=\"url(#pd1ef21392f)\">\r\n     <use style=\"fill:#ff0000;stroke:#ff0000;\" x=\"72.990728\" xlink:href=\"#me43e7b41a1\" y=\"129.920002\"/>\r\n    </g>\r\n   </g>\r\n   <g id=\"line2d_33\">\r\n    <g clip-path=\"url(#pd1ef21392f)\">\r\n     <use style=\"fill:#008000;stroke:#008000;\" x=\"72.990728\" xlink:href=\"#m729f728e8d\" y=\"193.217013\"/>\r\n    </g>\r\n   </g>\r\n   <g id=\"line2d_34\">\r\n    <g clip-path=\"url(#pd1ef21392f)\">\r\n     <use style=\"fill:#ff0000;stroke:#ff0000;\" x=\"76.065108\" xlink:href=\"#me43e7b41a1\" y=\"121.577063\"/>\r\n    </g>\r\n   </g>\r\n   <g id=\"line2d_35\">\r\n    <g clip-path=\"url(#pd1ef21392f)\">\r\n     <use style=\"fill:#008000;stroke:#008000;\" x=\"76.065108\" xlink:href=\"#m729f728e8d\" y=\"194.823279\"/>\r\n    </g>\r\n   </g>\r\n   <g id=\"line2d_36\">\r\n    <g clip-path=\"url(#pd1ef21392f)\">\r\n     <use style=\"fill:#ff0000;stroke:#ff0000;\" x=\"79.139489\" xlink:href=\"#me43e7b41a1\" y=\"162.663052\"/>\r\n    </g>\r\n   </g>\r\n   <g id=\"line2d_37\">\r\n    <g clip-path=\"url(#pd1ef21392f)\">\r\n     <use style=\"fill:#008000;stroke:#008000;\" x=\"79.139489\" xlink:href=\"#m729f728e8d\" y=\"196.687667\"/>\r\n    </g>\r\n   </g>\r\n   <g id=\"line2d_38\">\r\n    <g clip-path=\"url(#pd1ef21392f)\">\r\n     <use style=\"fill:#ff0000;stroke:#ff0000;\" x=\"82.213869\" xlink:href=\"#me43e7b41a1\" y=\"195.23235\"/>\r\n    </g>\r\n   </g>\r\n   <g id=\"line2d_39\">\r\n    <g clip-path=\"url(#pd1ef21392f)\">\r\n     <use style=\"fill:#008000;stroke:#008000;\" x=\"82.213869\" xlink:href=\"#m729f728e8d\" y=\"196.101623\"/>\r\n    </g>\r\n   </g>\r\n   <g id=\"line2d_40\">\r\n    <g clip-path=\"url(#pd1ef21392f)\">\r\n     <use style=\"fill:#ff0000;stroke:#ff0000;\" x=\"85.288249\" xlink:href=\"#me43e7b41a1\" y=\"194.080637\"/>\r\n    </g>\r\n   </g>\r\n   <g id=\"line2d_41\">\r\n    <g clip-path=\"url(#pd1ef21392f)\">\r\n     <use style=\"fill:#008000;stroke:#008000;\" x=\"85.288249\" xlink:href=\"#m729f728e8d\" y=\"199.55878\"/>\r\n    </g>\r\n   </g>\r\n   <g id=\"line2d_42\">\r\n    <g clip-path=\"url(#pd1ef21392f)\">\r\n     <use style=\"fill:#ff0000;stroke:#ff0000;\" x=\"88.362629\" xlink:href=\"#me43e7b41a1\" y=\"210.321145\"/>\r\n    </g>\r\n   </g>\r\n   <g id=\"line2d_43\">\r\n    <g clip-path=\"url(#pd1ef21392f)\">\r\n     <use style=\"fill:#008000;stroke:#008000;\" x=\"88.362629\" xlink:href=\"#m729f728e8d\" y=\"197.901377\"/>\r\n    </g>\r\n   </g>\r\n   <g id=\"line2d_44\">\r\n    <g clip-path=\"url(#pd1ef21392f)\">\r\n     <use style=\"fill:#ff0000;stroke:#ff0000;\" x=\"91.437009\" xlink:href=\"#me43e7b41a1\" y=\"163.109882\"/>\r\n    </g>\r\n   </g>\r\n   <g id=\"line2d_45\">\r\n    <g clip-path=\"url(#pd1ef21392f)\">\r\n     <use style=\"fill:#008000;stroke:#008000;\" x=\"91.437009\" xlink:href=\"#m729f728e8d\" y=\"201.361973\"/>\r\n    </g>\r\n   </g>\r\n   <g id=\"line2d_46\">\r\n    <g clip-path=\"url(#pd1ef21392f)\">\r\n     <use style=\"fill:#ff0000;stroke:#ff0000;\" x=\"94.511389\" xlink:href=\"#me43e7b41a1\" y=\"133.199347\"/>\r\n    </g>\r\n   </g>\r\n   <g id=\"line2d_47\">\r\n    <g clip-path=\"url(#pd1ef21392f)\">\r\n     <use style=\"fill:#008000;stroke:#008000;\" x=\"94.511389\" xlink:href=\"#m729f728e8d\" y=\"201.664998\"/>\r\n    </g>\r\n   </g>\r\n   <g id=\"line2d_48\">\r\n    <g clip-path=\"url(#pd1ef21392f)\">\r\n     <use style=\"fill:#ff0000;stroke:#ff0000;\" x=\"97.58577\" xlink:href=\"#me43e7b41a1\" y=\"207.202971\"/>\r\n    </g>\r\n   </g>\r\n   <g id=\"line2d_49\">\r\n    <g clip-path=\"url(#pd1ef21392f)\">\r\n     <use style=\"fill:#008000;stroke:#008000;\" x=\"97.58577\" xlink:href=\"#m729f728e8d\" y=\"201.812266\"/>\r\n    </g>\r\n   </g>\r\n   <g id=\"line2d_50\">\r\n    <g clip-path=\"url(#pd1ef21392f)\">\r\n     <use style=\"fill:#ff0000;stroke:#ff0000;\" x=\"100.66015\" xlink:href=\"#me43e7b41a1\" y=\"203.983188\"/>\r\n    </g>\r\n   </g>\r\n   <g id=\"line2d_51\">\r\n    <g clip-path=\"url(#pd1ef21392f)\">\r\n     <use style=\"fill:#008000;stroke:#008000;\" x=\"100.66015\" xlink:href=\"#m729f728e8d\" y=\"204.997986\"/>\r\n    </g>\r\n   </g>\r\n   <g id=\"line2d_52\">\r\n    <g clip-path=\"url(#pd1ef21392f)\">\r\n     <use style=\"fill:#ff0000;stroke:#ff0000;\" x=\"103.73453\" xlink:href=\"#me43e7b41a1\" y=\"173.79567\"/>\r\n    </g>\r\n   </g>\r\n   <g id=\"line2d_53\">\r\n    <g clip-path=\"url(#pd1ef21392f)\">\r\n     <use style=\"fill:#008000;stroke:#008000;\" x=\"103.73453\" xlink:href=\"#m729f728e8d\" y=\"205.146502\"/>\r\n    </g>\r\n   </g>\r\n   <g id=\"line2d_54\">\r\n    <g clip-path=\"url(#pd1ef21392f)\">\r\n     <use style=\"fill:#ff0000;stroke:#ff0000;\" x=\"106.80891\" xlink:href=\"#me43e7b41a1\" y=\"206.682906\"/>\r\n    </g>\r\n   </g>\r\n   <g id=\"line2d_55\">\r\n    <g clip-path=\"url(#pd1ef21392f)\">\r\n     <use style=\"fill:#008000;stroke:#008000;\" x=\"106.80891\" xlink:href=\"#m729f728e8d\" y=\"206.322548\"/>\r\n    </g>\r\n   </g>\r\n   <g id=\"line2d_56\">\r\n    <g clip-path=\"url(#pd1ef21392f)\">\r\n     <use style=\"fill:#ff0000;stroke:#ff0000;\" x=\"109.88329\" xlink:href=\"#me43e7b41a1\" y=\"206.471657\"/>\r\n    </g>\r\n   </g>\r\n   <g id=\"line2d_57\">\r\n    <g clip-path=\"url(#pd1ef21392f)\">\r\n     <use style=\"fill:#008000;stroke:#008000;\" x=\"109.88329\" xlink:href=\"#m729f728e8d\" y=\"206.848311\"/>\r\n    </g>\r\n   </g>\r\n   <g id=\"line2d_58\">\r\n    <g clip-path=\"url(#pd1ef21392f)\">\r\n     <use style=\"fill:#ff0000;stroke:#ff0000;\" x=\"112.95767\" xlink:href=\"#me43e7b41a1\" y=\"208.743939\"/>\r\n    </g>\r\n   </g>\r\n   <g id=\"line2d_59\">\r\n    <g clip-path=\"url(#pd1ef21392f)\">\r\n     <use style=\"fill:#008000;stroke:#008000;\" x=\"112.95767\" xlink:href=\"#m729f728e8d\" y=\"204.927195\"/>\r\n    </g>\r\n   </g>\r\n   <g id=\"line2d_60\">\r\n    <g clip-path=\"url(#pd1ef21392f)\">\r\n     <use style=\"fill:#ff0000;stroke:#ff0000;\" x=\"116.032051\" xlink:href=\"#me43e7b41a1\" y=\"213.756695\"/>\r\n    </g>\r\n   </g>\r\n   <g id=\"line2d_61\">\r\n    <g clip-path=\"url(#pd1ef21392f)\">\r\n     <use style=\"fill:#008000;stroke:#008000;\" x=\"116.032051\" xlink:href=\"#m729f728e8d\" y=\"204.30086\"/>\r\n    </g>\r\n   </g>\r\n   <g id=\"line2d_62\">\r\n    <g clip-path=\"url(#pd1ef21392f)\">\r\n     <use style=\"fill:#ff0000;stroke:#ff0000;\" x=\"119.106431\" xlink:href=\"#me43e7b41a1\" y=\"204.758251\"/>\r\n    </g>\r\n   </g>\r\n   <g id=\"line2d_63\">\r\n    <g clip-path=\"url(#pd1ef21392f)\">\r\n     <use style=\"fill:#008000;stroke:#008000;\" x=\"119.106431\" xlink:href=\"#m729f728e8d\" y=\"205.631074\"/>\r\n    </g>\r\n   </g>\r\n   <g id=\"line2d_64\">\r\n    <g clip-path=\"url(#pd1ef21392f)\">\r\n     <use style=\"fill:#ff0000;stroke:#ff0000;\" x=\"122.180811\" xlink:href=\"#me43e7b41a1\" y=\"206.125206\"/>\r\n    </g>\r\n   </g>\r\n   <g id=\"line2d_65\">\r\n    <g clip-path=\"url(#pd1ef21392f)\">\r\n     <use style=\"fill:#008000;stroke:#008000;\" x=\"122.180811\" xlink:href=\"#m729f728e8d\" y=\"208.379496\"/>\r\n    </g>\r\n   </g>\r\n   <g id=\"line2d_66\">\r\n    <g clip-path=\"url(#pd1ef21392f)\">\r\n     <use style=\"fill:#ff0000;stroke:#ff0000;\" x=\"125.255191\" xlink:href=\"#me43e7b41a1\" y=\"203.228296\"/>\r\n    </g>\r\n   </g>\r\n   <g id=\"line2d_67\">\r\n    <g clip-path=\"url(#pd1ef21392f)\">\r\n     <use style=\"fill:#008000;stroke:#008000;\" x=\"125.255191\" xlink:href=\"#m729f728e8d\" y=\"207.290516\"/>\r\n    </g>\r\n   </g>\r\n   <g id=\"line2d_68\">\r\n    <g clip-path=\"url(#pd1ef21392f)\">\r\n     <use style=\"fill:#ff0000;stroke:#ff0000;\" x=\"128.329571\" xlink:href=\"#me43e7b41a1\" y=\"193.469605\"/>\r\n    </g>\r\n   </g>\r\n   <g id=\"line2d_69\">\r\n    <g clip-path=\"url(#pd1ef21392f)\">\r\n     <use style=\"fill:#008000;stroke:#008000;\" x=\"128.329571\" xlink:href=\"#m729f728e8d\" y=\"208.911062\"/>\r\n    </g>\r\n   </g>\r\n   <g id=\"line2d_70\">\r\n    <g clip-path=\"url(#pd1ef21392f)\">\r\n     <use style=\"fill:#ff0000;stroke:#ff0000;\" x=\"131.403951\" xlink:href=\"#me43e7b41a1\" y=\"187.984062\"/>\r\n    </g>\r\n   </g>\r\n   <g id=\"line2d_71\">\r\n    <g clip-path=\"url(#pd1ef21392f)\">\r\n     <use style=\"fill:#008000;stroke:#008000;\" x=\"131.403951\" xlink:href=\"#m729f728e8d\" y=\"209.246506\"/>\r\n    </g>\r\n   </g>\r\n   <g id=\"line2d_72\">\r\n    <g clip-path=\"url(#pd1ef21392f)\">\r\n     <use style=\"fill:#ff0000;stroke:#ff0000;\" x=\"134.478332\" xlink:href=\"#me43e7b41a1\" y=\"190.166939\"/>\r\n    </g>\r\n   </g>\r\n   <g id=\"line2d_73\">\r\n    <g clip-path=\"url(#pd1ef21392f)\">\r\n     <use style=\"fill:#008000;stroke:#008000;\" x=\"134.478332\" xlink:href=\"#m729f728e8d\" y=\"208.01564\"/>\r\n    </g>\r\n   </g>\r\n   <g id=\"line2d_74\">\r\n    <g clip-path=\"url(#pd1ef21392f)\">\r\n     <use style=\"fill:#ff0000;stroke:#ff0000;\" x=\"137.552712\" xlink:href=\"#me43e7b41a1\" y=\"196.570188\"/>\r\n    </g>\r\n   </g>\r\n   <g id=\"line2d_75\">\r\n    <g clip-path=\"url(#pd1ef21392f)\">\r\n     <use style=\"fill:#008000;stroke:#008000;\" x=\"137.552712\" xlink:href=\"#m729f728e8d\" y=\"205.516428\"/>\r\n    </g>\r\n   </g>\r\n   <g id=\"line2d_76\">\r\n    <g clip-path=\"url(#pd1ef21392f)\">\r\n     <use style=\"fill:#ff0000;stroke:#ff0000;\" x=\"140.627092\" xlink:href=\"#me43e7b41a1\" y=\"185.329136\"/>\r\n    </g>\r\n   </g>\r\n   <g id=\"line2d_77\">\r\n    <g clip-path=\"url(#pd1ef21392f)\">\r\n     <use style=\"fill:#008000;stroke:#008000;\" x=\"140.627092\" xlink:href=\"#m729f728e8d\" y=\"209.663386\"/>\r\n    </g>\r\n   </g>\r\n   <g id=\"line2d_78\">\r\n    <g clip-path=\"url(#pd1ef21392f)\">\r\n     <use style=\"fill:#ff0000;stroke:#ff0000;\" x=\"143.701472\" xlink:href=\"#me43e7b41a1\" y=\"185.144136\"/>\r\n    </g>\r\n   </g>\r\n   <g id=\"line2d_79\">\r\n    <g clip-path=\"url(#pd1ef21392f)\">\r\n     <use style=\"fill:#008000;stroke:#008000;\" x=\"143.701472\" xlink:href=\"#m729f728e8d\" y=\"209.179685\"/>\r\n    </g>\r\n   </g>\r\n   <g id=\"line2d_80\">\r\n    <g clip-path=\"url(#pd1ef21392f)\">\r\n     <use style=\"fill:#ff0000;stroke:#ff0000;\" x=\"146.775852\" xlink:href=\"#me43e7b41a1\" y=\"193.915803\"/>\r\n    </g>\r\n   </g>\r\n   <g id=\"line2d_81\">\r\n    <g clip-path=\"url(#pd1ef21392f)\">\r\n     <use style=\"fill:#008000;stroke:#008000;\" x=\"146.775852\" xlink:href=\"#m729f728e8d\" y=\"208.961029\"/>\r\n    </g>\r\n   </g>\r\n   <g id=\"line2d_82\">\r\n    <g clip-path=\"url(#pd1ef21392f)\">\r\n     <use style=\"fill:#ff0000;stroke:#ff0000;\" x=\"149.850232\" xlink:href=\"#me43e7b41a1\" y=\"188.190462\"/>\r\n    </g>\r\n   </g>\r\n   <g id=\"line2d_83\">\r\n    <g clip-path=\"url(#pd1ef21392f)\">\r\n     <use style=\"fill:#008000;stroke:#008000;\" x=\"149.850232\" xlink:href=\"#m729f728e8d\" y=\"209.849953\"/>\r\n    </g>\r\n   </g>\r\n   <g id=\"line2d_84\">\r\n    <g clip-path=\"url(#pd1ef21392f)\">\r\n     <use style=\"fill:#ff0000;stroke:#ff0000;\" x=\"152.924613\" xlink:href=\"#me43e7b41a1\" y=\"73.312803\"/>\r\n    </g>\r\n   </g>\r\n   <g id=\"line2d_85\">\r\n    <g clip-path=\"url(#pd1ef21392f)\">\r\n     <use style=\"fill:#008000;stroke:#008000;\" x=\"152.924613\" xlink:href=\"#m729f728e8d\" y=\"201.705338\"/>\r\n    </g>\r\n   </g>\r\n   <g id=\"line2d_86\">\r\n    <g clip-path=\"url(#pd1ef21392f)\">\r\n     <use style=\"fill:#ff0000;stroke:#ff0000;\" x=\"155.998993\" xlink:href=\"#me43e7b41a1\" y=\"213.341061\"/>\r\n    </g>\r\n   </g>\r\n   <g id=\"line2d_87\">\r\n    <g clip-path=\"url(#pd1ef21392f)\">\r\n     <use style=\"fill:#008000;stroke:#008000;\" x=\"155.998993\" xlink:href=\"#m729f728e8d\" y=\"207.89024\"/>\r\n    </g>\r\n   </g>\r\n   <g id=\"line2d_88\">\r\n    <g clip-path=\"url(#pd1ef21392f)\">\r\n     <use style=\"fill:#ff0000;stroke:#ff0000;\" x=\"159.073373\" xlink:href=\"#me43e7b41a1\" y=\"179.12735\"/>\r\n    </g>\r\n   </g>\r\n   <g id=\"line2d_89\">\r\n    <g clip-path=\"url(#pd1ef21392f)\">\r\n     <use style=\"fill:#008000;stroke:#008000;\" x=\"159.073373\" xlink:href=\"#m729f728e8d\" y=\"209.348506\"/>\r\n    </g>\r\n   </g>\r\n   <g id=\"line2d_90\">\r\n    <g clip-path=\"url(#pd1ef21392f)\">\r\n     <use style=\"fill:#ff0000;stroke:#ff0000;\" x=\"162.147753\" xlink:href=\"#me43e7b41a1\" y=\"209.141409\"/>\r\n    </g>\r\n   </g>\r\n   <g id=\"line2d_91\">\r\n    <g clip-path=\"url(#pd1ef21392f)\">\r\n     <use style=\"fill:#008000;stroke:#008000;\" x=\"162.147753\" xlink:href=\"#m729f728e8d\" y=\"210.277627\"/>\r\n    </g>\r\n   </g>\r\n   <g id=\"line2d_92\">\r\n    <g clip-path=\"url(#pd1ef21392f)\">\r\n     <use style=\"fill:#ff0000;stroke:#ff0000;\" x=\"165.222133\" xlink:href=\"#me43e7b41a1\" y=\"205.903834\"/>\r\n    </g>\r\n   </g>\r\n   <g id=\"line2d_93\">\r\n    <g clip-path=\"url(#pd1ef21392f)\">\r\n     <use style=\"fill:#008000;stroke:#008000;\" x=\"165.222133\" xlink:href=\"#m729f728e8d\" y=\"210.34319\"/>\r\n    </g>\r\n   </g>\r\n   <g id=\"line2d_94\">\r\n    <g clip-path=\"url(#pd1ef21392f)\">\r\n     <use style=\"fill:#ff0000;stroke:#ff0000;\" x=\"168.296513\" xlink:href=\"#me43e7b41a1\" y=\"185.326792\"/>\r\n    </g>\r\n   </g>\r\n   <g id=\"line2d_95\">\r\n    <g clip-path=\"url(#pd1ef21392f)\">\r\n     <use style=\"fill:#008000;stroke:#008000;\" x=\"168.296513\" xlink:href=\"#m729f728e8d\" y=\"201.578282\"/>\r\n    </g>\r\n   </g>\r\n   <g id=\"line2d_96\">\r\n    <g clip-path=\"url(#pd1ef21392f)\">\r\n     <use style=\"fill:#ff0000;stroke:#ff0000;\" x=\"171.370894\" xlink:href=\"#me43e7b41a1\" y=\"173.389059\"/>\r\n    </g>\r\n   </g>\r\n   <g id=\"line2d_97\">\r\n    <g clip-path=\"url(#pd1ef21392f)\">\r\n     <use style=\"fill:#008000;stroke:#008000;\" x=\"171.370894\" xlink:href=\"#m729f728e8d\" y=\"210.483427\"/>\r\n    </g>\r\n   </g>\r\n   <g id=\"line2d_98\">\r\n    <g clip-path=\"url(#pd1ef21392f)\">\r\n     <use style=\"fill:#ff0000;stroke:#ff0000;\" x=\"174.445274\" xlink:href=\"#me43e7b41a1\" y=\"206.924476\"/>\r\n    </g>\r\n   </g>\r\n   <g id=\"line2d_99\">\r\n    <g clip-path=\"url(#pd1ef21392f)\">\r\n     <use style=\"fill:#008000;stroke:#008000;\" x=\"174.445274\" xlink:href=\"#m729f728e8d\" y=\"210.175864\"/>\r\n    </g>\r\n   </g>\r\n   <g id=\"line2d_100\">\r\n    <g clip-path=\"url(#pd1ef21392f)\">\r\n     <use style=\"fill:#ff0000;stroke:#ff0000;\" x=\"177.519654\" xlink:href=\"#me43e7b41a1\" y=\"212.939629\"/>\r\n    </g>\r\n   </g>\r\n   <g id=\"line2d_101\">\r\n    <g clip-path=\"url(#pd1ef21392f)\">\r\n     <use style=\"fill:#008000;stroke:#008000;\" x=\"177.519654\" xlink:href=\"#m729f728e8d\" y=\"209.163729\"/>\r\n    </g>\r\n   </g>\r\n   <g id=\"line2d_102\">\r\n    <g clip-path=\"url(#pd1ef21392f)\">\r\n     <use style=\"fill:#ff0000;stroke:#ff0000;\" x=\"180.594034\" xlink:href=\"#me43e7b41a1\" y=\"209.9899\"/>\r\n    </g>\r\n   </g>\r\n   <g id=\"line2d_103\">\r\n    <g clip-path=\"url(#pd1ef21392f)\">\r\n     <use style=\"fill:#008000;stroke:#008000;\" x=\"180.594034\" xlink:href=\"#m729f728e8d\" y=\"210.741649\"/>\r\n    </g>\r\n   </g>\r\n   <g id=\"line2d_104\">\r\n    <g clip-path=\"url(#pd1ef21392f)\">\r\n     <use style=\"fill:#ff0000;stroke:#ff0000;\" x=\"183.668414\" xlink:href=\"#me43e7b41a1\" y=\"210.182308\"/>\r\n    </g>\r\n   </g>\r\n   <g id=\"line2d_105\">\r\n    <g clip-path=\"url(#pd1ef21392f)\">\r\n     <use style=\"fill:#008000;stroke:#008000;\" x=\"183.668414\" xlink:href=\"#m729f728e8d\" y=\"210.870227\"/>\r\n    </g>\r\n   </g>\r\n   <g id=\"line2d_106\">\r\n    <g clip-path=\"url(#pd1ef21392f)\">\r\n     <use style=\"fill:#ff0000;stroke:#ff0000;\" x=\"186.742794\" xlink:href=\"#me43e7b41a1\" y=\"201.673101\"/>\r\n    </g>\r\n   </g>\r\n   <g id=\"line2d_107\">\r\n    <g clip-path=\"url(#pd1ef21392f)\">\r\n     <use style=\"fill:#008000;stroke:#008000;\" x=\"186.742794\" xlink:href=\"#m729f728e8d\" y=\"207.165099\"/>\r\n    </g>\r\n   </g>\r\n   <g id=\"line2d_108\">\r\n    <g clip-path=\"url(#pd1ef21392f)\">\r\n     <use style=\"fill:#ff0000;stroke:#ff0000;\" x=\"189.817175\" xlink:href=\"#me43e7b41a1\" y=\"214.692319\"/>\r\n    </g>\r\n   </g>\r\n   <g id=\"line2d_109\">\r\n    <g clip-path=\"url(#pd1ef21392f)\">\r\n     <use style=\"fill:#008000;stroke:#008000;\" x=\"189.817175\" xlink:href=\"#m729f728e8d\" y=\"201.164042\"/>\r\n    </g>\r\n   </g>\r\n   <g id=\"line2d_110\">\r\n    <g clip-path=\"url(#pd1ef21392f)\">\r\n     <use style=\"fill:#ff0000;stroke:#ff0000;\" x=\"192.891555\" xlink:href=\"#me43e7b41a1\" y=\"209.362423\"/>\r\n    </g>\r\n   </g>\r\n   <g id=\"line2d_111\">\r\n    <g clip-path=\"url(#pd1ef21392f)\">\r\n     <use style=\"fill:#008000;stroke:#008000;\" x=\"192.891555\" xlink:href=\"#m729f728e8d\" y=\"207.75198\"/>\r\n    </g>\r\n   </g>\r\n   <g id=\"line2d_112\">\r\n    <g clip-path=\"url(#pd1ef21392f)\">\r\n     <use style=\"fill:#ff0000;stroke:#ff0000;\" x=\"195.965935\" xlink:href=\"#me43e7b41a1\" y=\"200.059252\"/>\r\n    </g>\r\n   </g>\r\n   <g id=\"line2d_113\">\r\n    <g clip-path=\"url(#pd1ef21392f)\">\r\n     <use style=\"fill:#008000;stroke:#008000;\" x=\"195.965935\" xlink:href=\"#m729f728e8d\" y=\"209.899195\"/>\r\n    </g>\r\n   </g>\r\n   <g id=\"line2d_114\">\r\n    <g clip-path=\"url(#pd1ef21392f)\">\r\n     <use style=\"fill:#ff0000;stroke:#ff0000;\" x=\"199.040315\" xlink:href=\"#me43e7b41a1\" y=\"17.083636\"/>\r\n    </g>\r\n   </g>\r\n   <g id=\"line2d_115\">\r\n    <g clip-path=\"url(#pd1ef21392f)\">\r\n     <use style=\"fill:#008000;stroke:#008000;\" x=\"199.040315\" xlink:href=\"#m729f728e8d\" y=\"209.05246\"/>\r\n    </g>\r\n   </g>\r\n   <g id=\"line2d_116\">\r\n    <g clip-path=\"url(#pd1ef21392f)\">\r\n     <use style=\"fill:#ff0000;stroke:#ff0000;\" x=\"202.114695\" xlink:href=\"#me43e7b41a1\" y=\"208.714945\"/>\r\n    </g>\r\n   </g>\r\n   <g id=\"line2d_117\">\r\n    <g clip-path=\"url(#pd1ef21392f)\">\r\n     <use style=\"fill:#008000;stroke:#008000;\" x=\"202.114695\" xlink:href=\"#m729f728e8d\" y=\"210.102202\"/>\r\n    </g>\r\n   </g>\r\n   <g id=\"line2d_118\">\r\n    <g clip-path=\"url(#pd1ef21392f)\">\r\n     <use style=\"fill:#ff0000;stroke:#ff0000;\" x=\"205.189075\" xlink:href=\"#me43e7b41a1\" y=\"211.006399\"/>\r\n    </g>\r\n   </g>\r\n   <g id=\"line2d_119\">\r\n    <g clip-path=\"url(#pd1ef21392f)\">\r\n     <use style=\"fill:#008000;stroke:#008000;\" x=\"205.189075\" xlink:href=\"#m729f728e8d\" y=\"207.594297\"/>\r\n    </g>\r\n   </g>\r\n   <g id=\"line2d_120\">\r\n    <g clip-path=\"url(#pd1ef21392f)\">\r\n     <use style=\"fill:#ff0000;stroke:#ff0000;\" x=\"208.263456\" xlink:href=\"#me43e7b41a1\" y=\"96.444968\"/>\r\n    </g>\r\n   </g>\r\n   <g id=\"line2d_121\">\r\n    <g clip-path=\"url(#pd1ef21392f)\">\r\n     <use style=\"fill:#008000;stroke:#008000;\" x=\"208.263456\" xlink:href=\"#m729f728e8d\" y=\"187.40054\"/>\r\n    </g>\r\n   </g>\r\n   <g id=\"line2d_122\">\r\n    <g clip-path=\"url(#pd1ef21392f)\">\r\n     <use style=\"fill:#ff0000;stroke:#ff0000;\" x=\"211.337836\" xlink:href=\"#me43e7b41a1\" y=\"195.323026\"/>\r\n    </g>\r\n   </g>\r\n   <g id=\"line2d_123\">\r\n    <g clip-path=\"url(#pd1ef21392f)\">\r\n     <use style=\"fill:#008000;stroke:#008000;\" x=\"211.337836\" xlink:href=\"#m729f728e8d\" y=\"209.250167\"/>\r\n    </g>\r\n   </g>\r\n   <g id=\"line2d_124\">\r\n    <g clip-path=\"url(#pd1ef21392f)\">\r\n     <use style=\"fill:#ff0000;stroke:#ff0000;\" x=\"214.412216\" xlink:href=\"#me43e7b41a1\" y=\"198.827533\"/>\r\n    </g>\r\n   </g>\r\n   <g id=\"line2d_125\">\r\n    <g clip-path=\"url(#pd1ef21392f)\">\r\n     <use style=\"fill:#008000;stroke:#008000;\" x=\"214.412216\" xlink:href=\"#m729f728e8d\" y=\"211.162094\"/>\r\n    </g>\r\n   </g>\r\n   <g id=\"line2d_126\">\r\n    <g clip-path=\"url(#pd1ef21392f)\">\r\n     <use style=\"fill:#ff0000;stroke:#ff0000;\" x=\"217.486596\" xlink:href=\"#me43e7b41a1\" y=\"214.629081\"/>\r\n    </g>\r\n   </g>\r\n   <g id=\"line2d_127\">\r\n    <g clip-path=\"url(#pd1ef21392f)\">\r\n     <use style=\"fill:#008000;stroke:#008000;\" x=\"217.486596\" xlink:href=\"#m729f728e8d\" y=\"207.766025\"/>\r\n    </g>\r\n   </g>\r\n   <g id=\"line2d_128\">\r\n    <g clip-path=\"url(#pd1ef21392f)\">\r\n     <use style=\"fill:#ff0000;stroke:#ff0000;\" x=\"220.560976\" xlink:href=\"#me43e7b41a1\" y=\"214.671736\"/>\r\n    </g>\r\n   </g>\r\n   <g id=\"line2d_129\">\r\n    <g clip-path=\"url(#pd1ef21392f)\">\r\n     <use style=\"fill:#008000;stroke:#008000;\" x=\"220.560976\" xlink:href=\"#m729f728e8d\" y=\"210.606034\"/>\r\n    </g>\r\n   </g>\r\n   <g id=\"line2d_130\">\r\n    <g clip-path=\"url(#pd1ef21392f)\">\r\n     <use style=\"fill:#ff0000;stroke:#ff0000;\" x=\"223.635356\" xlink:href=\"#me43e7b41a1\" y=\"93.63867\"/>\r\n    </g>\r\n   </g>\r\n   <g id=\"line2d_131\">\r\n    <g clip-path=\"url(#pd1ef21392f)\">\r\n     <use style=\"fill:#008000;stroke:#008000;\" x=\"223.635356\" xlink:href=\"#m729f728e8d\" y=\"197.857203\"/>\r\n    </g>\r\n   </g>\r\n   <g id=\"line2d_132\">\r\n    <g clip-path=\"url(#pd1ef21392f)\">\r\n     <use style=\"fill:#ff0000;stroke:#ff0000;\" x=\"226.709737\" xlink:href=\"#me43e7b41a1\" y=\"72.624629\"/>\r\n    </g>\r\n   </g>\r\n   <g id=\"line2d_133\">\r\n    <g clip-path=\"url(#pd1ef21392f)\">\r\n     <use style=\"fill:#008000;stroke:#008000;\" x=\"226.709737\" xlink:href=\"#m729f728e8d\" y=\"206.252516\"/>\r\n    </g>\r\n   </g>\r\n   <g id=\"line2d_134\">\r\n    <g clip-path=\"url(#pd1ef21392f)\">\r\n     <use style=\"fill:#ff0000;stroke:#ff0000;\" x=\"229.784117\" xlink:href=\"#me43e7b41a1\" y=\"204.756712\"/>\r\n    </g>\r\n   </g>\r\n   <g id=\"line2d_135\">\r\n    <g clip-path=\"url(#pd1ef21392f)\">\r\n     <use style=\"fill:#008000;stroke:#008000;\" x=\"229.784117\" xlink:href=\"#m729f728e8d\" y=\"209.623672\"/>\r\n    </g>\r\n   </g>\r\n   <g id=\"line2d_136\">\r\n    <g clip-path=\"url(#pd1ef21392f)\">\r\n     <use style=\"fill:#ff0000;stroke:#ff0000;\" x=\"232.858497\" xlink:href=\"#me43e7b41a1\" y=\"212.317577\"/>\r\n    </g>\r\n   </g>\r\n   <g id=\"line2d_137\">\r\n    <g clip-path=\"url(#pd1ef21392f)\">\r\n     <use style=\"fill:#008000;stroke:#008000;\" x=\"232.858497\" xlink:href=\"#m729f728e8d\" y=\"207.698089\"/>\r\n    </g>\r\n   </g>\r\n   <g id=\"line2d_138\">\r\n    <g clip-path=\"url(#pd1ef21392f)\">\r\n     <use style=\"fill:#ff0000;stroke:#ff0000;\" x=\"235.932877\" xlink:href=\"#me43e7b41a1\" y=\"209.063824\"/>\r\n    </g>\r\n   </g>\r\n   <g id=\"line2d_139\">\r\n    <g clip-path=\"url(#pd1ef21392f)\">\r\n     <use style=\"fill:#008000;stroke:#008000;\" x=\"235.932877\" xlink:href=\"#m729f728e8d\" y=\"208.604109\"/>\r\n    </g>\r\n   </g>\r\n   <g id=\"line2d_140\">\r\n    <g clip-path=\"url(#pd1ef21392f)\">\r\n     <use style=\"fill:#ff0000;stroke:#ff0000;\" x=\"239.007257\" xlink:href=\"#me43e7b41a1\" y=\"212.405413\"/>\r\n    </g>\r\n   </g>\r\n   <g id=\"line2d_141\">\r\n    <g clip-path=\"url(#pd1ef21392f)\">\r\n     <use style=\"fill:#008000;stroke:#008000;\" x=\"239.007257\" xlink:href=\"#m729f728e8d\" y=\"211.26023\"/>\r\n    </g>\r\n   </g>\r\n   <g id=\"line2d_142\">\r\n    <g clip-path=\"url(#pd1ef21392f)\">\r\n     <use style=\"fill:#ff0000;stroke:#ff0000;\" x=\"242.081637\" xlink:href=\"#me43e7b41a1\" y=\"213.795038\"/>\r\n    </g>\r\n   </g>\r\n   <g id=\"line2d_143\">\r\n    <g clip-path=\"url(#pd1ef21392f)\">\r\n     <use style=\"fill:#008000;stroke:#008000;\" x=\"242.081637\" xlink:href=\"#m729f728e8d\" y=\"210.213913\"/>\r\n    </g>\r\n   </g>\r\n   <g id=\"line2d_144\">\r\n    <g clip-path=\"url(#pd1ef21392f)\">\r\n     <use style=\"fill:#ff0000;stroke:#ff0000;\" x=\"245.156018\" xlink:href=\"#me43e7b41a1\" y=\"213.087261\"/>\r\n    </g>\r\n   </g>\r\n   <g id=\"line2d_145\">\r\n    <g clip-path=\"url(#pd1ef21392f)\">\r\n     <use style=\"fill:#008000;stroke:#008000;\" x=\"245.156018\" xlink:href=\"#m729f728e8d\" y=\"211.316132\"/>\r\n    </g>\r\n   </g>\r\n   <g id=\"line2d_146\">\r\n    <g clip-path=\"url(#pd1ef21392f)\">\r\n     <use style=\"fill:#ff0000;stroke:#ff0000;\" x=\"248.230398\" xlink:href=\"#me43e7b41a1\" y=\"214.345632\"/>\r\n    </g>\r\n   </g>\r\n   <g id=\"line2d_147\">\r\n    <g clip-path=\"url(#pd1ef21392f)\">\r\n     <use style=\"fill:#008000;stroke:#008000;\" x=\"248.230398\" xlink:href=\"#m729f728e8d\" y=\"208.07707\"/>\r\n    </g>\r\n   </g>\r\n   <g id=\"line2d_148\">\r\n    <g clip-path=\"url(#pd1ef21392f)\">\r\n     <use style=\"fill:#ff0000;stroke:#ff0000;\" x=\"251.304778\" xlink:href=\"#me43e7b41a1\" y=\"202.199894\"/>\r\n    </g>\r\n   </g>\r\n   <g id=\"line2d_149\">\r\n    <g clip-path=\"url(#pd1ef21392f)\">\r\n     <use style=\"fill:#008000;stroke:#008000;\" x=\"251.304778\" xlink:href=\"#m729f728e8d\" y=\"204.071809\"/>\r\n    </g>\r\n   </g>\r\n   <g id=\"line2d_150\">\r\n    <g clip-path=\"url(#pd1ef21392f)\">\r\n     <use style=\"fill:#ff0000;stroke:#ff0000;\" x=\"254.379158\" xlink:href=\"#me43e7b41a1\" y=\"203.690127\"/>\r\n    </g>\r\n   </g>\r\n   <g id=\"line2d_151\">\r\n    <g clip-path=\"url(#pd1ef21392f)\">\r\n     <use style=\"fill:#008000;stroke:#008000;\" x=\"254.379158\" xlink:href=\"#m729f728e8d\" y=\"211.337195\"/>\r\n    </g>\r\n   </g>\r\n   <g id=\"line2d_152\">\r\n    <g clip-path=\"url(#pd1ef21392f)\">\r\n     <use style=\"fill:#ff0000;stroke:#ff0000;\" x=\"257.453538\" xlink:href=\"#me43e7b41a1\" y=\"213.212194\"/>\r\n    </g>\r\n   </g>\r\n   <g id=\"line2d_153\">\r\n    <g clip-path=\"url(#pd1ef21392f)\">\r\n     <use style=\"fill:#008000;stroke:#008000;\" x=\"257.453538\" xlink:href=\"#m729f728e8d\" y=\"209.441373\"/>\r\n    </g>\r\n   </g>\r\n   <g id=\"line2d_154\">\r\n    <g clip-path=\"url(#pd1ef21392f)\">\r\n     <use style=\"fill:#ff0000;stroke:#ff0000;\" x=\"260.527918\" xlink:href=\"#me43e7b41a1\" y=\"208.530729\"/>\r\n    </g>\r\n   </g>\r\n   <g id=\"line2d_155\">\r\n    <g clip-path=\"url(#pd1ef21392f)\">\r\n     <use style=\"fill:#008000;stroke:#008000;\" x=\"260.527918\" xlink:href=\"#m729f728e8d\" y=\"208.528206\"/>\r\n    </g>\r\n   </g>\r\n   <g id=\"line2d_156\">\r\n    <g clip-path=\"url(#pd1ef21392f)\">\r\n     <use style=\"fill:#ff0000;stroke:#ff0000;\" x=\"263.602299\" xlink:href=\"#me43e7b41a1\" y=\"214.712199\"/>\r\n    </g>\r\n   </g>\r\n   <g id=\"line2d_157\">\r\n    <g clip-path=\"url(#pd1ef21392f)\">\r\n     <use style=\"fill:#008000;stroke:#008000;\" x=\"263.602299\" xlink:href=\"#m729f728e8d\" y=\"211.145549\"/>\r\n    </g>\r\n   </g>\r\n   <g id=\"line2d_158\">\r\n    <g clip-path=\"url(#pd1ef21392f)\">\r\n     <use style=\"fill:#ff0000;stroke:#ff0000;\" x=\"266.676679\" xlink:href=\"#me43e7b41a1\" y=\"207.74139\"/>\r\n    </g>\r\n   </g>\r\n   <g id=\"line2d_159\">\r\n    <g clip-path=\"url(#pd1ef21392f)\">\r\n     <use style=\"fill:#008000;stroke:#008000;\" x=\"266.676679\" xlink:href=\"#m729f728e8d\" y=\"210.424067\"/>\r\n    </g>\r\n   </g>\r\n   <g id=\"line2d_160\">\r\n    <g clip-path=\"url(#pd1ef21392f)\">\r\n     <use style=\"fill:#ff0000;stroke:#ff0000;\" x=\"269.751059\" xlink:href=\"#me43e7b41a1\" y=\"213.482916\"/>\r\n    </g>\r\n   </g>\r\n   <g id=\"line2d_161\">\r\n    <g clip-path=\"url(#pd1ef21392f)\">\r\n     <use style=\"fill:#008000;stroke:#008000;\" x=\"269.751059\" xlink:href=\"#m729f728e8d\" y=\"211.210302\"/>\r\n    </g>\r\n   </g>\r\n   <g id=\"line2d_162\">\r\n    <g clip-path=\"url(#pd1ef21392f)\">\r\n     <use style=\"fill:#ff0000;stroke:#ff0000;\" x=\"272.825439\" xlink:href=\"#me43e7b41a1\" y=\"214.46368\"/>\r\n    </g>\r\n   </g>\r\n   <g id=\"line2d_163\">\r\n    <g clip-path=\"url(#pd1ef21392f)\">\r\n     <use style=\"fill:#008000;stroke:#008000;\" x=\"272.825439\" xlink:href=\"#m729f728e8d\" y=\"211.30737\"/>\r\n    </g>\r\n   </g>\r\n   <g id=\"line2d_164\">\r\n    <g clip-path=\"url(#pd1ef21392f)\">\r\n     <use style=\"fill:#ff0000;stroke:#ff0000;\" x=\"275.899819\" xlink:href=\"#me43e7b41a1\" y=\"214.485975\"/>\r\n    </g>\r\n   </g>\r\n   <g id=\"line2d_165\">\r\n    <g clip-path=\"url(#pd1ef21392f)\">\r\n     <use style=\"fill:#008000;stroke:#008000;\" x=\"275.899819\" xlink:href=\"#m729f728e8d\" y=\"211.254849\"/>\r\n    </g>\r\n   </g>\r\n   <g id=\"line2d_166\">\r\n    <g clip-path=\"url(#pd1ef21392f)\">\r\n     <use style=\"fill:#ff0000;stroke:#ff0000;\" x=\"278.974199\" xlink:href=\"#me43e7b41a1\" y=\"106.355173\"/>\r\n    </g>\r\n   </g>\r\n   <g id=\"line2d_167\">\r\n    <g clip-path=\"url(#pd1ef21392f)\">\r\n     <use style=\"fill:#008000;stroke:#008000;\" x=\"278.974199\" xlink:href=\"#m729f728e8d\" y=\"189.969717\"/>\r\n    </g>\r\n   </g>\r\n   <g id=\"line2d_168\">\r\n    <g clip-path=\"url(#pd1ef21392f)\">\r\n     <use style=\"fill:#ff0000;stroke:#ff0000;\" x=\"282.04858\" xlink:href=\"#me43e7b41a1\" y=\"164.412391\"/>\r\n    </g>\r\n   </g>\r\n   <g id=\"line2d_169\">\r\n    <g clip-path=\"url(#pd1ef21392f)\">\r\n     <use style=\"fill:#008000;stroke:#008000;\" x=\"282.04858\" xlink:href=\"#m729f728e8d\" y=\"209.337332\"/>\r\n    </g>\r\n   </g>\r\n   <g id=\"line2d_170\">\r\n    <g clip-path=\"url(#pd1ef21392f)\">\r\n     <use style=\"fill:#ff0000;stroke:#ff0000;\" x=\"285.12296\" xlink:href=\"#me43e7b41a1\" y=\"211.576768\"/>\r\n    </g>\r\n   </g>\r\n   <g id=\"line2d_171\">\r\n    <g clip-path=\"url(#pd1ef21392f)\">\r\n     <use style=\"fill:#008000;stroke:#008000;\" x=\"285.12296\" xlink:href=\"#m729f728e8d\" y=\"211.422908\"/>\r\n    </g>\r\n   </g>\r\n   <g id=\"line2d_172\">\r\n    <g clip-path=\"url(#pd1ef21392f)\">\r\n     <use style=\"fill:#ff0000;stroke:#ff0000;\" x=\"288.19734\" xlink:href=\"#me43e7b41a1\" y=\"214.152842\"/>\r\n    </g>\r\n   </g>\r\n   <g id=\"line2d_173\">\r\n    <g clip-path=\"url(#pd1ef21392f)\">\r\n     <use style=\"fill:#008000;stroke:#008000;\" x=\"288.19734\" xlink:href=\"#m729f728e8d\" y=\"211.210618\"/>\r\n    </g>\r\n   </g>\r\n   <g id=\"line2d_174\">\r\n    <g clip-path=\"url(#pd1ef21392f)\">\r\n     <use style=\"fill:#ff0000;stroke:#ff0000;\" x=\"291.27172\" xlink:href=\"#me43e7b41a1\" y=\"214.756364\"/>\r\n    </g>\r\n   </g>\r\n   <g id=\"line2d_175\">\r\n    <g clip-path=\"url(#pd1ef21392f)\">\r\n     <use style=\"fill:#008000;stroke:#008000;\" x=\"291.27172\" xlink:href=\"#m729f728e8d\" y=\"210.199714\"/>\r\n    </g>\r\n   </g>\r\n   <g id=\"line2d_176\">\r\n    <g clip-path=\"url(#pd1ef21392f)\">\r\n     <use style=\"fill:#ff0000;stroke:#ff0000;\" x=\"294.3461\" xlink:href=\"#me43e7b41a1\" y=\"210.242747\"/>\r\n    </g>\r\n   </g>\r\n   <g id=\"line2d_177\">\r\n    <g clip-path=\"url(#pd1ef21392f)\">\r\n     <use style=\"fill:#008000;stroke:#008000;\" x=\"294.3461\" xlink:href=\"#m729f728e8d\" y=\"208.604006\"/>\r\n    </g>\r\n   </g>\r\n   <g id=\"line2d_178\">\r\n    <g clip-path=\"url(#pd1ef21392f)\">\r\n     <use style=\"fill:#ff0000;stroke:#ff0000;\" x=\"297.42048\" xlink:href=\"#me43e7b41a1\" y=\"214.613113\"/>\r\n    </g>\r\n   </g>\r\n   <g id=\"line2d_179\">\r\n    <g clip-path=\"url(#pd1ef21392f)\">\r\n     <use style=\"fill:#008000;stroke:#008000;\" x=\"297.42048\" xlink:href=\"#m729f728e8d\" y=\"210.98833\"/>\r\n    </g>\r\n   </g>\r\n   <g id=\"line2d_180\">\r\n    <g clip-path=\"url(#pd1ef21392f)\">\r\n     <use style=\"fill:#ff0000;stroke:#ff0000;\" x=\"300.494861\" xlink:href=\"#me43e7b41a1\" y=\"214.215997\"/>\r\n    </g>\r\n   </g>\r\n   <g id=\"line2d_181\">\r\n    <g clip-path=\"url(#pd1ef21392f)\">\r\n     <use style=\"fill:#008000;stroke:#008000;\" x=\"300.494861\" xlink:href=\"#m729f728e8d\" y=\"211.285324\"/>\r\n    </g>\r\n   </g>\r\n   <g id=\"line2d_182\">\r\n    <g clip-path=\"url(#pd1ef21392f)\">\r\n     <use style=\"fill:#ff0000;stroke:#ff0000;\" x=\"303.569241\" xlink:href=\"#me43e7b41a1\" y=\"214.197007\"/>\r\n    </g>\r\n   </g>\r\n   <g id=\"line2d_183\">\r\n    <g clip-path=\"url(#pd1ef21392f)\">\r\n     <use style=\"fill:#008000;stroke:#008000;\" x=\"303.569241\" xlink:href=\"#m729f728e8d\" y=\"205.72874\"/>\r\n    </g>\r\n   </g>\r\n   <g id=\"line2d_184\">\r\n    <g clip-path=\"url(#pd1ef21392f)\">\r\n     <use style=\"fill:#ff0000;stroke:#ff0000;\" x=\"306.643621\" xlink:href=\"#me43e7b41a1\" y=\"213.606748\"/>\r\n    </g>\r\n   </g>\r\n   <g id=\"line2d_185\">\r\n    <g clip-path=\"url(#pd1ef21392f)\">\r\n     <use style=\"fill:#008000;stroke:#008000;\" x=\"306.643621\" xlink:href=\"#m729f728e8d\" y=\"211.493268\"/>\r\n    </g>\r\n   </g>\r\n   <g id=\"line2d_186\">\r\n    <g clip-path=\"url(#pd1ef21392f)\">\r\n     <use style=\"fill:#ff0000;stroke:#ff0000;\" x=\"309.718001\" xlink:href=\"#me43e7b41a1\" y=\"209.957001\"/>\r\n    </g>\r\n   </g>\r\n   <g id=\"line2d_187\">\r\n    <g clip-path=\"url(#pd1ef21392f)\">\r\n     <use style=\"fill:#008000;stroke:#008000;\" x=\"309.718001\" xlink:href=\"#m729f728e8d\" y=\"211.132473\"/>\r\n    </g>\r\n   </g>\r\n   <g id=\"line2d_188\">\r\n    <g clip-path=\"url(#pd1ef21392f)\">\r\n     <use style=\"fill:#ff0000;stroke:#ff0000;\" x=\"312.792381\" xlink:href=\"#me43e7b41a1\" y=\"184.259393\"/>\r\n    </g>\r\n   </g>\r\n   <g id=\"line2d_189\">\r\n    <g clip-path=\"url(#pd1ef21392f)\">\r\n     <use style=\"fill:#008000;stroke:#008000;\" x=\"312.792381\" xlink:href=\"#m729f728e8d\" y=\"207.953095\"/>\r\n    </g>\r\n   </g>\r\n   <g id=\"line2d_190\">\r\n    <g clip-path=\"url(#pd1ef21392f)\">\r\n     <use style=\"fill:#ff0000;stroke:#ff0000;\" x=\"315.866761\" xlink:href=\"#me43e7b41a1\" y=\"213.887878\"/>\r\n    </g>\r\n   </g>\r\n   <g id=\"line2d_191\">\r\n    <g clip-path=\"url(#pd1ef21392f)\">\r\n     <use style=\"fill:#008000;stroke:#008000;\" x=\"315.866761\" xlink:href=\"#m729f728e8d\" y=\"210.338886\"/>\r\n    </g>\r\n   </g>\r\n   <g id=\"line2d_192\">\r\n    <g clip-path=\"url(#pd1ef21392f)\">\r\n     <use style=\"fill:#ff0000;stroke:#ff0000;\" x=\"318.941142\" xlink:href=\"#me43e7b41a1\" y=\"182.155834\"/>\r\n    </g>\r\n   </g>\r\n   <g id=\"line2d_193\">\r\n    <g clip-path=\"url(#pd1ef21392f)\">\r\n     <use style=\"fill:#008000;stroke:#008000;\" x=\"318.941142\" xlink:href=\"#m729f728e8d\" y=\"211.573708\"/>\r\n    </g>\r\n   </g>\r\n   <g id=\"line2d_194\">\r\n    <g clip-path=\"url(#pd1ef21392f)\">\r\n     <use style=\"fill:#ff0000;stroke:#ff0000;\" x=\"322.015522\" xlink:href=\"#me43e7b41a1\" y=\"210.450504\"/>\r\n    </g>\r\n   </g>\r\n   <g id=\"line2d_195\">\r\n    <g clip-path=\"url(#pd1ef21392f)\">\r\n     <use style=\"fill:#008000;stroke:#008000;\" x=\"322.015522\" xlink:href=\"#m729f728e8d\" y=\"211.596222\"/>\r\n    </g>\r\n   </g>\r\n   <g id=\"line2d_196\">\r\n    <g clip-path=\"url(#pd1ef21392f)\">\r\n     <use style=\"fill:#ff0000;stroke:#ff0000;\" x=\"325.089902\" xlink:href=\"#me43e7b41a1\" y=\"174.915623\"/>\r\n    </g>\r\n   </g>\r\n   <g id=\"line2d_197\">\r\n    <g clip-path=\"url(#pd1ef21392f)\">\r\n     <use style=\"fill:#008000;stroke:#008000;\" x=\"325.089902\" xlink:href=\"#m729f728e8d\" y=\"211.570113\"/>\r\n    </g>\r\n   </g>\r\n   <g id=\"line2d_198\">\r\n    <g clip-path=\"url(#pd1ef21392f)\">\r\n     <use style=\"fill:#ff0000;stroke:#ff0000;\" x=\"328.164282\" xlink:href=\"#me43e7b41a1\" y=\"211.747104\"/>\r\n    </g>\r\n   </g>\r\n   <g id=\"line2d_199\">\r\n    <g clip-path=\"url(#pd1ef21392f)\">\r\n     <use style=\"fill:#008000;stroke:#008000;\" x=\"328.164282\" xlink:href=\"#m729f728e8d\" y=\"211.156373\"/>\r\n    </g>\r\n   </g>\r\n   <g id=\"line2d_200\">\r\n    <g clip-path=\"url(#pd1ef21392f)\">\r\n     <use style=\"fill:#ff0000;stroke:#ff0000;\" x=\"331.238662\" xlink:href=\"#me43e7b41a1\" y=\"206.642989\"/>\r\n    </g>\r\n   </g>\r\n   <g id=\"line2d_201\">\r\n    <g clip-path=\"url(#pd1ef21392f)\">\r\n     <use style=\"fill:#008000;stroke:#008000;\" x=\"331.238662\" xlink:href=\"#m729f728e8d\" y=\"211.184266\"/>\r\n    </g>\r\n   </g>\r\n   <g id=\"line2d_202\">\r\n    <g clip-path=\"url(#pd1ef21392f)\">\r\n     <use style=\"fill:#ff0000;stroke:#ff0000;\" x=\"334.313042\" xlink:href=\"#me43e7b41a1\" y=\"214.589606\"/>\r\n    </g>\r\n   </g>\r\n   <g id=\"line2d_203\">\r\n    <g clip-path=\"url(#pd1ef21392f)\">\r\n     <use style=\"fill:#008000;stroke:#008000;\" x=\"334.313042\" xlink:href=\"#m729f728e8d\" y=\"210.208909\"/>\r\n    </g>\r\n   </g>\r\n   <g id=\"line2d_204\">\r\n    <g clip-path=\"url(#pd1ef21392f)\">\r\n     <use style=\"fill:#ff0000;stroke:#ff0000;\" x=\"337.387423\" xlink:href=\"#me43e7b41a1\" y=\"72.988546\"/>\r\n    </g>\r\n   </g>\r\n   <g id=\"line2d_205\">\r\n    <g clip-path=\"url(#pd1ef21392f)\">\r\n     <use style=\"fill:#008000;stroke:#008000;\" x=\"337.387423\" xlink:href=\"#m729f728e8d\" y=\"209.130199\"/>\r\n    </g>\r\n   </g>\r\n   <g id=\"line2d_206\">\r\n    <g clip-path=\"url(#pd1ef21392f)\">\r\n     <use style=\"fill:#ff0000;stroke:#ff0000;\" x=\"340.461803\" xlink:href=\"#me43e7b41a1\" y=\"211.341378\"/>\r\n    </g>\r\n   </g>\r\n   <g id=\"line2d_207\">\r\n    <g clip-path=\"url(#pd1ef21392f)\">\r\n     <use style=\"fill:#008000;stroke:#008000;\" x=\"340.461803\" xlink:href=\"#m729f728e8d\" y=\"211.612488\"/>\r\n    </g>\r\n   </g>\r\n   <g id=\"line2d_208\">\r\n    <g clip-path=\"url(#pd1ef21392f)\">\r\n     <use style=\"fill:#ff0000;stroke:#ff0000;\" x=\"343.536183\" xlink:href=\"#me43e7b41a1\" y=\"212.509517\"/>\r\n    </g>\r\n   </g>\r\n   <g id=\"line2d_209\">\r\n    <g clip-path=\"url(#pd1ef21392f)\">\r\n     <use style=\"fill:#008000;stroke:#008000;\" x=\"343.536183\" xlink:href=\"#m729f728e8d\" y=\"211.406327\"/>\r\n    </g>\r\n   </g>\r\n   <g id=\"line2d_210\">\r\n    <g clip-path=\"url(#pd1ef21392f)\">\r\n     <use style=\"fill:#ff0000;stroke:#ff0000;\" x=\"346.610563\" xlink:href=\"#me43e7b41a1\" y=\"194.902686\"/>\r\n    </g>\r\n   </g>\r\n   <g id=\"line2d_211\">\r\n    <g clip-path=\"url(#pd1ef21392f)\">\r\n     <use style=\"fill:#008000;stroke:#008000;\" x=\"346.610563\" xlink:href=\"#m729f728e8d\" y=\"209.226448\"/>\r\n    </g>\r\n   </g>\r\n   <g id=\"line2d_212\">\r\n    <g clip-path=\"url(#pd1ef21392f)\">\r\n     <use style=\"fill:#ff0000;stroke:#ff0000;\" x=\"349.684943\" xlink:href=\"#me43e7b41a1\" y=\"212.994017\"/>\r\n    </g>\r\n   </g>\r\n   <g id=\"line2d_213\">\r\n    <g clip-path=\"url(#pd1ef21392f)\">\r\n     <use style=\"fill:#008000;stroke:#008000;\" x=\"349.684943\" xlink:href=\"#m729f728e8d\" y=\"210.179004\"/>\r\n    </g>\r\n   </g>\r\n   <g id=\"patch_3\">\r\n    <path d=\"M 30.103125 224.64 \r\nL 30.103125 7.2 \r\n\" style=\"fill:none;stroke:#000000;stroke-linecap:square;stroke-linejoin:miter;stroke-width:0.8;\"/>\r\n   </g>\r\n   <g id=\"patch_4\">\r\n    <path d=\"M 364.903125 224.64 \r\nL 364.903125 7.2 \r\n\" style=\"fill:none;stroke:#000000;stroke-linecap:square;stroke-linejoin:miter;stroke-width:0.8;\"/>\r\n   </g>\r\n   <g id=\"patch_5\">\r\n    <path d=\"M 30.103125 224.64 \r\nL 364.903125 224.64 \r\n\" style=\"fill:none;stroke:#000000;stroke-linecap:square;stroke-linejoin:miter;stroke-width:0.8;\"/>\r\n   </g>\r\n   <g id=\"patch_6\">\r\n    <path d=\"M 30.103125 7.2 \r\nL 364.903125 7.2 \r\n\" style=\"fill:none;stroke:#000000;stroke-linecap:square;stroke-linejoin:miter;stroke-width:0.8;\"/>\r\n   </g>\r\n   <g id=\"legend_1\">\r\n    <g id=\"patch_7\">\r\n     <path d=\"M 302.628125 44.55625 \r\nL 357.903125 44.55625 \r\nQ 359.903125 44.55625 359.903125 42.55625 \r\nL 359.903125 14.2 \r\nQ 359.903125 12.2 357.903125 12.2 \r\nL 302.628125 12.2 \r\nQ 300.628125 12.2 300.628125 14.2 \r\nL 300.628125 42.55625 \r\nQ 300.628125 44.55625 302.628125 44.55625 \r\nz\r\n\" style=\"fill:#ffffff;opacity:0.8;stroke:#cccccc;stroke-linejoin:miter;\"/>\r\n    </g>\r\n    <g id=\"line2d_214\"/>\r\n    <g id=\"line2d_215\">\r\n     <g>\r\n      <use style=\"fill:#ff0000;stroke:#ff0000;\" x=\"314.628125\" xlink:href=\"#me43e7b41a1\" y=\"20.298437\"/>\r\n     </g>\r\n    </g>\r\n    <g id=\"text_14\">\r\n     <!-- train -->\r\n     <defs>\r\n      <path d=\"M 18.3125 70.21875 \r\nL 18.3125 54.6875 \r\nL 36.8125 54.6875 \r\nL 36.8125 47.703125 \r\nL 18.3125 47.703125 \r\nL 18.3125 18.015625 \r\nQ 18.3125 11.328125 20.140625 9.421875 \r\nQ 21.96875 7.515625 27.59375 7.515625 \r\nL 36.8125 7.515625 \r\nL 36.8125 0 \r\nL 27.59375 0 \r\nQ 17.1875 0 13.234375 3.875 \r\nQ 9.28125 7.765625 9.28125 18.015625 \r\nL 9.28125 47.703125 \r\nL 2.6875 47.703125 \r\nL 2.6875 54.6875 \r\nL 9.28125 54.6875 \r\nL 9.28125 70.21875 \r\nz\r\n\" id=\"DejaVuSans-116\"/>\r\n      <path d=\"M 41.109375 46.296875 \r\nQ 39.59375 47.171875 37.8125 47.578125 \r\nQ 36.03125 48 33.890625 48 \r\nQ 26.265625 48 22.1875 43.046875 \r\nQ 18.109375 38.09375 18.109375 28.8125 \r\nL 18.109375 0 \r\nL 9.078125 0 \r\nL 9.078125 54.6875 \r\nL 18.109375 54.6875 \r\nL 18.109375 46.1875 \r\nQ 20.953125 51.171875 25.484375 53.578125 \r\nQ 30.03125 56 36.53125 56 \r\nQ 37.453125 56 38.578125 55.875 \r\nQ 39.703125 55.765625 41.0625 55.515625 \r\nz\r\n\" id=\"DejaVuSans-114\"/>\r\n      <path d=\"M 34.28125 27.484375 \r\nQ 23.390625 27.484375 19.1875 25 \r\nQ 14.984375 22.515625 14.984375 16.5 \r\nQ 14.984375 11.71875 18.140625 8.90625 \r\nQ 21.296875 6.109375 26.703125 6.109375 \r\nQ 34.1875 6.109375 38.703125 11.40625 \r\nQ 43.21875 16.703125 43.21875 25.484375 \r\nL 43.21875 27.484375 \r\nz\r\nM 52.203125 31.203125 \r\nL 52.203125 0 \r\nL 43.21875 0 \r\nL 43.21875 8.296875 \r\nQ 40.140625 3.328125 35.546875 0.953125 \r\nQ 30.953125 -1.421875 24.3125 -1.421875 \r\nQ 15.921875 -1.421875 10.953125 3.296875 \r\nQ 6 8.015625 6 15.921875 \r\nQ 6 25.140625 12.171875 29.828125 \r\nQ 18.359375 34.515625 30.609375 34.515625 \r\nL 43.21875 34.515625 \r\nL 43.21875 35.40625 \r\nQ 43.21875 41.609375 39.140625 45 \r\nQ 35.0625 48.390625 27.6875 48.390625 \r\nQ 23 48.390625 18.546875 47.265625 \r\nQ 14.109375 46.140625 10.015625 43.890625 \r\nL 10.015625 52.203125 \r\nQ 14.9375 54.109375 19.578125 55.046875 \r\nQ 24.21875 56 28.609375 56 \r\nQ 40.484375 56 46.34375 49.84375 \r\nQ 52.203125 43.703125 52.203125 31.203125 \r\nz\r\n\" id=\"DejaVuSans-97\"/>\r\n      <path d=\"M 9.421875 54.6875 \r\nL 18.40625 54.6875 \r\nL 18.40625 0 \r\nL 9.421875 0 \r\nz\r\nM 9.421875 75.984375 \r\nL 18.40625 75.984375 \r\nL 18.40625 64.59375 \r\nL 9.421875 64.59375 \r\nz\r\n\" id=\"DejaVuSans-105\"/>\r\n      <path d=\"M 54.890625 33.015625 \r\nL 54.890625 0 \r\nL 45.90625 0 \r\nL 45.90625 32.71875 \r\nQ 45.90625 40.484375 42.875 44.328125 \r\nQ 39.84375 48.1875 33.796875 48.1875 \r\nQ 26.515625 48.1875 22.3125 43.546875 \r\nQ 18.109375 38.921875 18.109375 30.90625 \r\nL 18.109375 0 \r\nL 9.078125 0 \r\nL 9.078125 54.6875 \r\nL 18.109375 54.6875 \r\nL 18.109375 46.1875 \r\nQ 21.34375 51.125 25.703125 53.5625 \r\nQ 30.078125 56 35.796875 56 \r\nQ 45.21875 56 50.046875 50.171875 \r\nQ 54.890625 44.34375 54.890625 33.015625 \r\nz\r\n\" id=\"DejaVuSans-110\"/>\r\n     </defs>\r\n     <g transform=\"translate(332.628125 23.798437)scale(0.1 -0.1)\">\r\n      <use xlink:href=\"#DejaVuSans-116\"/>\r\n      <use x=\"39.208984\" xlink:href=\"#DejaVuSans-114\"/>\r\n      <use x=\"80.322266\" xlink:href=\"#DejaVuSans-97\"/>\r\n      <use x=\"141.601562\" xlink:href=\"#DejaVuSans-105\"/>\r\n      <use x=\"169.384766\" xlink:href=\"#DejaVuSans-110\"/>\r\n     </g>\r\n    </g>\r\n    <g id=\"line2d_216\"/>\r\n    <g id=\"line2d_217\">\r\n     <g>\r\n      <use style=\"fill:#008000;stroke:#008000;\" x=\"314.628125\" xlink:href=\"#m729f728e8d\" y=\"34.976562\"/>\r\n     </g>\r\n    </g>\r\n    <g id=\"text_15\">\r\n     <!-- test -->\r\n     <defs>\r\n      <path d=\"M 56.203125 29.59375 \r\nL 56.203125 25.203125 \r\nL 14.890625 25.203125 \r\nQ 15.484375 15.921875 20.484375 11.0625 \r\nQ 25.484375 6.203125 34.421875 6.203125 \r\nQ 39.59375 6.203125 44.453125 7.46875 \r\nQ 49.3125 8.734375 54.109375 11.28125 \r\nL 54.109375 2.78125 \r\nQ 49.265625 0.734375 44.1875 -0.34375 \r\nQ 39.109375 -1.421875 33.890625 -1.421875 \r\nQ 20.796875 -1.421875 13.15625 6.1875 \r\nQ 5.515625 13.8125 5.515625 26.8125 \r\nQ 5.515625 40.234375 12.765625 48.109375 \r\nQ 20.015625 56 32.328125 56 \r\nQ 43.359375 56 49.78125 48.890625 \r\nQ 56.203125 41.796875 56.203125 29.59375 \r\nz\r\nM 47.21875 32.234375 \r\nQ 47.125 39.59375 43.09375 43.984375 \r\nQ 39.0625 48.390625 32.421875 48.390625 \r\nQ 24.90625 48.390625 20.390625 44.140625 \r\nQ 15.875 39.890625 15.1875 32.171875 \r\nz\r\n\" id=\"DejaVuSans-101\"/>\r\n      <path d=\"M 44.28125 53.078125 \r\nL 44.28125 44.578125 \r\nQ 40.484375 46.53125 36.375 47.5 \r\nQ 32.28125 48.484375 27.875 48.484375 \r\nQ 21.1875 48.484375 17.84375 46.4375 \r\nQ 14.5 44.390625 14.5 40.28125 \r\nQ 14.5 37.15625 16.890625 35.375 \r\nQ 19.28125 33.59375 26.515625 31.984375 \r\nL 29.59375 31.296875 \r\nQ 39.15625 29.25 43.1875 25.515625 \r\nQ 47.21875 21.78125 47.21875 15.09375 \r\nQ 47.21875 7.46875 41.1875 3.015625 \r\nQ 35.15625 -1.421875 24.609375 -1.421875 \r\nQ 20.21875 -1.421875 15.453125 -0.5625 \r\nQ 10.6875 0.296875 5.421875 2 \r\nL 5.421875 11.28125 \r\nQ 10.40625 8.6875 15.234375 7.390625 \r\nQ 20.0625 6.109375 24.8125 6.109375 \r\nQ 31.15625 6.109375 34.5625 8.28125 \r\nQ 37.984375 10.453125 37.984375 14.40625 \r\nQ 37.984375 18.0625 35.515625 20.015625 \r\nQ 33.0625 21.96875 24.703125 23.78125 \r\nL 21.578125 24.515625 \r\nQ 13.234375 26.265625 9.515625 29.90625 \r\nQ 5.8125 33.546875 5.8125 39.890625 \r\nQ 5.8125 47.609375 11.28125 51.796875 \r\nQ 16.75 56 26.8125 56 \r\nQ 31.78125 56 36.171875 55.265625 \r\nQ 40.578125 54.546875 44.28125 53.078125 \r\nz\r\n\" id=\"DejaVuSans-115\"/>\r\n     </defs>\r\n     <g transform=\"translate(332.628125 38.476562)scale(0.1 -0.1)\">\r\n      <use xlink:href=\"#DejaVuSans-116\"/>\r\n      <use x=\"39.208984\" xlink:href=\"#DejaVuSans-101\"/>\r\n      <use x=\"100.732422\" xlink:href=\"#DejaVuSans-115\"/>\r\n      <use x=\"152.832031\" xlink:href=\"#DejaVuSans-116\"/>\r\n     </g>\r\n    </g>\r\n   </g>\r\n  </g>\r\n </g>\r\n <defs>\r\n  <clipPath id=\"pd1ef21392f\">\r\n   <rect height=\"217.44\" width=\"334.8\" x=\"30.103125\" y=\"7.2\"/>\r\n  </clipPath>\r\n </defs>\r\n</svg>\r\n",
      "image/png": "[encoded data removed]"
     },
     "metadata": {
      "needs_background": "light"
     }
    }
   ],
   "source": [
    "model = NeuralNetwork().to(device)\n",
    "loss_fn = nn.CrossEntropyLoss()\n",
    "optimizer = torch.optim.SGD(model.parameters(), lr=1e-2)\n",
    "epochs = 100\n",
    "fig=plt.figure()\n",
    "maxCorrect=0\n",
    "for t in range(epochs):\n",
    "    \n",
    "    train_loss=train(train_dataloader, model, loss_fn, optimizer)\n",
    "    test_loss,test_correct=test(train_dataloader, model,t)\n",
    "    if correct>maxCorrect:\n",
    "        maxCorrect=correct\n",
    "        if abs(maxCorrect-1)<1e-6:\n",
    "            break\n",
    "    plt.plot(t,train_loss.item(),'o',color='r')\n",
    "    plt.plot(t,test_loss,'x',color='g')\n",
    "plt.legend(['train','test'])"
   ]
  },
  {
   "cell_type": "code",
   "execution_count": null,
   "metadata": {},
   "outputs": [],
   "source": []
  }
 ]
}