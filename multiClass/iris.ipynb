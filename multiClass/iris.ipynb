{
 "metadata": {
  "language_info": {
   "codemirror_mode": {
    "name": "ipython",
    "version": 3
   },
   "file_extension": ".py",
   "mimetype": "text/x-python",
   "name": "python",
   "nbconvert_exporter": "python",
   "pygments_lexer": "ipython3",
   "version": "3.7.4"
  },
  "orig_nbformat": 2,
  "kernelspec": {
   "name": "python374jvsc74a57bd03f857618d8b6a3d270a8a45aea13fd0dc2a28a907e8d4ef70fe87ce2a92698f8",
   "display_name": "Python 3.7.4 64-bit"
  }
 },
 "nbformat": 4,
 "nbformat_minor": 2,
 "cells": [
  {
   "source": [
    "author: leezeeyee   \n",
    "date: 2021/4/13  \n",
    "link: [github](https://github.com/easilylazy/pattern-recognition) "
   ],
   "cell_type": "markdown",
   "metadata": {}
  },
  {
   "cell_type": "code",
   "execution_count": 2,
   "metadata": {},
   "outputs": [],
   "source": [
    "import pandas as pd\n"
   ]
  },
  {
   "cell_type": "code",
   "execution_count": 48,
   "metadata": {},
   "outputs": [],
   "source": [
    "import random\n",
    "import numpy as np"
   ]
  },
  {
   "source": [
    "## Lecture 9编程作业\n",
    "给定IRIS数据集做如下题目实验，该数据集有三类目标，每个类别有50个样本，每个样本有四维特征。实验时每个类别随机选30个样本进行训练，另外20个样本用于测试。  \n",
    "1. 以感知器算法为基础分类算法，编写一个OVO多类分类器算法，对上述数据集进行实验，分析结果。    \n",
    "2. 编写Softmax算法实现多类别分类，对上述数据集进行实验，分析结果。\n"
   ],
   "cell_type": "markdown",
   "metadata": {}
  },
  {
   "cell_type": "code",
   "execution_count": 6,
   "metadata": {},
   "outputs": [],
   "source": [
    "irisData=pd.read_csv('iris.csv')"
   ]
  },
  {
   "cell_type": "code",
   "execution_count": 7,
   "metadata": {},
   "outputs": [
    {
     "output_type": "execute_result",
     "data": {
      "text/plain": [
       "   Unnamed: 0  Sepal.Length  Sepal.Width  Petal.Length  Petal.Width Species\n",
       "0           1           5.1          3.5           1.4          0.2  setosa\n",
       "1           2           4.9          3.0           1.4          0.2  setosa\n",
       "2           3           4.7          3.2           1.3          0.2  setosa\n",
       "3           4           4.6          3.1           1.5          0.2  setosa\n",
       "4           5           5.0          3.6           1.4          0.2  setosa"
      ],
      "text/html": "<div>\n<style scoped>\n    .dataframe tbody tr th:only-of-type {\n        vertical-align: middle;\n    }\n\n    .dataframe tbody tr th {\n        vertical-align: top;\n    }\n\n    .dataframe thead th {\n        text-align: right;\n    }\n</style>\n<table border=\"1\" class=\"dataframe\">\n  <thead>\n    <tr style=\"text-align: right;\">\n      <th></th>\n      <th>Unnamed: 0</th>\n      <th>Sepal.Length</th>\n      <th>Sepal.Width</th>\n      <th>Petal.Length</th>\n      <th>Petal.Width</th>\n      <th>Species</th>\n    </tr>\n  </thead>\n  <tbody>\n    <tr>\n      <th>0</th>\n      <td>1</td>\n      <td>5.1</td>\n      <td>3.5</td>\n      <td>1.4</td>\n      <td>0.2</td>\n      <td>setosa</td>\n    </tr>\n    <tr>\n      <th>1</th>\n      <td>2</td>\n      <td>4.9</td>\n      <td>3.0</td>\n      <td>1.4</td>\n      <td>0.2</td>\n      <td>setosa</td>\n    </tr>\n    <tr>\n      <th>2</th>\n      <td>3</td>\n      <td>4.7</td>\n      <td>3.2</td>\n      <td>1.3</td>\n      <td>0.2</td>\n      <td>setosa</td>\n    </tr>\n    <tr>\n      <th>3</th>\n      <td>4</td>\n      <td>4.6</td>\n      <td>3.1</td>\n      <td>1.5</td>\n      <td>0.2</td>\n      <td>setosa</td>\n    </tr>\n    <tr>\n      <th>4</th>\n      <td>5</td>\n      <td>5.0</td>\n      <td>3.6</td>\n      <td>1.4</td>\n      <td>0.2</td>\n      <td>setosa</td>\n    </tr>\n  </tbody>\n</table>\n</div>"
     },
     "metadata": {},
     "execution_count": 7
    }
   ],
   "source": [
    "irisData.head()"
   ]
  },
  {
   "cell_type": "code",
   "execution_count": 12,
   "metadata": {},
   "outputs": [
    {
     "output_type": "execute_result",
     "data": {
      "text/plain": [
       "'versicolor'"
      ]
     },
     "metadata": {},
     "execution_count": 12
    }
   ],
   "source": [
    "irisData['Species'][60]"
   ]
  },
  {
   "source": [
    "## types"
   ],
   "cell_type": "markdown",
   "metadata": {}
  },
  {
   "cell_type": "code",
   "execution_count": 13,
   "metadata": {},
   "outputs": [],
   "source": [
    "setosas=irisData[irisData['Species']=='setosa']\n",
    "versicolors=irisData[irisData['Species']=='versicolor']\n",
    "virginicas=irisData[irisData['Species']=='virginica']"
   ]
  },
  {
   "cell_type": "code",
   "execution_count": 14,
   "metadata": {},
   "outputs": [
    {
     "output_type": "execute_result",
     "data": {
      "text/plain": [
       "   Unnamed: 0  Sepal.Length  Sepal.Width  Petal.Length  Petal.Width Species\n",
       "0           1           5.1          3.5           1.4          0.2  setosa\n",
       "1           2           4.9          3.0           1.4          0.2  setosa\n",
       "2           3           4.7          3.2           1.3          0.2  setosa\n",
       "3           4           4.6          3.1           1.5          0.2  setosa\n",
       "4           5           5.0          3.6           1.4          0.2  setosa"
      ],
      "text/html": "<div>\n<style scoped>\n    .dataframe tbody tr th:only-of-type {\n        vertical-align: middle;\n    }\n\n    .dataframe tbody tr th {\n        vertical-align: top;\n    }\n\n    .dataframe thead th {\n        text-align: right;\n    }\n</style>\n<table border=\"1\" class=\"dataframe\">\n  <thead>\n    <tr style=\"text-align: right;\">\n      <th></th>\n      <th>Unnamed: 0</th>\n      <th>Sepal.Length</th>\n      <th>Sepal.Width</th>\n      <th>Petal.Length</th>\n      <th>Petal.Width</th>\n      <th>Species</th>\n    </tr>\n  </thead>\n  <tbody>\n    <tr>\n      <th>0</th>\n      <td>1</td>\n      <td>5.1</td>\n      <td>3.5</td>\n      <td>1.4</td>\n      <td>0.2</td>\n      <td>setosa</td>\n    </tr>\n    <tr>\n      <th>1</th>\n      <td>2</td>\n      <td>4.9</td>\n      <td>3.0</td>\n      <td>1.4</td>\n      <td>0.2</td>\n      <td>setosa</td>\n    </tr>\n    <tr>\n      <th>2</th>\n      <td>3</td>\n      <td>4.7</td>\n      <td>3.2</td>\n      <td>1.3</td>\n      <td>0.2</td>\n      <td>setosa</td>\n    </tr>\n    <tr>\n      <th>3</th>\n      <td>4</td>\n      <td>4.6</td>\n      <td>3.1</td>\n      <td>1.5</td>\n      <td>0.2</td>\n      <td>setosa</td>\n    </tr>\n    <tr>\n      <th>4</th>\n      <td>5</td>\n      <td>5.0</td>\n      <td>3.6</td>\n      <td>1.4</td>\n      <td>0.2</td>\n      <td>setosa</td>\n    </tr>\n  </tbody>\n</table>\n</div>"
     },
     "metadata": {},
     "execution_count": 14
    }
   ],
   "source": [
    "setosas.head()"
   ]
  },
  {
   "cell_type": "code",
   "execution_count": 15,
   "metadata": {},
   "outputs": [
    {
     "output_type": "execute_result",
     "data": {
      "text/plain": [
       "    Unnamed: 0  Sepal.Length  Sepal.Width  Petal.Length  Petal.Width  \\\n",
       "50          51           7.0          3.2           4.7          1.4   \n",
       "51          52           6.4          3.2           4.5          1.5   \n",
       "52          53           6.9          3.1           4.9          1.5   \n",
       "53          54           5.5          2.3           4.0          1.3   \n",
       "54          55           6.5          2.8           4.6          1.5   \n",
       "\n",
       "       Species  \n",
       "50  versicolor  \n",
       "51  versicolor  \n",
       "52  versicolor  \n",
       "53  versicolor  \n",
       "54  versicolor  "
      ],
      "text/html": "<div>\n<style scoped>\n    .dataframe tbody tr th:only-of-type {\n        vertical-align: middle;\n    }\n\n    .dataframe tbody tr th {\n        vertical-align: top;\n    }\n\n    .dataframe thead th {\n        text-align: right;\n    }\n</style>\n<table border=\"1\" class=\"dataframe\">\n  <thead>\n    <tr style=\"text-align: right;\">\n      <th></th>\n      <th>Unnamed: 0</th>\n      <th>Sepal.Length</th>\n      <th>Sepal.Width</th>\n      <th>Petal.Length</th>\n      <th>Petal.Width</th>\n      <th>Species</th>\n    </tr>\n  </thead>\n  <tbody>\n    <tr>\n      <th>50</th>\n      <td>51</td>\n      <td>7.0</td>\n      <td>3.2</td>\n      <td>4.7</td>\n      <td>1.4</td>\n      <td>versicolor</td>\n    </tr>\n    <tr>\n      <th>51</th>\n      <td>52</td>\n      <td>6.4</td>\n      <td>3.2</td>\n      <td>4.5</td>\n      <td>1.5</td>\n      <td>versicolor</td>\n    </tr>\n    <tr>\n      <th>52</th>\n      <td>53</td>\n      <td>6.9</td>\n      <td>3.1</td>\n      <td>4.9</td>\n      <td>1.5</td>\n      <td>versicolor</td>\n    </tr>\n    <tr>\n      <th>53</th>\n      <td>54</td>\n      <td>5.5</td>\n      <td>2.3</td>\n      <td>4.0</td>\n      <td>1.3</td>\n      <td>versicolor</td>\n    </tr>\n    <tr>\n      <th>54</th>\n      <td>55</td>\n      <td>6.5</td>\n      <td>2.8</td>\n      <td>4.6</td>\n      <td>1.5</td>\n      <td>versicolor</td>\n    </tr>\n  </tbody>\n</table>\n</div>"
     },
     "metadata": {},
     "execution_count": 15
    }
   ],
   "source": [
    "versicolors.head()"
   ]
  },
  {
   "cell_type": "code",
   "execution_count": 16,
   "metadata": {},
   "outputs": [
    {
     "output_type": "execute_result",
     "data": {
      "text/plain": [
       "     Unnamed: 0  Sepal.Length  Sepal.Width  Petal.Length  Petal.Width  \\\n",
       "100         101           6.3          3.3           6.0          2.5   \n",
       "101         102           5.8          2.7           5.1          1.9   \n",
       "102         103           7.1          3.0           5.9          2.1   \n",
       "103         104           6.3          2.9           5.6          1.8   \n",
       "104         105           6.5          3.0           5.8          2.2   \n",
       "\n",
       "       Species  \n",
       "100  virginica  \n",
       "101  virginica  \n",
       "102  virginica  \n",
       "103  virginica  \n",
       "104  virginica  "
      ],
      "text/html": "<div>\n<style scoped>\n    .dataframe tbody tr th:only-of-type {\n        vertical-align: middle;\n    }\n\n    .dataframe tbody tr th {\n        vertical-align: top;\n    }\n\n    .dataframe thead th {\n        text-align: right;\n    }\n</style>\n<table border=\"1\" class=\"dataframe\">\n  <thead>\n    <tr style=\"text-align: right;\">\n      <th></th>\n      <th>Unnamed: 0</th>\n      <th>Sepal.Length</th>\n      <th>Sepal.Width</th>\n      <th>Petal.Length</th>\n      <th>Petal.Width</th>\n      <th>Species</th>\n    </tr>\n  </thead>\n  <tbody>\n    <tr>\n      <th>100</th>\n      <td>101</td>\n      <td>6.3</td>\n      <td>3.3</td>\n      <td>6.0</td>\n      <td>2.5</td>\n      <td>virginica</td>\n    </tr>\n    <tr>\n      <th>101</th>\n      <td>102</td>\n      <td>5.8</td>\n      <td>2.7</td>\n      <td>5.1</td>\n      <td>1.9</td>\n      <td>virginica</td>\n    </tr>\n    <tr>\n      <th>102</th>\n      <td>103</td>\n      <td>7.1</td>\n      <td>3.0</td>\n      <td>5.9</td>\n      <td>2.1</td>\n      <td>virginica</td>\n    </tr>\n    <tr>\n      <th>103</th>\n      <td>104</td>\n      <td>6.3</td>\n      <td>2.9</td>\n      <td>5.6</td>\n      <td>1.8</td>\n      <td>virginica</td>\n    </tr>\n    <tr>\n      <th>104</th>\n      <td>105</td>\n      <td>6.5</td>\n      <td>3.0</td>\n      <td>5.8</td>\n      <td>2.2</td>\n      <td>virginica</td>\n    </tr>\n  </tbody>\n</table>\n</div>"
     },
     "metadata": {},
     "execution_count": 16
    }
   ],
   "source": [
    "virginicas.head()"
   ]
  },
  {
   "source": [
    "## sample for train"
   ],
   "cell_type": "markdown",
   "metadata": {}
  },
  {
   "cell_type": "code",
   "execution_count": 19,
   "metadata": {},
   "outputs": [],
   "source": [
    "\n",
    "def some(x, n):\n",
    "    return x[random.sample(x.index, n)]"
   ]
  },
  {
   "cell_type": "code",
   "execution_count": 28,
   "metadata": {},
   "outputs": [
    {
     "output_type": "execute_result",
     "data": {
      "text/plain": [
       "Int64Index([100, 101, 102, 103, 104, 105, 106, 107, 108, 109, 110, 111, 112,\n",
       "            113, 114, 115, 116, 117, 118, 119, 120, 121, 122, 123, 124, 125,\n",
       "            126, 127, 128, 129, 130, 131, 132, 133, 134, 135, 136, 137, 138,\n",
       "            139, 140, 141, 142, 143, 144, 145, 146, 147, 148, 149],\n",
       "           dtype='int64')"
      ]
     },
     "metadata": {},
     "execution_count": 28
    }
   ],
   "source": [
    "virginicas.index"
   ]
  },
  {
   "cell_type": "code",
   "execution_count": 192,
   "metadata": {},
   "outputs": [],
   "source": [
    "trainSetosas=setosas.sample(frac=0.6)\n",
    "trainVersi=versicolors.sample(frac=0.6)\n",
    "trainVirgin=virginicas.sample(frac=0.6)\n",
    "testSetosas=setosas.sample(frac=0.4)\n",
    "testVersi=versicolors.sample(frac=0.4)\n",
    "testVirgin=virginicas.sample(frac=0.4)"
   ]
  },
  {
   "cell_type": "code",
   "execution_count": 240,
   "metadata": {},
   "outputs": [],
   "source": [
    "wholeData=[]\n",
    "for data in [setosas,versicolors,virginicas]:\n",
    "    values=data[['Sepal.Length',\t'Sepal.Width',\t'Petal.Length',\t'Petal.Width']]\n",
    "    wholeData.append(np.asarray(values.iloc[:,:]))"
   ]
  },
  {
   "cell_type": "code",
   "execution_count": 214,
   "metadata": {},
   "outputs": [],
   "source": [
    "trainData=[]\n",
    "for train in [trainSetosas,trainVersi,trainVirgin]:\n",
    "    values=train[['Sepal.Length',\t'Sepal.Width',\t'Petal.Length',\t'Petal.Width']]\n",
    "    trainData.append(np.asarray(values.iloc[:,:]))\n",
    "testData=[]\n",
    "for test in [testSetosas,testVersi,testVirgin]:\n",
    "    values=test[['Sepal.Length',\t'Sepal.Width',\t'Petal.Length',\t'Petal.Width']]\n",
    "    testData.append(np.asarray(values.iloc[:,:]))"
   ]
  },
  {
   "source": [
    "## Train"
   ],
   "cell_type": "markdown",
   "metadata": {}
  },
  {
   "cell_type": "code",
   "execution_count": 61,
   "metadata": {},
   "outputs": [],
   "source": [
    "def addSingleBias(X):\n",
    "    N=X.shape[0]\n",
    "    X=np.reshape(X,[N,1])\n",
    "    bias_vector=np.ones([1,1])\n",
    "    return np.row_stack((bias_vector,X))\n",
    "def addBias(X):\n",
    "    '''\n",
    "    为维数为N,d的向量X添加偏置向量\n",
    "    Args:\n",
    "        X(numpy.ndarray):shape为[N,d]\n",
    "    Returns:\n",
    "        numpy.ndarray:shape为[N,d+1]，且第一列列向量全为1\n",
    "    '''\n",
    "    \n",
    "    try:\n",
    "        N=X.shape[0]\n",
    "        d=X.shape[1]\n",
    "        if d == 1:\n",
    "            return addSingleBias(X)\n",
    "        bias_vector=np.ones([N,1])\n",
    "        return np.column_stack((bias_vector,X))\n",
    "        \n",
    "    except:\n",
    "        return addSingleBias(X)"
   ]
  },
  {
   "cell_type": "code",
   "execution_count": 216,
   "metadata": {},
   "outputs": [],
   "source": [
    "trainData=np.asarray(trainData)\n",
    "testData=np.asarray(testData)"
   ]
  },
  {
   "cell_type": "code",
   "execution_count": 195,
   "metadata": {},
   "outputs": [
    {
     "output_type": "execute_result",
     "data": {
      "text/plain": [
       "array([[5.2, 3.4, 1.4, 0.2],\n",
       "       [5.4, 3.4, 1.5, 0.4],\n",
       "       [5.1, 3.8, 1.9, 0.4],\n",
       "       [5. , 3.5, 1.6, 0.6],\n",
       "       [4.6, 3.2, 1.4, 0.2]])"
      ]
     },
     "metadata": {},
     "execution_count": 195
    }
   ],
   "source": [
    "trainData[0][:5]"
   ]
  },
  {
   "source": [
    "# 整体"
   ],
   "cell_type": "markdown",
   "metadata": {}
  },
  {
   "cell_type": "code",
   "execution_count": 227,
   "metadata": {},
   "outputs": [],
   "source": [
    "def Perce2(TrainX_sh,TrainY_sh):\n",
    "    learning_rate=1\n",
    "    minErr=60\n",
    "    W=np.zeros([5,1])\n",
    "    for iteration in range(20):\n",
    "        for i in range(len(TrainX_sh)):\n",
    "            X=TrainX_sh[i].reshape([5,1])\n",
    "            y=TrainY_sh[i]\n",
    "            if np.dot(W.transpose(),X)*y<=0:\n",
    "                W_temp=W+learning_rate*y*X\n",
    "                res=np.dot(TrainX_sh,W)*TrainY_sh\n",
    "                err1=len(res[res<=0])\n",
    "                res=np.dot(TrainX_sh,W_temp)*TrainY_sh\n",
    "                err2=len(res[res<=0])\n",
    "                # if err1>=err2:\n",
    "                W=W_temp\n",
    "            res=np.dot(TrainX_sh,W)*TrainY_sh\n",
    "            err1=len(res[res<=0])\n",
    "            if err1<minErr:\n",
    "                    minErr=err1\n",
    "                    # print('******************')\n",
    "                    # print(W)\n",
    "                    W_end=W\n",
    "                    # print(err1) \n",
    "        if minErr==0:\n",
    "            break\n",
    "    return W_end\n",
    "        "
   ]
  },
  {
   "source": [
    "## train for weights"
   ],
   "cell_type": "markdown",
   "metadata": {}
  },
  {
   "cell_type": "code",
   "execution_count": 228,
   "metadata": {},
   "outputs": [
    {
     "output_type": "stream",
     "name": "stdout",
     "text": [
      "[0, 1]\n0\n[0, 2]\n0\n[1, 2]\n0\n"
     ]
    }
   ],
   "source": [
    "# 1 for left and -1 for right\n",
    "rounds=[[0,1],[0,2],[1,2]]\n",
    "# length of train data for 1 round\n",
    "length=60\n",
    "# Ws\n",
    "Ws=[]\n",
    "for round in rounds:\n",
    "    print(round)\n",
    "    left=round[0]\n",
    "    right=round[1]\n",
    "    # load data\n",
    "    X1=addBias(trainData[left])\n",
    "    X2=addBias(trainData[right])\n",
    "    TrainX=np.row_stack([X1,X2])\n",
    "    TrainY=np.r_[np.ones([len(X1),1]),-1*np.ones([len(X2),1])]\n",
    "    X1_t=addBias(testData[left])\n",
    "    X2_t=addBias(testData[right])\n",
    "    TestX=np.r_[X1_t,X2_t]\n",
    "    TestY=np.r_[np.ones([len(X1_t),1]),-1*np.ones([len(X2_t),1])]\n",
    "   \n",
    "    # shuffle\n",
    "    numArray=np.arange(length)\n",
    "    np.random.shuffle(numArray)\n",
    "\n",
    "    TrainX_sh=TrainX[numArray]\n",
    "    TrainY_sh=TrainY[numArray]\n",
    "    # train\n",
    "    W_end=Perce2(TrainX_sh,TrainY_sh)\n",
    "    Ws.append(W_end)\n",
    "    # test\n",
    "    testRes=np.dot(TestX,W_end)*TestY\n",
    "    err=len(testRes[testRes<=0])\n",
    "    print(err)"
   ]
  },
  {
   "source": [
    "## test OvO"
   ],
   "cell_type": "markdown",
   "metadata": {}
  },
  {
   "cell_type": "code",
   "execution_count": 243,
   "metadata": {},
   "outputs": [
    {
     "output_type": "stream",
     "name": "stdout",
     "text": [
      "0\n1\n2\n"
     ]
    }
   ],
   "source": [
    "for test_i in range(len(testData)):\n",
    "    print(test_i)\n",
    "    X_t=addBias(testData[test_i])\n",
    "    # X_t=addBias(wholeData[test_i])\n",
    "    for X in X_t:\n",
    "        records=np.zeros(len(testData))\n",
    "        for i in range(len(rounds)):\n",
    "            round=rounds[i]\n",
    "            # print(round)\n",
    "            left=round[0]\n",
    "            right=round[1]\n",
    "            W=Ws[i]\n",
    "            # print(np.dot(X,W))\n",
    "            res=np.dot(X,W)\n",
    "            if res>0:\n",
    "                records[left]+=1\n",
    "            else:\n",
    "                records[right]+=1\n",
    "        # print(records)\n",
    "        # print(np.argmax(records))\n",
    "        if test_i!=np.argmax(records):\n",
    "            print(W)\n",
    "            print(X)  \n"
   ]
  },
  {
   "source": [
    "# 单轮"
   ],
   "cell_type": "markdown",
   "metadata": {}
  },
  {
   "source": [
    "## shuffle data"
   ],
   "cell_type": "markdown",
   "metadata": {}
  },
  {
   "cell_type": "code",
   "execution_count": 196,
   "metadata": {},
   "outputs": [],
   "source": [
    "length=60\n",
    "numArray=np.arange(length)\n",
    "np.random.shuffle(numArray)"
   ]
  },
  {
   "cell_type": "code",
   "execution_count": 197,
   "metadata": {},
   "outputs": [
    {
     "output_type": "stream",
     "name": "stdout",
     "text": [
      "[[1.  5.  3.4 1.6 0.4]\n [1.  4.6 3.4 1.4 0.3]\n [1.  4.4 3.  1.3 0.2]\n [1.  5.2 3.5 1.5 0.2]\n [1.  5.4 3.9 1.7 0.4]\n [1.  6.2 2.2 4.5 1.5]\n [1.  6.1 3.  4.6 1.4]\n [1.  6.9 3.1 4.9 1.5]\n [1.  6.  2.9 4.5 1.5]\n [1.  5.5 2.5 4.  1.3]]\n[[ 1.]\n [ 1.]\n [ 1.]\n [ 1.]\n [ 1.]\n [-1.]\n [-1.]\n [-1.]\n [-1.]\n [-1.]]\n"
     ]
    }
   ],
   "source": [
    "X1=addBias(trainData[0])\n",
    "X2=addBias(trainData[1])\n",
    "TrainX=np.row_stack([X1,X2])\n",
    "TrainY=np.r_[np.ones([len(X1),1]),-1*np.ones([len(X2),1])]\n",
    "print(TrainX[25:35])\n",
    "print(TrainY[25:35])\n",
    "TrainX_sh=TrainX[numArray]\n",
    "TrainY_sh=TrainY[numArray]\n",
    "if np.not_equal(TrainX[numArray[0]],TrainX_sh[0]).any():\n",
    "    print('error!')"
   ]
  },
  {
   "cell_type": "code",
   "execution_count": 198,
   "metadata": {},
   "outputs": [],
   "source": [
    "learning_rate=0.1"
   ]
  },
  {
   "source": [
    "def Perce(X,y,w_ini,epoch=5,step=False,separable=True):\n",
    "    leastWrong=len(y)\n",
    "    totalMistake=len(y)\n",
    "    wT=w_ini.transpose()\n",
    "    for t in range(epoch):\n",
    "        wrong=0\n",
    "        print(t)\n",
    "        for i in range(len(y)):\n",
    "            ynE=np.dot(wT,np.transpose(X[i]))\n",
    "            if ynE*y[i]<=0:\n",
    "                # represent error, need to correct w\n",
    "                wT1=wT+y[i]*X[i]\n",
    "                if separable :\n",
    "                    wrong+=1\n",
    "                    wT=wT1\n",
    "                    if step:\n",
    "                        yield wT,wrong\n",
    "                else:\n",
    "                    res=np.multiply(np.dot(X,wT1.transpose()),y) \n",
    "                    mistake=len(res[res<=0])\n",
    "                    print(mistake)\n",
    "                    if mistake<totalMistake:\n",
    "                        wT=wT1\n",
    "                        totalMistake=mistake\n",
    "                        yield wT,mistake\n",
    "        if separable and wrong<leastWrong:\n",
    "            leastWrong=wrong\n",
    "            print('wrong time: ',end='')\n",
    "            print(wrong)\n",
    "            print(wT)\n",
    "            yield wT,wrong\n",
    "            if wrong==0:\n",
    "                break"
   ],
   "cell_type": "markdown",
   "metadata": {}
  },
  {
   "source": [
    "W=np.zeros([5,1])\n",
    "for i in Perce(TrainX_sh,TrainY_sh,w_ini=W,epoch=5,step=False,separable=False):\n",
    "    print(i)"
   ],
   "cell_type": "markdown",
   "metadata": {}
  },
  {
   "cell_type": "code",
   "execution_count": 153,
   "metadata": {},
   "outputs": [
    {
     "output_type": "execute_result",
     "data": {
      "text/plain": [
       "array([1.])"
      ]
     },
     "metadata": {},
     "execution_count": 153
    }
   ],
   "source": [
    "TrainY_sh[i]"
   ]
  },
  {
   "cell_type": "code",
   "execution_count": 201,
   "metadata": {},
   "outputs": [
    {
     "output_type": "stream",
     "name": "stdout",
     "text": [
      "******************\n[[1. ]\n [5.1]\n [3.8]\n [1.5]\n [0.3]]\n30\n******************\n[[ 1. ]\n [ 0.8]\n [ 6.1]\n [-8.2]\n [-3.3]]\n0\n"
     ]
    }
   ],
   "source": [
    "learning_rate=1\n",
    "minErr=60\n",
    "W=np.zeros([5,1])\n",
    "for iteration in range(20):\n",
    "    for i in range(len(TrainX_sh)):\n",
    "        # print(X1[i])\n",
    "        X=TrainX_sh[i].reshape([5,1])\n",
    "        # print(X)\n",
    "        y=TrainY_sh[i]\n",
    "        # print(X)\n",
    "        # print(y)\n",
    "        if np.dot(W.transpose(),X)*y<=0:\n",
    "            W_temp=W+learning_rate*y*X\n",
    "            # print(W_temp)\n",
    "            res=np.dot(TrainX_sh,W)*TrainY_sh\n",
    "            err1=len(res[res<=0])\n",
    "            res=np.dot(TrainX_sh,W_temp)*TrainY_sh\n",
    "            err2=len(res[res<=0])\n",
    "            \n",
    "            # if err1>=err2:\n",
    "            W=W_temp\n",
    "            # print(err1)\n",
    "            # print(err2) \n",
    "        \n",
    "        res=np.dot(TrainX_sh,W)*TrainY_sh\n",
    "        err1=len(res[res<=0])\n",
    "        # print(err1)\n",
    "        if err1<minErr:\n",
    "                minErr=err1\n",
    "                print('******************')\n",
    "                print(W)\n",
    "                W_end=W\n",
    "                print(err1)        "
   ]
  },
  {
   "source": [
    "## validation"
   ],
   "cell_type": "markdown",
   "metadata": {}
  },
  {
   "cell_type": "code",
   "execution_count": 218,
   "metadata": {},
   "outputs": [
    {
     "output_type": "stream",
     "name": "stdout",
     "text": [
      "0\n0\n"
     ]
    }
   ],
   "source": [
    "# W_end=np.asarray([[ 1.,   0.7 , 3.9 ,-8.2 ,-2.7]])\n",
    "trainRes=np.dot(TrainX_sh,W_end)*TrainY_sh\n",
    "err=len(trainRes[trainRes<=0])\n",
    "print(err)\n",
    "TestX=np.row_stack([addBias(testData[0]),addBias(testData[1])])\n",
    "TestY=np.r_[np.ones([len(testData[0]),1]),-1*np.ones([len(testData[0]),1])]\n",
    "testRes=np.dot(TestX,W_end)*TestY\n",
    "err=len(testRes[testRes<=0])\n",
    "print(err)"
   ]
  },
  {
   "cell_type": "code",
   "execution_count": 219,
   "metadata": {},
   "outputs": [
    {
     "output_type": "stream",
     "name": "stdout",
     "text": [
      "[[5.4 3.7 1.5 0.2]\n [4.8 3.1 1.6 0.2]\n [4.7 3.2 1.3 0.2]]\n[[6.  3.4 4.5 1.6]\n [5.6 2.5 3.9 1.1]\n [6.4 2.9 4.3 1.3]]\n"
     ]
    }
   ],
   "source": [
    "print(testData[0][:3])\n",
    "print(testData[1][:3])"
   ]
  },
  {
   "cell_type": "code",
   "execution_count": 181,
   "metadata": {},
   "outputs": [
    {
     "output_type": "execute_result",
     "data": {
      "text/plain": [
       "array([[ 28.32],\n",
       "       [-41.36],\n",
       "       [-38.81],\n",
       "       [-41.55],\n",
       "       [-44.84],\n",
       "       [ 31.43],\n",
       "       [ 35.37],\n",
       "       [ 32.54],\n",
       "       [ 34.46],\n",
       "       [-39.37],\n",
       "       [-42.15],\n",
       "       [ 34.53],\n",
       "       [ 33.33],\n",
       "       [-46.  ],\n",
       "       [-40.26],\n",
       "       [ 34.1 ],\n",
       "       [-33.16],\n",
       "       [-39.4 ],\n",
       "       [-38.56],\n",
       "       [-43.46],\n",
       "       [ 32.95],\n",
       "       [-40.75],\n",
       "       [-38.5 ],\n",
       "       [-41.32],\n",
       "       [ 31.83],\n",
       "       [ 36.08],\n",
       "       [-37.35],\n",
       "       [-42.45],\n",
       "       [-41.65],\n",
       "       [ 37.69],\n",
       "       [ 29.35],\n",
       "       [-44.42],\n",
       "       [-36.54],\n",
       "       [ 33.88],\n",
       "       [ 32.97],\n",
       "       [-46.39],\n",
       "       [-41.92],\n",
       "       [-43.74],\n",
       "       [ 28.71],\n",
       "       [-38.94],\n",
       "       [ 31.34],\n",
       "       [ 29.91],\n",
       "       [-40.97],\n",
       "       [ 29.45],\n",
       "       [ 32.16],\n",
       "       [ 33.9 ],\n",
       "       [ 30.94],\n",
       "       [ 32.19],\n",
       "       [ 33.66],\n",
       "       [ 32.56],\n",
       "       [-36.38],\n",
       "       [ 33.52],\n",
       "       [-33.38],\n",
       "       [ 33.33],\n",
       "       [ 37.92],\n",
       "       [ 33.18],\n",
       "       [-38.26],\n",
       "       [-38.64],\n",
       "       [-39.33],\n",
       "       [ 35.82]])"
      ]
     },
     "metadata": {},
     "execution_count": 181
    }
   ],
   "source": [
    "W_end=np.asarray([[1. , 4.5, 2.3, 1.3, 0.3]])\n",
    "np.dot(TrainX_sh,W_end.transpose())*TrainY_sh\n"
   ]
  },
  {
   "cell_type": "code",
   "execution_count": 51,
   "metadata": {},
   "outputs": [],
   "source": [
    "foo=np.asarray(values.iloc[:,:])"
   ]
  }
 ]
}