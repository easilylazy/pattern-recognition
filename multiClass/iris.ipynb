{
 "metadata": {
  "language_info": {
   "codemirror_mode": {
    "name": "ipython",
    "version": 3
   },
   "file_extension": ".py",
   "mimetype": "text/x-python",
   "name": "python",
   "nbconvert_exporter": "python",
   "pygments_lexer": "ipython3",
   "version": "3.7.4"
  },
  "orig_nbformat": 2,
  "kernelspec": {
   "name": "python374jvsc74a57bd03f857618d8b6a3d270a8a45aea13fd0dc2a28a907e8d4ef70fe87ce2a92698f8",
   "display_name": "Python 3.7.4 64-bit"
  }
 },
 "nbformat": 4,
 "nbformat_minor": 2,
 "cells": [
  {
   "source": [
    "author: leezeeyee   \n",
    "date: 2021/4/13  \n",
    "link: [github](https://github.com/easilylazy/pattern-recognition) "
   ],
   "cell_type": "markdown",
   "metadata": {}
  },
  {
   "cell_type": "code",
   "execution_count": 2,
   "metadata": {},
   "outputs": [],
   "source": [
    "import pandas as pd\n"
   ]
  },
  {
   "cell_type": "code",
   "execution_count": 48,
   "metadata": {},
   "outputs": [],
   "source": [
    "import random\n",
    "import numpy as np"
   ]
  },
  {
   "source": [
    "## Lecture 9编程作业\n",
    "给定IRIS数据集做如下题目实验，该数据集有三类目标，每个类别有50个样本，每个样本有四维特征。实验时每个类别随机选30个样本进行训练，另外20个样本用于测试。  \n",
    "1. 以感知器算法为基础分类算法，编写一个OVO多类分类器算法，对上述数据集进行实验，分析结果。    \n",
    "2. 编写Softmax算法实现多类别分类，对上述数据集进行实验，分析结果。\n"
   ],
   "cell_type": "markdown",
   "metadata": {}
  },
  {
   "cell_type": "code",
   "execution_count": 6,
   "metadata": {},
   "outputs": [],
   "source": [
    "irisData=pd.read_csv('iris.csv')"
   ]
  },
  {
   "cell_type": "code",
   "execution_count": 7,
   "metadata": {},
   "outputs": [
    {
     "output_type": "execute_result",
     "data": {
      "text/plain": [
       "   Unnamed: 0  Sepal.Length  Sepal.Width  Petal.Length  Petal.Width Species\n",
       "0           1           5.1          3.5           1.4          0.2  setosa\n",
       "1           2           4.9          3.0           1.4          0.2  setosa\n",
       "2           3           4.7          3.2           1.3          0.2  setosa\n",
       "3           4           4.6          3.1           1.5          0.2  setosa\n",
       "4           5           5.0          3.6           1.4          0.2  setosa"
      ],
      "text/html": "<div>\n<style scoped>\n    .dataframe tbody tr th:only-of-type {\n        vertical-align: middle;\n    }\n\n    .dataframe tbody tr th {\n        vertical-align: top;\n    }\n\n    .dataframe thead th {\n        text-align: right;\n    }\n</style>\n<table border=\"1\" class=\"dataframe\">\n  <thead>\n    <tr style=\"text-align: right;\">\n      <th></th>\n      <th>Unnamed: 0</th>\n      <th>Sepal.Length</th>\n      <th>Sepal.Width</th>\n      <th>Petal.Length</th>\n      <th>Petal.Width</th>\n      <th>Species</th>\n    </tr>\n  </thead>\n  <tbody>\n    <tr>\n      <th>0</th>\n      <td>1</td>\n      <td>5.1</td>\n      <td>3.5</td>\n      <td>1.4</td>\n      <td>0.2</td>\n      <td>setosa</td>\n    </tr>\n    <tr>\n      <th>1</th>\n      <td>2</td>\n      <td>4.9</td>\n      <td>3.0</td>\n      <td>1.4</td>\n      <td>0.2</td>\n      <td>setosa</td>\n    </tr>\n    <tr>\n      <th>2</th>\n      <td>3</td>\n      <td>4.7</td>\n      <td>3.2</td>\n      <td>1.3</td>\n      <td>0.2</td>\n      <td>setosa</td>\n    </tr>\n    <tr>\n      <th>3</th>\n      <td>4</td>\n      <td>4.6</td>\n      <td>3.1</td>\n      <td>1.5</td>\n      <td>0.2</td>\n      <td>setosa</td>\n    </tr>\n    <tr>\n      <th>4</th>\n      <td>5</td>\n      <td>5.0</td>\n      <td>3.6</td>\n      <td>1.4</td>\n      <td>0.2</td>\n      <td>setosa</td>\n    </tr>\n  </tbody>\n</table>\n</div>"
     },
     "metadata": {},
     "execution_count": 7
    }
   ],
   "source": [
    "irisData.head()"
   ]
  },
  {
   "cell_type": "code",
   "execution_count": 12,
   "metadata": {},
   "outputs": [
    {
     "output_type": "execute_result",
     "data": {
      "text/plain": [
       "'versicolor'"
      ]
     },
     "metadata": {},
     "execution_count": 12
    }
   ],
   "source": [
    "irisData['Species'][60]"
   ]
  },
  {
   "source": [
    "## types"
   ],
   "cell_type": "markdown",
   "metadata": {}
  },
  {
   "cell_type": "code",
   "execution_count": 13,
   "metadata": {},
   "outputs": [],
   "source": [
    "setosas=irisData[irisData['Species']=='setosa']\n",
    "versicolors=irisData[irisData['Species']=='versicolor']\n",
    "virginicas=irisData[irisData['Species']=='virginica']"
   ]
  },
  {
   "cell_type": "code",
   "execution_count": 14,
   "metadata": {},
   "outputs": [
    {
     "output_type": "execute_result",
     "data": {
      "text/plain": [
       "   Unnamed: 0  Sepal.Length  Sepal.Width  Petal.Length  Petal.Width Species\n",
       "0           1           5.1          3.5           1.4          0.2  setosa\n",
       "1           2           4.9          3.0           1.4          0.2  setosa\n",
       "2           3           4.7          3.2           1.3          0.2  setosa\n",
       "3           4           4.6          3.1           1.5          0.2  setosa\n",
       "4           5           5.0          3.6           1.4          0.2  setosa"
      ],
      "text/html": "<div>\n<style scoped>\n    .dataframe tbody tr th:only-of-type {\n        vertical-align: middle;\n    }\n\n    .dataframe tbody tr th {\n        vertical-align: top;\n    }\n\n    .dataframe thead th {\n        text-align: right;\n    }\n</style>\n<table border=\"1\" class=\"dataframe\">\n  <thead>\n    <tr style=\"text-align: right;\">\n      <th></th>\n      <th>Unnamed: 0</th>\n      <th>Sepal.Length</th>\n      <th>Sepal.Width</th>\n      <th>Petal.Length</th>\n      <th>Petal.Width</th>\n      <th>Species</th>\n    </tr>\n  </thead>\n  <tbody>\n    <tr>\n      <th>0</th>\n      <td>1</td>\n      <td>5.1</td>\n      <td>3.5</td>\n      <td>1.4</td>\n      <td>0.2</td>\n      <td>setosa</td>\n    </tr>\n    <tr>\n      <th>1</th>\n      <td>2</td>\n      <td>4.9</td>\n      <td>3.0</td>\n      <td>1.4</td>\n      <td>0.2</td>\n      <td>setosa</td>\n    </tr>\n    <tr>\n      <th>2</th>\n      <td>3</td>\n      <td>4.7</td>\n      <td>3.2</td>\n      <td>1.3</td>\n      <td>0.2</td>\n      <td>setosa</td>\n    </tr>\n    <tr>\n      <th>3</th>\n      <td>4</td>\n      <td>4.6</td>\n      <td>3.1</td>\n      <td>1.5</td>\n      <td>0.2</td>\n      <td>setosa</td>\n    </tr>\n    <tr>\n      <th>4</th>\n      <td>5</td>\n      <td>5.0</td>\n      <td>3.6</td>\n      <td>1.4</td>\n      <td>0.2</td>\n      <td>setosa</td>\n    </tr>\n  </tbody>\n</table>\n</div>"
     },
     "metadata": {},
     "execution_count": 14
    }
   ],
   "source": [
    "setosas.head()"
   ]
  },
  {
   "cell_type": "code",
   "execution_count": 15,
   "metadata": {},
   "outputs": [
    {
     "output_type": "execute_result",
     "data": {
      "text/plain": [
       "    Unnamed: 0  Sepal.Length  Sepal.Width  Petal.Length  Petal.Width  \\\n",
       "50          51           7.0          3.2           4.7          1.4   \n",
       "51          52           6.4          3.2           4.5          1.5   \n",
       "52          53           6.9          3.1           4.9          1.5   \n",
       "53          54           5.5          2.3           4.0          1.3   \n",
       "54          55           6.5          2.8           4.6          1.5   \n",
       "\n",
       "       Species  \n",
       "50  versicolor  \n",
       "51  versicolor  \n",
       "52  versicolor  \n",
       "53  versicolor  \n",
       "54  versicolor  "
      ],
      "text/html": "<div>\n<style scoped>\n    .dataframe tbody tr th:only-of-type {\n        vertical-align: middle;\n    }\n\n    .dataframe tbody tr th {\n        vertical-align: top;\n    }\n\n    .dataframe thead th {\n        text-align: right;\n    }\n</style>\n<table border=\"1\" class=\"dataframe\">\n  <thead>\n    <tr style=\"text-align: right;\">\n      <th></th>\n      <th>Unnamed: 0</th>\n      <th>Sepal.Length</th>\n      <th>Sepal.Width</th>\n      <th>Petal.Length</th>\n      <th>Petal.Width</th>\n      <th>Species</th>\n    </tr>\n  </thead>\n  <tbody>\n    <tr>\n      <th>50</th>\n      <td>51</td>\n      <td>7.0</td>\n      <td>3.2</td>\n      <td>4.7</td>\n      <td>1.4</td>\n      <td>versicolor</td>\n    </tr>\n    <tr>\n      <th>51</th>\n      <td>52</td>\n      <td>6.4</td>\n      <td>3.2</td>\n      <td>4.5</td>\n      <td>1.5</td>\n      <td>versicolor</td>\n    </tr>\n    <tr>\n      <th>52</th>\n      <td>53</td>\n      <td>6.9</td>\n      <td>3.1</td>\n      <td>4.9</td>\n      <td>1.5</td>\n      <td>versicolor</td>\n    </tr>\n    <tr>\n      <th>53</th>\n      <td>54</td>\n      <td>5.5</td>\n      <td>2.3</td>\n      <td>4.0</td>\n      <td>1.3</td>\n      <td>versicolor</td>\n    </tr>\n    <tr>\n      <th>54</th>\n      <td>55</td>\n      <td>6.5</td>\n      <td>2.8</td>\n      <td>4.6</td>\n      <td>1.5</td>\n      <td>versicolor</td>\n    </tr>\n  </tbody>\n</table>\n</div>"
     },
     "metadata": {},
     "execution_count": 15
    }
   ],
   "source": [
    "versicolors.head()"
   ]
  },
  {
   "cell_type": "code",
   "execution_count": 16,
   "metadata": {},
   "outputs": [
    {
     "output_type": "execute_result",
     "data": {
      "text/plain": [
       "     Unnamed: 0  Sepal.Length  Sepal.Width  Petal.Length  Petal.Width  \\\n",
       "100         101           6.3          3.3           6.0          2.5   \n",
       "101         102           5.8          2.7           5.1          1.9   \n",
       "102         103           7.1          3.0           5.9          2.1   \n",
       "103         104           6.3          2.9           5.6          1.8   \n",
       "104         105           6.5          3.0           5.8          2.2   \n",
       "\n",
       "       Species  \n",
       "100  virginica  \n",
       "101  virginica  \n",
       "102  virginica  \n",
       "103  virginica  \n",
       "104  virginica  "
      ],
      "text/html": "<div>\n<style scoped>\n    .dataframe tbody tr th:only-of-type {\n        vertical-align: middle;\n    }\n\n    .dataframe tbody tr th {\n        vertical-align: top;\n    }\n\n    .dataframe thead th {\n        text-align: right;\n    }\n</style>\n<table border=\"1\" class=\"dataframe\">\n  <thead>\n    <tr style=\"text-align: right;\">\n      <th></th>\n      <th>Unnamed: 0</th>\n      <th>Sepal.Length</th>\n      <th>Sepal.Width</th>\n      <th>Petal.Length</th>\n      <th>Petal.Width</th>\n      <th>Species</th>\n    </tr>\n  </thead>\n  <tbody>\n    <tr>\n      <th>100</th>\n      <td>101</td>\n      <td>6.3</td>\n      <td>3.3</td>\n      <td>6.0</td>\n      <td>2.5</td>\n      <td>virginica</td>\n    </tr>\n    <tr>\n      <th>101</th>\n      <td>102</td>\n      <td>5.8</td>\n      <td>2.7</td>\n      <td>5.1</td>\n      <td>1.9</td>\n      <td>virginica</td>\n    </tr>\n    <tr>\n      <th>102</th>\n      <td>103</td>\n      <td>7.1</td>\n      <td>3.0</td>\n      <td>5.9</td>\n      <td>2.1</td>\n      <td>virginica</td>\n    </tr>\n    <tr>\n      <th>103</th>\n      <td>104</td>\n      <td>6.3</td>\n      <td>2.9</td>\n      <td>5.6</td>\n      <td>1.8</td>\n      <td>virginica</td>\n    </tr>\n    <tr>\n      <th>104</th>\n      <td>105</td>\n      <td>6.5</td>\n      <td>3.0</td>\n      <td>5.8</td>\n      <td>2.2</td>\n      <td>virginica</td>\n    </tr>\n  </tbody>\n</table>\n</div>"
     },
     "metadata": {},
     "execution_count": 16
    }
   ],
   "source": [
    "virginicas.head()"
   ]
  },
  {
   "source": [
    "## sample for train"
   ],
   "cell_type": "markdown",
   "metadata": {}
  },
  {
   "cell_type": "code",
   "execution_count": 19,
   "metadata": {},
   "outputs": [],
   "source": [
    "\n",
    "def some(x, n):\n",
    "    return x[random.sample(x.index, n)]"
   ]
  },
  {
   "cell_type": "code",
   "execution_count": 28,
   "metadata": {},
   "outputs": [
    {
     "output_type": "execute_result",
     "data": {
      "text/plain": [
       "Int64Index([100, 101, 102, 103, 104, 105, 106, 107, 108, 109, 110, 111, 112,\n",
       "            113, 114, 115, 116, 117, 118, 119, 120, 121, 122, 123, 124, 125,\n",
       "            126, 127, 128, 129, 130, 131, 132, 133, 134, 135, 136, 137, 138,\n",
       "            139, 140, 141, 142, 143, 144, 145, 146, 147, 148, 149],\n",
       "           dtype='int64')"
      ]
     },
     "metadata": {},
     "execution_count": 28
    }
   ],
   "source": [
    "virginicas.index"
   ]
  },
  {
   "cell_type": "code",
   "execution_count": 31,
   "metadata": {},
   "outputs": [],
   "source": [
    "trainSetosas=setosas.sample(frac=0.6)\n",
    "trainVersi=versicolors.sample(frac=0.6)\n",
    "trainVirgin=virginicas.sample(frac=0.6)"
   ]
  },
  {
   "cell_type": "code",
   "execution_count": 58,
   "metadata": {},
   "outputs": [],
   "source": [
    "trainData=[]\n",
    "for train in [trainSetosas,trainVersi,trainVirgin]:\n",
    "    values=train[['Sepal.Length',\t'Sepal.Width',\t'Petal.Length',\t'Petal.Width']]\n",
    "    trainData.append(np.asarray(values.iloc[:,:]))"
   ]
  },
  {
   "source": [
    "## Train"
   ],
   "cell_type": "markdown",
   "metadata": {}
  },
  {
   "cell_type": "code",
   "execution_count": 61,
   "metadata": {},
   "outputs": [],
   "source": [
    "def addSingleBias(X):\n",
    "    N=X.shape[0]\n",
    "    X=np.reshape(X,[N,1])\n",
    "    bias_vector=np.ones([1,1])\n",
    "    return np.row_stack((bias_vector,X))\n",
    "def addBias(X):\n",
    "    '''\n",
    "    为维数为N,d的向量X添加偏置向量\n",
    "    Args:\n",
    "        X(numpy.ndarray):shape为[N,d]\n",
    "    Returns:\n",
    "        numpy.ndarray:shape为[N,d+1]，且第一列列向量全为1\n",
    "    '''\n",
    "    \n",
    "    try:\n",
    "        N=X.shape[0]\n",
    "        d=X.shape[1]\n",
    "        if d == 1:\n",
    "            return addSingleBias(X)\n",
    "        bias_vector=np.ones([N,1])\n",
    "        return np.column_stack((bias_vector,X))\n",
    "        \n",
    "    except:\n",
    "        return addSingleBias(X)"
   ]
  },
  {
   "cell_type": "code",
   "execution_count": 59,
   "metadata": {},
   "outputs": [],
   "source": [
    "trainData=np.asarray(trainData)"
   ]
  },
  {
   "cell_type": "code",
   "execution_count": 62,
   "metadata": {},
   "outputs": [
    {
     "output_type": "execute_result",
     "data": {
      "text/plain": [
       "array([[5.4, 3.9, 1.3, 0.4],\n",
       "       [5.7, 3.8, 1.7, 0.3],\n",
       "       [4.5, 2.3, 1.3, 0.3],\n",
       "       [5. , 3.4, 1.5, 0.2],\n",
       "       [5.2, 3.4, 1.4, 0.2]])"
      ]
     },
     "metadata": {},
     "execution_count": 62
    }
   ],
   "source": [
    "trainData[0][:5]"
   ]
  },
  {
   "source": [
    "## shuffle data"
   ],
   "cell_type": "markdown",
   "metadata": {}
  },
  {
   "cell_type": "code",
   "execution_count": 98,
   "metadata": {},
   "outputs": [],
   "source": [
    "length=60\n",
    "numArray=np.arange(length)\n",
    "np.random.shuffle(numArray)"
   ]
  },
  {
   "cell_type": "code",
   "execution_count": 108,
   "metadata": {},
   "outputs": [
    {
     "output_type": "stream",
     "name": "stdout",
     "text": [
      "[[1.  5.  3.3 1.4 0.2]\n [1.  5.2 3.5 1.5 0.2]\n [1.  5.1 3.7 1.5 0.4]\n [1.  4.4 3.  1.3 0.2]\n [1.  5.1 3.5 1.4 0.2]\n [1.  6.  2.7 5.1 1.6]\n [1.  5.6 3.  4.5 1.5]\n [1.  6.  2.2 4.  1. ]\n [1.  5.7 2.8 4.1 1.3]\n [1.  6.3 2.3 4.4 1.3]]\n[ 1.  1.  1.  1.  1. -1. -1. -1. -1. -1.]\n"
     ]
    }
   ],
   "source": [
    "X1=addBias(trainData[0])\n",
    "X2=addBias(trainData[1])\n",
    "TrainX=np.row_stack([X1,X2])\n",
    "TrainY=np.zeros(len(TrainX))\n",
    "train=np.r_[X1,X2]\n",
    "TrainY[:len(X1)]=1\n",
    "TrainY[len(X1):]=-1\n",
    "print(TrainX[25:35])\n",
    "print(TrainY[25:35])\n",
    "TrainX_sh=TrainX[numArray]\n",
    "TrainY_sh=TrainY[numArray]\n",
    "if np.not_equal(TrainX[numArray[0]],TrainX_sh[0]).any():\n",
    "    print('error!')"
   ]
  },
  {
   "cell_type": "code",
   "execution_count": 87,
   "metadata": {},
   "outputs": [],
   "source": [
    "W=np.zeros([5,1])"
   ]
  },
  {
   "cell_type": "code",
   "execution_count": 92,
   "metadata": {},
   "outputs": [
    {
     "output_type": "execute_result",
     "data": {
      "text/plain": [
       "array([[0., 0., 0.],\n",
       "       [0., 0., 0.],\n",
       "       [0., 0., 0.],\n",
       "       [0., 0., 0.],\n",
       "       [0., 0., 0.],\n",
       "       [0., 0., 0.],\n",
       "       [0., 0., 0.],\n",
       "       [0., 0., 0.],\n",
       "       [0., 0., 0.],\n",
       "       [0., 0., 0.]])"
      ]
     },
     "metadata": {},
     "execution_count": 92
    }
   ],
   "source": [
    "foo=np.zeros([5,3])\n",
    "bar=np.zeros([5,3])\n",
    "np.row_stack([foo,bar])"
   ]
  },
  {
   "cell_type": "code",
   "execution_count": 88,
   "metadata": {},
   "outputs": [
    {
     "output_type": "stream",
     "name": "stdout",
     "text": [
      "30\n0\n0\n0\n0\n0\n0\n0\n0\n0\n0\n0\n0\n0\n0\n0\n0\n0\n0\n0\n0\n0\n0\n0\n0\n0\n0\n0\n0\n0\n0\n"
     ]
    }
   ],
   "source": [
    "\n",
    "for i in range(len(X1)):\n",
    "    # print(X1[i])\n",
    "    X=X1[i].reshape([5,1])\n",
    "    # print(X)\n",
    "    y=1\n",
    "    if np.dot(W.transpose(),X)<=0:\n",
    "        W_temp=W+y*X\n",
    "        # print(W_temp)\n",
    "        res=np.dot(X1,W)\n",
    "        err1=len(res[res<=0])\n",
    "        res=np.dot(X1,W_temp)\n",
    "        err2=len(res[res<=0])\n",
    "        print(err1)\n",
    "        # print(err2)\n",
    "        if err1>err2:\n",
    "            W=W_temp\n",
    "    \n",
    "    res=np.dot(X1,W)\n",
    "    err1=len(res[res<=0])\n",
    "    print(err1)\n",
    "    "
   ]
  },
  {
   "cell_type": "code",
   "execution_count": 51,
   "metadata": {},
   "outputs": [],
   "source": [
    "foo=np.asarray(values.iloc[:,:])"
   ]
  },
  {
   "cell_type": "code",
   "execution_count": 52,
   "metadata": {},
   "outputs": [
    {
     "output_type": "execute_result",
     "data": {
      "text/plain": [
       "array([[5.4, 3.9, 1.3, 0.4],\n",
       "       [5.7, 3.8, 1.7, 0.3],\n",
       "       [4.5, 2.3, 1.3, 0.3],\n",
       "       [5. , 3.4, 1.5, 0.2],\n",
       "       [5.2, 3.4, 1.4, 0.2],\n",
       "       [5. , 3. , 1.6, 0.2],\n",
       "       [5. , 3.6, 1.4, 0.2],\n",
       "       [4.8, 3.4, 1.9, 0.2],\n",
       "       [4.9, 3.1, 1.5, 0.2],\n",
       "       [4.4, 2.9, 1.4, 0.2],\n",
       "       [5.1, 3.3, 1.7, 0.5],\n",
       "       [5.8, 4. , 1.2, 0.2],\n",
       "       [4.6, 3.6, 1. , 0.2],\n",
       "       [5.4, 3.7, 1.5, 0.2],\n",
       "       [5. , 3.4, 1.6, 0.4],\n",
       "       [4.6, 3.4, 1.4, 0.3],\n",
       "       [4.9, 3. , 1.4, 0.2],\n",
       "       [4.8, 3.4, 1.6, 0.2],\n",
       "       [4.9, 3.1, 1.5, 0.1],\n",
       "       [4.3, 3. , 1.1, 0.1],\n",
       "       [4.6, 3.2, 1.4, 0.2],\n",
       "       [4.4, 3.2, 1.3, 0.2],\n",
       "       [5. , 3.5, 1.3, 0.3],\n",
       "       [4.9, 3.6, 1.4, 0.1],\n",
       "       [5.3, 3.7, 1.5, 0.2],\n",
       "       [5. , 3.3, 1.4, 0.2],\n",
       "       [5.2, 3.5, 1.5, 0.2],\n",
       "       [5.1, 3.7, 1.5, 0.4],\n",
       "       [4.4, 3. , 1.3, 0.2],\n",
       "       [5.1, 3.5, 1.4, 0.2]])"
      ]
     },
     "metadata": {},
     "execution_count": 52
    }
   ],
   "source": [
    "foo"
   ]
  },
  {
   "cell_type": "code",
   "execution_count": null,
   "metadata": {},
   "outputs": [],
   "source": []
  }
 ]
}