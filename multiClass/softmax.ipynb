{
 "metadata": {
  "language_info": {
   "codemirror_mode": {
    "name": "ipython",
    "version": 3
   },
   "file_extension": ".py",
   "mimetype": "text/x-python",
   "name": "python",
   "nbconvert_exporter": "python",
   "pygments_lexer": "ipython3",
   "version": "3.7.4"
  },
  "orig_nbformat": 2,
  "kernelspec": {
   "name": "python374jvsc74a57bd03f857618d8b6a3d270a8a45aea13fd0dc2a28a907e8d4ef70fe87ce2a92698f8",
   "display_name": "Python 3.7.4 64-bit"
  }
 },
 "nbformat": 4,
 "nbformat_minor": 2,
 "cells": [
  {
   "cell_type": "code",
   "execution_count": 1,
   "metadata": {},
   "outputs": [],
   "source": [
    "## softmax\n"
   ]
  },
  {
   "cell_type": "code",
   "execution_count": 2,
   "metadata": {},
   "outputs": [],
   "source": [
    "import numpy as np"
   ]
  },
  {
   "cell_type": "code",
   "execution_count": 3,
   "metadata": {},
   "outputs": [],
   "source": [
    "# k for class num; N for dimension of data\n",
    "K=3\n",
    "N=3\n",
    "W=np.zeros([K,N])"
   ]
  },
  {
   "cell_type": "code",
   "execution_count": 4,
   "metadata": {},
   "outputs": [],
   "source": [
    "# M for the item num of data\n",
    "M=4\n",
    "X=np.array([\n",
    "    [1,3,0],\n",
    "    [1,3,6],\n",
    "    [1,0,3],\n",
    "    [1,-3,0],\n",
    "])\n",
    "Y=np.array([\n",
    "    [1,0,0],\n",
    "    [1,0,0],\n",
    "    [0,1,0],\n",
    "    [0,0,1],\n",
    "])\n"
   ]
  },
  {
   "cell_type": "code",
   "execution_count": 5,
   "metadata": {},
   "outputs": [
    {
     "output_type": "execute_result",
     "data": {
      "text/plain": [
       "2"
      ]
     },
     "metadata": {},
     "execution_count": 5
    }
   ],
   "source": [
    "y=Y[3]\n",
    "y[y[y==1]]\n",
    "np.where(y==1)[0][0]\n",
    "np.where(y==np.max(y))[0][0]"
   ]
  },
  {
   "cell_type": "code",
   "execution_count": 44,
   "metadata": {
    "tags": []
   },
   "outputs": [
    {
     "output_type": "stream",
     "name": "stdout",
     "text": [
      "S\n[[0. 0. 0.]\n [0. 0. 0.]\n [0. 0. 0.]\n [0. 0. 0.]]\ndeltaE\n[[-6.66666667e-01 -5.00000000e+00 -3.00000000e+00]\n [ 3.33333333e-01  1.00000000e+00 -2.22044605e-16]\n [ 3.33333333e-01  4.00000000e+00  3.00000000e+00]]\nW\n[[ 6.66666667e-01  5.00000000e+00  3.00000000e+00]\n [-3.33333333e-01 -1.00000000e+00  2.22044605e-16]\n [-3.33333333e-01 -4.00000000e+00 -3.00000000e+00]]\nS\n[[ 15.66666667  -3.33333333 -12.33333333]\n [ 33.66666667  -3.33333333 -30.33333333]\n [  9.66666667  -0.33333333  -9.33333333]\n [-14.33333333   2.66666667  11.66666667]]\ndeltaE\n[[ 9.99954591e-01 -1.68257894e-08  2.99986379e+00]\n [-9.99831202e-01 -3.70166920e-04 -2.99986381e+00]\n [-1.23388978e-04  3.70183745e-04  1.68076262e-08]]\nW\n[[-3.33287924e-01  5.00000002e+00  1.36210413e-04]\n [ 6.66497869e-01 -9.99629833e-01  2.99986381e+00]\n [-3.33209944e-01 -4.00037018e+00 -3.00000002e+00]]\nS\n[[ 14.66671213  -2.33239163 -12.3343205 ]\n [ 14.66752939  15.66679121 -30.3343206 ]\n [ -0.33287929   9.66608929  -9.33320999]\n [-15.33328797   3.66538737  11.66790061]]\ndeltaE\n[[-7.30868015e-01 -2.19274038e+00 -4.38534418e+00]\n [ 7.31202518e-01  2.19173685e+00  4.38534416e+00]\n [-3.34503049e-04  1.00352598e-03  1.68194069e-08]]\nW\n[[ 0.39758009  7.1927404   4.38548039]\n [-0.06470465 -3.19136669 -1.38548035]\n [-0.33287544 -4.00137371 -3.00000003]]\nS\n[[ 21.97580128  -9.63880471 -12.33699657]\n [ 48.28868361 -17.95168684 -30.33699677]\n [ 13.55402126  -4.22114571  -9.33287554]\n [-21.1806411    9.50939541  11.67124569]]\ndeltaE\n[[ 9.99999981e-01 -7.41537958e-14  2.99999994e+00]\n [-8.96770940e-01 -3.09687122e-01 -2.99999994e+00]\n [-1.03229040e-01  3.09687122e-01  3.44721411e-10]]\nW\n[[-0.60241989  7.1927404   1.38548045]\n [ 0.83206629 -2.88167957  1.61451959]\n [-0.2296464  -4.31106083 -3.00000003]]\nsuccess\n"
     ]
    }
   ],
   "source": [
    "## compute si\n",
    "softMaxY=np.zeros(K)\n",
    "# step size\n",
    "stepSize=1\n",
    "# initialize W\n",
    "W=np.zeros([K,N])\n",
    "for step in range(5):\n",
    "    S=np.dot(X,np.transpose(W))\n",
    "    softMaxS=np.exp(S)\n",
    "    print('S')\n",
    "    print(S)\n",
    "    # print('softMaxS')\n",
    "    # print(softMaxS)\n",
    "\n",
    "    softMaxY=softMaxS/(np.sum(softMaxS,axis=1)[:, np.newaxis])\n",
    "    # print(np.sum(softMaxS,axis=1))\n",
    "    deltaE=np.dot(np.transpose(softMaxY-Y),X)\n",
    "    print('deltaE')\n",
    "    print(deltaE)\n",
    "    W-=stepSize*deltaE\n",
    "    print('W')\n",
    "    print(W)\n",
    "    Pass=True\n",
    "    for i in range(M):\n",
    "        y=Y[i]\n",
    "        S=np.dot(W,np.transpose(X[i]))\n",
    "        if np.where(y==1)[0][0] != np.where(S==np.max(S))[0][0]:\n",
    "            Pass=False\n",
    "    if Pass is True:\n",
    "        print('success')\n",
    "        break\n",
    "    "
   ]
  },
  {
   "cell_type": "code",
   "execution_count": 59,
   "metadata": {},
   "outputs": [],
   "source": [
    "Wbest=np.asarray([[-1.82112458,  8.15085755, -1.66016524],\n",
    " [ 0.6273168,  -1.84313639,  2.386462  ],\n",
    " [ 1.19380778, -6.30772116, -0.72629676]])"
   ]
  },
  {
   "cell_type": "code",
   "execution_count": 61,
   "metadata": {},
   "outputs": [
    {
     "output_type": "stream",
     "name": "stdout",
     "text": [
      "[ 22.63144807  -4.90209237 -17.7293557 ]\n[ 12.67045663   9.41667963 -22.08713626]\n[-6.8016203  7.7867028 -0.9850825]\n[-26.27369723   6.15672597  20.11697126]\n"
     ]
    }
   ],
   "source": [
    "for i in range(M):\n",
    "        # print(np.dot(W,np.transpose(X[i])))\n",
    "        Sbest=np.dot(Wbest,np.transpose(X[i]))\n",
    "        print(Sbest)"
   ]
  },
  {
   "cell_type": "code",
   "execution_count": null,
   "metadata": {},
   "outputs": [],
   "source": []
  }
 ]
}