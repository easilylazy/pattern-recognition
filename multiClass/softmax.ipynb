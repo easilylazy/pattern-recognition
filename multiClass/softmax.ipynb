{
 "metadata": {
  "language_info": {
   "codemirror_mode": {
    "name": "ipython",
    "version": 3
   },
   "file_extension": ".py",
   "mimetype": "text/x-python",
   "name": "python",
   "nbconvert_exporter": "python",
   "pygments_lexer": "ipython3",
   "version": "3.7.4"
  },
  "orig_nbformat": 2,
  "kernelspec": {
   "name": "python374jvsc74a57bd03f857618d8b6a3d270a8a45aea13fd0dc2a28a907e8d4ef70fe87ce2a92698f8",
   "display_name": "Python 3.7.4 64-bit"
  }
 },
 "nbformat": 4,
 "nbformat_minor": 2,
 "cells": [
  {
   "cell_type": "code",
   "execution_count": 2,
   "metadata": {},
   "outputs": [],
   "source": [
    "## softmax\n"
   ]
  },
  {
   "cell_type": "code",
   "execution_count": 3,
   "metadata": {},
   "outputs": [],
   "source": [
    "import numpy as np"
   ]
  },
  {
   "cell_type": "code",
   "execution_count": 10,
   "metadata": {},
   "outputs": [],
   "source": [
    "# k for class num; N for dimension of data\n",
    "K=3\n",
    "N=3\n",
    "W=np.zeros([K,N])"
   ]
  },
  {
   "cell_type": "code",
   "execution_count": 5,
   "metadata": {},
   "outputs": [],
   "source": [
    "# M for the item num of data\n",
    "M=4\n",
    "X=np.array([\n",
    "    [1,3,0],\n",
    "    [1,3,6],\n",
    "    [1,0,3],\n",
    "    [1,-3,0],\n",
    "])\n",
    "Y=np.array([\n",
    "    [1,0,0],\n",
    "    [1,0,0],\n",
    "    [0,1,0],\n",
    "    [0,0,1],\n",
    "])\n"
   ]
  },
  {
   "cell_type": "code",
   "execution_count": 31,
   "metadata": {},
   "outputs": [
    {
     "output_type": "execute_result",
     "data": {
      "text/plain": [
       "2"
      ]
     },
     "metadata": {},
     "execution_count": 31
    }
   ],
   "source": [
    "y=Y[3]\n",
    "y[y[y==1]]\n",
    "np.where(y==1)[0][0]\n",
    "np.where(y==np.max(y))[0][0]"
   ]
  },
  {
   "cell_type": "code",
   "execution_count": 45,
   "metadata": {},
   "outputs": [
    {
     "output_type": "stream",
     "name": "stdout",
     "text": [
      "0\n[[ 0.08994625  2.00046003 -1.72970123]\n [-0.27601725  1.19290236  2.36485061]\n [ 0.186071   -3.19336239 -0.63514939]]\n1\n[[ 0.14788791  5.17428453  1.27029923]\n [-0.34936638 -1.93469819 -0.63514938]\n [ 0.20147848 -3.23958635 -0.63514985]]\n2\n[[-0.84666696  5.17428454 -1.71336536]\n [ 0.61828979 -1.84364005  2.35887727]\n [ 0.22837717 -3.33064449 -0.64551191]]\n3\n[[-0.85447549  8.15085755  1.23978205]\n [-0.36625924 -1.84313898 -0.59426873]\n [ 1.22073473 -6.30771856 -0.64551332]]\n4\n[[-1.82112458  8.15085755 -1.66016524]\n [ 0.6273168  -1.84313639  2.386462  ]\n [ 1.19380778 -6.30772116 -0.72629676]]\n5\n[[-1.78393507  8.26243176 -1.43702251]\n [ 0.59044033 -1.9547071   2.16426188]\n [ 1.19349474 -6.30772466 -0.72723937]]\nsuccess\n"
     ]
    }
   ],
   "source": [
    "## compute si\n",
    "softMaxY=np.zeros(K)\n",
    "# step size\n",
    "stepSize=1\n",
    "# initialize W\n",
    "W=np.zeros([K,N])\n",
    "for step in range(30):\n",
    "    Pass=True\n",
    "    for i in range(M):\n",
    "        # print(np.dot(W,np.transpose(X[i])))\n",
    "        S=np.dot(W,np.transpose(X[i]))\n",
    "        # print(S)\n",
    "        # print(np.dot(S,np.transpose(Y[i])))\n",
    "        y=Y[i]\n",
    "        if np.where(y==1)[0][0] != np.where(S==np.max(S))[0][0]:\n",
    "            Pass=False\n",
    "        # print(np.where(y==1)[0][0]==np.where(S==np.max(S))[0][0])\n",
    "        softMaxS=np.exp(S)\n",
    "        sumY=np.sum(softMaxS)\n",
    "        # print(sumY)\n",
    "        # print(softMaxY)\n",
    "        for j in range(K):\n",
    "            softMaxY[j]=softMaxS[j]/sumY\n",
    "            if Y[i][j]==1:\n",
    "                W[j]-=stepSize*(softMaxY[j]-1)*X[i]\n",
    "            else:\n",
    "                W[j]-=stepSize*(softMaxY[j])*X[i]\n",
    "    print(step)\n",
    "    print(W)\n",
    "    if Pass is True:\n",
    "        print('success')\n",
    "        break\n",
    "    "
   ]
  },
  {
   "cell_type": "code",
   "execution_count": null,
   "metadata": {},
   "outputs": [],
   "source": []
  }
 ]
}