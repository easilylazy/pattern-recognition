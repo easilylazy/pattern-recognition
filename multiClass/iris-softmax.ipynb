{
 "metadata": {
  "language_info": {
   "codemirror_mode": {
    "name": "ipython",
    "version": 3
   },
   "file_extension": ".py",
   "mimetype": "text/x-python",
   "name": "python",
   "nbconvert_exporter": "python",
   "pygments_lexer": "ipython3",
   "version": "3.7.4"
  },
  "orig_nbformat": 2,
  "kernelspec": {
   "name": "python374jvsc74a57bd03f857618d8b6a3d270a8a45aea13fd0dc2a28a907e8d4ef70fe87ce2a92698f8",
   "display_name": "Python 3.7.4 64-bit"
  }
 },
 "nbformat": 4,
 "nbformat_minor": 2,
 "cells": [
  {
   "source": [
    "author: leezeeyee   \n",
    "date: 2021/4/13  \n",
    "link: [github](https://github.com/easilylazy/pattern-recognition) "
   ],
   "cell_type": "markdown",
   "metadata": {}
  },
  {
   "cell_type": "code",
   "execution_count": 1,
   "metadata": {},
   "outputs": [],
   "source": [
    "import pandas as pd\n",
    "import numpy as np"
   ]
  },
  {
   "cell_type": "code",
   "execution_count": 2,
   "metadata": {},
   "outputs": [
    {
     "output_type": "execute_result",
     "data": {
      "text/plain": [
       "   Unnamed: 0  Sepal.Length  Sepal.Width  Petal.Length  Petal.Width Species\n",
       "0           1           5.1          3.5           1.4          0.2  setosa\n",
       "1           2           4.9          3.0           1.4          0.2  setosa\n",
       "2           3           4.7          3.2           1.3          0.2  setosa\n",
       "3           4           4.6          3.1           1.5          0.2  setosa\n",
       "4           5           5.0          3.6           1.4          0.2  setosa"
      ],
      "text/html": "<div>\n<style scoped>\n    .dataframe tbody tr th:only-of-type {\n        vertical-align: middle;\n    }\n\n    .dataframe tbody tr th {\n        vertical-align: top;\n    }\n\n    .dataframe thead th {\n        text-align: right;\n    }\n</style>\n<table border=\"1\" class=\"dataframe\">\n  <thead>\n    <tr style=\"text-align: right;\">\n      <th></th>\n      <th>Unnamed: 0</th>\n      <th>Sepal.Length</th>\n      <th>Sepal.Width</th>\n      <th>Petal.Length</th>\n      <th>Petal.Width</th>\n      <th>Species</th>\n    </tr>\n  </thead>\n  <tbody>\n    <tr>\n      <th>0</th>\n      <td>1</td>\n      <td>5.1</td>\n      <td>3.5</td>\n      <td>1.4</td>\n      <td>0.2</td>\n      <td>setosa</td>\n    </tr>\n    <tr>\n      <th>1</th>\n      <td>2</td>\n      <td>4.9</td>\n      <td>3.0</td>\n      <td>1.4</td>\n      <td>0.2</td>\n      <td>setosa</td>\n    </tr>\n    <tr>\n      <th>2</th>\n      <td>3</td>\n      <td>4.7</td>\n      <td>3.2</td>\n      <td>1.3</td>\n      <td>0.2</td>\n      <td>setosa</td>\n    </tr>\n    <tr>\n      <th>3</th>\n      <td>4</td>\n      <td>4.6</td>\n      <td>3.1</td>\n      <td>1.5</td>\n      <td>0.2</td>\n      <td>setosa</td>\n    </tr>\n    <tr>\n      <th>4</th>\n      <td>5</td>\n      <td>5.0</td>\n      <td>3.6</td>\n      <td>1.4</td>\n      <td>0.2</td>\n      <td>setosa</td>\n    </tr>\n  </tbody>\n</table>\n</div>"
     },
     "metadata": {},
     "execution_count": 2
    }
   ],
   "source": [
    "irisData=pd.read_csv('iris.csv')\n",
    "irisData.head()"
   ]
  },
  {
   "cell_type": "code",
   "execution_count": 3,
   "metadata": {},
   "outputs": [],
   "source": [
    "## different types\n",
    "setosas=irisData[irisData['Species']=='setosa']\n",
    "versicolors=irisData[irisData['Species']=='versicolor']\n",
    "virginicas=irisData[irisData['Species']=='virginica']"
   ]
  },
  {
   "cell_type": "code",
   "execution_count": 4,
   "metadata": {},
   "outputs": [],
   "source": [
    "classes=3\n",
    "Y=np.r_[np.zeros(len(setosas),dtype=int),np.ones(len(versicolors), dtype=int),2*np.ones(len(virginicas), dtype=int)]\n",
    "one_hot_Y = np.eye(classes)[Y]\n"
   ]
  },
  {
   "cell_type": "code",
   "execution_count": 5,
   "metadata": {},
   "outputs": [],
   "source": [
    "X=np.asarray(irisData[['Sepal.Length',\t'Sepal.Width',\t'Petal.Length',\t'Petal.Width']].iloc[:,:])"
   ]
  },
  {
   "cell_type": "code",
   "execution_count": 6,
   "metadata": {},
   "outputs": [
    {
     "output_type": "stream",
     "name": "stdout",
     "text": [
      "[31 15 44 18 37 12 48  0  6 41 47 49 27 45 28 22 36 33 10 38  2  1 34 11\n 14 23 13 24 26 42 25  5 35  7 40 30 19 16 21 20  3  8 17 39 29  4 46 32\n  9 43]\n[52 60 98 90 65 79 54 92 81 62 66 83 96 58 61 73 74 56 69 57 86 71 76 95\n 85 51 77 84 50 67 82 75 72 55 94 78 64 63 93 89 87 59 99 68 80 91 53 70\n 88 97]\n[130 134 118 128 143 145 120 100 121 124 144 141 132 101 117 137 116 136\n 127 138 106 126 148 129 131 104 114 142 110 140 149 113 105 125 119 122\n 102 115 147 146 107 135 112 139 133 109 123 108 103 111]\n[7.4 2.8 6.1 1.9]\n[7.4 2.8 6.1 1.9]\n"
     ]
    },
    {
     "output_type": "execute_result",
     "data": {
      "text/plain": [
       "array([[6.3, 3.4, 5.6, 2.4],\n",
       "       [6.6, 2.9, 4.6, 1.3],\n",
       "       [5. , 3.3, 1.4, 0.2]])"
      ]
     },
     "metadata": {},
     "execution_count": 6
    }
   ],
   "source": [
    "trainX=[]\n",
    "trainY=[]\n",
    "testX=[]\n",
    "testY=[]\n",
    "\n",
    "for i in range(classes):\n",
    "    index=np.where(Y==i)[0]\n",
    "    np.random.shuffle(index)\n",
    "    \n",
    "    trainX.append(X[index[:30]])\n",
    "    trainY.append(one_hot_Y[index[:30]])\n",
    "    testX.append(X[index[30:]])\n",
    "    testY.append(one_hot_Y[index[30:]])\n",
    "    print(index)\n",
    "print(trainX[2][0])\n",
    "print(X[index[0]])\n",
    "trainX_all=np.r_[trainX[0],trainX[1],trainX[2]]\n",
    "trainY_all=np.r_[trainY[0],trainY[1],trainY[2]]\n",
    "indexTrain=np.arange(len(trainX_all))\n",
    "np.random.shuffle(indexTrain)\n",
    "trainX_sh=trainX_all[indexTrain]\n",
    "trainY_sh=trainY_all[indexTrain]\n",
    "testX_all=np.r_[testX[0],testX[1],testX[2]]\n",
    "testY_all=np.r_[testY[0],testY[1],testY[2]]\n",
    "indexTest=np.arange(len(testX_all))\n",
    "np.random.shuffle(indexTest)\n",
    "testX_sh=testX_all[indexTest]\n",
    "testY_sh=testY_all[indexTest]\n",
    "\n",
    "trainX_sh[:3]"
   ]
  },
  {
   "cell_type": "code",
   "execution_count": 7,
   "metadata": {},
   "outputs": [],
   "source": [
    "def softmax(X,Y,maxStep=120,stepSize=1):\n",
    "    ## param\n",
    "    # k for class num; N for dimension of data\n",
    "    K=3\n",
    "    N=4\n",
    "    W=np.zeros([K,N])\n",
    "    # M for the item num of data\n",
    "    M=len(X)\n",
    "    ## compute si\n",
    "    softMaxY=np.zeros(K)\n",
    "    # initialize W\n",
    "    W=np.zeros([K,N])\n",
    "    # record best W\n",
    "    errMin=M\n",
    "    for step in range(120):\n",
    "        for i in range(M):\n",
    "            # print(np.dot(W,np.transpose(X[i])))\n",
    "            S=np.dot(W,np.transpose(X[i]))\n",
    "            # print(np.dot(S,np.transpose(Y[i])))\n",
    "            \n",
    "            # print(np.where(y==1)[0][0]==np.where(S==np.max(S))[0][0])\n",
    "            softMaxS=np.exp(S)\n",
    "            sumY=np.sum(softMaxS)\n",
    "            # print(sumY)\n",
    "            # print(softMaxY)\n",
    "            for j in range(K):\n",
    "                softMaxY[j]=softMaxS[j]/sumY\n",
    "                if Y[i][j]==1:\n",
    "                    W[j]-=stepSize*(softMaxY[j]-1)*X[i]\n",
    "                else:\n",
    "                    W[j]-=stepSize*(softMaxY[j])*X[i]\n",
    "            # print(step)\n",
    "            # print(softMaxY)\n",
    "            # print(W)\n",
    "\n",
    "        Pass=True\n",
    "        err=0\n",
    "        for i in range(len(X)):\n",
    "            y=Y[i]\n",
    "            S=np.dot(W,np.transpose(X[i]))\n",
    "            if np.where(y==1)[0][0] != np.where(S==np.max(S))[0][0]:\n",
    "                err+=1\n",
    "                Pass=False\n",
    "        if Pass is True:\n",
    "            print('success')\n",
    "            break\n",
    "        else:\n",
    "            pass\n",
    "        if err<errMin:\n",
    "            W_end=W\n",
    "            errMin=err\n",
    "            print('err: '+str(err))\n",
    "    return W_end"
   ]
  },
  {
   "cell_type": "code",
   "execution_count": 8,
   "metadata": {},
   "outputs": [
    {
     "output_type": "stream",
     "name": "stdout",
     "text": [
      "err: 30\nerr: 20\nerr: 13\nerr: 9\nerr: 8\nerr: 7\nerr: 4\nerr: 3\n"
     ]
    }
   ],
   "source": [
    "W_end=softmax(X=trainX_sh,Y=trainY_sh,maxStep=200,stepSize=0.1)"
   ]
  },
  {
   "cell_type": "code",
   "execution_count": 9,
   "metadata": {},
   "outputs": [
    {
     "output_type": "execute_result",
     "data": {
      "text/plain": [
       "array([[ 3.42248318,  6.82203295, -8.79863451, -4.16972832],\n",
       "       [ 4.53700006, -0.06791466, -1.93757125, -7.66808005],\n",
       "       [-7.95948324, -6.75411828, 10.73620577, 11.83780837]])"
      ]
     },
     "metadata": {},
     "execution_count": 9
    }
   ],
   "source": [
    "W_end"
   ]
  },
  {
   "source": [
    "## test"
   ],
   "cell_type": "markdown",
   "metadata": {}
  },
  {
   "cell_type": "code",
   "execution_count": 10,
   "metadata": {},
   "outputs": [],
   "source": [
    "def testErr(X,Y):\n",
    "    \n",
    "    \n",
    "    err=0\n",
    "    for i in range(len(X)):\n",
    "                y=Y[i]\n",
    "                S=np.dot(W_end,np.transpose(X[i]))\n",
    "                if np.where(y==1)[0][0] != np.where(S==np.max(S))[0][0]:\n",
    "                    print(y)\n",
    "                    print(S)\n",
    "                    err+=1\n",
    "    print(err)"
   ]
  },
  {
   "cell_type": "code",
   "execution_count": 11,
   "metadata": {},
   "outputs": [
    {
     "output_type": "stream",
     "name": "stdout",
     "text": [
      "[0. 0. 1.]\n[-10.46429223   7.00920587   3.45508636]\n[0. 1. 0.]\n[-7.71580047  3.44808734  4.26771312]\n[0. 0. 1.]\n[-13.82493375   7.02110192   6.80383183]\n3\n"
     ]
    }
   ],
   "source": [
    "testErr(X=testX_sh,Y=testY_sh)"
   ]
  },
  {
   "cell_type": "code",
   "execution_count": null,
   "metadata": {},
   "outputs": [],
   "source": []
  }
 ]
}