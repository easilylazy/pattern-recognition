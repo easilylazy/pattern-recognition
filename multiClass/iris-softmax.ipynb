{
 "metadata": {
  "language_info": {
   "codemirror_mode": {
    "name": "ipython",
    "version": 3
   },
   "file_extension": ".py",
   "mimetype": "text/x-python",
   "name": "python",
   "nbconvert_exporter": "python",
   "pygments_lexer": "ipython3",
   "version": "3.7.4"
  },
  "orig_nbformat": 2,
  "kernelspec": {
   "name": "python374jvsc74a57bd03f857618d8b6a3d270a8a45aea13fd0dc2a28a907e8d4ef70fe87ce2a92698f8",
   "display_name": "Python 3.7.4 64-bit"
  }
 },
 "nbformat": 4,
 "nbformat_minor": 2,
 "cells": [
  {
   "source": [
    "author: leezeeyee   \n",
    "date: 2021/4/13  \n",
    "link: [github](https://github.com/easilylazy/pattern-recognition) "
   ],
   "cell_type": "markdown",
   "metadata": {}
  },
  {
   "cell_type": "code",
   "execution_count": 1,
   "metadata": {},
   "outputs": [],
   "source": [
    "import pandas as pd\n",
    "import numpy as np"
   ]
  },
  {
   "cell_type": "code",
   "execution_count": 2,
   "metadata": {},
   "outputs": [
    {
     "output_type": "execute_result",
     "data": {
      "text/plain": [
       "   Unnamed: 0  Sepal.Length  Sepal.Width  Petal.Length  Petal.Width Species\n",
       "0           1           5.1          3.5           1.4          0.2  setosa\n",
       "1           2           4.9          3.0           1.4          0.2  setosa\n",
       "2           3           4.7          3.2           1.3          0.2  setosa\n",
       "3           4           4.6          3.1           1.5          0.2  setosa\n",
       "4           5           5.0          3.6           1.4          0.2  setosa"
      ],
      "text/html": "<div>\n<style scoped>\n    .dataframe tbody tr th:only-of-type {\n        vertical-align: middle;\n    }\n\n    .dataframe tbody tr th {\n        vertical-align: top;\n    }\n\n    .dataframe thead th {\n        text-align: right;\n    }\n</style>\n<table border=\"1\" class=\"dataframe\">\n  <thead>\n    <tr style=\"text-align: right;\">\n      <th></th>\n      <th>Unnamed: 0</th>\n      <th>Sepal.Length</th>\n      <th>Sepal.Width</th>\n      <th>Petal.Length</th>\n      <th>Petal.Width</th>\n      <th>Species</th>\n    </tr>\n  </thead>\n  <tbody>\n    <tr>\n      <th>0</th>\n      <td>1</td>\n      <td>5.1</td>\n      <td>3.5</td>\n      <td>1.4</td>\n      <td>0.2</td>\n      <td>setosa</td>\n    </tr>\n    <tr>\n      <th>1</th>\n      <td>2</td>\n      <td>4.9</td>\n      <td>3.0</td>\n      <td>1.4</td>\n      <td>0.2</td>\n      <td>setosa</td>\n    </tr>\n    <tr>\n      <th>2</th>\n      <td>3</td>\n      <td>4.7</td>\n      <td>3.2</td>\n      <td>1.3</td>\n      <td>0.2</td>\n      <td>setosa</td>\n    </tr>\n    <tr>\n      <th>3</th>\n      <td>4</td>\n      <td>4.6</td>\n      <td>3.1</td>\n      <td>1.5</td>\n      <td>0.2</td>\n      <td>setosa</td>\n    </tr>\n    <tr>\n      <th>4</th>\n      <td>5</td>\n      <td>5.0</td>\n      <td>3.6</td>\n      <td>1.4</td>\n      <td>0.2</td>\n      <td>setosa</td>\n    </tr>\n  </tbody>\n</table>\n</div>"
     },
     "metadata": {},
     "execution_count": 2
    }
   ],
   "source": [
    "irisData=pd.read_csv('iris.csv')\n",
    "irisData.head()"
   ]
  },
  {
   "cell_type": "code",
   "execution_count": 3,
   "metadata": {},
   "outputs": [],
   "source": [
    "## different types\n",
    "setosas=irisData[irisData['Species']=='setosa']\n",
    "versicolors=irisData[irisData['Species']=='versicolor']\n",
    "virginicas=irisData[irisData['Species']=='virginica']"
   ]
  },
  {
   "cell_type": "code",
   "execution_count": 4,
   "metadata": {},
   "outputs": [],
   "source": [
    "classes=3\n",
    "Y=np.r_[np.zeros(len(setosas),dtype=int),np.ones(len(versicolors), dtype=int),2*np.ones(len(virginicas), dtype=int)]\n",
    "one_hot_Y = np.eye(classes)[Y]\n"
   ]
  },
  {
   "cell_type": "code",
   "execution_count": 5,
   "metadata": {},
   "outputs": [],
   "source": [
    "X=np.asarray(irisData[['Sepal.Length',\t'Sepal.Width',\t'Petal.Length',\t'Petal.Width']].iloc[:,:])"
   ]
  },
  {
   "cell_type": "code",
   "execution_count": 6,
   "metadata": {},
   "outputs": [
    {
     "output_type": "stream",
     "name": "stdout",
     "text": [
      "[49 19  9  5 41  3  8 33 45 28 35 36 38  2 39 44 48 16 34 43 14 23 17 29\n  0 26 22 11 24 10 32  7 21 20 40 27 42 30 46 13 37 18 12  4 25 31  6 15\n  1 47]\n[50 95 92 98 79 94 63 69 75 62 67 85 74 78 89 54 90 73 57 61 81 97 91 77\n 66 87 83 70 93 59 58 84 72 99 60 82 64 52 65 53 71 55 56 68 86 88 80 76\n 96 51]\n[131 132 123 121 142 107 105 106 133 103 130 149 104 137 117 115 102 146\n 125 100 139 110 134 111 145 122 129 108 114 101 138 148 143 124 128 135\n 127 109 118 119 140 116 141 120 144 136 112 126 113 147]\n[7.9 3.8 6.4 2. ]\n[7.9 3.8 6.4 2. ]\n"
     ]
    },
    {
     "output_type": "execute_result",
     "data": {
      "text/plain": [
       "array([[5. , 3.3, 1.4, 0.2],\n",
       "       [5.1, 3.8, 1.5, 0.3],\n",
       "       [4.9, 3.1, 1.5, 0.1]])"
      ]
     },
     "metadata": {},
     "execution_count": 6
    }
   ],
   "source": [
    "trainX=[]\n",
    "trainY=[]\n",
    "testX=[]\n",
    "testY=[]\n",
    "\n",
    "for i in range(classes):\n",
    "    index=np.where(Y==i)[0]\n",
    "    np.random.shuffle(index)\n",
    "    \n",
    "    trainX.append(X[index[:30]])\n",
    "    testX.append(X[index[30:]])\n",
    "    trainY.append(one_hot_Y[index[:30]])\n",
    "    testY.append(one_hot_Y[index[30:]])\n",
    "    print(index)\n",
    "print(trainX[2][0])\n",
    "print(X[index[0]])\n",
    "trainX_sh=np.r_[trainX[0],trainX[1],trainX[2]]\n",
    "trainY_sh=np.r_[trainY[0],trainY[1],trainY[2]]\n",
    "testX_sh=np.r_[testX[0],testX[1],testX[2]]\n",
    "testY_sh=np.r_[testY[0],testY[1],testY[2]]\n",
    "trainX_sh[:3]"
   ]
  },
  {
   "cell_type": "code",
   "execution_count": 40,
   "metadata": {},
   "outputs": [],
   "source": [
    "def softmax(X,Y,maxStep=120,stepSize=1):\n",
    "    ## param\n",
    "    # k for class num; N for dimension of data\n",
    "    K=3\n",
    "    N=4\n",
    "    W=np.zeros([K,N])\n",
    "    # M for the item num of data\n",
    "    M=len(X)\n",
    "    ## compute si\n",
    "    softMaxY=np.zeros(K)\n",
    "    # initialize W\n",
    "    W=np.zeros([K,N])\n",
    "    # record best W\n",
    "    errMin=M\n",
    "    for step in range(120):\n",
    "        for i in range(M):\n",
    "            # print(np.dot(W,np.transpose(X[i])))\n",
    "            S=np.dot(W,np.transpose(X[i]))\n",
    "            # print(np.dot(S,np.transpose(Y[i])))\n",
    "            \n",
    "            # print(np.where(y==1)[0][0]==np.where(S==np.max(S))[0][0])\n",
    "            softMaxS=np.exp(S)\n",
    "            sumY=np.sum(softMaxS)\n",
    "            # print(sumY)\n",
    "            # print(softMaxY)\n",
    "            for j in range(K):\n",
    "                softMaxY[j]=softMaxS[j]/sumY\n",
    "                if Y[i][j]==1:\n",
    "                    W[j]-=stepSize*(softMaxY[j]-1)*X[i]\n",
    "                else:\n",
    "                    W[j]-=stepSize*(softMaxY[j])*X[i]\n",
    "            # print(step)\n",
    "            # print(softMaxY)\n",
    "            # print(W)\n",
    "\n",
    "        Pass=True\n",
    "        err=0\n",
    "        for i in range(len(X)):\n",
    "            y=Y[i]\n",
    "            S=np.dot(W,np.transpose(X[i]))\n",
    "            if np.where(y==1)[0][0] != np.where(S==np.max(S))[0][0]:\n",
    "                err+=1\n",
    "                Pass=False\n",
    "        if Pass is True:\n",
    "            print('success')\n",
    "            break\n",
    "        else:\n",
    "            pass\n",
    "        if err<errMin:\n",
    "            W_end=W\n",
    "            errMin=err\n",
    "            print('err: '+str(err))\n",
    "    return W_end"
   ]
  },
  {
   "cell_type": "code",
   "execution_count": 42,
   "metadata": {},
   "outputs": [
    {
     "output_type": "stream",
     "name": "stdout",
     "text": [
      "err: 60\n",
      "err: 30\n",
      "err: 28\n",
      "err: 26\n",
      "err: 21\n",
      "err: 18\n",
      "err: 16\n",
      "err: 14\n",
      "err: 13\n",
      "err: 12\n",
      "err: 8\n",
      "err: 7\n",
      "err: 4\n"
     ]
    }
   ],
   "source": [
    "W_end=softmax(X=trainX_sh,Y=trainY_sh,maxStep=200)"
   ]
  },
  {
   "cell_type": "code",
   "execution_count": 43,
   "metadata": {},
   "outputs": [
    {
     "output_type": "execute_result",
     "data": {
      "text/plain": [
       "array([[ 15.81112834,  26.75092144, -39.79101032, -16.21367521],\n",
       "       [ 28.65801652, -15.79952856, -27.27798885, -13.73633682],\n",
       "       [-44.46914485, -10.95139287,  67.06899917,  29.95001202]])"
      ]
     },
     "metadata": {},
     "execution_count": 43
    }
   ],
   "source": [
    "W_end"
   ]
  },
  {
   "cell_type": "code",
   "execution_count": 33,
   "metadata": {},
   "outputs": [
    {
     "output_type": "execute_result",
     "data": {
      "text/plain": [
       "numpy.int32"
      ]
     },
     "metadata": {},
     "execution_count": 33
    }
   ],
   "source": [
    "type(Y[0])"
   ]
  },
  {
   "cell_type": "code",
   "execution_count": 7,
   "metadata": {},
   "outputs": [
    {
     "output_type": "execute_result",
     "data": {
      "text/plain": [
       "array([2, 3, 4, 0])"
      ]
     },
     "metadata": {},
     "execution_count": 7
    }
   ],
   "source": [
    "targets "
   ]
  },
  {
   "cell_type": "code",
   "execution_count": 23,
   "metadata": {},
   "outputs": [
    {
     "output_type": "execute_result",
     "data": {
      "text/plain": [
       "numpy.int32"
      ]
     },
     "metadata": {},
     "execution_count": 23
    }
   ],
   "source": [
    "type(targets[0])"
   ]
  },
  {
   "cell_type": "code",
   "execution_count": 59,
   "metadata": {},
   "outputs": [],
   "source": [
    "# k for class num; N for dimension of data\n",
    "K=3\n",
    "N=4\n",
    "W=np.zeros([K,N])\n",
    "# M for the item num of data\n",
    "M=4"
   ]
  },
  {
   "source": [
    "## test"
   ],
   "cell_type": "markdown",
   "metadata": {}
  },
  {
   "cell_type": "code",
   "execution_count": 44,
   "metadata": {},
   "outputs": [
    {
     "output_type": "stream",
     "name": "stdout",
     "text": [
      "[0. 1. 0.]\n[-2.21853060e+01 -1.17104195e-02  2.21970165e+01]\n[0. 1. 0.]\n[-37.74720192 -36.00075157  73.74795349]\n[0. 1. 0.]\n[-52.80905126 -13.21996797  66.02901923]\n[0. 1. 0.]\n[-19.19490853 -10.584978    29.77988653]\n[0. 1. 0.]\n[-22.92472676   2.48172765  20.44299912]\n[0. 1. 0.]\n[-10.70931826   0.69000796  10.0193103 ]\n[0. 1. 0.]\n[ 1.79457594 -1.39173808 -0.40283786]\n[0. 1. 0.]\n[-27.27182139  -5.5048752   32.77669659]\n[0. 1. 0.]\n[-8.91717438  3.77614961  5.14102477]\n[0. 1. 0.]\n[-31.75349389  -5.68901814  37.44251202]\n[0. 1. 0.]\n[-8.89135616  3.60602749  5.28532867]\n[0. 1. 0.]\n[-35.11131266 -21.49617354  56.6074862 ]\n[0. 1. 0.]\n[-25.07147956 -21.77762673  46.84910629]\n[0. 1. 0.]\n[-46.49903639  -0.43471551  46.9337519 ]\n[0. 1. 0.]\n[-22.475845    -5.78088073  28.25672573]\n[0. 1. 0.]\n[-15.42583708 -16.61068536  32.03652244]\n[0. 1. 0.]\n[-17.87746464   0.93389414  16.9435705 ]\n[0. 1. 0.]\n[-31.2777421    0.47061429  30.80712782]\n[0. 1. 0.]\n[-20.49891742 -14.89272974  35.39164716]\n[0. 1. 0.]\n[-16.58588929 -10.50264077  27.08853006]\n20\n"
     ]
    }
   ],
   "source": [
    "X=testX_sh\n",
    "Y=testY_sh\n",
    "err=0\n",
    "for i in range(len(X)):\n",
    "            y=Y[i]\n",
    "            S=np.dot(W_end,np.transpose(X[i]))\n",
    "            if np.where(y==1)[0][0] != np.where(S==np.max(S))[0][0]:\n",
    "                print(y)\n",
    "                print(S)\n",
    "                err+=1\n",
    "print(err)"
   ]
  },
  {
   "cell_type": "code",
   "execution_count": 12,
   "metadata": {},
   "outputs": [
    {
     "output_type": "execute_result",
     "data": {
      "text/plain": [
       "array([4.7, 3.2, 1.3, 0.2])"
      ]
     },
     "metadata": {},
     "execution_count": 12
    }
   ],
   "source": [
    "X[i]"
   ]
  },
  {
   "cell_type": "code",
   "execution_count": 13,
   "metadata": {},
   "outputs": [
    {
     "output_type": "execute_result",
     "data": {
      "text/plain": [
       "array([5.1, 3.7, 1.5, 0.4])"
      ]
     },
     "metadata": {},
     "execution_count": 13
    }
   ],
   "source": [
    "testX_sh[i]"
   ]
  },
  {
   "cell_type": "code",
   "execution_count": 20,
   "metadata": {},
   "outputs": [
    {
     "output_type": "stream",
     "name": "stdout",
     "text": [
      "60\n"
     ]
    }
   ],
   "source": [
    "print(len(X))"
   ]
  },
  {
   "cell_type": "code",
   "execution_count": null,
   "metadata": {},
   "outputs": [],
   "source": []
  }
 ]
}