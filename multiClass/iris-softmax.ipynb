{
 "metadata": {
  "language_info": {
   "codemirror_mode": {
    "name": "ipython",
    "version": 3
   },
   "file_extension": ".py",
   "mimetype": "text/x-python",
   "name": "python",
   "nbconvert_exporter": "python",
   "pygments_lexer": "ipython3",
   "version": "3.7.4"
  },
  "orig_nbformat": 2,
  "kernelspec": {
   "name": "python374jvsc74a57bd03f857618d8b6a3d270a8a45aea13fd0dc2a28a907e8d4ef70fe87ce2a92698f8",
   "display_name": "Python 3.7.4 64-bit"
  }
 },
 "nbformat": 4,
 "nbformat_minor": 2,
 "cells": [
  {
   "source": [
    "author: leezeeyee   \n",
    "date: 2021/4/13  \n",
    "link: [github](https://github.com/easilylazy/pattern-recognition) "
   ],
   "cell_type": "markdown",
   "metadata": {}
  },
  {
   "cell_type": "code",
   "execution_count": 2,
   "metadata": {},
   "outputs": [],
   "source": [
    "import pandas as pd\n",
    "import numpy as np"
   ]
  },
  {
   "cell_type": "code",
   "execution_count": 3,
   "metadata": {},
   "outputs": [
    {
     "output_type": "execute_result",
     "data": {
      "text/plain": [
       "   Unnamed: 0  Sepal.Length  Sepal.Width  Petal.Length  Petal.Width Species\n",
       "0           1           5.1          3.5           1.4          0.2  setosa\n",
       "1           2           4.9          3.0           1.4          0.2  setosa\n",
       "2           3           4.7          3.2           1.3          0.2  setosa\n",
       "3           4           4.6          3.1           1.5          0.2  setosa\n",
       "4           5           5.0          3.6           1.4          0.2  setosa"
      ],
      "text/html": "<div>\n<style scoped>\n    .dataframe tbody tr th:only-of-type {\n        vertical-align: middle;\n    }\n\n    .dataframe tbody tr th {\n        vertical-align: top;\n    }\n\n    .dataframe thead th {\n        text-align: right;\n    }\n</style>\n<table border=\"1\" class=\"dataframe\">\n  <thead>\n    <tr style=\"text-align: right;\">\n      <th></th>\n      <th>Unnamed: 0</th>\n      <th>Sepal.Length</th>\n      <th>Sepal.Width</th>\n      <th>Petal.Length</th>\n      <th>Petal.Width</th>\n      <th>Species</th>\n    </tr>\n  </thead>\n  <tbody>\n    <tr>\n      <th>0</th>\n      <td>1</td>\n      <td>5.1</td>\n      <td>3.5</td>\n      <td>1.4</td>\n      <td>0.2</td>\n      <td>setosa</td>\n    </tr>\n    <tr>\n      <th>1</th>\n      <td>2</td>\n      <td>4.9</td>\n      <td>3.0</td>\n      <td>1.4</td>\n      <td>0.2</td>\n      <td>setosa</td>\n    </tr>\n    <tr>\n      <th>2</th>\n      <td>3</td>\n      <td>4.7</td>\n      <td>3.2</td>\n      <td>1.3</td>\n      <td>0.2</td>\n      <td>setosa</td>\n    </tr>\n    <tr>\n      <th>3</th>\n      <td>4</td>\n      <td>4.6</td>\n      <td>3.1</td>\n      <td>1.5</td>\n      <td>0.2</td>\n      <td>setosa</td>\n    </tr>\n    <tr>\n      <th>4</th>\n      <td>5</td>\n      <td>5.0</td>\n      <td>3.6</td>\n      <td>1.4</td>\n      <td>0.2</td>\n      <td>setosa</td>\n    </tr>\n  </tbody>\n</table>\n</div>"
     },
     "metadata": {},
     "execution_count": 3
    }
   ],
   "source": [
    "irisData=pd.read_csv('iris.csv')\n",
    "irisData.head()"
   ]
  },
  {
   "cell_type": "code",
   "execution_count": 4,
   "metadata": {},
   "outputs": [],
   "source": [
    "## different types\n",
    "setosas=irisData[irisData['Species']=='setosa']\n",
    "versicolors=irisData[irisData['Species']=='versicolor']\n",
    "virginicas=irisData[irisData['Species']=='virginica']"
   ]
  },
  {
   "cell_type": "code",
   "execution_count": 35,
   "metadata": {},
   "outputs": [],
   "source": [
    "classes=3\n",
    "Y=np.r_[np.zeros(len(setosas),dtype=int),np.ones(len(versicolors), dtype=int),2*np.ones(len(virginicas), dtype=int)]\n",
    "one_hot_Y = np.eye(classes)[Y]\n"
   ]
  },
  {
   "cell_type": "code",
   "execution_count": 53,
   "metadata": {},
   "outputs": [],
   "source": [
    "X=np.asarray(irisData[['Sepal.Length',\t'Sepal.Width',\t'Petal.Length',\t'Petal.Width']].iloc[:,:])"
   ]
  },
  {
   "cell_type": "code",
   "execution_count": 70,
   "metadata": {},
   "outputs": [
    {
     "output_type": "stream",
     "name": "stdout",
     "text": [
      "[ 1 16 14  5  9 40  8 48 27  0 28 13 47 19 12 15 11 30  3 49 35 45 10 17\n  7 34 43 46 24 33 26 37 23  4 21 42 44 18 29 32 39 41 31 20 22 38  6 36\n 25  2]\n[51 82 77 86 89 76 94 93 72 57 71 78 64 75 55 59 68 81 97 83 73 95 69 50\n 91 58 90 96 88 60 85 67 80 62 54 92 98 56 65 52 66 84 61 70 53 74 99 87\n 79 63]\n[145 110 128 144 129 131 106 138 135 140 130 115 149 142 113 124 139 118\n 105 120 133 122 117 132 134 143 101 136 109 114 119 125 137 108 100 126\n 127 104 147 123 116 121 107 148 112 111 141 103 102 146]\n[6.7 3.  5.2 2.3]\n[6.7 3.  5.2 2.3]\n"
     ]
    },
    {
     "output_type": "execute_result",
     "data": {
      "text/plain": [
       "array([[4.9, 3. , 1.4, 0.2],\n",
       "       [5.4, 3.9, 1.3, 0.4],\n",
       "       [5.8, 4. , 1.2, 0.2]])"
      ]
     },
     "metadata": {},
     "execution_count": 70
    }
   ],
   "source": [
    "trainX=[]\n",
    "trainY=[]\n",
    "testX=[]\n",
    "testY=[]\n",
    "\n",
    "for i in range(classes):\n",
    "    index=np.where(Y==i)[0]\n",
    "    np.random.shuffle(index)\n",
    "    \n",
    "    trainX.append(X[index[:30]])\n",
    "    testX.append(X[index[30:]])\n",
    "    trainY.append(one_hot_Y[index[:30]])\n",
    "    testY.append(one_hot_Y[index[30:]])\n",
    "    print(index)\n",
    "print(trainX[2][0])\n",
    "print(X[index[0]])\n",
    "trainX_sh=np.r_[trainX[0],trainX[1],trainX[2]]\n",
    "trainY_sh=np.r_[trainY[0],trainY[1],trainY[2]]\n",
    "testX_sh=np.r_[testX[0],testX[1],testX[2]]\n",
    "testY_sh=np.r_[testY[0],testY[1],testY[2]]\n",
    "trainX_sh[:3]"
   ]
  },
  {
   "cell_type": "code",
   "execution_count": 74,
   "metadata": {},
   "outputs": [],
   "source": [
    "def softmax(X,Y,K,N,W,M):\n",
    "    ## compute si\n",
    "    softMaxY=np.zeros(K)\n",
    "    # step size\n",
    "    stepSize=1\n",
    "    # initialize W\n",
    "    W=np.zeros([K,N])\n",
    "    for step in range(30):\n",
    "        for i in range(M):\n",
    "            # print(np.dot(W,np.transpose(X[i])))\n",
    "            S=np.dot(W,np.transpose(X[i]))\n",
    "            # print(np.dot(S,np.transpose(Y[i])))\n",
    "            \n",
    "            # print(np.where(y==1)[0][0]==np.where(S==np.max(S))[0][0])\n",
    "            softMaxS=np.exp(S)\n",
    "            sumY=np.sum(softMaxS)\n",
    "            # print(sumY)\n",
    "            # print(softMaxY)\n",
    "            for j in range(K):\n",
    "                softMaxY[j]=softMaxS[j]/sumY\n",
    "                if Y[i][j]==1:\n",
    "                    W[j]-=stepSize*(softMaxY[j]-1)*X[i]\n",
    "                else:\n",
    "                    W[j]-=stepSize*(softMaxY[j])*X[i]\n",
    "            # print(step)\n",
    "            # print(softMaxY)\n",
    "            # print(W)\n",
    "\n",
    "        Pass=True\n",
    "        for i in range(M):\n",
    "            y=Y[i]\n",
    "            S=np.dot(W,np.transpose(X[i]))\n",
    "            if np.where(y==1)[0][0] != np.where(S==np.max(S))[0][0]:\n",
    "                Pass=False\n",
    "        if Pass is True:\n",
    "            print('success')\n",
    "            break\n",
    "    return W"
   ]
  },
  {
   "cell_type": "code",
   "execution_count": 75,
   "metadata": {},
   "outputs": [
    {
     "output_type": "stream",
     "name": "stdout",
     "text": [
      "success\n"
     ]
    },
    {
     "output_type": "execute_result",
     "data": {
      "text/plain": [
       "array([[ 3.26666667,  2.        ,  0.93333333,  0.13333333],\n",
       "       [-1.63333333, -1.        , -0.46666667, -0.06666667],\n",
       "       [-1.63333333, -1.        , -0.46666667, -0.06666667]])"
      ]
     },
     "metadata": {},
     "execution_count": 75
    }
   ],
   "source": [
    "softmax(X=trainX_sh,Y=trainY_sh,K=K,N=N,W=W,M=M)"
   ]
  },
  {
   "cell_type": "code",
   "execution_count": 33,
   "metadata": {},
   "outputs": [
    {
     "output_type": "execute_result",
     "data": {
      "text/plain": [
       "numpy.int32"
      ]
     },
     "metadata": {},
     "execution_count": 33
    }
   ],
   "source": [
    "type(Y[0])"
   ]
  },
  {
   "cell_type": "code",
   "execution_count": 7,
   "metadata": {},
   "outputs": [
    {
     "output_type": "execute_result",
     "data": {
      "text/plain": [
       "array([2, 3, 4, 0])"
      ]
     },
     "metadata": {},
     "execution_count": 7
    }
   ],
   "source": [
    "targets "
   ]
  },
  {
   "cell_type": "code",
   "execution_count": 23,
   "metadata": {},
   "outputs": [
    {
     "output_type": "execute_result",
     "data": {
      "text/plain": [
       "numpy.int32"
      ]
     },
     "metadata": {},
     "execution_count": 23
    }
   ],
   "source": [
    "type(targets[0])"
   ]
  },
  {
   "cell_type": "code",
   "execution_count": 59,
   "metadata": {},
   "outputs": [],
   "source": [
    "# k for class num; N for dimension of data\n",
    "K=3\n",
    "N=4\n",
    "W=np.zeros([K,N])\n",
    "# M for the item num of data\n",
    "M=4"
   ]
  },
  {
   "source": [
    "## data"
   ],
   "cell_type": "markdown",
   "metadata": {}
  },
  {
   "cell_type": "code",
   "execution_count": null,
   "metadata": {},
   "outputs": [],
   "source": []
  }
 ]
}