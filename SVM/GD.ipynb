{
 "metadata": {
  "language_info": {
   "codemirror_mode": {
    "name": "ipython",
    "version": 3
   },
   "file_extension": ".py",
   "mimetype": "text/x-python",
   "name": "python",
   "nbconvert_exporter": "python",
   "pygments_lexer": "ipython3",
   "version": "3.7.4"
  },
  "orig_nbformat": 2,
  "kernelspec": {
   "name": "python374jvsc74a57bd03f857618d8b6a3d270a8a45aea13fd0dc2a28a907e8d4ef70fe87ce2a92698f8",
   "display_name": "Python 3.7.4 64-bit"
  }
 },
 "nbformat": 4,
 "nbformat_minor": 2,
 "cells": [
  {
   "source": [
    "author: leezeeyee   \n",
    "date: 2021/4/12  \n",
    "link: [github](https://github.com/easilylazy/pattern-recognition) "
   ],
   "cell_type": "markdown",
   "metadata": {}
  },
  {
   "source": [
    "## 梯度下降法 求取SVM\n",
    "\n"
   ],
   "cell_type": "markdown",
   "metadata": {}
  },
  {
   "source": [
    "$$ERR_{SVM}=max(0,1-y_s)$$\n",
    "$$y_s=y_n(W^{T}X_n+b)$$\n",
    "$$\\frac{\\partial(1-y_s)}{\\partial W_i}=-y_nX_i$$\n",
    "$$\\frac{\\partial(1-y_s)}{\\partial W}=-y_nX$$\n",
    "$$$$\n",
    "$$$$"
   ],
   "cell_type": "markdown",
   "metadata": {}
  },
  {
   "cell_type": "code",
   "execution_count": 1,
   "metadata": {},
   "outputs": [],
   "source": [
    "import numpy as np"
   ]
  },
  {
   "cell_type": "code",
   "execution_count": 2,
   "metadata": {},
   "outputs": [],
   "source": [
    "D=np.asarray([[1,1],[2,2],[2,0],[0,0],[1,0],[0,1]])\n",
    "Y=np.asarray([1,1,1,-1,-1,-1])"
   ]
  },
  {
   "cell_type": "code",
   "execution_count": 4,
   "metadata": {},
   "outputs": [],
   "source": [
    "def addSingleBias(X):\n",
    "    N=X.shape[0]\n",
    "    X=np.reshape(X,[N,1])\n",
    "    bias_vector=np.ones([1,1])\n",
    "    return np.row_stack((bias_vector,X))\n",
    "def addBias(X):\n",
    "    '''\n",
    "    为维数为N,d的向量X添加偏置向量\n",
    "    Args:\n",
    "        X(numpy.ndarray):shape为[N,d]\n",
    "    Returns:\n",
    "        numpy.ndarray:shape为[N,d+1]，且第一列列向量全为1\n",
    "    '''\n",
    "    \n",
    "    try:\n",
    "        N=X.shape[0]\n",
    "        d=X.shape[1]\n",
    "        if d == 1:\n",
    "            return addSingleBias(X)\n",
    "        bias_vector=np.ones([N,1])\n",
    "        return np.column_stack((bias_vector,X))\n",
    "        \n",
    "    except:\n",
    "        return addSingleBias(X)"
   ]
  },
  {
   "cell_type": "code",
   "execution_count": 5,
   "metadata": {},
   "outputs": [
    {
     "output_type": "execute_result",
     "data": {
      "text/plain": [
       "array([[1., 1., 1.],\n",
       "       [1., 2., 2.],\n",
       "       [1., 2., 0.],\n",
       "       [1., 0., 0.],\n",
       "       [1., 1., 0.],\n",
       "       [1., 0., 1.]])"
      ]
     },
     "metadata": {},
     "execution_count": 5
    }
   ],
   "source": [
    "addBias(D)"
   ]
  },
  {
   "source": [
    "## 最佳边界\n",
    "直到导数为0停止"
   ],
   "cell_type": "markdown",
   "metadata": {}
  },
  {
   "cell_type": "code",
   "execution_count": null,
   "metadata": {},
   "outputs": [],
   "source": [
    "W=np.zeros([3,1])\n",
    "learning_rate=0.1"
   ]
  },
  {
   "source": [
    "## 分离即退出\n",
    "非最佳边界"
   ],
   "cell_type": "markdown",
   "metadata": {}
  },
  {
   "cell_type": "code",
   "execution_count": 22,
   "metadata": {},
   "outputs": [],
   "source": [
    "W=np.zeros([3,1])\n",
    "learning_rate=0.1"
   ]
  },
  {
   "cell_type": "code",
   "execution_count": 37,
   "metadata": {},
   "outputs": [
    {
     "output_type": "stream",
     "name": "stdout",
     "text": [
      "success\n[[-3.2]\n [ 2.2]\n [ 2.2]]\n"
     ]
    }
   ],
   "source": [
    "for iteration in range(100):\n",
    "    Pass=True\n",
    "    for i in range(len(D)):\n",
    "        X=addBias(D[i])\n",
    "        yn=Y[i]\n",
    "        Err=1-yn*np.dot(W.transpose(),X)\n",
    "        if Err>0:\n",
    "            Pass=False\n",
    "            dErr_dW=-yn*X\n",
    "            W-=learning_rate*dErr_dW\n",
    "        # print(W)\n",
    "            print(Err)\n",
    "    if Pass is True:\n",
    "        print('success')\n",
    "        print(W)\n",
    "        break"
   ]
  },
  {
   "source": [
    "## validation"
   ],
   "cell_type": "markdown",
   "metadata": {}
  },
  {
   "cell_type": "code",
   "execution_count": 31,
   "metadata": {},
   "outputs": [],
   "source": [
    "Wt=np.asarray([[-3.2],\n",
    " [ 2.2],\n",
    " [ 2.2]])"
   ]
  },
  {
   "cell_type": "code",
   "execution_count": 34,
   "metadata": {},
   "outputs": [
    {
     "output_type": "stream",
     "name": "stdout",
     "text": [
      "[[-1.]\n [-1.]\n [-1.]]\n[[-1.]\n [-2.]\n [-2.]]\n[[-1.]\n [-2.]\n [-0.]]\n[[1.]\n [0.]\n [0.]]\n[[1.]\n [1.]\n [0.]]\n[[1.]\n [0.]\n [1.]]\n"
     ]
    }
   ],
   "source": [
    "for i in range(len(D)):\n",
    "        X=addBias(D[i])\n",
    "        yn=Y[i]\n",
    "        Err=1-yn*np.dot(Wt.transpose(),X)\n",
    "        dErr_dW=-yn*X\n",
    "        print(dErr_dW)\n",
    "        if Err>0:\n",
    "            print('false')\n",
    "            break\n",
    "            # dErr_dW=-yn*X\n",
    "            # W-=learning_rate*dErr_dW\n",
    "        # print(W)\n",
    "        # print(Err)"
   ]
  },
  {
   "cell_type": "code",
   "execution_count": null,
   "metadata": {},
   "outputs": [],
   "source": []
  }
 ]
}