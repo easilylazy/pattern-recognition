{
 "metadata": {
  "language_info": {
   "codemirror_mode": {
    "name": "ipython",
    "version": 3
   },
   "file_extension": ".py",
   "mimetype": "text/x-python",
   "name": "python",
   "nbconvert_exporter": "python",
   "pygments_lexer": "ipython3",
   "version": "3.7.4"
  },
  "orig_nbformat": 2,
  "kernelspec": {
   "name": "python374jvsc74a57bd03f857618d8b6a3d270a8a45aea13fd0dc2a28a907e8d4ef70fe87ce2a92698f8",
   "display_name": "Python 3.7.4 64-bit"
  }
 },
 "nbformat": 4,
 "nbformat_minor": 2,
 "cells": [
  {
   "cell_type": "code",
   "execution_count": 2,
   "metadata": {},
   "outputs": [],
   "source": [
    "import numpy as np"
   ]
  },
  {
   "source": [
    "## Lecture7-8编程作业\n",
    "训练集: 中国与日本的沿海城市的经纬度坐标向量，中国标签为+1, 日本为标签为-1.\n",
    "测试集: 钓鱼岛的经纬度坐标向量\n",
    "用支撑向量机设计分类器，（1）判断钓鱼岛属于哪一类；（2）增加几个非海边城市的经纬度坐标进行训练，判断这些城市是否影响分类结果，是否为支撑向量\n"
   ],
   "cell_type": "markdown",
   "metadata": {}
  },
  {
   "source": [
    "## load_data"
   ],
   "cell_type": "markdown",
   "metadata": {}
  },
  {
   "cell_type": "code",
   "execution_count": 16,
   "metadata": {},
   "outputs": [],
   "source": [
    "#中国沿海城市的坐标集\n",
    "X1 = np.array([\n",
    "    [119.1,34.4],\n",
    "    [121.3,29.5],\n",
    "    [120.2,36.1],\n",
    "    [119.4,39.6],\n",
    "    [113.5,22.3],\n",
    "    [118.1,24.5],\n",
    "    [121.4,34.5],\n",
    "    [114.1,22.6],\n",
    "    [110.1,20.3],\n",
    "    [123.3,38.6],\n",
    "    [117.2,39.1]])\n",
    "X1_add = np.array([\n",
    "    [114,30],\n",
    "    [116,24],\n",
    "    [117,32]])"
   ]
  },
  {
   "cell_type": "code",
   "execution_count": 17,
   "metadata": {},
   "outputs": [],
   "source": [
    "#日本沿海城市的坐标集\n",
    "X2 = np.array([\n",
    "    [130.3,32.3],\n",
    "    [130.6,33.6],\n",
    "    [139.4,35.3],\n",
    "    [135.1,34.4],\n",
    "    [136.6,35.1],\n",
    "    [130.4,33.6],\n",
    "    [132.3,34.2],\n",
    "    [130.5,33.4],\n",
    "    [129.9,32.8],\n",
    "    [135.3,34.4],\n",
    "    [139.5,35.4]])\n",
    "X2_add = np.array([\n",
    "    [141,38],\n",
    "    [138,36],\n",
    "    [135,35]])\n"
   ]
  },
  {
   "cell_type": "code",
   "execution_count": 18,
   "metadata": {},
   "outputs": [],
   "source": [
    "D=np.r_[X1,X2]\n",
    "Y=np.r_[np.ones([len(X1),1]),-np.ones([len(X2),1])]"
   ]
  },
  {
   "cell_type": "code",
   "execution_count": 19,
   "metadata": {},
   "outputs": [
    {
     "output_type": "execute_result",
     "data": {
      "text/plain": [
       "array([[119.1,  34.4],\n",
       "       [121.3,  29.5],\n",
       "       [120.2,  36.1]])"
      ]
     },
     "metadata": {},
     "execution_count": 19
    }
   ],
   "source": [
    "D[:3]"
   ]
  },
  {
   "source": [
    "## Train"
   ],
   "cell_type": "markdown",
   "metadata": {}
  },
  {
   "cell_type": "code",
   "execution_count": 10,
   "metadata": {},
   "outputs": [],
   "source": [
    "def addSingleBias(X):\n",
    "    N=X.shape[0]\n",
    "    X=np.reshape(X,[N,1])\n",
    "    bias_vector=np.ones([1,1])\n",
    "    return np.row_stack((bias_vector,X))\n",
    "def addBias(X):\n",
    "    '''\n",
    "    为维数为N,d的向量X添加偏置向量\n",
    "    Args:\n",
    "        X(numpy.ndarray):shape为[N,d]\n",
    "    Returns:\n",
    "        numpy.ndarray:shape为[N,d+1]，且第一列列向量全为1\n",
    "    '''\n",
    "    \n",
    "    try:\n",
    "        N=X.shape[0]\n",
    "        d=X.shape[1]\n",
    "        if d == 1:\n",
    "            return addSingleBias(X)\n",
    "        bias_vector=np.ones([N,1])\n",
    "        return np.column_stack((bias_vector,X))\n",
    "        \n",
    "    except:\n",
    "        return addSingleBias(X)"
   ]
  },
  {
   "cell_type": "code",
   "execution_count": 40,
   "metadata": {},
   "outputs": [],
   "source": [
    "W=np.zeros([3,1])\n",
    "learning_rate=0.0001"
   ]
  },
  {
   "cell_type": "code",
   "execution_count": 43,
   "metadata": {
    "tags": []
   },
   "outputs": [
    {
     "output_type": "stream",
     "name": "stdout",
     "text": [
      "[[20.917016]]\n",
      "[[20.616466]]\n",
      "[[20.460418]]\n",
      "[[20.42636]]\n",
      "[[20.363524]]\n",
      "[[20.356779]]\n",
      "[[20.313813]]\n",
      "[[20.286413]]\n",
      "[[20.261215]]\n",
      "[[20.257052]]\n",
      "[[20.23756]]\n",
      "[[20.230438]]\n",
      "[[20.22715]]\n",
      "[[20.223862]]\n",
      "[[20.220574]]\n",
      "[[20.209084]]\n",
      "[[20.205796]]\n",
      "[[20.202508]]\n"
     ]
    }
   ],
   "source": [
    "minErr=1000*np.ones([1,1])\n",
    "W_end=W\n",
    "\n",
    "for iteration in range(1000):\n",
    "    Pass=True\n",
    "    for i in range(len(D)):\n",
    "        X=addBias(D[i])\n",
    "        yn=Y[i]\n",
    "        Err=1-yn*np.dot(W.transpose(),X)\n",
    "        # print('err: '+str(Err))\n",
    "        if Err>0:\n",
    "            Pass=False\n",
    "            dErr_dW=-yn*X\n",
    "            W-=learning_rate*dErr_dW\n",
    "            # print('err: '+str(Err))\n",
    "            # print(W)\n",
    "        totalErr=np.zeros(Err.shape)\n",
    "        for i in range(len(D)):\n",
    "            X=addBias(D[i])\n",
    "            yn=Y[i]\n",
    "            Err=1-yn*np.dot(W.transpose(),X)\n",
    "            # print('err: '+str(Err))\n",
    "            if Err>0:\n",
    "                totalErr+=Err\n",
    "        if totalErr<minErr:\n",
    "            print(totalErr)\n",
    "            minErr=totalErr\n",
    "            W_end=W\n",
    "    \n",
    "    if Pass is True:\n",
    "        print('success')\n",
    "        print(iteration)\n",
    "        print(W)\n",
    "        break"
   ]
  },
  {
   "cell_type": "code",
   "execution_count": 42,
   "metadata": {},
   "outputs": [
    {
     "output_type": "stream",
     "name": "stdout",
     "text": [
      "[[20.52617]]\n"
     ]
    }
   ],
   "source": [
    "print(minErr)"
   ]
  },
  {
   "cell_type": "code",
   "execution_count": null,
   "metadata": {},
   "outputs": [],
   "source": []
  }
 ]
}