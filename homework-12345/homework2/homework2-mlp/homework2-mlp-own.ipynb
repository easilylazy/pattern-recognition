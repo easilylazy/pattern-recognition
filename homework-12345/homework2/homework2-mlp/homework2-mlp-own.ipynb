{
 "cells": [
  {
   "cell_type": "markdown",
   "source": [
    "# Homework-2: MLP for MNIST Classification\n",
    "\n",
    "### In this homework, you need to\n",
    "- #### implement SGD optimizer (`./optimizer.py`)\n",
    "- #### implement forward and backward for FCLayer (`layers/fc_layer.py`)\n",
    "- #### implement forward and backward for SigmoidLayer (`layers/sigmoid_layer.py`)\n",
    "- #### implement forward and backward for ReLULayer (`layers/relu_layer.py`)\n",
    "- #### implement EuclideanLossLayer (`criterion/euclidean_loss.py`)\n",
    "- #### implement SoftmaxCrossEntropyLossLayer (`criterion/softmax_cross_entropy.py`)"
   ],
   "metadata": {}
  },
  {
   "cell_type": "code",
   "execution_count": 12,
   "source": [
    "import numpy as np\r\n",
    "import matplotlib.pyplot as plt\r\n",
    "%matplotlib inline\r\n",
    "import tensorflow.compat.v1 as tf\r\n",
    "tf.disable_eager_execution()\r\n",
    "\r\n",
    "from network import Network\r\n",
    "from solver import train, test\r\n",
    "from plot import plot_loss_and_acc"
   ],
   "outputs": [],
   "metadata": {}
  },
  {
   "cell_type": "markdown",
   "source": [
    "## Load MNIST Dataset\n",
    "We use tensorflow tools to load dataset for convenience."
   ],
   "metadata": {}
  },
  {
   "cell_type": "code",
   "execution_count": 13,
   "source": [
    "(x_train, y_train), (x_test, y_test) = tf.keras.datasets.mnist.load_data()"
   ],
   "outputs": [],
   "metadata": {}
  },
  {
   "cell_type": "code",
   "execution_count": 14,
   "source": [
    "def decode_image(image):\r\n",
    "    # Normalize from [0, 255.] to [0., 1.0], and then subtract by the mean value\r\n",
    "    image = tf.cast(image, tf.float32)\r\n",
    "    image = tf.reshape(image, [784])\r\n",
    "    image = image / 255.0\r\n",
    "    image = image - tf.reduce_mean(image)\r\n",
    "    return image\r\n",
    "\r\n",
    "def decode_label(label):\r\n",
    "    # Encode label with one-hot encoding\r\n",
    "    return tf.one_hot(label, depth=10)"
   ],
   "outputs": [],
   "metadata": {}
  },
  {
   "cell_type": "code",
   "execution_count": 15,
   "source": [
    "# Data Preprocessing\r\n",
    "x_train = tf.data.Dataset.from_tensor_slices(x_train).map(decode_image)\r\n",
    "y_train = tf.data.Dataset.from_tensor_slices(y_train).map(decode_label)\r\n",
    "data_train = tf.data.Dataset.zip((x_train, y_train))\r\n",
    "\r\n",
    "x_test = tf.data.Dataset.from_tensor_slices(x_test).map(decode_image)\r\n",
    "y_test = tf.data.Dataset.from_tensor_slices(y_test).map(decode_label)\r\n",
    "data_test = tf.data.Dataset.zip((x_test, y_test))"
   ],
   "outputs": [],
   "metadata": {}
  },
  {
   "cell_type": "markdown",
   "source": [
    "## Set Hyerparameters\n",
    "You can modify hyerparameters by yourself."
   ],
   "metadata": {}
  },
  {
   "cell_type": "code",
   "execution_count": 16,
   "source": [
    "batch_size = 100\r\n",
    "max_epoch = 10\r\n",
    "init_std = 0.01\r\n",
    "\r\n",
    "learning_rate_SGD = 0.001\r\n",
    "weight_decay = 0.1\r\n",
    "\r\n",
    "hidden_layer1=128\r\n",
    "hidden_layer2=64\r\n",
    "disp_freq = 50"
   ],
   "outputs": [],
   "metadata": {}
  },
  {
   "cell_type": "markdown",
   "source": [
    "## 1. MLP with Euclidean Loss\n",
    "In part-1, you need to train a MLP with **Euclidean Loss**.  \n",
    "**Sigmoid Activation Function** and **ReLU Activation Function** will be used respectively.\n",
    "### TODO\n",
    "Before executing the following code, you should complete **./optimizer.py** and **criterion/euclidean_loss.py**."
   ],
   "metadata": {}
  },
  {
   "cell_type": "code",
   "execution_count": 17,
   "source": [
    "from criterion import EuclideanLossLayer\r\n",
    "from optimizer import SGD\r\n",
    "\r\n",
    "criterion = EuclideanLossLayer()\r\n",
    "\r\n",
    "sgd = SGD(learning_rate_SGD, weight_decay)"
   ],
   "outputs": [],
   "metadata": {}
  },
  {
   "cell_type": "markdown",
   "source": [
    "## 1.1 MLP with Euclidean Loss and Sigmoid Activation Function\r\n",
    "Build and train a MLP contraining one hidden layer with 128 units using Sigmoid activation function and Euclidean loss function.\r\n",
    "\r\n",
    "### TODO\r\n",
    "Before executing the following code, you should complete **layers/fc_layer.py** and **layers/sigmoid_layer.py**."
   ],
   "metadata": {}
  },
  {
   "cell_type": "code",
   "execution_count": 18,
   "source": [
    "from layers import FCLayer, SigmoidLayer\r\n",
    "\r\n",
    "sigmoidMLP = Network()\r\n",
    "# Build MLP with FCLayer and SigmoidLayer\r\n",
    "# 128 is the number of hidden units, you can change by your own\r\n",
    "sigmoidMLP.add(FCLayer(784, hidden_layer1))\r\n",
    "sigmoidMLP.add(SigmoidLayer())\r\n",
    "sigmoidMLP.add(FCLayer(128, 10))"
   ],
   "outputs": [],
   "metadata": {}
  },
  {
   "cell_type": "code",
   "execution_count": 19,
   "source": [
    "sigmoidMLP, sigmoid_loss, sigmoid_acc = train(sigmoidMLP, criterion, sgd, data_train, max_epoch, batch_size, disp_freq)"
   ],
   "outputs": [
    {
     "output_type": "stream",
     "name": "stdout",
     "text": [
      "Epoch [0][10]\t Batch [0][550]\t Training Loss 26.5186\t Accuracy 0.1100\n",
      "Epoch [0][10]\t Batch [50][550]\t Training Loss 7.6214\t Accuracy 0.0957\n",
      "Epoch [0][10]\t Batch [100][550]\t Training Loss 4.5222\t Accuracy 0.0906\n",
      "Epoch [0][10]\t Batch [150][550]\t Training Loss 3.4299\t Accuracy 0.0928\n",
      "Epoch [0][10]\t Batch [200][550]\t Training Loss 2.8705\t Accuracy 0.0989\n",
      "Epoch [0][10]\t Batch [250][550]\t Training Loss 2.5267\t Accuracy 0.1047\n",
      "Epoch [0][10]\t Batch [300][550]\t Training Loss 2.2928\t Accuracy 0.1093\n",
      "Epoch [0][10]\t Batch [350][550]\t Training Loss 2.1247\t Accuracy 0.1135\n",
      "Epoch [0][10]\t Batch [400][550]\t Training Loss 1.9945\t Accuracy 0.1188\n",
      "Epoch [0][10]\t Batch [450][550]\t Training Loss 1.8923\t Accuracy 0.1238\n",
      "Epoch [0][10]\t Batch [500][550]\t Training Loss 1.8068\t Accuracy 0.1296\n",
      "\n",
      "Epoch [0]\t Average training loss 1.7367\t Average training accuracy 0.1356\n",
      "Epoch [0]\t Average validation loss 0.9962\t Average validation accuracy 0.2088\n",
      "\n",
      "Epoch [1][10]\t Batch [0][550]\t Training Loss 1.0120\t Accuracy 0.1900\n",
      "Epoch [1][10]\t Batch [50][550]\t Training Loss 0.9992\t Accuracy 0.2094\n",
      "Epoch [1][10]\t Batch [100][550]\t Training Loss 0.9886\t Accuracy 0.2134\n",
      "Epoch [1][10]\t Batch [150][550]\t Training Loss 0.9830\t Accuracy 0.2185\n",
      "Epoch [1][10]\t Batch [200][550]\t Training Loss 0.9749\t Accuracy 0.2281\n",
      "Epoch [1][10]\t Batch [250][550]\t Training Loss 0.9654\t Accuracy 0.2366\n",
      "Epoch [1][10]\t Batch [300][550]\t Training Loss 0.9568\t Accuracy 0.2443\n",
      "Epoch [1][10]\t Batch [350][550]\t Training Loss 0.9513\t Accuracy 0.2478\n",
      "Epoch [1][10]\t Batch [400][550]\t Training Loss 0.9443\t Accuracy 0.2545\n",
      "Epoch [1][10]\t Batch [450][550]\t Training Loss 0.9390\t Accuracy 0.2585\n",
      "Epoch [1][10]\t Batch [500][550]\t Training Loss 0.9322\t Accuracy 0.2653\n",
      "\n",
      "Epoch [1]\t Average training loss 0.9259\t Average training accuracy 0.2717\n",
      "Epoch [1]\t Average validation loss 0.8415\t Average validation accuracy 0.3546\n",
      "\n",
      "Epoch [2][10]\t Batch [0][550]\t Training Loss 0.8474\t Accuracy 0.3500\n",
      "Epoch [2][10]\t Batch [50][550]\t Training Loss 0.8490\t Accuracy 0.3510\n",
      "Epoch [2][10]\t Batch [100][550]\t Training Loss 0.8424\t Accuracy 0.3605\n",
      "Epoch [2][10]\t Batch [150][550]\t Training Loss 0.8406\t Accuracy 0.3594\n",
      "Epoch [2][10]\t Batch [200][550]\t Training Loss 0.8365\t Accuracy 0.3649\n",
      "Epoch [2][10]\t Batch [250][550]\t Training Loss 0.8307\t Accuracy 0.3715\n",
      "Epoch [2][10]\t Batch [300][550]\t Training Loss 0.8256\t Accuracy 0.3775\n",
      "Epoch [2][10]\t Batch [350][550]\t Training Loss 0.8231\t Accuracy 0.3786\n",
      "Epoch [2][10]\t Batch [400][550]\t Training Loss 0.8190\t Accuracy 0.3843\n",
      "Epoch [2][10]\t Batch [450][550]\t Training Loss 0.8165\t Accuracy 0.3871\n",
      "Epoch [2][10]\t Batch [500][550]\t Training Loss 0.8125\t Accuracy 0.3932\n",
      "\n",
      "Epoch [2]\t Average training loss 0.8086\t Average training accuracy 0.3982\n",
      "Epoch [2]\t Average validation loss 0.7513\t Average validation accuracy 0.4712\n",
      "\n",
      "Epoch [3][10]\t Batch [0][550]\t Training Loss 0.7518\t Accuracy 0.4800\n",
      "Epoch [3][10]\t Batch [50][550]\t Training Loss 0.7611\t Accuracy 0.4608\n",
      "Epoch [3][10]\t Batch [100][550]\t Training Loss 0.7569\t Accuracy 0.4716\n",
      "Epoch [3][10]\t Batch [150][550]\t Training Loss 0.7570\t Accuracy 0.4668\n",
      "Epoch [3][10]\t Batch [200][550]\t Training Loss 0.7550\t Accuracy 0.4703\n",
      "Epoch [3][10]\t Batch [250][550]\t Training Loss 0.7511\t Accuracy 0.4761\n",
      "Epoch [3][10]\t Batch [300][550]\t Training Loss 0.7478\t Accuracy 0.4805\n",
      "Epoch [3][10]\t Batch [350][550]\t Training Loss 0.7470\t Accuracy 0.4813\n",
      "Epoch [3][10]\t Batch [400][550]\t Training Loss 0.7444\t Accuracy 0.4850\n",
      "Epoch [3][10]\t Batch [450][550]\t Training Loss 0.7432\t Accuracy 0.4873\n",
      "Epoch [3][10]\t Batch [500][550]\t Training Loss 0.7407\t Accuracy 0.4925\n",
      "\n",
      "Epoch [3]\t Average training loss 0.7382\t Average training accuracy 0.4960\n",
      "Epoch [3]\t Average validation loss 0.6952\t Average validation accuracy 0.5634\n",
      "\n",
      "Epoch [4][10]\t Batch [0][550]\t Training Loss 0.6928\t Accuracy 0.5800\n",
      "Epoch [4][10]\t Batch [50][550]\t Training Loss 0.7064\t Accuracy 0.5475\n",
      "Epoch [4][10]\t Batch [100][550]\t Training Loss 0.7035\t Accuracy 0.5523\n",
      "Epoch [4][10]\t Batch [150][550]\t Training Loss 0.7048\t Accuracy 0.5473\n",
      "Epoch [4][10]\t Batch [200][550]\t Training Loss 0.7040\t Accuracy 0.5490\n",
      "Epoch [4][10]\t Batch [250][550]\t Training Loss 0.7012\t Accuracy 0.5529\n",
      "Epoch [4][10]\t Batch [300][550]\t Training Loss 0.6990\t Accuracy 0.5560\n",
      "Epoch [4][10]\t Batch [350][550]\t Training Loss 0.6991\t Accuracy 0.5565\n",
      "Epoch [4][10]\t Batch [400][550]\t Training Loss 0.6973\t Accuracy 0.5594\n",
      "Epoch [4][10]\t Batch [450][550]\t Training Loss 0.6969\t Accuracy 0.5609\n",
      "Epoch [4][10]\t Batch [500][550]\t Training Loss 0.6954\t Accuracy 0.5649\n",
      "\n",
      "Epoch [4]\t Average training loss 0.6936\t Average training accuracy 0.5677\n",
      "Epoch [4]\t Average validation loss 0.6590\t Average validation accuracy 0.6244\n",
      "\n",
      "Epoch [5][10]\t Batch [0][550]\t Training Loss 0.6550\t Accuracy 0.6100\n",
      "Epoch [5][10]\t Batch [50][550]\t Training Loss 0.6711\t Accuracy 0.5980\n",
      "Epoch [5][10]\t Batch [100][550]\t Training Loss 0.6690\t Accuracy 0.6049\n",
      "Epoch [5][10]\t Batch [150][550]\t Training Loss 0.6711\t Accuracy 0.6002\n",
      "Epoch [5][10]\t Batch [200][550]\t Training Loss 0.6709\t Accuracy 0.6032\n",
      "Epoch [5][10]\t Batch [250][550]\t Training Loss 0.6689\t Accuracy 0.6072\n",
      "Epoch [5][10]\t Batch [300][550]\t Training Loss 0.6673\t Accuracy 0.6095\n",
      "Epoch [5][10]\t Batch [350][550]\t Training Loss 0.6680\t Accuracy 0.6091\n",
      "Epoch [5][10]\t Batch [400][550]\t Training Loss 0.6668\t Accuracy 0.6111\n",
      "Epoch [5][10]\t Batch [450][550]\t Training Loss 0.6668\t Accuracy 0.6118\n",
      "Epoch [5][10]\t Batch [500][550]\t Training Loss 0.6658\t Accuracy 0.6146\n",
      "\n",
      "Epoch [5]\t Average training loss 0.6646\t Average training accuracy 0.6167\n",
      "Epoch [5]\t Average validation loss 0.6352\t Average validation accuracy 0.6672\n",
      "\n",
      "Epoch [6][10]\t Batch [0][550]\t Training Loss 0.6304\t Accuracy 0.7200\n",
      "Epoch [6][10]\t Batch [50][550]\t Training Loss 0.6478\t Accuracy 0.6406\n",
      "Epoch [6][10]\t Batch [100][550]\t Training Loss 0.6464\t Accuracy 0.6463\n",
      "Epoch [6][10]\t Batch [150][550]\t Training Loss 0.6489\t Accuracy 0.6405\n",
      "Epoch [6][10]\t Batch [200][550]\t Training Loss 0.6492\t Accuracy 0.6420\n",
      "Epoch [6][10]\t Batch [250][550]\t Training Loss 0.6477\t Accuracy 0.6446\n",
      "Epoch [6][10]\t Batch [300][550]\t Training Loss 0.6465\t Accuracy 0.6459\n",
      "Epoch [6][10]\t Batch [350][550]\t Training Loss 0.6475\t Accuracy 0.6457\n",
      "Epoch [6][10]\t Batch [400][550]\t Training Loss 0.6467\t Accuracy 0.6473\n",
      "Epoch [6][10]\t Batch [450][550]\t Training Loss 0.6470\t Accuracy 0.6479\n",
      "Epoch [6][10]\t Batch [500][550]\t Training Loss 0.6464\t Accuracy 0.6498\n",
      "\n",
      "Epoch [6]\t Average training loss 0.6455\t Average training accuracy 0.6517\n",
      "Epoch [6]\t Average validation loss 0.6198\t Average validation accuracy 0.6998\n",
      "\n",
      "Epoch [7][10]\t Batch [0][550]\t Training Loss 0.6146\t Accuracy 0.7200\n",
      "Epoch [7][10]\t Batch [50][550]\t Training Loss 0.6326\t Accuracy 0.6690\n",
      "Epoch [7][10]\t Batch [100][550]\t Training Loss 0.6316\t Accuracy 0.6718\n",
      "Epoch [7][10]\t Batch [150][550]\t Training Loss 0.6344\t Accuracy 0.6665\n",
      "Epoch [7][10]\t Batch [200][550]\t Training Loss 0.6351\t Accuracy 0.6676\n",
      "Epoch [7][10]\t Batch [250][550]\t Training Loss 0.6338\t Accuracy 0.6698\n",
      "Epoch [7][10]\t Batch [300][550]\t Training Loss 0.6330\t Accuracy 0.6707\n",
      "Epoch [7][10]\t Batch [350][550]\t Training Loss 0.6342\t Accuracy 0.6703\n",
      "Epoch [7][10]\t Batch [400][550]\t Training Loss 0.6336\t Accuracy 0.6715\n",
      "Epoch [7][10]\t Batch [450][550]\t Training Loss 0.6342\t Accuracy 0.6722\n",
      "Epoch [7][10]\t Batch [500][550]\t Training Loss 0.6338\t Accuracy 0.6738\n",
      "\n",
      "Epoch [7]\t Average training loss 0.6331\t Average training accuracy 0.6754\n",
      "Epoch [7]\t Average validation loss 0.6101\t Average validation accuracy 0.7192\n",
      "\n",
      "Epoch [8][10]\t Batch [0][550]\t Training Loss 0.6048\t Accuracy 0.7500\n",
      "Epoch [8][10]\t Batch [50][550]\t Training Loss 0.6231\t Accuracy 0.6943\n",
      "Epoch [8][10]\t Batch [100][550]\t Training Loss 0.6223\t Accuracy 0.6943\n",
      "Epoch [8][10]\t Batch [150][550]\t Training Loss 0.6253\t Accuracy 0.6880\n",
      "Epoch [8][10]\t Batch [200][550]\t Training Loss 0.6262\t Accuracy 0.6882\n",
      "Epoch [8][10]\t Batch [250][550]\t Training Loss 0.6252\t Accuracy 0.6893\n",
      "Epoch [8][10]\t Batch [300][550]\t Training Loss 0.6245\t Accuracy 0.6897\n",
      "Epoch [8][10]\t Batch [350][550]\t Training Loss 0.6260\t Accuracy 0.6900\n",
      "Epoch [8][10]\t Batch [400][550]\t Training Loss 0.6256\t Accuracy 0.6906\n",
      "Epoch [8][10]\t Batch [450][550]\t Training Loss 0.6262\t Accuracy 0.6911\n",
      "Epoch [8][10]\t Batch [500][550]\t Training Loss 0.6261\t Accuracy 0.6923\n",
      "\n",
      "Epoch [8]\t Average training loss 0.6256\t Average training accuracy 0.6939\n",
      "Epoch [8]\t Average validation loss 0.6045\t Average validation accuracy 0.7372\n",
      "\n",
      "Epoch [9][10]\t Batch [0][550]\t Training Loss 0.5993\t Accuracy 0.7700\n",
      "Epoch [9][10]\t Batch [50][550]\t Training Loss 0.6175\t Accuracy 0.7116\n",
      "Epoch [9][10]\t Batch [100][550]\t Training Loss 0.6170\t Accuracy 0.7100\n",
      "Epoch [9][10]\t Batch [150][550]\t Training Loss 0.6201\t Accuracy 0.7037\n",
      "Epoch [9][10]\t Batch [200][550]\t Training Loss 0.6211\t Accuracy 0.7030\n",
      "Epoch [9][10]\t Batch [250][550]\t Training Loss 0.6203\t Accuracy 0.7042\n",
      "Epoch [9][10]\t Batch [300][550]\t Training Loss 0.6198\t Accuracy 0.7045\n",
      "Epoch [9][10]\t Batch [350][550]\t Training Loss 0.6214\t Accuracy 0.7043\n",
      "Epoch [9][10]\t Batch [400][550]\t Training Loss 0.6211\t Accuracy 0.7049\n",
      "Epoch [9][10]\t Batch [450][550]\t Training Loss 0.6219\t Accuracy 0.7051\n",
      "Epoch [9][10]\t Batch [500][550]\t Training Loss 0.6218\t Accuracy 0.7061\n",
      "\n",
      "Epoch [9]\t Average training loss 0.6215\t Average training accuracy 0.7074\n",
      "Epoch [9]\t Average validation loss 0.6021\t Average validation accuracy 0.7494\n",
      "\n"
     ]
    }
   ],
   "metadata": {
    "scrolled": true
   }
  },
  {
   "cell_type": "code",
   "execution_count": 20,
   "source": [
    "test(sigmoidMLP, criterion, data_test, batch_size, disp_freq)"
   ],
   "outputs": [
    {
     "output_type": "stream",
     "name": "stdout",
     "text": [
      "Testing...\n",
      "The test accuracy is 0.7342.\n",
      "\n"
     ]
    }
   ],
   "metadata": {}
  },
  {
   "cell_type": "markdown",
   "source": [
    "## 1.2 MLP with Euclidean Loss and ReLU Activation Function\r\n",
    "Build and train a MLP contraining one hidden layer with 128 units using ReLU activation function and Euclidean loss function.\r\n",
    "\r\n",
    "### TODO\r\n",
    "Before executing the following code, you should complete **layers/relu_layer.py**."
   ],
   "metadata": {}
  },
  {
   "cell_type": "code",
   "execution_count": 21,
   "source": [
    "from layers import ReLULayer\r\n",
    "\r\n",
    "reluMLP = Network()\r\n",
    "# TODO build ReLUMLP with FCLayer and ReLULayer\r\n",
    "reluMLP.add(FCLayer(784, hidden_layer1))\r\n",
    "reluMLP.add(ReLULayer())\r\n",
    "reluMLP.add(FCLayer(hidden_layer1, hidden_layer2))\r\n",
    "reluMLP.add(ReLULayer())\r\n",
    "reluMLP.add(FCLayer(hidden_layer2, 10))"
   ],
   "outputs": [],
   "metadata": {}
  },
  {
   "cell_type": "code",
   "execution_count": 22,
   "source": [
    "reluMLP, relu_loss, relu_acc = train(reluMLP, criterion, sgd, data_train, max_epoch, batch_size, disp_freq)"
   ],
   "outputs": [
    {
     "output_type": "stream",
     "name": "stdout",
     "text": [
      "Epoch [0][10]\t Batch [0][550]\t Training Loss 9.0191\t Accuracy 0.0900\n",
      "Epoch [0][10]\t Batch [50][550]\t Training Loss 3.8776\t Accuracy 0.1212\n",
      "Epoch [0][10]\t Batch [100][550]\t Training Loss 2.9371\t Accuracy 0.1371\n",
      "Epoch [0][10]\t Batch [150][550]\t Training Loss 2.5121\t Accuracy 0.1533\n",
      "Epoch [0][10]\t Batch [200][550]\t Training Loss 2.2631\t Accuracy 0.1651\n",
      "Epoch [0][10]\t Batch [250][550]\t Training Loss 2.0906\t Accuracy 0.1771\n",
      "Epoch [0][10]\t Batch [300][550]\t Training Loss 1.9587\t Accuracy 0.1908\n",
      "Epoch [0][10]\t Batch [350][550]\t Training Loss 1.8578\t Accuracy 0.2017\n",
      "Epoch [0][10]\t Batch [400][550]\t Training Loss 1.7746\t Accuracy 0.2136\n",
      "Epoch [0][10]\t Batch [450][550]\t Training Loss 1.7042\t Accuracy 0.2237\n",
      "Epoch [0][10]\t Batch [500][550]\t Training Loss 1.6433\t Accuracy 0.2335\n",
      "\n",
      "Epoch [0]\t Average training loss 1.5917\t Average training accuracy 0.2432\n",
      "Epoch [0]\t Average validation loss 1.0281\t Average validation accuracy 0.3800\n",
      "\n",
      "Epoch [1][10]\t Batch [0][550]\t Training Loss 1.0507\t Accuracy 0.4500\n",
      "Epoch [1][10]\t Batch [50][550]\t Training Loss 1.0238\t Accuracy 0.3755\n",
      "Epoch [1][10]\t Batch [100][550]\t Training Loss 1.0075\t Accuracy 0.3795\n",
      "Epoch [1][10]\t Batch [150][550]\t Training Loss 0.9949\t Accuracy 0.3818\n",
      "Epoch [1][10]\t Batch [200][550]\t Training Loss 0.9850\t Accuracy 0.3858\n",
      "Epoch [1][10]\t Batch [250][550]\t Training Loss 0.9741\t Accuracy 0.3923\n",
      "Epoch [1][10]\t Batch [300][550]\t Training Loss 0.9632\t Accuracy 0.3975\n",
      "Epoch [1][10]\t Batch [350][550]\t Training Loss 0.9552\t Accuracy 0.4006\n",
      "Epoch [1][10]\t Batch [400][550]\t Training Loss 0.9465\t Accuracy 0.4052\n",
      "Epoch [1][10]\t Batch [450][550]\t Training Loss 0.9381\t Accuracy 0.4091\n",
      "Epoch [1][10]\t Batch [500][550]\t Training Loss 0.9295\t Accuracy 0.4136\n",
      "\n",
      "Epoch [1]\t Average training loss 0.9215\t Average training accuracy 0.4185\n",
      "Epoch [1]\t Average validation loss 0.8167\t Average validation accuracy 0.4986\n",
      "\n",
      "Epoch [2][10]\t Batch [0][550]\t Training Loss 0.8303\t Accuracy 0.5200\n",
      "Epoch [2][10]\t Batch [50][550]\t Training Loss 0.8205\t Accuracy 0.4904\n",
      "Epoch [2][10]\t Batch [100][550]\t Training Loss 0.8139\t Accuracy 0.4925\n",
      "Epoch [2][10]\t Batch [150][550]\t Training Loss 0.8104\t Accuracy 0.4926\n",
      "Epoch [2][10]\t Batch [200][550]\t Training Loss 0.8070\t Accuracy 0.4928\n",
      "Epoch [2][10]\t Batch [250][550]\t Training Loss 0.8022\t Accuracy 0.4970\n",
      "Epoch [2][10]\t Batch [300][550]\t Training Loss 0.7975\t Accuracy 0.4995\n",
      "Epoch [2][10]\t Batch [350][550]\t Training Loss 0.7950\t Accuracy 0.5003\n",
      "Epoch [2][10]\t Batch [400][550]\t Training Loss 0.7913\t Accuracy 0.5034\n",
      "Epoch [2][10]\t Batch [450][550]\t Training Loss 0.7878\t Accuracy 0.5056\n",
      "Epoch [2][10]\t Batch [500][550]\t Training Loss 0.7837\t Accuracy 0.5081\n",
      "\n",
      "Epoch [2]\t Average training loss 0.7798\t Average training accuracy 0.5112\n",
      "Epoch [2]\t Average validation loss 0.7198\t Average validation accuracy 0.5678\n",
      "\n",
      "Epoch [3][10]\t Batch [0][550]\t Training Loss 0.7290\t Accuracy 0.5700\n",
      "Epoch [3][10]\t Batch [50][550]\t Training Loss 0.7254\t Accuracy 0.5643\n",
      "Epoch [3][10]\t Batch [100][550]\t Training Loss 0.7222\t Accuracy 0.5636\n",
      "Epoch [3][10]\t Batch [150][550]\t Training Loss 0.7221\t Accuracy 0.5609\n",
      "Epoch [3][10]\t Batch [200][550]\t Training Loss 0.7207\t Accuracy 0.5598\n",
      "Epoch [3][10]\t Batch [250][550]\t Training Loss 0.7179\t Accuracy 0.5627\n",
      "Epoch [3][10]\t Batch [300][550]\t Training Loss 0.7151\t Accuracy 0.5635\n",
      "Epoch [3][10]\t Batch [350][550]\t Training Loss 0.7146\t Accuracy 0.5631\n",
      "Epoch [3][10]\t Batch [400][550]\t Training Loss 0.7126\t Accuracy 0.5647\n",
      "Epoch [3][10]\t Batch [450][550]\t Training Loss 0.7108\t Accuracy 0.5667\n",
      "Epoch [3][10]\t Batch [500][550]\t Training Loss 0.7085\t Accuracy 0.5676\n",
      "\n",
      "Epoch [3]\t Average training loss 0.7060\t Average training accuracy 0.5696\n",
      "Epoch [3]\t Average validation loss 0.6631\t Average validation accuracy 0.6196\n",
      "\n",
      "Epoch [4][10]\t Batch [0][550]\t Training Loss 0.6686\t Accuracy 0.6400\n",
      "Epoch [4][10]\t Batch [50][550]\t Training Loss 0.6698\t Accuracy 0.6102\n",
      "Epoch [4][10]\t Batch [100][550]\t Training Loss 0.6681\t Accuracy 0.6098\n",
      "Epoch [4][10]\t Batch [150][550]\t Training Loss 0.6696\t Accuracy 0.6090\n",
      "Epoch [4][10]\t Batch [200][550]\t Training Loss 0.6691\t Accuracy 0.6065\n",
      "Epoch [4][10]\t Batch [250][550]\t Training Loss 0.6672\t Accuracy 0.6082\n",
      "Epoch [4][10]\t Batch [300][550]\t Training Loss 0.6654\t Accuracy 0.6091\n",
      "Epoch [4][10]\t Batch [350][550]\t Training Loss 0.6658\t Accuracy 0.6075\n",
      "Epoch [4][10]\t Batch [400][550]\t Training Loss 0.6648\t Accuracy 0.6082\n",
      "Epoch [4][10]\t Batch [450][550]\t Training Loss 0.6638\t Accuracy 0.6096\n",
      "Epoch [4][10]\t Batch [500][550]\t Training Loss 0.6624\t Accuracy 0.6100\n",
      "\n",
      "Epoch [4]\t Average training loss 0.6607\t Average training accuracy 0.6111\n",
      "Epoch [4]\t Average validation loss 0.6263\t Average validation accuracy 0.6554\n",
      "\n",
      "Epoch [5][10]\t Batch [0][550]\t Training Loss 0.6274\t Accuracy 0.6500\n",
      "Epoch [5][10]\t Batch [50][550]\t Training Loss 0.6343\t Accuracy 0.6390\n",
      "Epoch [5][10]\t Batch [100][550]\t Training Loss 0.6333\t Accuracy 0.6392\n",
      "Epoch [5][10]\t Batch [150][550]\t Training Loss 0.6356\t Accuracy 0.6390\n",
      "Epoch [5][10]\t Batch [200][550]\t Training Loss 0.6355\t Accuracy 0.6371\n",
      "Epoch [5][10]\t Batch [250][550]\t Training Loss 0.6341\t Accuracy 0.6380\n",
      "Epoch [5][10]\t Batch [300][550]\t Training Loss 0.6328\t Accuracy 0.6386\n",
      "Epoch [5][10]\t Batch [350][550]\t Training Loss 0.6338\t Accuracy 0.6369\n",
      "Epoch [5][10]\t Batch [400][550]\t Training Loss 0.6333\t Accuracy 0.6373\n",
      "Epoch [5][10]\t Batch [450][550]\t Training Loss 0.6328\t Accuracy 0.6386\n",
      "Epoch [5][10]\t Batch [500][550]\t Training Loss 0.6319\t Accuracy 0.6388\n",
      "\n",
      "Epoch [5]\t Average training loss 0.6307\t Average training accuracy 0.6398\n",
      "Epoch [5]\t Average validation loss 0.6016\t Average validation accuracy 0.6870\n",
      "\n",
      "Epoch [6][10]\t Batch [0][550]\t Training Loss 0.5990\t Accuracy 0.6800\n",
      "Epoch [6][10]\t Batch [50][550]\t Training Loss 0.6105\t Accuracy 0.6637\n",
      "Epoch [6][10]\t Batch [100][550]\t Training Loss 0.6098\t Accuracy 0.6658\n",
      "Epoch [6][10]\t Batch [150][550]\t Training Loss 0.6126\t Accuracy 0.6621\n",
      "Epoch [6][10]\t Batch [200][550]\t Training Loss 0.6128\t Accuracy 0.6609\n",
      "Epoch [6][10]\t Batch [250][550]\t Training Loss 0.6117\t Accuracy 0.6611\n",
      "Epoch [6][10]\t Batch [300][550]\t Training Loss 0.6108\t Accuracy 0.6608\n",
      "Epoch [6][10]\t Batch [350][550]\t Training Loss 0.6122\t Accuracy 0.6591\n",
      "Epoch [6][10]\t Batch [400][550]\t Training Loss 0.6120\t Accuracy 0.6593\n",
      "Epoch [6][10]\t Batch [450][550]\t Training Loss 0.6118\t Accuracy 0.6610\n",
      "Epoch [6][10]\t Batch [500][550]\t Training Loss 0.6113\t Accuracy 0.6609\n",
      "\n",
      "Epoch [6]\t Average training loss 0.6103\t Average training accuracy 0.6615\n",
      "Epoch [6]\t Average validation loss 0.5847\t Average validation accuracy 0.7080\n",
      "\n",
      "Epoch [7][10]\t Batch [0][550]\t Training Loss 0.5789\t Accuracy 0.7000\n",
      "Epoch [7][10]\t Batch [50][550]\t Training Loss 0.5943\t Accuracy 0.6824\n",
      "Epoch [7][10]\t Batch [100][550]\t Training Loss 0.5938\t Accuracy 0.6853\n",
      "Epoch [7][10]\t Batch [150][550]\t Training Loss 0.5968\t Accuracy 0.6805\n",
      "Epoch [7][10]\t Batch [200][550]\t Training Loss 0.5973\t Accuracy 0.6797\n",
      "Epoch [7][10]\t Batch [250][550]\t Training Loss 0.5964\t Accuracy 0.6791\n",
      "Epoch [7][10]\t Batch [300][550]\t Training Loss 0.5957\t Accuracy 0.6790\n",
      "Epoch [7][10]\t Batch [350][550]\t Training Loss 0.5974\t Accuracy 0.6772\n",
      "Epoch [7][10]\t Batch [400][550]\t Training Loss 0.5974\t Accuracy 0.6769\n",
      "Epoch [7][10]\t Batch [450][550]\t Training Loss 0.5974\t Accuracy 0.6783\n",
      "Epoch [7][10]\t Batch [500][550]\t Training Loss 0.5972\t Accuracy 0.6778\n",
      "\n",
      "Epoch [7]\t Average training loss 0.5964\t Average training accuracy 0.6781\n",
      "Epoch [7]\t Average validation loss 0.5731\t Average validation accuracy 0.7240\n",
      "\n",
      "Epoch [8][10]\t Batch [0][550]\t Training Loss 0.5652\t Accuracy 0.7200\n",
      "Epoch [8][10]\t Batch [50][550]\t Training Loss 0.5831\t Accuracy 0.6951\n",
      "Epoch [8][10]\t Batch [100][550]\t Training Loss 0.5828\t Accuracy 0.6987\n",
      "Epoch [8][10]\t Batch [150][550]\t Training Loss 0.5860\t Accuracy 0.6939\n",
      "Epoch [8][10]\t Batch [200][550]\t Training Loss 0.5867\t Accuracy 0.6929\n",
      "Epoch [8][10]\t Batch [250][550]\t Training Loss 0.5859\t Accuracy 0.6913\n",
      "Epoch [8][10]\t Batch [300][550]\t Training Loss 0.5855\t Accuracy 0.6915\n",
      "Epoch [8][10]\t Batch [350][550]\t Training Loss 0.5873\t Accuracy 0.6905\n",
      "Epoch [8][10]\t Batch [400][550]\t Training Loss 0.5874\t Accuracy 0.6903\n",
      "Epoch [8][10]\t Batch [450][550]\t Training Loss 0.5876\t Accuracy 0.6917\n",
      "Epoch [8][10]\t Batch [500][550]\t Training Loss 0.5875\t Accuracy 0.6910\n",
      "\n",
      "Epoch [8]\t Average training loss 0.5869\t Average training accuracy 0.6915\n",
      "Epoch [8]\t Average validation loss 0.5654\t Average validation accuracy 0.7370\n",
      "\n",
      "Epoch [9][10]\t Batch [0][550]\t Training Loss 0.5559\t Accuracy 0.7300\n",
      "Epoch [9][10]\t Batch [50][550]\t Training Loss 0.5757\t Accuracy 0.7059\n",
      "Epoch [9][10]\t Batch [100][550]\t Training Loss 0.5754\t Accuracy 0.7095\n",
      "Epoch [9][10]\t Batch [150][550]\t Training Loss 0.5788\t Accuracy 0.7034\n",
      "Epoch [9][10]\t Batch [200][550]\t Training Loss 0.5796\t Accuracy 0.7027\n",
      "Epoch [9][10]\t Batch [250][550]\t Training Loss 0.5789\t Accuracy 0.7016\n",
      "Epoch [9][10]\t Batch [300][550]\t Training Loss 0.5786\t Accuracy 0.7019\n",
      "Epoch [9][10]\t Batch [350][550]\t Training Loss 0.5805\t Accuracy 0.7008\n",
      "Epoch [9][10]\t Batch [400][550]\t Training Loss 0.5808\t Accuracy 0.7002\n",
      "Epoch [9][10]\t Batch [450][550]\t Training Loss 0.5811\t Accuracy 0.7017\n",
      "Epoch [9][10]\t Batch [500][550]\t Training Loss 0.5811\t Accuracy 0.7009\n",
      "\n",
      "Epoch [9]\t Average training loss 0.5806\t Average training accuracy 0.7011\n",
      "Epoch [9]\t Average validation loss 0.5605\t Average validation accuracy 0.7430\n",
      "\n"
     ]
    }
   ],
   "metadata": {
    "scrolled": true
   }
  },
  {
   "cell_type": "code",
   "execution_count": 23,
   "source": [
    "test(reluMLP, criterion, data_test, batch_size, disp_freq)"
   ],
   "outputs": [
    {
     "output_type": "stream",
     "name": "stdout",
     "text": [
      "Testing...\n",
      "The test accuracy is 0.7200.\n",
      "\n"
     ]
    }
   ],
   "metadata": {}
  },
  {
   "cell_type": "markdown",
   "source": [
    "## Plot"
   ],
   "metadata": {}
  },
  {
   "cell_type": "code",
   "execution_count": 24,
   "source": [
    "plot_loss_and_acc({'Sigmoid': [sigmoid_loss, sigmoid_acc],\r\n",
    "                   'relu': [relu_loss, relu_acc]})"
   ],
   "outputs": [
    {
     "output_type": "display_data",
     "data": {
      "text/plain": [
       "<Figure size 432x288 with 1 Axes>"
      ],
      "image/png": "[encoded data removed]"
     },
     "metadata": {
      "needs_background": "light"
     }
    },
    {
     "output_type": "display_data",
     "data": {
      "text/plain": [
       "<Figure size 432x288 with 1 Axes>"
      ],
      "image/png": "[encoded data removed]"
     },
     "metadata": {
      "needs_background": "light"
     }
    }
   ],
   "metadata": {}
  },
  {
   "cell_type": "markdown",
   "source": [
    "## 2. MLP with Softmax Cross-Entropy Loss\n",
    "In part-2, you need to train a MLP with **Softmax Cross-Entropy Loss**.  \n",
    "**Sigmoid Activation Function** and **ReLU Activation Function** will be used respectively again.\n",
    "### TODO\n",
    "Before executing the following code, you should complete **criterion/softmax_cross_entropy_loss.py**."
   ],
   "metadata": {}
  },
  {
   "cell_type": "code",
   "execution_count": 25,
   "source": [
    "from criterion import SoftmaxCrossEntropyLossLayer\r\n",
    "\r\n",
    "criterion = SoftmaxCrossEntropyLossLayer()\r\n",
    "\r\n",
    "sgd = SGD(learning_rate_SGD, weight_decay)"
   ],
   "outputs": [],
   "metadata": {}
  },
  {
   "cell_type": "markdown",
   "source": [
    "## 2.1 MLP with Softmax Cross-Entropy Loss and Sigmoid Activation Function\r\n",
    "Build and train a MLP contraining one hidden layer with 128 units using Sigmoid activation function and Softmax cross-entropy loss function."
   ],
   "metadata": {}
  },
  {
   "cell_type": "code",
   "execution_count": 26,
   "source": [
    "sigmoidMLP = Network()\r\n",
    "# Build MLP with FCLayer and SigmoidLayer\r\n",
    "# 128 is the number of hidden units, you can change by your own\r\n",
    "sigmoidMLP.add(FCLayer(784, hidden_layer1))\r\n",
    "sigmoidMLP.add(SigmoidLayer())\r\n",
    "sigmoidMLP.add(FCLayer(hidden_layer1, hidden_layer2))\r\n",
    "sigmoidMLP.add(SigmoidLayer())\r\n",
    "sigmoidMLP.add(FCLayer(hidden_layer2, 10))"
   ],
   "outputs": [],
   "metadata": {}
  },
  {
   "cell_type": "markdown",
   "source": [
    "### Train"
   ],
   "metadata": {}
  },
  {
   "cell_type": "code",
   "execution_count": 27,
   "source": [
    "sigmoidMLP, sigmoid_loss, sigmoid_acc = train(sigmoidMLP, criterion, sgd, data_train, max_epoch, batch_size, disp_freq)"
   ],
   "outputs": [
    {
     "output_type": "stream",
     "name": "stdout",
     "text": [
      "Epoch [0][10]\t Batch [0][550]\t Training Loss 0.8167\t Accuracy 0.1400\n",
      "Epoch [0][10]\t Batch [50][550]\t Training Loss 0.8018\t Accuracy 0.1125\n",
      "Epoch [0][10]\t Batch [100][550]\t Training Loss 0.7862\t Accuracy 0.1127\n",
      "Epoch [0][10]\t Batch [150][550]\t Training Loss 0.7708\t Accuracy 0.1128\n",
      "Epoch [0][10]\t Batch [200][550]\t Training Loss 0.7544\t Accuracy 0.1142\n",
      "Epoch [0][10]\t Batch [250][550]\t Training Loss 0.7376\t Accuracy 0.1140\n",
      "Epoch [0][10]\t Batch [300][550]\t Training Loss 0.7230\t Accuracy 0.1140\n",
      "Epoch [0][10]\t Batch [350][550]\t Training Loss 0.7072\t Accuracy 0.1143\n",
      "Epoch [0][10]\t Batch [400][550]\t Training Loss 0.6926\t Accuracy 0.1141\n",
      "Epoch [0][10]\t Batch [450][550]\t Training Loss 0.6793\t Accuracy 0.1140\n",
      "Epoch [0][10]\t Batch [500][550]\t Training Loss 0.6659\t Accuracy 0.1136\n",
      "\n",
      "Epoch [0]\t Average training loss 0.6537\t Average training accuracy 0.1129\n",
      "Epoch [0]\t Average validation loss 0.5183\t Average validation accuracy 0.1060\n",
      "\n",
      "Epoch [1][10]\t Batch [0][550]\t Training Loss 0.5050\t Accuracy 0.1400\n",
      "Epoch [1][10]\t Batch [50][550]\t Training Loss 0.5026\t Accuracy 0.1125\n",
      "Epoch [1][10]\t Batch [100][550]\t Training Loss 0.4950\t Accuracy 0.1127\n",
      "Epoch [1][10]\t Batch [150][550]\t Training Loss 0.4874\t Accuracy 0.1128\n",
      "Epoch [1][10]\t Batch [200][550]\t Training Loss 0.4792\t Accuracy 0.1142\n",
      "Epoch [1][10]\t Batch [250][550]\t Training Loss 0.4708\t Accuracy 0.1140\n",
      "Epoch [1][10]\t Batch [300][550]\t Training Loss 0.4635\t Accuracy 0.1140\n",
      "Epoch [1][10]\t Batch [350][550]\t Training Loss 0.4555\t Accuracy 0.1143\n",
      "Epoch [1][10]\t Batch [400][550]\t Training Loss 0.4481\t Accuracy 0.1141\n",
      "Epoch [1][10]\t Batch [450][550]\t Training Loss 0.4414\t Accuracy 0.1140\n",
      "Epoch [1][10]\t Batch [500][550]\t Training Loss 0.4346\t Accuracy 0.1136\n",
      "\n",
      "Epoch [1]\t Average training loss 0.4284\t Average training accuracy 0.1129\n",
      "Epoch [1]\t Average validation loss 0.3594\t Average validation accuracy 0.1060\n",
      "\n",
      "Epoch [2][10]\t Batch [0][550]\t Training Loss 0.3500\t Accuracy 0.1400\n",
      "Epoch [2][10]\t Batch [50][550]\t Training Loss 0.3509\t Accuracy 0.1125\n",
      "Epoch [2][10]\t Batch [100][550]\t Training Loss 0.3470\t Accuracy 0.1127\n",
      "Epoch [2][10]\t Batch [150][550]\t Training Loss 0.3431\t Accuracy 0.1128\n",
      "Epoch [2][10]\t Batch [200][550]\t Training Loss 0.3389\t Accuracy 0.1142\n",
      "Epoch [2][10]\t Batch [250][550]\t Training Loss 0.3345\t Accuracy 0.1140\n",
      "Epoch [2][10]\t Batch [300][550]\t Training Loss 0.3307\t Accuracy 0.1140\n",
      "Epoch [2][10]\t Batch [350][550]\t Training Loss 0.3264\t Accuracy 0.1143\n",
      "Epoch [2][10]\t Batch [400][550]\t Training Loss 0.3224\t Accuracy 0.1141\n",
      "Epoch [2][10]\t Batch [450][550]\t Training Loss 0.3188\t Accuracy 0.1140\n",
      "Epoch [2][10]\t Batch [500][550]\t Training Loss 0.3152\t Accuracy 0.1136\n",
      "\n",
      "Epoch [2]\t Average training loss 0.3118\t Average training accuracy 0.1129\n",
      "Epoch [2]\t Average validation loss 0.2745\t Average validation accuracy 0.1060\n",
      "\n",
      "Epoch [3][10]\t Batch [0][550]\t Training Loss 0.2682\t Accuracy 0.1400\n",
      "Epoch [3][10]\t Batch [50][550]\t Training Loss 0.2694\t Accuracy 0.1125\n",
      "Epoch [3][10]\t Batch [100][550]\t Training Loss 0.2674\t Accuracy 0.1127\n",
      "Epoch [3][10]\t Batch [150][550]\t Training Loss 0.2652\t Accuracy 0.1128\n",
      "Epoch [3][10]\t Batch [200][550]\t Training Loss 0.2628\t Accuracy 0.1142\n",
      "Epoch [3][10]\t Batch [250][550]\t Training Loss 0.2603\t Accuracy 0.1140\n",
      "Epoch [3][10]\t Batch [300][550]\t Training Loss 0.2581\t Accuracy 0.1140\n",
      "Epoch [3][10]\t Batch [350][550]\t Training Loss 0.2556\t Accuracy 0.1143\n",
      "Epoch [3][10]\t Batch [400][550]\t Training Loss 0.2533\t Accuracy 0.1141\n",
      "Epoch [3][10]\t Batch [450][550]\t Training Loss 0.2512\t Accuracy 0.1140\n",
      "Epoch [3][10]\t Batch [500][550]\t Training Loss 0.2491\t Accuracy 0.1136\n",
      "\n",
      "Epoch [3]\t Average training loss 0.2471\t Average training accuracy 0.1129\n",
      "Epoch [3]\t Average validation loss 0.2251\t Average validation accuracy 0.1060\n",
      "\n",
      "Epoch [4][10]\t Batch [0][550]\t Training Loss 0.2207\t Accuracy 0.1400\n",
      "Epoch [4][10]\t Batch [50][550]\t Training Loss 0.2218\t Accuracy 0.1125\n",
      "Epoch [4][10]\t Batch [100][550]\t Training Loss 0.2206\t Accuracy 0.1127\n",
      "Epoch [4][10]\t Batch [150][550]\t Training Loss 0.2193\t Accuracy 0.1128\n",
      "Epoch [4][10]\t Batch [200][550]\t Training Loss 0.2178\t Accuracy 0.1142\n",
      "Epoch [4][10]\t Batch [250][550]\t Training Loss 0.2162\t Accuracy 0.1140\n",
      "Epoch [4][10]\t Batch [300][550]\t Training Loss 0.2148\t Accuracy 0.1140\n",
      "Epoch [4][10]\t Batch [350][550]\t Training Loss 0.2133\t Accuracy 0.1143\n",
      "Epoch [4][10]\t Batch [400][550]\t Training Loss 0.2118\t Accuracy 0.1141\n",
      "Epoch [4][10]\t Batch [450][550]\t Training Loss 0.2105\t Accuracy 0.1140\n",
      "Epoch [4][10]\t Batch [500][550]\t Training Loss 0.2091\t Accuracy 0.1136\n",
      "\n",
      "Epoch [4]\t Average training loss 0.2079\t Average training accuracy 0.1129\n",
      "Epoch [4]\t Average validation loss 0.1939\t Average validation accuracy 0.1060\n",
      "\n",
      "Epoch [5][10]\t Batch [0][550]\t Training Loss 0.1907\t Accuracy 0.1400\n",
      "Epoch [5][10]\t Batch [50][550]\t Training Loss 0.1916\t Accuracy 0.1125\n",
      "Epoch [5][10]\t Batch [100][550]\t Training Loss 0.1908\t Accuracy 0.1127\n",
      "Epoch [5][10]\t Batch [150][550]\t Training Loss 0.1900\t Accuracy 0.1128\n",
      "Epoch [5][10]\t Batch [200][550]\t Training Loss 0.1890\t Accuracy 0.1142\n",
      "Epoch [5][10]\t Batch [250][550]\t Training Loss 0.1879\t Accuracy 0.1140\n",
      "Epoch [5][10]\t Batch [300][550]\t Training Loss 0.1870\t Accuracy 0.1140\n",
      "Epoch [5][10]\t Batch [350][550]\t Training Loss 0.1860\t Accuracy 0.1143\n",
      "Epoch [5][10]\t Batch [400][550]\t Training Loss 0.1850\t Accuracy 0.1141\n",
      "Epoch [5][10]\t Batch [450][550]\t Training Loss 0.1841\t Accuracy 0.1140\n",
      "Epoch [5][10]\t Batch [500][550]\t Training Loss 0.1832\t Accuracy 0.1136\n",
      "\n",
      "Epoch [5]\t Average training loss 0.1823\t Average training accuracy 0.1129\n",
      "Epoch [5]\t Average validation loss 0.1728\t Average validation accuracy 0.1060\n",
      "\n",
      "Epoch [6][10]\t Batch [0][550]\t Training Loss 0.1704\t Accuracy 0.1400\n",
      "Epoch [6][10]\t Batch [50][550]\t Training Loss 0.1711\t Accuracy 0.1125\n",
      "Epoch [6][10]\t Batch [100][550]\t Training Loss 0.1706\t Accuracy 0.1127\n",
      "Epoch [6][10]\t Batch [150][550]\t Training Loss 0.1700\t Accuracy 0.1128\n",
      "Epoch [6][10]\t Batch [200][550]\t Training Loss 0.1693\t Accuracy 0.1142\n",
      "Epoch [6][10]\t Batch [250][550]\t Training Loss 0.1686\t Accuracy 0.1140\n",
      "Epoch [6][10]\t Batch [300][550]\t Training Loss 0.1680\t Accuracy 0.1140\n",
      "Epoch [6][10]\t Batch [350][550]\t Training Loss 0.1672\t Accuracy 0.1143\n",
      "Epoch [6][10]\t Batch [400][550]\t Training Loss 0.1665\t Accuracy 0.1141\n",
      "Epoch [6][10]\t Batch [450][550]\t Training Loss 0.1659\t Accuracy 0.1140\n",
      "Epoch [6][10]\t Batch [500][550]\t Training Loss 0.1652\t Accuracy 0.1136\n",
      "\n",
      "Epoch [6]\t Average training loss 0.1646\t Average training accuracy 0.1129\n",
      "Epoch [6]\t Average validation loss 0.1579\t Average validation accuracy 0.1060\n",
      "\n",
      "Epoch [7][10]\t Batch [0][550]\t Training Loss 0.1559\t Accuracy 0.1400\n",
      "Epoch [7][10]\t Batch [50][550]\t Training Loss 0.1566\t Accuracy 0.1125\n",
      "Epoch [7][10]\t Batch [100][550]\t Training Loss 0.1562\t Accuracy 0.1127\n",
      "Epoch [7][10]\t Batch [150][550]\t Training Loss 0.1558\t Accuracy 0.1128\n",
      "Epoch [7][10]\t Batch [200][550]\t Training Loss 0.1553\t Accuracy 0.1142\n",
      "Epoch [7][10]\t Batch [250][550]\t Training Loss 0.1548\t Accuracy 0.1140\n",
      "Epoch [7][10]\t Batch [300][550]\t Training Loss 0.1543\t Accuracy 0.1140\n",
      "Epoch [7][10]\t Batch [350][550]\t Training Loss 0.1538\t Accuracy 0.1143\n",
      "Epoch [7][10]\t Batch [400][550]\t Training Loss 0.1532\t Accuracy 0.1141\n",
      "Epoch [7][10]\t Batch [450][550]\t Training Loss 0.1528\t Accuracy 0.1140\n",
      "Epoch [7][10]\t Batch [500][550]\t Training Loss 0.1523\t Accuracy 0.1136\n",
      "\n",
      "Epoch [7]\t Average training loss 0.1519\t Average training accuracy 0.1129\n",
      "Epoch [7]\t Average validation loss 0.1469\t Average validation accuracy 0.1060\n",
      "\n",
      "Epoch [8][10]\t Batch [0][550]\t Training Loss 0.1453\t Accuracy 0.1400\n",
      "Epoch [8][10]\t Batch [50][550]\t Training Loss 0.1458\t Accuracy 0.1125\n",
      "Epoch [8][10]\t Batch [100][550]\t Training Loss 0.1456\t Accuracy 0.1127\n",
      "Epoch [8][10]\t Batch [150][550]\t Training Loss 0.1453\t Accuracy 0.1128\n",
      "Epoch [8][10]\t Batch [200][550]\t Training Loss 0.1449\t Accuracy 0.1142\n",
      "Epoch [8][10]\t Batch [250][550]\t Training Loss 0.1445\t Accuracy 0.1140\n",
      "Epoch [8][10]\t Batch [300][550]\t Training Loss 0.1442\t Accuracy 0.1140\n",
      "Epoch [8][10]\t Batch [350][550]\t Training Loss 0.1437\t Accuracy 0.1143\n",
      "Epoch [8][10]\t Batch [400][550]\t Training Loss 0.1433\t Accuracy 0.1141\n",
      "Epoch [8][10]\t Batch [450][550]\t Training Loss 0.1430\t Accuracy 0.1140\n",
      "Epoch [8][10]\t Batch [500][550]\t Training Loss 0.1426\t Accuracy 0.1136\n",
      "\n",
      "Epoch [8]\t Average training loss 0.1423\t Average training accuracy 0.1129\n",
      "Epoch [8]\t Average validation loss 0.1385\t Average validation accuracy 0.1060\n",
      "\n",
      "Epoch [9][10]\t Batch [0][550]\t Training Loss 0.1371\t Accuracy 0.1400\n",
      "Epoch [9][10]\t Batch [50][550]\t Training Loss 0.1377\t Accuracy 0.1125\n",
      "Epoch [9][10]\t Batch [100][550]\t Training Loss 0.1375\t Accuracy 0.1127\n",
      "Epoch [9][10]\t Batch [150][550]\t Training Loss 0.1373\t Accuracy 0.1128\n",
      "Epoch [9][10]\t Batch [200][550]\t Training Loss 0.1370\t Accuracy 0.1142\n",
      "Epoch [9][10]\t Batch [250][550]\t Training Loss 0.1367\t Accuracy 0.1140\n",
      "Epoch [9][10]\t Batch [300][550]\t Training Loss 0.1364\t Accuracy 0.1140\n",
      "Epoch [9][10]\t Batch [350][550]\t Training Loss 0.1361\t Accuracy 0.1143\n",
      "Epoch [9][10]\t Batch [400][550]\t Training Loss 0.1358\t Accuracy 0.1141\n",
      "Epoch [9][10]\t Batch [450][550]\t Training Loss 0.1355\t Accuracy 0.1140\n",
      "Epoch [9][10]\t Batch [500][550]\t Training Loss 0.1352\t Accuracy 0.1136\n",
      "\n",
      "Epoch [9]\t Average training loss 0.1350\t Average training accuracy 0.1129\n",
      "Epoch [9]\t Average validation loss 0.1320\t Average validation accuracy 0.1060\n",
      "\n"
     ]
    }
   ],
   "metadata": {
    "scrolled": true
   }
  },
  {
   "cell_type": "markdown",
   "source": [
    "### Test"
   ],
   "metadata": {}
  },
  {
   "cell_type": "code",
   "execution_count": 28,
   "source": [
    "test(sigmoidMLP, criterion, data_test, batch_size, disp_freq)"
   ],
   "outputs": [
    {
     "output_type": "stream",
     "name": "stdout",
     "text": [
      "Testing...\n",
      "The test accuracy is 0.1135.\n",
      "\n"
     ]
    }
   ],
   "metadata": {}
  },
  {
   "cell_type": "markdown",
   "source": [
    "## 2.2 MLP with Softmax Cross-Entropy Loss and ReLU Activation Function\r\n",
    "Build and train a MLP contraining one hidden layer with 128 units using ReLU activation function and Softmax cross-entropy loss function."
   ],
   "metadata": {}
  },
  {
   "cell_type": "code",
   "execution_count": 29,
   "source": [
    "reluMLP = Network()\r\n",
    "# Build ReLUMLP with FCLayer and ReLULayer\r\n",
    "# 128 is the number of hidden units, you can change by your own\r\n",
    "reluMLP.add(FCLayer(784, hidden_layer1))\r\n",
    "reluMLP.add(ReLULayer())\r\n",
    "reluMLP.add(FCLayer(hidden_layer1, hidden_layer2))\r\n",
    "reluMLP.add(ReLULayer())\r\n",
    "reluMLP.add(FCLayer(hidden_layer2, 10))"
   ],
   "outputs": [],
   "metadata": {}
  },
  {
   "cell_type": "code",
   "execution_count": 30,
   "source": [
    "reluMLP, relu_loss, relu_acc = train(reluMLP, criterion, sgd, data_train, max_epoch, batch_size, disp_freq)"
   ],
   "outputs": [
    {
     "output_type": "error",
     "ename": "MemoryError",
     "evalue": "bad allocation",
     "traceback": [
      "\u001b[1;31m---------------------------------------------------------------------------\u001b[0m",
      "\u001b[1;31mMemoryError\u001b[0m                               Traceback (most recent call last)",
      "\u001b[1;32m~\\AppData\\Local\\Temp/ipykernel_6340/1585392641.py\u001b[0m in \u001b[0;36m<module>\u001b[1;34m\u001b[0m\n\u001b[1;32m----> 1\u001b[1;33m \u001b[0mreluMLP\u001b[0m\u001b[1;33m,\u001b[0m \u001b[0mrelu_loss\u001b[0m\u001b[1;33m,\u001b[0m \u001b[0mrelu_acc\u001b[0m \u001b[1;33m=\u001b[0m \u001b[0mtrain\u001b[0m\u001b[1;33m(\u001b[0m\u001b[0mreluMLP\u001b[0m\u001b[1;33m,\u001b[0m \u001b[0mcriterion\u001b[0m\u001b[1;33m,\u001b[0m \u001b[0msgd\u001b[0m\u001b[1;33m,\u001b[0m \u001b[0mdata_train\u001b[0m\u001b[1;33m,\u001b[0m \u001b[0mmax_epoch\u001b[0m\u001b[1;33m,\u001b[0m \u001b[0mbatch_size\u001b[0m\u001b[1;33m,\u001b[0m \u001b[0mdisp_freq\u001b[0m\u001b[1;33m)\u001b[0m\u001b[1;33m\u001b[0m\u001b[1;33m\u001b[0m\u001b[0m\n\u001b[0m",
      "\u001b[1;32me:\\learningMaterials\\pattern-recognition\\homework-12345\\homework-2\\homework2-mlp\\solver.py\u001b[0m in \u001b[0;36mtrain\u001b[1;34m(model, criterion, optimizer, dataset, max_epoch, batch_size, disp_freq)\u001b[0m\n\u001b[0;32m     33\u001b[0m                 \u001b[1;31m# Training process\u001b[0m\u001b[1;33m\u001b[0m\u001b[1;33m\u001b[0m\u001b[1;33m\u001b[0m\u001b[0m\n\u001b[0;32m     34\u001b[0m                 \u001b[1;32mfor\u001b[0m \u001b[0mepoch\u001b[0m \u001b[1;32min\u001b[0m \u001b[0mrange\u001b[0m\u001b[1;33m(\u001b[0m\u001b[0mmax_epoch\u001b[0m\u001b[1;33m)\u001b[0m\u001b[1;33m:\u001b[0m\u001b[1;33m\u001b[0m\u001b[1;33m\u001b[0m\u001b[0m\n\u001b[1;32m---> 35\u001b[1;33m \t\t\tbatch_train_loss, batch_train_acc = train_one_epoch(model, criterion, optimizer, train_get_next,\n\u001b[0m\u001b[0;32m     36\u001b[0m \t\t\t                                                    max_epoch, batch_size, disp_freq, epoch, sess)\n\u001b[0;32m     37\u001b[0m                         \u001b[0mbatch_val_loss\u001b[0m\u001b[1;33m,\u001b[0m \u001b[0mbatch_val_acc\u001b[0m \u001b[1;33m=\u001b[0m \u001b[0mvalidate\u001b[0m\u001b[1;33m(\u001b[0m\u001b[0mmodel\u001b[0m\u001b[1;33m,\u001b[0m \u001b[0mcriterion\u001b[0m\u001b[1;33m,\u001b[0m \u001b[0mvalid_get_next\u001b[0m\u001b[1;33m,\u001b[0m \u001b[0mbatch_size\u001b[0m\u001b[1;33m,\u001b[0m \u001b[0msess\u001b[0m\u001b[1;33m)\u001b[0m\u001b[1;33m\u001b[0m\u001b[1;33m\u001b[0m\u001b[0m\n",
      "\u001b[1;32me:\\learningMaterials\\pattern-recognition\\homework-12345\\homework-2\\homework2-mlp\\solver.py\u001b[0m in \u001b[0;36mtrain_one_epoch\u001b[1;34m(model, criterion, optimizer, data_get_next, max_epoch, batch_size, disp_freq, epoch, sess)\u001b[0m\n\u001b[0;32m     61\u001b[0m         \u001b[1;32mfor\u001b[0m \u001b[0miteration\u001b[0m \u001b[1;32min\u001b[0m \u001b[0mrange\u001b[0m\u001b[1;33m(\u001b[0m\u001b[0mmax_train_iteration\u001b[0m\u001b[1;33m)\u001b[0m\u001b[1;33m:\u001b[0m\u001b[1;33m\u001b[0m\u001b[1;33m\u001b[0m\u001b[0m\n\u001b[0;32m     62\u001b[0m                 \u001b[1;31m# Get training data and label\u001b[0m\u001b[1;33m\u001b[0m\u001b[1;33m\u001b[0m\u001b[1;33m\u001b[0m\u001b[0m\n\u001b[1;32m---> 63\u001b[1;33m                 \u001b[0mtrain_x\u001b[0m\u001b[1;33m,\u001b[0m \u001b[0mtrain_y\u001b[0m \u001b[1;33m=\u001b[0m \u001b[0msess\u001b[0m\u001b[1;33m.\u001b[0m\u001b[0mrun\u001b[0m\u001b[1;33m(\u001b[0m\u001b[0mdata_get_next\u001b[0m\u001b[1;33m)\u001b[0m\u001b[1;33m\u001b[0m\u001b[1;33m\u001b[0m\u001b[0m\n\u001b[0m\u001b[0;32m     64\u001b[0m \u001b[1;33m\u001b[0m\u001b[0m\n\u001b[0;32m     65\u001b[0m                 \u001b[1;31m# Forward pass\u001b[0m\u001b[1;33m\u001b[0m\u001b[1;33m\u001b[0m\u001b[1;33m\u001b[0m\u001b[0m\n",
      "\u001b[1;32mD:\\programx64\\Anaconda3\\envs\\tf_latest\\lib\\site-packages\\tensorflow\\python\\client\\session.py\u001b[0m in \u001b[0;36mrun\u001b[1;34m(self, fetches, feed_dict, options, run_metadata)\u001b[0m\n\u001b[0;32m    955\u001b[0m \u001b[1;33m\u001b[0m\u001b[0m\n\u001b[0;32m    956\u001b[0m     \u001b[1;32mtry\u001b[0m\u001b[1;33m:\u001b[0m\u001b[1;33m\u001b[0m\u001b[1;33m\u001b[0m\u001b[0m\n\u001b[1;32m--> 957\u001b[1;33m       result = self._run(None, fetches, feed_dict, options_ptr,\n\u001b[0m\u001b[0;32m    958\u001b[0m                          run_metadata_ptr)\n\u001b[0;32m    959\u001b[0m       \u001b[1;32mif\u001b[0m \u001b[0mrun_metadata\u001b[0m\u001b[1;33m:\u001b[0m\u001b[1;33m\u001b[0m\u001b[1;33m\u001b[0m\u001b[0m\n",
      "\u001b[1;32mD:\\programx64\\Anaconda3\\envs\\tf_latest\\lib\\site-packages\\tensorflow\\python\\client\\session.py\u001b[0m in \u001b[0;36m_run\u001b[1;34m(self, handle, fetches, feed_dict, options, run_metadata)\u001b[0m\n\u001b[0;32m   1178\u001b[0m     \u001b[1;31m# or if the call is a partial run that specifies feeds.\u001b[0m\u001b[1;33m\u001b[0m\u001b[1;33m\u001b[0m\u001b[1;33m\u001b[0m\u001b[0m\n\u001b[0;32m   1179\u001b[0m     \u001b[1;32mif\u001b[0m \u001b[0mfinal_fetches\u001b[0m \u001b[1;32mor\u001b[0m \u001b[0mfinal_targets\u001b[0m \u001b[1;32mor\u001b[0m \u001b[1;33m(\u001b[0m\u001b[0mhandle\u001b[0m \u001b[1;32mand\u001b[0m \u001b[0mfeed_dict_tensor\u001b[0m\u001b[1;33m)\u001b[0m\u001b[1;33m:\u001b[0m\u001b[1;33m\u001b[0m\u001b[1;33m\u001b[0m\u001b[0m\n\u001b[1;32m-> 1180\u001b[1;33m       results = self._do_run(handle, final_targets, final_fetches,\n\u001b[0m\u001b[0;32m   1181\u001b[0m                              feed_dict_tensor, options, run_metadata)\n\u001b[0;32m   1182\u001b[0m     \u001b[1;32melse\u001b[0m\u001b[1;33m:\u001b[0m\u001b[1;33m\u001b[0m\u001b[1;33m\u001b[0m\u001b[0m\n",
      "\u001b[1;32mD:\\programx64\\Anaconda3\\envs\\tf_latest\\lib\\site-packages\\tensorflow\\python\\client\\session.py\u001b[0m in \u001b[0;36m_do_run\u001b[1;34m(self, handle, target_list, fetch_list, feed_dict, options, run_metadata)\u001b[0m\n\u001b[0;32m   1356\u001b[0m \u001b[1;33m\u001b[0m\u001b[0m\n\u001b[0;32m   1357\u001b[0m     \u001b[1;32mif\u001b[0m \u001b[0mhandle\u001b[0m \u001b[1;32mis\u001b[0m \u001b[1;32mNone\u001b[0m\u001b[1;33m:\u001b[0m\u001b[1;33m\u001b[0m\u001b[1;33m\u001b[0m\u001b[0m\n\u001b[1;32m-> 1358\u001b[1;33m       return self._do_call(_run_fn, feeds, fetches, targets, options,\n\u001b[0m\u001b[0;32m   1359\u001b[0m                            run_metadata)\n\u001b[0;32m   1360\u001b[0m     \u001b[1;32melse\u001b[0m\u001b[1;33m:\u001b[0m\u001b[1;33m\u001b[0m\u001b[1;33m\u001b[0m\u001b[0m\n",
      "\u001b[1;32mD:\\programx64\\Anaconda3\\envs\\tf_latest\\lib\\site-packages\\tensorflow\\python\\client\\session.py\u001b[0m in \u001b[0;36m_do_call\u001b[1;34m(self, fn, *args)\u001b[0m\n\u001b[0;32m   1363\u001b[0m   \u001b[1;32mdef\u001b[0m \u001b[0m_do_call\u001b[0m\u001b[1;33m(\u001b[0m\u001b[0mself\u001b[0m\u001b[1;33m,\u001b[0m \u001b[0mfn\u001b[0m\u001b[1;33m,\u001b[0m \u001b[1;33m*\u001b[0m\u001b[0margs\u001b[0m\u001b[1;33m)\u001b[0m\u001b[1;33m:\u001b[0m\u001b[1;33m\u001b[0m\u001b[1;33m\u001b[0m\u001b[0m\n\u001b[0;32m   1364\u001b[0m     \u001b[1;32mtry\u001b[0m\u001b[1;33m:\u001b[0m\u001b[1;33m\u001b[0m\u001b[1;33m\u001b[0m\u001b[0m\n\u001b[1;32m-> 1365\u001b[1;33m       \u001b[1;32mreturn\u001b[0m \u001b[0mfn\u001b[0m\u001b[1;33m(\u001b[0m\u001b[1;33m*\u001b[0m\u001b[0margs\u001b[0m\u001b[1;33m)\u001b[0m\u001b[1;33m\u001b[0m\u001b[1;33m\u001b[0m\u001b[0m\n\u001b[0m\u001b[0;32m   1366\u001b[0m     \u001b[1;32mexcept\u001b[0m \u001b[0merrors\u001b[0m\u001b[1;33m.\u001b[0m\u001b[0mOpError\u001b[0m \u001b[1;32mas\u001b[0m \u001b[0me\u001b[0m\u001b[1;33m:\u001b[0m\u001b[1;33m\u001b[0m\u001b[1;33m\u001b[0m\u001b[0m\n\u001b[0;32m   1367\u001b[0m       \u001b[0mmessage\u001b[0m \u001b[1;33m=\u001b[0m \u001b[0mcompat\u001b[0m\u001b[1;33m.\u001b[0m\u001b[0mas_text\u001b[0m\u001b[1;33m(\u001b[0m\u001b[0me\u001b[0m\u001b[1;33m.\u001b[0m\u001b[0mmessage\u001b[0m\u001b[1;33m)\u001b[0m\u001b[1;33m\u001b[0m\u001b[1;33m\u001b[0m\u001b[0m\n",
      "\u001b[1;32mD:\\programx64\\Anaconda3\\envs\\tf_latest\\lib\\site-packages\\tensorflow\\python\\client\\session.py\u001b[0m in \u001b[0;36m_run_fn\u001b[1;34m(feed_dict, fetch_list, target_list, options, run_metadata)\u001b[0m\n\u001b[0;32m   1346\u001b[0m     \u001b[1;32mdef\u001b[0m \u001b[0m_run_fn\u001b[0m\u001b[1;33m(\u001b[0m\u001b[0mfeed_dict\u001b[0m\u001b[1;33m,\u001b[0m \u001b[0mfetch_list\u001b[0m\u001b[1;33m,\u001b[0m \u001b[0mtarget_list\u001b[0m\u001b[1;33m,\u001b[0m \u001b[0moptions\u001b[0m\u001b[1;33m,\u001b[0m \u001b[0mrun_metadata\u001b[0m\u001b[1;33m)\u001b[0m\u001b[1;33m:\u001b[0m\u001b[1;33m\u001b[0m\u001b[1;33m\u001b[0m\u001b[0m\n\u001b[0;32m   1347\u001b[0m       \u001b[1;31m# Ensure any changes to the graph are reflected in the runtime.\u001b[0m\u001b[1;33m\u001b[0m\u001b[1;33m\u001b[0m\u001b[1;33m\u001b[0m\u001b[0m\n\u001b[1;32m-> 1348\u001b[1;33m       \u001b[0mself\u001b[0m\u001b[1;33m.\u001b[0m\u001b[0m_extend_graph\u001b[0m\u001b[1;33m(\u001b[0m\u001b[1;33m)\u001b[0m\u001b[1;33m\u001b[0m\u001b[1;33m\u001b[0m\u001b[0m\n\u001b[0m\u001b[0;32m   1349\u001b[0m       return self._call_tf_sessionrun(options, feed_dict, fetch_list,\n\u001b[0;32m   1350\u001b[0m                                       target_list, run_metadata)\n",
      "\u001b[1;32mD:\\programx64\\Anaconda3\\envs\\tf_latest\\lib\\site-packages\\tensorflow\\python\\client\\session.py\u001b[0m in \u001b[0;36m_extend_graph\u001b[1;34m(self)\u001b[0m\n\u001b[0;32m   1386\u001b[0m   \u001b[1;32mdef\u001b[0m \u001b[0m_extend_graph\u001b[0m\u001b[1;33m(\u001b[0m\u001b[0mself\u001b[0m\u001b[1;33m)\u001b[0m\u001b[1;33m:\u001b[0m\u001b[1;33m\u001b[0m\u001b[1;33m\u001b[0m\u001b[0m\n\u001b[0;32m   1387\u001b[0m     \u001b[1;32mwith\u001b[0m \u001b[0mself\u001b[0m\u001b[1;33m.\u001b[0m\u001b[0m_graph\u001b[0m\u001b[1;33m.\u001b[0m\u001b[0m_session_run_lock\u001b[0m\u001b[1;33m(\u001b[0m\u001b[1;33m)\u001b[0m\u001b[1;33m:\u001b[0m  \u001b[1;31m# pylint: disable=protected-access\u001b[0m\u001b[1;33m\u001b[0m\u001b[1;33m\u001b[0m\u001b[0m\n\u001b[1;32m-> 1388\u001b[1;33m       \u001b[0mtf_session\u001b[0m\u001b[1;33m.\u001b[0m\u001b[0mExtendSession\u001b[0m\u001b[1;33m(\u001b[0m\u001b[0mself\u001b[0m\u001b[1;33m.\u001b[0m\u001b[0m_session\u001b[0m\u001b[1;33m)\u001b[0m\u001b[1;33m\u001b[0m\u001b[1;33m\u001b[0m\u001b[0m\n\u001b[0m\u001b[0;32m   1389\u001b[0m \u001b[1;33m\u001b[0m\u001b[0m\n\u001b[0;32m   1390\u001b[0m   \u001b[1;31m# The threshold to run garbage collection to delete dead tensors.\u001b[0m\u001b[1;33m\u001b[0m\u001b[1;33m\u001b[0m\u001b[1;33m\u001b[0m\u001b[0m\n",
      "\u001b[1;31mMemoryError\u001b[0m: bad allocation"
     ]
    }
   ],
   "metadata": {
    "scrolled": true
   }
  },
  {
   "cell_type": "code",
   "execution_count": null,
   "source": [
    "test(reluMLP, criterion, data_test, batch_size, disp_freq)"
   ],
   "outputs": [],
   "metadata": {}
  },
  {
   "cell_type": "markdown",
   "source": [
    "## Plot"
   ],
   "metadata": {}
  },
  {
   "cell_type": "code",
   "execution_count": null,
   "source": [
    "plot_loss_and_acc({'Sigmoid': [sigmoid_loss, sigmoid_acc],\r\n",
    "                   'relu': [relu_loss, relu_acc]})"
   ],
   "outputs": [],
   "metadata": {}
  },
  {
   "cell_type": "markdown",
   "source": [
    "### ~~You have finished homework2-mlp, congratulations!~~  \n",
    "\n",
    "**Next, according to the requirements 4) of report:**\n",
    "### **You need to construct a two-hidden-layer MLP, using any activation function and loss function.**\n",
    "\n",
    "**Note: Please insert some new cells blow (using '+' bottom in the toolbar) refer to above codes. Do not modify the former code directly.**"
   ],
   "metadata": {}
  }
 ],
 "metadata": {
  "kernelspec": {
   "name": "python3",
   "display_name": "Python 3.8.10 64-bit ('tf_latest': conda)"
  },
  "language_info": {
   "codemirror_mode": {
    "name": "ipython",
    "version": 3
   },
   "file_extension": ".py",
   "mimetype": "text/x-python",
   "name": "python",
   "nbconvert_exporter": "python",
   "pygments_lexer": "ipython3",
   "version": "3.8.10"
  },
  "interpreter": {
   "hash": "cfc659ec162c9312116a4448dc35362c57c7c097b4e6d43fc665f911a164248d"
  }
 },
 "nbformat": 4,
 "nbformat_minor": 2
}