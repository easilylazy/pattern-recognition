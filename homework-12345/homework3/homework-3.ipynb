{
 "cells": [
  {
   "cell_type": "markdown",
   "source": [
    "## Homework-3: MNIST Classification with ConvNet\r\n",
    "\r\n",
    "### **Deadline: 2021.04.06 23:59:00 **\r\n",
    "\r\n",
    "### In this homework, you need to\r\n",
    "- #### implement the forward and backward functions for ConvLayer (`layers/conv_layer.py`)\r\n",
    "- #### implement the forward and backward functions for PoolingLayer (`layers/pooling_layer.py`)\r\n",
    "- #### implement the forward and backward functions for DropoutLayer (`layers/dropout_layer.py`)"
   ],
   "metadata": {}
  },
  {
   "cell_type": "code",
   "execution_count": 1,
   "source": [
    "import numpy as np\r\n",
    "import matplotlib.pyplot as plt\r\n",
    "%matplotlib inline\r\n",
    "import tensorflow.compat.v1 as tf\r\n",
    "tf.disable_eager_execution()\r\n",
    "\r\n",
    "from network import Network\r\n",
    "from solver import train, test\r\n",
    "from plot import plot_loss_and_acc"
   ],
   "outputs": [
    {
     "output_type": "stream",
     "name": "stderr",
     "text": [
      "C:\\Users\\cascara\\AppData\\Local\\Programs\\Python\\Python37\\lib\\site-packages\\tensorflow\\python\\framework\\dtypes.py:516: FutureWarning: Passing (type, 1) or '1type' as a synonym of type is deprecated; in a future version of numpy, it will be understood as (type, (1,)) / '(1,)type'.\n",
      "  _np_qint8 = np.dtype([(\"qint8\", np.int8, 1)])\n",
      "C:\\Users\\cascara\\AppData\\Local\\Programs\\Python\\Python37\\lib\\site-packages\\tensorflow\\python\\framework\\dtypes.py:517: FutureWarning: Passing (type, 1) or '1type' as a synonym of type is deprecated; in a future version of numpy, it will be understood as (type, (1,)) / '(1,)type'.\n",
      "  _np_quint8 = np.dtype([(\"quint8\", np.uint8, 1)])\n",
      "C:\\Users\\cascara\\AppData\\Local\\Programs\\Python\\Python37\\lib\\site-packages\\tensorflow\\python\\framework\\dtypes.py:518: FutureWarning: Passing (type, 1) or '1type' as a synonym of type is deprecated; in a future version of numpy, it will be understood as (type, (1,)) / '(1,)type'.\n",
      "  _np_qint16 = np.dtype([(\"qint16\", np.int16, 1)])\n",
      "C:\\Users\\cascara\\AppData\\Local\\Programs\\Python\\Python37\\lib\\site-packages\\tensorflow\\python\\framework\\dtypes.py:519: FutureWarning: Passing (type, 1) or '1type' as a synonym of type is deprecated; in a future version of numpy, it will be understood as (type, (1,)) / '(1,)type'.\n",
      "  _np_quint16 = np.dtype([(\"quint16\", np.uint16, 1)])\n",
      "C:\\Users\\cascara\\AppData\\Local\\Programs\\Python\\Python37\\lib\\site-packages\\tensorflow\\python\\framework\\dtypes.py:520: FutureWarning: Passing (type, 1) or '1type' as a synonym of type is deprecated; in a future version of numpy, it will be understood as (type, (1,)) / '(1,)type'.\n",
      "  _np_qint32 = np.dtype([(\"qint32\", np.int32, 1)])\n",
      "C:\\Users\\cascara\\AppData\\Local\\Programs\\Python\\Python37\\lib\\site-packages\\tensorflow\\python\\framework\\dtypes.py:525: FutureWarning: Passing (type, 1) or '1type' as a synonym of type is deprecated; in a future version of numpy, it will be understood as (type, (1,)) / '(1,)type'.\n",
      "  np_resource = np.dtype([(\"resource\", np.ubyte, 1)])\n"
     ]
    }
   ],
   "metadata": {}
  },
  {
   "cell_type": "markdown",
   "source": [
    "## Load MNIST Dataset\n",
    "We use tensorflow tools to load dataset for convenience."
   ],
   "metadata": {}
  },
  {
   "cell_type": "code",
   "execution_count": 2,
   "source": [
    "(x_train, y_train), (x_test, y_test) = tf.keras.datasets.mnist.load_data() "
   ],
   "outputs": [],
   "metadata": {}
  },
  {
   "cell_type": "code",
   "execution_count": 3,
   "source": [
    "def decode_image(image):\r\n",
    "    # Normalize from [0, 255.] to [0., 1.0], and then subtract by the mean value\r\n",
    "    image = tf.cast(image, tf.float32)\r\n",
    "    image = tf.reshape(image, [1, 28, 28])\r\n",
    "    image = image / 255.0\r\n",
    "    image = image - tf.reduce_mean(image)\r\n",
    "    return image\r\n",
    "\r\n",
    "def decode_label(label):\r\n",
    "    # Encode label with one-hot encoding\r\n",
    "    return tf.one_hot(label, depth=10)"
   ],
   "outputs": [],
   "metadata": {}
  },
  {
   "cell_type": "code",
   "execution_count": 4,
   "source": [
    "# Data Preprocessing\r\n",
    "x_train = tf.data.Dataset.from_tensor_slices(x_train).map(decode_image)\r\n",
    "y_train = tf.data.Dataset.from_tensor_slices(y_train).map(decode_label)\r\n",
    "data_train = tf.data.Dataset.zip((x_train, y_train))\r\n",
    "x_test = tf.data.Dataset.from_tensor_slices(x_test).map(decode_image)\r\n",
    "y_test = tf.data.Dataset.from_tensor_slices(y_test).map(decode_label)\r\n",
    "data_test = tf.data.Dataset.zip((x_test, y_test))"
   ],
   "outputs": [],
   "metadata": {}
  },
  {
   "cell_type": "markdown",
   "source": [
    "## Set Hyperparameters\n",
    "You can modify hyperparameters by yourself."
   ],
   "metadata": {}
  },
  {
   "cell_type": "code",
   "execution_count": 5,
   "source": [
    "batch_size = 100\r\n",
    "max_epoch = 10\r\n",
    "init_std = 0.01\r\n",
    "\r\n",
    "learning_rate = 0.001\r\n",
    "weight_decay = 0.005\r\n",
    "\r\n",
    "disp_freq = 50"
   ],
   "outputs": [],
   "metadata": {}
  },
  {
   "cell_type": "markdown",
   "source": [
    "## Criterion and Optimizer"
   ],
   "metadata": {}
  },
  {
   "cell_type": "code",
   "execution_count": 7,
   "source": [
    "from criterion import SoftmaxCrossEntropyLossLayer\r\n",
    "from optimizer import SGD\r\n",
    "\r\n",
    "criterion = SoftmaxCrossEntropyLossLayer()\r\n",
    "sgd = SGD(learning_rate, weight_decay)"
   ],
   "outputs": [],
   "metadata": {}
  },
  {
   "cell_type": "markdown",
   "source": [
    "## ConvNet"
   ],
   "metadata": {}
  },
  {
   "cell_type": "code",
   "execution_count": 20,
   "source": [
    "foo=np.random.random((2,4,5))\r\n",
    "foo.sum(axis=(0,2)).shape"
   ],
   "outputs": [
    {
     "output_type": "execute_result",
     "data": {
      "text/plain": [
       "(4,)"
      ]
     },
     "metadata": {},
     "execution_count": 20
    }
   ],
   "metadata": {}
  },
  {
   "cell_type": "code",
   "execution_count": 61,
   "source": [
    "a=np.random.randint(2,3,k)\r\n",
    "k=9\r\n",
    "b=np.random.randint(2,10,k)\r\n",
    "pad=(k-1)//2\r\n",
    "print(signal.convolve(a,b,mode='full')[pad:-pad])\r\n",
    "print(signal.convolve(a,b,mode='same')[pad])\r\n",
    "print(signal.convolve(a,b,mode='same'))\r\n",
    "print(signal.convolve(a,b,mode='valid'))"
   ],
   "outputs": [
    {
     "output_type": "stream",
     "name": "stdout",
     "text": [
      "[ 68  84 100 106 120 104  86  82  70]\n",
      "120\n",
      "[ 68  84 100 106 120 104  86  82  70]\n",
      "[120]\n"
     ]
    }
   ],
   "metadata": {}
  },
  {
   "cell_type": "code",
   "execution_count": 33,
   "source": [
    "from scipy import signal \r\n",
    "height=5\r\n",
    "width=4\r\n",
    "batch_size=3\r\n",
    "channels=4\r\n",
    "kernel=3\r\n",
    "inputs=4\r\n",
    "a = np.random.randint(0,5,(height, width,channels, batch_size))\r\n",
    "b = np.random.randint(0,5,( kernel,kernel,channels, batch_size))\r\n",
    "c = np.random.rand(width, height)\r\n",
    "\r\n",
    "output=signal.convolve(a,b,mode='valid')\r\n",
    "print(output.shape)\r\n",
    "outputs=np.zeros((batch_size,height-kernel+1,width-kernel+1,1))\r\n",
    "for i in range(batch_size):\r\n",
    "    outputs[i]=signal.convolve(a[:,:,:,i],b[:,:,:,i],mode='valid')\r\n",
    "print(outputs.shape)\r\n",
    "# print(output)\r\n",
    "\r\n",
    "print(outputs.sum(axis=0)-output[:,:,:,0])\r\n"
   ],
   "outputs": [
    {
     "output_type": "stream",
     "name": "stdout",
     "text": [
      "(3, 2, 1, 1)\n",
      "(3, 3, 2, 1)\n",
      "[[[  -1.]\n",
      "  [-103.]]\n",
      "\n",
      " [[  11.]\n",
      "  [  28.]]\n",
      "\n",
      " [[   4.]\n",
      "  [ -23.]]]\n"
     ]
    }
   ],
   "metadata": {}
  },
  {
   "cell_type": "code",
   "execution_count": 25,
   "source": [
    "print(output)\r\n"
   ],
   "outputs": [
    {
     "output_type": "stream",
     "name": "stdout",
     "text": [
      "[[[[24.12249346]]]\n",
      "\n",
      "\n",
      " [[[24.38835166]]]]\n"
     ]
    }
   ],
   "metadata": {}
  },
  {
   "cell_type": "code",
   "execution_count": 24,
   "source": [
    "print(outputs.sum(axis=0))\r\n"
   ],
   "outputs": [
    {
     "output_type": "stream",
     "name": "stdout",
     "text": [
      "[[[25.15004997]]\n",
      "\n",
      " [[25.38613493]]]\n"
     ]
    }
   ],
   "metadata": {}
  },
  {
   "cell_type": "code",
   "execution_count": 17,
   "source": [
    "import numpy as np\r\n",
    "height=4\r\n",
    "width=3\r\n",
    "batch_size=3\r\n",
    "channels=4\r\n",
    "kernel=3\r\n",
    "inputs=4\r\n",
    "a = np.random.rand(height, width,channels, batch_size)\r\n",
    "b = np.random.rand( kernel,kernel,channels, channels)\r\n",
    "c = np.random.rand(width, height)\r\n",
    "\r\n",
    "# zz = np.matmul( a, c)\r\n",
    "# print(\"\\n*************** numpy 输出 {} ****************\".format(xx.shape))\r\n",
    "\r\n",
    "# print(zz)\r\n",
    "\r\n",
    "# for ai in a:\r\n",
    "#     print(np.dot(ai,c))\r\n",
    "# err_max2 = np.amax(np.absolute(np.subtract(out, xx)))\r\n",
    "# print(\"\\ntf与numpy误差:{}\".format(err_max2))\r\n",
    "from scipy import signal\r\n",
    "\r\n",
    "res=signal.convolve(a,np.flip(b[:,:,:,0][:,:,:,None],(0,1,2)),mode='valid')\r\n",
    "res2=signal.convolve(a[:,:,:,None,:],np.flip(b[:,:,:,:,None],(0,1,2)),mode='valid')\r\n",
    "print(res2.shape)\r\n",
    "# res=signal.convolve(a,np.flip(b[:,:,:,None],(0,1,2)),mode='valid')\r\n",
    "res.shape"
   ],
   "outputs": [
    {
     "output_type": "error",
     "ename": "ValueError",
     "evalue": "For 'valid' mode, one must be at least as large as the other in every dimension",
     "traceback": [
      "\u001b[1;31m---------------------------------------------------------------------------\u001b[0m",
      "\u001b[1;31mValueError\u001b[0m                                Traceback (most recent call last)",
      "\u001b[1;32m<ipython-input-17-25ba642ec826>\u001b[0m in \u001b[0;36m<module>\u001b[1;34m\u001b[0m\n\u001b[0;32m     22\u001b[0m \u001b[1;33m\u001b[0m\u001b[0m\n\u001b[0;32m     23\u001b[0m \u001b[0mres\u001b[0m\u001b[1;33m=\u001b[0m\u001b[0msignal\u001b[0m\u001b[1;33m.\u001b[0m\u001b[0mconvolve\u001b[0m\u001b[1;33m(\u001b[0m\u001b[0ma\u001b[0m\u001b[1;33m,\u001b[0m\u001b[0mnp\u001b[0m\u001b[1;33m.\u001b[0m\u001b[0mflip\u001b[0m\u001b[1;33m(\u001b[0m\u001b[0mb\u001b[0m\u001b[1;33m[\u001b[0m\u001b[1;33m:\u001b[0m\u001b[1;33m,\u001b[0m\u001b[1;33m:\u001b[0m\u001b[1;33m,\u001b[0m\u001b[1;33m:\u001b[0m\u001b[1;33m,\u001b[0m\u001b[1;36m0\u001b[0m\u001b[1;33m]\u001b[0m\u001b[1;33m[\u001b[0m\u001b[1;33m:\u001b[0m\u001b[1;33m,\u001b[0m\u001b[1;33m:\u001b[0m\u001b[1;33m,\u001b[0m\u001b[1;33m:\u001b[0m\u001b[1;33m,\u001b[0m\u001b[1;32mNone\u001b[0m\u001b[1;33m]\u001b[0m\u001b[1;33m,\u001b[0m\u001b[1;33m(\u001b[0m\u001b[1;36m0\u001b[0m\u001b[1;33m,\u001b[0m\u001b[1;36m1\u001b[0m\u001b[1;33m,\u001b[0m\u001b[1;36m2\u001b[0m\u001b[1;33m)\u001b[0m\u001b[1;33m)\u001b[0m\u001b[1;33m,\u001b[0m\u001b[0mmode\u001b[0m\u001b[1;33m=\u001b[0m\u001b[1;34m'valid'\u001b[0m\u001b[1;33m)\u001b[0m\u001b[1;33m\u001b[0m\u001b[1;33m\u001b[0m\u001b[0m\n\u001b[1;32m---> 24\u001b[1;33m \u001b[0mres2\u001b[0m\u001b[1;33m=\u001b[0m\u001b[0msignal\u001b[0m\u001b[1;33m.\u001b[0m\u001b[0mconvolve\u001b[0m\u001b[1;33m(\u001b[0m\u001b[0ma\u001b[0m\u001b[1;33m[\u001b[0m\u001b[1;33m:\u001b[0m\u001b[1;33m,\u001b[0m\u001b[1;33m:\u001b[0m\u001b[1;33m,\u001b[0m\u001b[1;33m:\u001b[0m\u001b[1;33m,\u001b[0m\u001b[1;32mNone\u001b[0m\u001b[1;33m,\u001b[0m\u001b[1;33m:\u001b[0m\u001b[1;33m]\u001b[0m\u001b[1;33m,\u001b[0m\u001b[0mnp\u001b[0m\u001b[1;33m.\u001b[0m\u001b[0mflip\u001b[0m\u001b[1;33m(\u001b[0m\u001b[0mb\u001b[0m\u001b[1;33m[\u001b[0m\u001b[1;33m:\u001b[0m\u001b[1;33m,\u001b[0m\u001b[1;33m:\u001b[0m\u001b[1;33m,\u001b[0m\u001b[1;33m:\u001b[0m\u001b[1;33m,\u001b[0m\u001b[1;33m:\u001b[0m\u001b[1;33m,\u001b[0m\u001b[1;32mNone\u001b[0m\u001b[1;33m]\u001b[0m\u001b[1;33m,\u001b[0m\u001b[1;33m(\u001b[0m\u001b[1;36m0\u001b[0m\u001b[1;33m,\u001b[0m\u001b[1;36m1\u001b[0m\u001b[1;33m,\u001b[0m\u001b[1;36m2\u001b[0m\u001b[1;33m)\u001b[0m\u001b[1;33m)\u001b[0m\u001b[1;33m,\u001b[0m\u001b[0mmode\u001b[0m\u001b[1;33m=\u001b[0m\u001b[1;34m'valid'\u001b[0m\u001b[1;33m)\u001b[0m\u001b[1;33m\u001b[0m\u001b[1;33m\u001b[0m\u001b[0m\n\u001b[0m\u001b[0;32m     25\u001b[0m \u001b[0mprint\u001b[0m\u001b[1;33m(\u001b[0m\u001b[0mres2\u001b[0m\u001b[1;33m.\u001b[0m\u001b[0mshape\u001b[0m\u001b[1;33m)\u001b[0m\u001b[1;33m\u001b[0m\u001b[1;33m\u001b[0m\u001b[0m\n\u001b[0;32m     26\u001b[0m \u001b[1;31m# res=signal.convolve(a,np.flip(b[:,:,:,None],(0,1,2)),mode='valid')\u001b[0m\u001b[1;33m\u001b[0m\u001b[1;33m\u001b[0m\u001b[1;33m\u001b[0m\u001b[0m\n",
      "\u001b[1;32m~\\AppData\\Local\\Programs\\Python\\Python37\\lib\\site-packages\\scipy\\signal\\signaltools.py\u001b[0m in \u001b[0;36mconvolve\u001b[1;34m(in1, in2, mode, method)\u001b[0m\n\u001b[0;32m   1274\u001b[0m                          \"dimensionality\")\n\u001b[0;32m   1275\u001b[0m \u001b[1;33m\u001b[0m\u001b[0m\n\u001b[1;32m-> 1276\u001b[1;33m     \u001b[1;32mif\u001b[0m \u001b[0m_inputs_swap_needed\u001b[0m\u001b[1;33m(\u001b[0m\u001b[0mmode\u001b[0m\u001b[1;33m,\u001b[0m \u001b[0mvolume\u001b[0m\u001b[1;33m.\u001b[0m\u001b[0mshape\u001b[0m\u001b[1;33m,\u001b[0m \u001b[0mkernel\u001b[0m\u001b[1;33m.\u001b[0m\u001b[0mshape\u001b[0m\u001b[1;33m)\u001b[0m\u001b[1;33m:\u001b[0m\u001b[1;33m\u001b[0m\u001b[1;33m\u001b[0m\u001b[0m\n\u001b[0m\u001b[0;32m   1277\u001b[0m         \u001b[1;31m# Convolution is commutative; order doesn't have any effect on output\u001b[0m\u001b[1;33m\u001b[0m\u001b[1;33m\u001b[0m\u001b[1;33m\u001b[0m\u001b[0m\n\u001b[0;32m   1278\u001b[0m         \u001b[0mvolume\u001b[0m\u001b[1;33m,\u001b[0m \u001b[0mkernel\u001b[0m \u001b[1;33m=\u001b[0m \u001b[0mkernel\u001b[0m\u001b[1;33m,\u001b[0m \u001b[0mvolume\u001b[0m\u001b[1;33m\u001b[0m\u001b[1;33m\u001b[0m\u001b[0m\n",
      "\u001b[1;32m~\\AppData\\Local\\Programs\\Python\\Python37\\lib\\site-packages\\scipy\\signal\\signaltools.py\u001b[0m in \u001b[0;36m_inputs_swap_needed\u001b[1;34m(mode, shape1, shape2, axes)\u001b[0m\n\u001b[0;32m     88\u001b[0m \u001b[1;33m\u001b[0m\u001b[0m\n\u001b[0;32m     89\u001b[0m     \u001b[1;32mif\u001b[0m \u001b[1;32mnot\u001b[0m \u001b[1;33m(\u001b[0m\u001b[0mok1\u001b[0m \u001b[1;32mor\u001b[0m \u001b[0mok2\u001b[0m\u001b[1;33m)\u001b[0m\u001b[1;33m:\u001b[0m\u001b[1;33m\u001b[0m\u001b[1;33m\u001b[0m\u001b[0m\n\u001b[1;32m---> 90\u001b[1;33m         raise ValueError(\"For 'valid' mode, one must be at least \"\n\u001b[0m\u001b[0;32m     91\u001b[0m                          \"as large as the other in every dimension\")\n\u001b[0;32m     92\u001b[0m \u001b[1;33m\u001b[0m\u001b[0m\n",
      "\u001b[1;31mValueError\u001b[0m: For 'valid' mode, one must be at least as large as the other in every dimension"
     ]
    }
   ],
   "metadata": {}
  },
  {
   "cell_type": "code",
   "execution_count": 16,
   "source": [
    "print(a[:,:,:,:,None].shape)\r\n",
    "print(a[:,:,:,None,:].shape)"
   ],
   "outputs": [
    {
     "output_type": "stream",
     "name": "stdout",
     "text": [
      "(4, 3, 4, 3, 1)\n",
      "(4, 3, 4, 1, 3)\n"
     ]
    }
   ],
   "metadata": {}
  },
  {
   "cell_type": "code",
   "execution_count": 12,
   "source": [
    "b.shape"
   ],
   "outputs": [
    {
     "output_type": "execute_result",
     "data": {
      "text/plain": [
       "(3, 3, 4, 4)"
      ]
     },
     "metadata": {},
     "execution_count": 12
    }
   ],
   "metadata": {}
  },
  {
   "cell_type": "code",
   "execution_count": 13,
   "source": [
    "b[:,:,:,0].shape"
   ],
   "outputs": [
    {
     "output_type": "execute_result",
     "data": {
      "text/plain": [
       "(3, 3, 4)"
      ]
     },
     "metadata": {},
     "execution_count": 13
    }
   ],
   "metadata": {}
  },
  {
   "cell_type": "code",
   "execution_count": 7,
   "source": [
    "res"
   ],
   "outputs": [
    {
     "output_type": "execute_result",
     "data": {
      "text/plain": [
       "array([[[[34.98327296, 34.46606456, 31.95878098]]],\n",
       "\n",
       "\n",
       "       [[[32.00600476, 35.5741041 , 31.47969642]]]])"
      ]
     },
     "metadata": {},
     "execution_count": 7
    }
   ],
   "metadata": {}
  },
  {
   "cell_type": "code",
   "execution_count": 4,
   "source": [
    "res"
   ],
   "outputs": [
    {
     "output_type": "execute_result",
     "data": {
      "text/plain": [
       "array([[[[35.22705346, 36.1332452 , 28.24937155]],\n",
       "\n",
       "        [[34.50411452, 32.36339304, 30.94247298]],\n",
       "\n",
       "        [[32.11687527, 31.04864529, 30.1755373 ]],\n",
       "\n",
       "        ...,\n",
       "\n",
       "        [[30.72137001, 31.25542539, 27.54375958]],\n",
       "\n",
       "        [[29.62255746, 29.22852617, 30.41488096]],\n",
       "\n",
       "        [[31.86715658, 29.21253837, 31.89024996]]],\n",
       "\n",
       "\n",
       "       [[[35.55724162, 32.74041396, 30.50603999]],\n",
       "\n",
       "        [[31.81656379, 31.22564367, 30.41859773]],\n",
       "\n",
       "        [[28.84225168, 28.51268174, 28.49778645]],\n",
       "\n",
       "        ...,\n",
       "\n",
       "        [[31.12637934, 30.95240164, 29.12769874]],\n",
       "\n",
       "        [[35.46195581, 29.31269039, 30.54670851]],\n",
       "\n",
       "        [[32.24688127, 32.06875635, 31.24343029]]],\n",
       "\n",
       "\n",
       "       [[[28.6105157 , 30.46160829, 30.97962276]],\n",
       "\n",
       "        [[28.09282702, 29.14577136, 31.90656051]],\n",
       "\n",
       "        [[29.50653614, 27.75676068, 30.50173261]],\n",
       "\n",
       "        ...,\n",
       "\n",
       "        [[30.29093008, 30.11218732, 29.31762839]],\n",
       "\n",
       "        [[31.54745673, 30.35729104, 29.32911757]],\n",
       "\n",
       "        [[33.01866191, 28.13444301, 28.44027122]]],\n",
       "\n",
       "\n",
       "       ...,\n",
       "\n",
       "\n",
       "       [[[30.46206585, 29.71746764, 32.94601772]],\n",
       "\n",
       "        [[31.14727709, 29.40702   , 31.55298165]],\n",
       "\n",
       "        [[29.83277507, 30.06604223, 31.98861816]],\n",
       "\n",
       "        ...,\n",
       "\n",
       "        [[30.64222068, 31.33588226, 30.24785864]],\n",
       "\n",
       "        [[32.03487332, 32.34038842, 28.13304183]],\n",
       "\n",
       "        [[31.25535552, 32.12018803, 29.85019099]]],\n",
       "\n",
       "\n",
       "       [[[29.856928  , 30.05056071, 34.05574903]],\n",
       "\n",
       "        [[29.90659541, 30.38221979, 31.47024469]],\n",
       "\n",
       "        [[29.73092695, 29.99216166, 33.79063457]],\n",
       "\n",
       "        ...,\n",
       "\n",
       "        [[31.9617613 , 31.77533414, 29.20325198]],\n",
       "\n",
       "        [[30.60654224, 29.2546023 , 28.60128294]],\n",
       "\n",
       "        [[29.62738601, 30.64369991, 28.07059476]]],\n",
       "\n",
       "\n",
       "       [[[29.37537695, 30.64464257, 33.33719722]],\n",
       "\n",
       "        [[28.10753684, 30.06573392, 31.89153195]],\n",
       "\n",
       "        [[28.47427676, 31.00957036, 29.68959522]],\n",
       "\n",
       "        ...,\n",
       "\n",
       "        [[33.70622539, 33.3588863 , 27.88642556]],\n",
       "\n",
       "        [[32.79979479, 31.77568863, 29.51138539]],\n",
       "\n",
       "        [[33.61872091, 32.09926192, 28.10363703]]]])"
      ]
     },
     "metadata": {},
     "execution_count": 4
    }
   ],
   "metadata": {}
  },
  {
   "cell_type": "code",
   "execution_count": 1,
   "source": [
    "height=24\r\n",
    "width=20\r\n",
    "batch_size=3\r\n",
    "channels=1\r\n",
    "kernel=3\r\n",
    "inputs=4\r\n",
    "a = np.random.rand(channels, height, width,batch_size)\r\n",
    "b = np.random.rand( kernel,kernel,channels)\r\n",
    "c = np.random.rand(width, height)\r\n",
    "\r\n",
    "# zz = np.matmul( a, c)\r\n",
    "# print(\"\\n*************** numpy 输出 {} ****************\".format(xx.shape))\r\n",
    "\r\n",
    "# print(zz)\r\n",
    "\r\n",
    "# for ai in a:\r\n",
    "#     print(np.dot(ai,c))\r\n",
    "# err_max2 = np.amax(np.absolute(np.subtract(out, xx)))\r\n",
    "# print(\"\\ntf与numpy误差:{}\".format(err_max2))\r\n",
    "from scipy import signal\r\n",
    "\r\n",
    "res=signal.convolve(a,b[:,:,:,None])"
   ],
   "outputs": [
    {
     "output_type": "error",
     "ename": "NameError",
     "evalue": "name 'np' is not defined",
     "traceback": [
      "\u001b[1;31m---------------------------------------------------------------------------\u001b[0m",
      "\u001b[1;31mNameError\u001b[0m                                 Traceback (most recent call last)",
      "\u001b[1;32m<ipython-input-1-bda8116b80f7>\u001b[0m in \u001b[0;36m<module>\u001b[1;34m\u001b[0m\n\u001b[0;32m      5\u001b[0m \u001b[0mkernel\u001b[0m\u001b[1;33m=\u001b[0m\u001b[1;36m3\u001b[0m\u001b[1;33m\u001b[0m\u001b[1;33m\u001b[0m\u001b[0m\n\u001b[0;32m      6\u001b[0m \u001b[0minputs\u001b[0m\u001b[1;33m=\u001b[0m\u001b[1;36m4\u001b[0m\u001b[1;33m\u001b[0m\u001b[1;33m\u001b[0m\u001b[0m\n\u001b[1;32m----> 7\u001b[1;33m \u001b[0ma\u001b[0m \u001b[1;33m=\u001b[0m \u001b[0mnp\u001b[0m\u001b[1;33m.\u001b[0m\u001b[0mrandom\u001b[0m\u001b[1;33m.\u001b[0m\u001b[0mrand\u001b[0m\u001b[1;33m(\u001b[0m\u001b[0mchannels\u001b[0m\u001b[1;33m,\u001b[0m \u001b[0mheight\u001b[0m\u001b[1;33m,\u001b[0m \u001b[0mwidth\u001b[0m\u001b[1;33m,\u001b[0m\u001b[0mbatch_size\u001b[0m\u001b[1;33m)\u001b[0m\u001b[1;33m\u001b[0m\u001b[1;33m\u001b[0m\u001b[0m\n\u001b[0m\u001b[0;32m      8\u001b[0m \u001b[0mb\u001b[0m \u001b[1;33m=\u001b[0m \u001b[0mnp\u001b[0m\u001b[1;33m.\u001b[0m\u001b[0mrandom\u001b[0m\u001b[1;33m.\u001b[0m\u001b[0mrand\u001b[0m\u001b[1;33m(\u001b[0m \u001b[0mkernel\u001b[0m\u001b[1;33m,\u001b[0m\u001b[0mkernel\u001b[0m\u001b[1;33m,\u001b[0m\u001b[0mchannels\u001b[0m\u001b[1;33m)\u001b[0m\u001b[1;33m\u001b[0m\u001b[1;33m\u001b[0m\u001b[0m\n\u001b[0;32m      9\u001b[0m \u001b[0mc\u001b[0m \u001b[1;33m=\u001b[0m \u001b[0mnp\u001b[0m\u001b[1;33m.\u001b[0m\u001b[0mrandom\u001b[0m\u001b[1;33m.\u001b[0m\u001b[0mrand\u001b[0m\u001b[1;33m(\u001b[0m\u001b[0mwidth\u001b[0m\u001b[1;33m,\u001b[0m \u001b[0mheight\u001b[0m\u001b[1;33m)\u001b[0m\u001b[1;33m\u001b[0m\u001b[1;33m\u001b[0m\u001b[0m\n",
      "\u001b[1;31mNameError\u001b[0m: name 'np' is not defined"
     ]
    }
   ],
   "metadata": {}
  },
  {
   "cell_type": "code",
   "execution_count": null,
   "source": [
    "res[:,:,0,:].shape"
   ],
   "outputs": [
    {
     "output_type": "execute_result",
     "data": {
      "text/plain": [
       "(22, 18, 3)"
      ]
     },
     "metadata": {},
     "execution_count": 59
    }
   ],
   "metadata": {}
  },
  {
   "cell_type": "code",
   "execution_count": 114,
   "source": [
    "c"
   ],
   "outputs": [
    {
     "output_type": "execute_result",
     "data": {
      "text/plain": [
       "array([[0.65983091, 0.76265193, 0.83145357],\n",
       "       [0.99746009, 0.46267084, 0.91773776],\n",
       "       [0.34008609, 0.43997009, 0.55308495],\n",
       "       [0.62878291, 0.73104422, 0.25967142],\n",
       "       [0.55489938, 0.31974324, 0.36953437],\n",
       "       [0.32262288, 0.31330695, 0.76618513]])"
      ]
     },
     "metadata": {},
     "execution_count": 114
    }
   ],
   "metadata": {}
  },
  {
   "cell_type": "code",
   "execution_count": 121,
   "source": [
    "height=6\r\n",
    "width=3\r\n",
    "batch_size=3\r\n",
    "stride=1\r\n",
    "kernel=3\r\n",
    "c=np.random.random([height,width])\r\n",
    "k=np.random.random([kernel,kernel])#,width])\r\n",
    "\r\n",
    "\r\n",
    "strides=(width*stride,stride,width,1)\r\n",
    "strides2=(c.strides[0]*k.shape[0],k.strides[0],c.strides[0],c.strides[1],)#c.strides[2],c.strides[1],c.strides[2])\r\n",
    "shape = ( int(height / kernel), int(width / kernel) , kernel, kernel)\r\n",
    "print(c)\r\n",
    "np.lib.stride_tricks.as_strided(c,shape=shape,strides=strides2)"
   ],
   "outputs": [
    {
     "output_type": "stream",
     "name": "stdout",
     "text": [
      "[[0.15482158 0.72507722 0.08870157]\n",
      " [0.82229885 0.11580479 0.3044201 ]\n",
      " [0.8487845  0.30354088 0.45042539]\n",
      " [0.06588872 0.23639724 0.8291089 ]\n",
      " [0.56700259 0.32220286 0.12749653]\n",
      " [0.47881041 0.44147604 0.05963717]]\n"
     ]
    },
    {
     "output_type": "execute_result",
     "data": {
      "text/plain": [
       "array([[[[0.15482158, 0.72507722, 0.08870157],\n",
       "         [0.82229885, 0.11580479, 0.3044201 ],\n",
       "         [0.8487845 , 0.30354088, 0.45042539]]],\n",
       "\n",
       "\n",
       "       [[[0.06588872, 0.23639724, 0.8291089 ],\n",
       "         [0.56700259, 0.32220286, 0.12749653],\n",
       "         [0.47881041, 0.44147604, 0.05963717]]]])"
      ]
     },
     "metadata": {},
     "execution_count": 121
    }
   ],
   "metadata": {}
  },
  {
   "cell_type": "code",
   "execution_count": 119,
   "source": [
    "c.strides[0]*k.shape[0]"
   ],
   "outputs": [
    {
     "output_type": "execute_result",
     "data": {
      "text/plain": [
       "72"
      ]
     },
     "metadata": {},
     "execution_count": 119
    }
   ],
   "metadata": {}
  },
  {
   "cell_type": "code",
   "execution_count": 117,
   "source": [
    "\r\n",
    "k.strides"
   ],
   "outputs": [
    {
     "output_type": "execute_result",
     "data": {
      "text/plain": [
       "(24, 8)"
      ]
     },
     "metadata": {},
     "execution_count": 117
    }
   ],
   "metadata": {}
  },
  {
   "cell_type": "code",
   "execution_count": 118,
   "source": [
    "c.strides"
   ],
   "outputs": [
    {
     "output_type": "execute_result",
     "data": {
      "text/plain": [
       "(24, 8)"
      ]
     },
     "metadata": {},
     "execution_count": 118
    }
   ],
   "metadata": {}
  },
  {
   "cell_type": "code",
   "execution_count": 94,
   "source": [
    "res=np.lib.stride_tricks.as_strided(c,shape=shape,strides=strides2)\r\n"
   ],
   "outputs": [],
   "metadata": {}
  },
  {
   "cell_type": "code",
   "execution_count": 1,
   "source": [
    "import numpy as np"
   ],
   "outputs": [],
   "metadata": {}
  },
  {
   "cell_type": "code",
   "execution_count": 54,
   "source": [
    "import numpy as np\r\n",
    "m=np.zeros((2,3))\r\n",
    "m[0,2]=1\r\n",
    "m[1,1]=1\r\n",
    "n=np.random.randint(1,5,(2))\r\n",
    "print(m)\r\n",
    "print(n)\r\n",
    "print(np.multiply(m,n[:,None]))"
   ],
   "outputs": [
    {
     "output_type": "stream",
     "name": "stdout",
     "text": [
      "[[0. 0. 1.]\n",
      " [0. 1. 0.]]\n",
      "[2 1]\n",
      "[[0. 0. 2.]\n",
      " [0. 1. 0.]]\n"
     ]
    }
   ],
   "metadata": {}
  },
  {
   "cell_type": "code",
   "execution_count": 55,
   "source": [
    "t=np.random.randint(2,19,size=(3,2,3,3))"
   ],
   "outputs": [],
   "metadata": {}
  },
  {
   "cell_type": "code",
   "execution_count": 33,
   "source": [
    "t[0,0,5]"
   ],
   "outputs": [
    {
     "output_type": "execute_result",
     "data": {
      "text/plain": [
       "18"
      ]
     },
     "metadata": {},
     "execution_count": 33
    }
   ],
   "metadata": {}
  },
  {
   "cell_type": "code",
   "execution_count": 58,
   "source": [
    "t"
   ],
   "outputs": [
    {
     "output_type": "execute_result",
     "data": {
      "text/plain": [
       "array([[[[18,  4, 16],\n",
       "         [ 7,  6,  5],\n",
       "         [ 8, 13,  9]],\n",
       "\n",
       "        [[ 3, 13, 14],\n",
       "         [ 6,  3, 14],\n",
       "         [ 7,  6, 11]]],\n",
       "\n",
       "\n",
       "       [[[ 6, 14, 16],\n",
       "         [12,  5, 11],\n",
       "         [10, 16,  5]],\n",
       "\n",
       "        [[ 8, 16, 13],\n",
       "         [ 8,  2, 10],\n",
       "         [13,  5,  6]]],\n",
       "\n",
       "\n",
       "       [[[16, 14, 18],\n",
       "         [10, 18, 11],\n",
       "         [13,  6, 14]],\n",
       "\n",
       "        [[ 5,  9, 11],\n",
       "         [18, 14, 17],\n",
       "         [15, 18, 17]]]])"
      ]
     },
     "metadata": {},
     "execution_count": 58
    }
   ],
   "metadata": {}
  },
  {
   "cell_type": "code",
   "execution_count": 56,
   "source": [
    "t_reshape=t.reshape((6,9))\r\n",
    "t_arg=t_reshape.argmax(axis=1)#.reshape((3,2,9))"
   ],
   "outputs": [],
   "metadata": {}
  },
  {
   "cell_type": "code",
   "execution_count": 62,
   "source": [
    "np.reshape(t_reshape,t.shape)"
   ],
   "outputs": [
    {
     "output_type": "execute_result",
     "data": {
      "text/plain": [
       "array([[[[ 0,  4, 16],\n",
       "         [ 7,  6,  5],\n",
       "         [ 8, 13,  9]],\n",
       "\n",
       "        [[ 3, 13,  0],\n",
       "         [ 6,  3, 14],\n",
       "         [ 7,  6, 11]]],\n",
       "\n",
       "\n",
       "       [[[ 6, 14,  0],\n",
       "         [12,  5, 11],\n",
       "         [10, 16,  5]],\n",
       "\n",
       "        [[ 8,  0, 13],\n",
       "         [ 8,  2, 10],\n",
       "         [13,  5,  6]]],\n",
       "\n",
       "\n",
       "       [[[16, 14,  0],\n",
       "         [10, 18, 11],\n",
       "         [13,  6, 14]],\n",
       "\n",
       "        [[ 5,  9, 11],\n",
       "         [ 0, 14, 17],\n",
       "         [15, 18, 17]]]])"
      ]
     },
     "metadata": {},
     "execution_count": 62
    }
   ],
   "metadata": {}
  },
  {
   "cell_type": "code",
   "execution_count": 70,
   "source": [
    "import tensorflow as tf\r\n",
    "label=2\r\n",
    "tf.one_hot(label, depth=10)"
   ],
   "outputs": [
    {
     "output_type": "execute_result",
     "data": {
      "text/plain": [
       "<tf.Tensor 'one_hot_2:0' shape=(10,) dtype=float32>"
      ]
     },
     "metadata": {},
     "execution_count": 70
    }
   ],
   "metadata": {}
  },
  {
   "cell_type": "code",
   "execution_count": 71,
   "source": [
    "def decode_image(image):\r\n",
    "    # Normalize from [0, 255.] to [0., 1.0], and then subtract by the mean value\r\n",
    "    image = tf.cast(image, tf.float32)\r\n",
    "    image = tf.reshape(image, [1, 28, 28])\r\n",
    "    # image = image / 255.0\r\n",
    "    image = image - tf.reduce_mean(image)\r\n",
    "    return image\r\n",
    "\r\n",
    "def decode_label(label):\r\n",
    "    # Encode label with one-hot encoding\r\n",
    "    return tf.one_hot(label, depth=10)"
   ],
   "outputs": [],
   "metadata": {}
  },
  {
   "cell_type": "code",
   "execution_count": 72,
   "source": [
    "train_x = decode_image(np.random.random((28,28)))"
   ],
   "outputs": [],
   "metadata": {}
  },
  {
   "cell_type": "code",
   "execution_count": 74,
   "source": [
    "np.array(train_x).shape"
   ],
   "outputs": [
    {
     "output_type": "execute_result",
     "data": {
      "text/plain": [
       "()"
      ]
     },
     "metadata": {},
     "execution_count": 74
    }
   ],
   "metadata": {}
  },
  {
   "cell_type": "code",
   "execution_count": 75,
   "source": [
    "train_x.shape"
   ],
   "outputs": [
    {
     "output_type": "execute_result",
     "data": {
      "text/plain": [
       "TensorShape([Dimension(1), Dimension(28), Dimension(28)])"
      ]
     },
     "metadata": {},
     "execution_count": 75
    }
   ],
   "metadata": {}
  },
  {
   "cell_type": "code",
   "execution_count": 67,
   "source": [
    "t[:,:,:,:,None].shape"
   ],
   "outputs": [
    {
     "output_type": "execute_result",
     "data": {
      "text/plain": [
       "(3, 2, 3, 3, 1)"
      ]
     },
     "metadata": {},
     "execution_count": 67
    }
   ],
   "metadata": {}
  },
  {
   "cell_type": "code",
   "execution_count": 57,
   "source": [
    "t_reshape"
   ],
   "outputs": [
    {
     "output_type": "execute_result",
     "data": {
      "text/plain": [
       "array([[18,  4, 16,  7,  6,  5,  8, 13,  9],\n",
       "       [ 3, 13, 14,  6,  3, 14,  7,  6, 11],\n",
       "       [ 6, 14, 16, 12,  5, 11, 10, 16,  5],\n",
       "       [ 8, 16, 13,  8,  2, 10, 13,  5,  6],\n",
       "       [16, 14, 18, 10, 18, 11, 13,  6, 14],\n",
       "       [ 5,  9, 11, 18, 14, 17, 15, 18, 17]])"
      ]
     },
     "metadata": {},
     "execution_count": 57
    }
   ],
   "metadata": {}
  },
  {
   "cell_type": "code",
   "execution_count": 59,
   "source": [
    "np.indices(t_arg.shape)"
   ],
   "outputs": [
    {
     "output_type": "execute_result",
     "data": {
      "text/plain": [
       "array([[0, 1, 2, 3, 4, 5]])"
      ]
     },
     "metadata": {},
     "execution_count": 59
    }
   ],
   "metadata": {}
  },
  {
   "cell_type": "code",
   "execution_count": 60,
   "source": [
    "t_reshape[np.indices(t_arg.shape),t_arg]=0"
   ],
   "outputs": [],
   "metadata": {}
  },
  {
   "cell_type": "code",
   "execution_count": 61,
   "source": [
    "t_reshape"
   ],
   "outputs": [
    {
     "output_type": "execute_result",
     "data": {
      "text/plain": [
       "array([[ 0,  4, 16,  7,  6,  5,  8, 13,  9],\n",
       "       [ 3, 13,  0,  6,  3, 14,  7,  6, 11],\n",
       "       [ 6, 14,  0, 12,  5, 11, 10, 16,  5],\n",
       "       [ 8,  0, 13,  8,  2, 10, 13,  5,  6],\n",
       "       [16, 14,  0, 10, 18, 11, 13,  6, 14],\n",
       "       [ 5,  9, 11,  0, 14, 17, 15, 18, 17]])"
      ]
     },
     "metadata": {},
     "execution_count": 61
    }
   ],
   "metadata": {}
  },
  {
   "cell_type": "code",
   "execution_count": 46,
   "source": [
    "t_reshape[:,t_arg]"
   ],
   "outputs": [
    {
     "output_type": "execute_result",
     "data": {
      "text/plain": [
       "array([[18, 18,  6, 18,  6,  6],\n",
       "       [17, 17,  4, 17,  4,  4],\n",
       "       [10, 10, 17, 10, 17, 17],\n",
       "       [16, 16, 13, 16, 13, 13],\n",
       "       [12, 12, 18, 12, 18, 18],\n",
       "       [ 4,  4, 18,  4, 18, 18]])"
      ]
     },
     "metadata": {},
     "execution_count": 46
    }
   ],
   "metadata": {}
  },
  {
   "cell_type": "code",
   "execution_count": 36,
   "source": [
    "t.argmax(axis=0)"
   ],
   "outputs": [
    {
     "output_type": "execute_result",
     "data": {
      "text/plain": [
       "array([[2, 2, 0, 0, 0, 0, 0, 0, 0],\n",
       "       [2, 2, 2, 0, 2, 2, 0, 2, 0]], dtype=int64)"
      ]
     },
     "metadata": {},
     "execution_count": 36
    }
   ],
   "metadata": {}
  },
  {
   "cell_type": "code",
   "execution_count": 17,
   "source": [
    "t[:,t.argmax(axis=1)]"
   ],
   "outputs": [
    {
     "output_type": "execute_result",
     "data": {
      "text/plain": [
       "array([[[[8]],\n",
       "\n",
       "        [[6]],\n",
       "\n",
       "        [[8]]],\n",
       "\n",
       "\n",
       "       [[[7]],\n",
       "\n",
       "        [[7]],\n",
       "\n",
       "        [[7]]],\n",
       "\n",
       "\n",
       "       [[[7]],\n",
       "\n",
       "        [[2]],\n",
       "\n",
       "        [[7]]]])"
      ]
     },
     "metadata": {},
     "execution_count": 17
    }
   ],
   "metadata": {}
  },
  {
   "cell_type": "code",
   "execution_count": 9,
   "source": [
    "t[:][t==t.max(axis=(1,2))]"
   ],
   "outputs": [
    {
     "output_type": "error",
     "ename": "IndexError",
     "evalue": "boolean index did not match indexed array along dimension 2; dimension is 1 but corresponding boolean dimension is 3",
     "traceback": [
      "\u001b[1;31m---------------------------------------------------------------------------\u001b[0m",
      "\u001b[1;31mIndexError\u001b[0m                                Traceback (most recent call last)",
      "\u001b[1;32m<ipython-input-9-a76dfa091854>\u001b[0m in \u001b[0;36m<module>\u001b[1;34m\u001b[0m\n\u001b[1;32m----> 1\u001b[1;33m \u001b[0mt\u001b[0m\u001b[1;33m[\u001b[0m\u001b[1;33m:\u001b[0m\u001b[1;33m]\u001b[0m\u001b[1;33m[\u001b[0m\u001b[0mt\u001b[0m\u001b[1;33m==\u001b[0m\u001b[0mt\u001b[0m\u001b[1;33m.\u001b[0m\u001b[0mmax\u001b[0m\u001b[1;33m(\u001b[0m\u001b[0maxis\u001b[0m\u001b[1;33m=\u001b[0m\u001b[1;33m(\u001b[0m\u001b[1;36m1\u001b[0m\u001b[1;33m,\u001b[0m\u001b[1;36m2\u001b[0m\u001b[1;33m)\u001b[0m\u001b[1;33m)\u001b[0m\u001b[1;33m]\u001b[0m\u001b[1;33m\u001b[0m\u001b[1;33m\u001b[0m\u001b[0m\n\u001b[0m",
      "\u001b[1;31mIndexError\u001b[0m: boolean index did not match indexed array along dimension 2; dimension is 1 but corresponding boolean dimension is 3"
     ]
    }
   ],
   "metadata": {}
  },
  {
   "cell_type": "code",
   "execution_count": 95,
   "source": [
    "res.shape"
   ],
   "outputs": [
    {
     "output_type": "execute_result",
     "data": {
      "text/plain": [
       "(3, 2, 3, 3)"
      ]
     },
     "metadata": {},
     "execution_count": 95
    }
   ],
   "metadata": {}
  },
  {
   "cell_type": "code",
   "execution_count": 97,
   "source": [
    "res"
   ],
   "outputs": [
    {
     "output_type": "execute_result",
     "data": {
      "text/plain": [
       "array([[[[0.07918448, 0.44948342, 0.66026626],\n",
       "         [0.12726747, 0.9503967 , 0.88146213],\n",
       "         [0.08915318, 0.03531358, 0.8685482 ]],\n",
       "\n",
       "        [[0.44948342, 0.66026626, 0.50844383],\n",
       "         [0.9503967 , 0.88146213, 0.73446691],\n",
       "         [0.03531358, 0.8685482 , 0.62420618]]],\n",
       "\n",
       "\n",
       "       [[[0.12726747, 0.9503967 , 0.88146213],\n",
       "         [0.08915318, 0.03531358, 0.8685482 ],\n",
       "         [0.8213609 , 0.58456966, 0.88256334]],\n",
       "\n",
       "        [[0.9503967 , 0.88146213, 0.73446691],\n",
       "         [0.03531358, 0.8685482 , 0.62420618],\n",
       "         [0.58456966, 0.88256334, 0.59978196]]],\n",
       "\n",
       "\n",
       "       [[[0.08915318, 0.03531358, 0.8685482 ],\n",
       "         [0.8213609 , 0.58456966, 0.88256334],\n",
       "         [0.61682261, 0.94946307, 0.24180738]],\n",
       "\n",
       "        [[0.03531358, 0.8685482 , 0.62420618],\n",
       "         [0.58456966, 0.88256334, 0.59978196],\n",
       "         [0.94946307, 0.24180738, 0.8887776 ]]]])"
      ]
     },
     "metadata": {},
     "execution_count": 97
    }
   ],
   "metadata": {}
  },
  {
   "cell_type": "code",
   "execution_count": 98,
   "source": [
    "res.max(axis=(-2,-1))"
   ],
   "outputs": [
    {
     "output_type": "execute_result",
     "data": {
      "text/plain": [
       "array([[0.9503967 , 0.9503967 ],\n",
       "       [0.9503967 , 0.9503967 ],\n",
       "       [0.94946307, 0.94946307]])"
      ]
     },
     "metadata": {},
     "execution_count": 98
    }
   ],
   "metadata": {}
  },
  {
   "cell_type": "code",
   "execution_count": null,
   "source": [
    "height=5\r\n",
    "width=4\r\n",
    "batch_size=3\r\n",
    "stride=1\r\n",
    "kernel=3\r\n",
    "\r\n",
    "c=np.random.random([batch_size,height,width])\r\n",
    "\r\n",
    "strides=(width*stride,stride,width,1)\r\n",
    "strides2=(c.strides[0],c.strides[1],c.strides[2],c.strides[1],c.strides[2])\r\n",
    "shape = (batch_size, height - kernel + 1, width - kernel + 1, kernel, kernel)\r\n",
    "np.lib.stride_tricks.as_strided(c,shape=shape,strides=strides2)"
   ],
   "outputs": [],
   "metadata": {}
  },
  {
   "cell_type": "code",
   "execution_count": 93,
   "source": [
    "c.da"
   ],
   "outputs": [
    {
     "output_type": "execute_result",
     "data": {
      "text/plain": [
       "array([[0.07918448, 0.44948342, 0.66026626, 0.50844383],\n",
       "       [0.12726747, 0.9503967 , 0.88146213, 0.73446691],\n",
       "       [0.08915318, 0.03531358, 0.8685482 , 0.62420618],\n",
       "       [0.8213609 , 0.58456966, 0.88256334, 0.59978196],\n",
       "       [0.61682261, 0.94946307, 0.24180738, 0.8887776 ]])"
      ]
     },
     "metadata": {},
     "execution_count": 93
    }
   ],
   "metadata": {}
  },
  {
   "cell_type": "code",
   "execution_count": 85,
   "source": [
    "c=np.random.random([height,width])\r\n",
    "c.strides"
   ],
   "outputs": [
    {
     "output_type": "execute_result",
     "data": {
      "text/plain": [
       "(32, 8)"
      ]
     },
     "metadata": {},
     "execution_count": 85
    }
   ],
   "metadata": {}
  },
  {
   "cell_type": "code",
   "execution_count": 91,
   "source": [
    "from layers import FCLayer, ReLULayer, ConvLayer, MaxPoolingLayer, ReshapeLayer\r\n",
    "\r\n",
    "convNet = Network()\r\n",
    "convNet.add(ConvLayer(1, 8, 3, 1))\r\n",
    "convNet.add(ReLULayer())\r\n",
    "convNet.add(MaxPoolingLayer(2, 0))\r\n",
    "convNet.add(ConvLayer(8, 16, 3, 1))\r\n",
    "convNet.add(ReLULayer())\r\n",
    "convNet.add(MaxPoolingLayer(2, 0))\r\n",
    "convNet.add(ReshapeLayer((batch_size, 16, 7, 7), (batch_size, 784)))\r\n",
    "convNet.add(FCLayer(784, 128))\r\n",
    "convNet.add(ReLULayer())\r\n",
    "convNet.add(FCLayer(128, 10))"
   ],
   "outputs": [
    {
     "output_type": "error",
     "ename": "ImportError",
     "evalue": "cannot import name 'ConvLayer' from 'layers' (c:\\Users\\cascara\\Desktop\\code\\2021spring\\patternRecognition\\homework-12345\\homework3\\layers\\__init__.py)",
     "traceback": [
      "\u001b[1;31m---------------------------------------------------------------------------\u001b[0m",
      "\u001b[1;31mImportError\u001b[0m                               Traceback (most recent call last)",
      "\u001b[1;32m<ipython-input-91-7e9ffa6771f0>\u001b[0m in \u001b[0;36m<module>\u001b[1;34m\u001b[0m\n\u001b[1;32m----> 1\u001b[1;33m \u001b[1;32mfrom\u001b[0m \u001b[0mlayers\u001b[0m \u001b[1;32mimport\u001b[0m \u001b[0mFCLayer\u001b[0m\u001b[1;33m,\u001b[0m \u001b[0mReLULayer\u001b[0m\u001b[1;33m,\u001b[0m \u001b[0mConvLayer\u001b[0m\u001b[1;33m,\u001b[0m \u001b[0mMaxPoolingLayer\u001b[0m\u001b[1;33m,\u001b[0m \u001b[0mReshapeLayer\u001b[0m\u001b[1;33m\u001b[0m\u001b[1;33m\u001b[0m\u001b[0m\n\u001b[0m\u001b[0;32m      2\u001b[0m \u001b[1;33m\u001b[0m\u001b[0m\n\u001b[0;32m      3\u001b[0m \u001b[0mconvNet\u001b[0m \u001b[1;33m=\u001b[0m \u001b[0mNetwork\u001b[0m\u001b[1;33m(\u001b[0m\u001b[1;33m)\u001b[0m\u001b[1;33m\u001b[0m\u001b[1;33m\u001b[0m\u001b[0m\n\u001b[0;32m      4\u001b[0m \u001b[0mconvNet\u001b[0m\u001b[1;33m.\u001b[0m\u001b[0madd\u001b[0m\u001b[1;33m(\u001b[0m\u001b[0mConvLayer\u001b[0m\u001b[1;33m(\u001b[0m\u001b[1;36m1\u001b[0m\u001b[1;33m,\u001b[0m \u001b[1;36m8\u001b[0m\u001b[1;33m,\u001b[0m \u001b[1;36m3\u001b[0m\u001b[1;33m,\u001b[0m \u001b[1;36m1\u001b[0m\u001b[1;33m)\u001b[0m\u001b[1;33m)\u001b[0m\u001b[1;33m\u001b[0m\u001b[1;33m\u001b[0m\u001b[0m\n\u001b[0;32m      5\u001b[0m \u001b[0mconvNet\u001b[0m\u001b[1;33m.\u001b[0m\u001b[0madd\u001b[0m\u001b[1;33m(\u001b[0m\u001b[0mReLULayer\u001b[0m\u001b[1;33m(\u001b[0m\u001b[1;33m)\u001b[0m\u001b[1;33m)\u001b[0m\u001b[1;33m\u001b[0m\u001b[1;33m\u001b[0m\u001b[0m\n",
      "\u001b[1;31mImportError\u001b[0m: cannot import name 'ConvLayer' from 'layers' (c:\\Users\\cascara\\Desktop\\code\\2021spring\\patternRecognition\\homework-12345\\homework3\\layers\\__init__.py)"
     ]
    }
   ],
   "metadata": {}
  },
  {
   "cell_type": "code",
   "execution_count": null,
   "source": [
    "# Train\r\n",
    "convNet.is_training = True\r\n",
    "convNet, conv_loss, conv_acc = train(convNet, criterion, sgd, data_train, max_epoch, batch_size, disp_freq)"
   ],
   "outputs": [],
   "metadata": {}
  },
  {
   "cell_type": "code",
   "execution_count": null,
   "source": [
    "# Test\r\n",
    "convNet.is_training = False\r\n",
    "test(convNet, criterion, data_test, batch_size, disp_freq)"
   ],
   "outputs": [],
   "metadata": {}
  },
  {
   "cell_type": "markdown",
   "source": [
    "## Plot"
   ],
   "metadata": {}
  },
  {
   "cell_type": "code",
   "execution_count": null,
   "source": [
    "plot_loss_and_acc({'ConvNet': [conv_loss, conv_acc]})"
   ],
   "outputs": [],
   "metadata": {}
  },
  {
   "cell_type": "markdown",
   "source": [
    "### ~~You have finished homework3, congratulations!~~  \r\n",
    "\r\n",
    "**Next, according to the requirements (4):**\r\n",
    "### **You need to implement the Dropout layer and train the network again.**"
   ],
   "metadata": {}
  },
  {
   "cell_type": "code",
   "execution_count": null,
   "source": [
    "from layers import DropoutLayer\r\n",
    "\r\n",
    "# build your network\r\n",
    "\r\n",
    "# training\r\n",
    "\r\n",
    "# testing"
   ],
   "outputs": [],
   "metadata": {}
  },
  {
   "cell_type": "code",
   "execution_count": null,
   "source": [],
   "outputs": [],
   "metadata": {}
  }
 ],
 "metadata": {
  "kernelspec": {
   "display_name": "Python 3",
   "language": "python",
   "name": "python3"
  },
  "language_info": {
   "codemirror_mode": {
    "name": "ipython",
    "version": 3
   },
   "file_extension": ".py",
   "mimetype": "text/x-python",
   "name": "python",
   "nbconvert_exporter": "python",
   "pygments_lexer": "ipython3",
   "version": "3.6.10"
  }
 },
 "nbformat": 4,
 "nbformat_minor": 2
}