{
 "metadata": {
  "language_info": {
   "codemirror_mode": {
    "name": "ipython",
    "version": 3
   },
   "file_extension": ".py",
   "mimetype": "text/x-python",
   "name": "python",
   "nbconvert_exporter": "python",
   "pygments_lexer": "ipython3",
   "version": "3.8.8"
  },
  "orig_nbformat": 4,
  "kernelspec": {
   "name": "python3",
   "display_name": "Python 3.8.8 64-bit ('base': conda)"
  },
  "interpreter": {
   "hash": "c39dd8454138eeaae7582c1b8b9112000612a2e483c721ee49090cb6d3cfebe8"
  }
 },
 "nbformat": 4,
 "nbformat_minor": 2,
 "cells": [
  {
   "cell_type": "code",
   "execution_count": 2,
   "source": [
    "import tensorflow as tf"
   ],
   "outputs": [],
   "metadata": {}
  },
  {
   "cell_type": "code",
   "execution_count": 3,
   "source": [
    "import input_data"
   ],
   "outputs": [],
   "metadata": {}
  },
  {
   "cell_type": "code",
   "execution_count": 5,
   "source": [
    "mnist_dataset = input_data.read_data_sets('MNIST_data', one_hot=True)"
   ],
   "outputs": [
    {
     "output_type": "stream",
     "name": "stdout",
     "text": [
      "Extracting MNIST_data\\train-images-idx3-ubyte.gz\n",
      "Extracting MNIST_data\\train-labels-idx1-ubyte.gz\n",
      "Extracting MNIST_data\\t10k-images-idx3-ubyte.gz\n",
      "Extracting MNIST_data\\t10k-labels-idx1-ubyte.gz\n"
     ]
    }
   ],
   "metadata": {}
  },
  {
   "cell_type": "code",
   "execution_count": 6,
   "source": [
    "# training dataset\r\n",
    "train_set = mnist_dataset.train\r\n",
    "# test dataset\r\n",
    "test_set = mnist_dataset.test\r\n",
    "print('Training dataset size: ', train_set.num_examples)\r\n",
    "print('Test dataset size: ', test_set.num_examples)\r\n"
   ],
   "outputs": [
    {
     "output_type": "stream",
     "name": "stdout",
     "text": [
      "Training dataset size:  55000\n",
      "Test dataset size:  10000\n"
     ]
    }
   ],
   "metadata": {}
  },
  {
   "cell_type": "code",
   "execution_count": 8,
   "source": [
    "import matplotlib.pyplot as plt\r\n",
    "import numpy as np\r\n",
    "example_id = 0\r\n",
    "image = train_set.images[example_id] # shape = 784 (28*28)\r\n",
    "label = train_set.labels[example_id] # shape = 1\r\n",
    "print(label)\r\n",
    "plt.imshow(np.reshape(image,[28,28]),cmap='gray')\r\n",
    "plt.show()"
   ],
   "outputs": [
    {
     "output_type": "stream",
     "name": "stdout",
     "text": [
      "[0. 0. 0. 0. 0. 0. 0. 1. 0. 0.]\n"
     ]
    },
    {
     "output_type": "display_data",
     "data": {
      "text/plain": [
       "<Figure size 432x288 with 1 Axes>"
      ],
      "image/png": "[encoded data removed]"
     },
     "metadata": {
      "needs_background": "light"
     }
    }
   ],
   "metadata": {}
  },
  {
   "cell_type": "code",
   "execution_count": 9,
   "source": [
    "image.shape"
   ],
   "outputs": [
    {
     "output_type": "execute_result",
     "data": {
      "text/plain": [
       "(784,)"
      ]
     },
     "metadata": {},
     "execution_count": 9
    }
   ],
   "metadata": {}
  },
  {
   "cell_type": "code",
   "execution_count": 10,
   "source": [
    "label.shape"
   ],
   "outputs": [
    {
     "output_type": "execute_result",
     "data": {
      "text/plain": [
       "(10,)"
      ]
     },
     "metadata": {},
     "execution_count": 10
    }
   ],
   "metadata": {}
  },
  {
   "cell_type": "code",
   "execution_count": 11,
   "source": [
    "def logistic(x):\r\n",
    "    return 1/(1+np.exp(-x))"
   ],
   "outputs": [],
   "metadata": {}
  },
  {
   "cell_type": "code",
   "execution_count": 12,
   "source": [
    "logistic(np.array([0,3,4]))"
   ],
   "outputs": [
    {
     "output_type": "execute_result",
     "data": {
      "text/plain": [
       "array([0.5       , 0.95257413, 0.98201379])"
      ]
     },
     "metadata": {},
     "execution_count": 12
    }
   ],
   "metadata": {}
  },
  {
   "cell_type": "code",
   "execution_count": 83,
   "source": [
    "w=np.zeros([784,10])\r\n",
    "b=np.zeros(10)"
   ],
   "outputs": [],
   "metadata": {}
  },
  {
   "cell_type": "code",
   "execution_count": 60,
   "source": [
    "def compute_acc(test=True):\r\n",
    "    if test:\r\n",
    "        res=np.dot(test_set.images,w)\r\n",
    "        test_pred=np.argmax(res,axis=1)\r\n",
    "        test_true=np.argmax(test_set.labels,axis=1)\r\n",
    "        err=(test_pred-test_true)\r\n",
    "        test_acc=err[err==0].size/test_set.num_examples\r\n",
    "        return test_acc\r\n",
    "    else:\r\n",
    "        res=np.dot(train_set.images,w)\r\n",
    "        train_pred=np.argmax(res,axis=1)\r\n",
    "        train_true=np.argmax(train_set.labels,axis=1)\r\n",
    "        err=(train_pred-train_true)\r\n",
    "        train_acc=err[err==0].size/train_set.num_examples\r\n",
    "        return train_acc\r\n",
    "        "
   ],
   "outputs": [],
   "metadata": {}
  },
  {
   "cell_type": "code",
   "execution_count": 67,
   "source": [
    "print(compute_acc(test=False))"
   ],
   "outputs": [
    {
     "output_type": "stream",
     "name": "stdout",
     "text": [
      "0.8568\n"
     ]
    }
   ],
   "metadata": {}
  },
  {
   "cell_type": "code",
   "execution_count": null,
   "source": [
    "test_accs=[]\r\n",
    "train_accs=[]\r\n",
    "train_losss=[]"
   ],
   "outputs": [],
   "metadata": {}
  },
  {
   "cell_type": "code",
   "execution_count": 90,
   "source": [
    "batch_size = 100\r\n",
    "max_epoch = 5\r\n",
    "learning_rate = 0.01\r\n",
    "\r\n",
    "for epoch in range(0, max_epoch):\r\n",
    "    iter_per_batch = train_set.num_examples // batch_size\r\n",
    "    for batch_id in range(0, iter_per_batch):\r\n",
    "        # get the data of next minibatch (have been shuffled)\r\n",
    "        batch = train_set.next_batch(batch_size)\r\n",
    "        input, label = batch\r\n",
    "        # prediction\r\n",
    "        pred=logistic(np.dot(input,w)+b)\r\n",
    "        # calculate the loss (and accuracy)\r\n",
    "        grad=pred-label\r\n",
    "        grads=np.zeros(w.shape)\r\n",
    "        loss=0\r\n",
    "        for i in range(batch_size):\r\n",
    "            grads+=np.dot(np.transpose(input[i]).reshape(784,1),grad[i].reshape(1,10))\r\n",
    "        loss=-np.sum(np.multiply(label,np.log(pred))+np.multiply((1-label),np.log(1-pred)))/batch_size\r\n",
    "        err=(np.argmax(pred,axis=1)-np.argmax(label,axis=1))\r\n",
    "        train_accs.append(err[err==0].size/batch_size)\r\n",
    "        train_losss.append(loss)\r\n",
    "        # print(loss)\r\n",
    "        # update weights\r\n",
    "        w -= learning_rate*grads/batch_size\r\n",
    "        test_accs.append(compute_acc())\r\n",
    "\r\n",
    "    # print(loss)\r\n",
    "# print(input.shape,label.shape)\r\n",
    "# print(pred.shape)\r\n",
    "# print(loss)    "
   ],
   "outputs": [],
   "metadata": {
    "tags": []
   }
  },
  {
   "cell_type": "code",
   "execution_count": 89,
   "source": [
    "plt.plot(train_losss)\r\n",
    "plt.title('train loss')\r\n",
    "plt.xlabel('iteration')\r\n",
    "plt.show()"
   ],
   "outputs": [
    {
     "output_type": "display_data",
     "data": {
      "text/plain": [
       "<Figure size 432x288 with 1 Axes>"
      ],
      "image/png": "[encoded data removed]"
     },
     "metadata": {
      "needs_background": "light"
     }
    }
   ],
   "metadata": {}
  },
  {
   "cell_type": "code",
   "execution_count": 88,
   "source": [
    "plt.plot(train_accs)\r\n",
    "plt.title('train accuracy')\r\n",
    "plt.xlabel('iteration')\r\n",
    "plt.show()"
   ],
   "outputs": [
    {
     "output_type": "display_data",
     "data": {
      "text/plain": [
       "<Figure size 432x288 with 1 Axes>"
      ],
      "image/png": "[encoded data removed]"
     },
     "metadata": {
      "needs_background": "light"
     }
    }
   ],
   "metadata": {}
  },
  {
   "cell_type": "code",
   "execution_count": 86,
   "source": [
    "plt.plot(test_accs)\r\n",
    "plt.title('test accuracy')\r\n",
    "plt.xlabel('iteration')\r\n",
    "plt.show()"
   ],
   "outputs": [
    {
     "output_type": "display_data",
     "data": {
      "text/plain": [
       "<Figure size 432x288 with 1 Axes>"
      ],
      "image/png": "[encoded data removed]"
     },
     "metadata": {
      "needs_background": "light"
     }
    }
   ],
   "metadata": {}
  },
  {
   "cell_type": "code",
   "execution_count": 78,
   "source": [
    "plt.plot(test_accs)\r\n",
    "plt.title('test accuracy')\r\n",
    "plt.xlabel('iteration')\r\n",
    "plt.show()"
   ],
   "outputs": [
    {
     "output_type": "display_data",
     "data": {
      "text/plain": [
       "<Figure size 432x288 with 1 Axes>"
      ],
      "image/png": "[encoded data removed]"
     },
     "metadata": {
      "needs_background": "light"
     }
    }
   ],
   "metadata": {}
  },
  {
   "cell_type": "code",
   "execution_count": 15,
   "source": [
    "res=np.dot(test_set.images,w)"
   ],
   "outputs": [],
   "metadata": {}
  },
  {
   "cell_type": "code",
   "execution_count": 16,
   "source": [
    "np.argmax(res,axis=1)[:23]"
   ],
   "outputs": [
    {
     "output_type": "execute_result",
     "data": {
      "text/plain": [
       "array([7, 2, 1, 0, 4, 1, 4, 9, 6, 9, 0, 6, 9, 0, 1, 5, 9, 7, 3, 4, 9, 6,\n",
       "       6], dtype=int64)"
      ]
     },
     "metadata": {},
     "execution_count": 16
    }
   ],
   "metadata": {}
  },
  {
   "cell_type": "code",
   "execution_count": 17,
   "source": [
    "np.argmax(test_set.labels,axis=1)[:23]"
   ],
   "outputs": [
    {
     "output_type": "execute_result",
     "data": {
      "text/plain": [
       "array([7, 2, 1, 0, 4, 1, 4, 9, 5, 9, 0, 6, 9, 0, 1, 5, 9, 7, 3, 4, 9, 6,\n",
       "       6], dtype=int64)"
      ]
     },
     "metadata": {},
     "execution_count": 17
    }
   ],
   "metadata": {}
  },
  {
   "cell_type": "code",
   "execution_count": 92,
   "source": [
    "res=np.dot(test_set.images,w)\r\n",
    "test_pred=np.argmax(res,axis=1)\r\n",
    "test_true=np.argmax(test_set.labels,axis=1)\r\n",
    "err=(test_pred-test_true)\r\n",
    "test_acc=err[err==0].size/test_set.num_examples\r\n",
    "print(test_acc)"
   ],
   "outputs": [
    {
     "output_type": "stream",
     "name": "stdout",
     "text": [
      "0.8929\n"
     ]
    }
   ],
   "metadata": {}
  },
  {
   "cell_type": "code",
   "execution_count": 19,
   "source": [
    "err=(test_pred-test_true)"
   ],
   "outputs": [],
   "metadata": {}
  },
  {
   "cell_type": "code",
   "execution_count": 20,
   "source": [
    "err[err==0].size/test_set.num_examples"
   ],
   "outputs": [
    {
     "output_type": "execute_result",
     "data": {
      "text/plain": [
       "0.9126"
      ]
     },
     "metadata": {},
     "execution_count": 20
    }
   ],
   "metadata": {}
  },
  {
   "cell_type": "code",
   "execution_count": null,
   "source": [],
   "outputs": [],
   "metadata": {}
  }
 ]
}