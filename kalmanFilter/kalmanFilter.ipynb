{
 "metadata": {
  "language_info": {
   "codemirror_mode": {
    "name": "ipython",
    "version": 3
   },
   "file_extension": ".py",
   "mimetype": "text/x-python",
   "name": "python",
   "nbconvert_exporter": "python",
   "pygments_lexer": "ipython3",
   "version": "3.7.4-final"
  },
  "orig_nbformat": 2,
  "kernelspec": {
   "name": "python3",
   "display_name": "Python 3.7.4 64-bit",
   "metadata": {
    "interpreter": {
     "hash": "3f857618d8b6a3d270a8a45aea13fd0dc2a28a907e8d4ef70fe87ce2a92698f8"
    }
   }
  }
 },
 "nbformat": 4,
 "nbformat_minor": 2,
 "cells": [
  {
   "cell_type": "code",
   "execution_count": null,
   "metadata": {},
   "outputs": [],
   "source": [
    "import numpy as np\n",
    "import matplotlib.pyplot as plt"
   ]
  },
  {
   "source": [
    "## static object\n",
    "state update equation"
   ],
   "cell_type": "markdown",
   "metadata": {}
  },
  {
   "cell_type": "code",
   "execution_count": null,
   "metadata": {},
   "outputs": [],
   "source": [
    "## generate measurement data\n",
    "miu=5\n",
    "sigma=2\n",
    "measureTimes=40\n",
    "Z=np.random.normal(miu,sigma,measureTimes)"
   ]
  },
  {
   "cell_type": "code",
   "execution_count": null,
   "metadata": {},
   "outputs": [],
   "source": [
    "Z"
   ]
  },
  {
   "cell_type": "code",
   "execution_count": null,
   "metadata": {},
   "outputs": [],
   "source": [
    "X=np.zeros(measureTimes+1)\n",
    "X[0]=miu\n",
    "for measure in range(measureTimes):\n",
    "    n=measure+1\n",
    "    gain=1/n\n",
    "    X[n]=X[n-1]+gain*(Z[measure]-X[n-1])\n"
   ]
  },
  {
   "cell_type": "code",
   "execution_count": null,
   "metadata": {},
   "outputs": [],
   "source": [
    "plt.plot(X)\n",
    "plt.plot(Z,marker='o')\n",
    "plt.plot([0,measureTimes],[miu,miu])\n",
    "plt.xlabel(\"measure times\")\n",
    "plt.ylabel(\"estimate value\")\n",
    "plt.legend(['estimate','measure','real'])\n",
    "plt.title(\"kalman filter for static object\")\n",
    "plt.show()"
   ]
  },
  {
   "source": [
    "## $\\alpha-\\beta$ filter\n",
    "(g-h filter) for dynamic object (state update)    \n",
    "state extrapolation equation"
   ],
   "cell_type": "markdown",
   "metadata": {}
  },
  {
   "source": [
    "### situation design \n",
    "a vehicle go at 10m/s, initial site is 0m, and the measure tool is unbiased, but the measurements include random noise(gaussian distribution) "
   ],
   "cell_type": "markdown",
   "metadata": {}
  },
  {
   "cell_type": "code",
   "execution_count": null,
   "metadata": {},
   "outputs": [],
   "source": [
    "measureTimes=40\n",
    "velocity=10 #m/s\n",
    "interval=0.1 #s \n",
    "Narray=np.asarray([n for n in range(measureTimes)])\n",
    "preciseX=Narray*velocity*interval"
   ]
  },
  {
   "cell_type": "code",
   "execution_count": null,
   "metadata": {},
   "outputs": [],
   "source": [
    "Narray\n",
    "preciseX"
   ]
  },
  {
   "cell_type": "code",
   "execution_count": null,
   "metadata": {},
   "outputs": [],
   "source": [
    "## generate measurements\n",
    "Z=np.zeros(measureTimes)\n",
    "sigma=interval*velocity\n",
    "for time in range(measureTimes):\n",
    "    Z[time]=np.random.normal(preciseX[time],sigma,1)"
   ]
  },
  {
   "cell_type": "code",
   "execution_count": null,
   "metadata": {},
   "outputs": [],
   "source": [
    "Z"
   ]
  },
  {
   "source": [
    "## question\n",
    "how to make sure the initial value?"
   ],
   "cell_type": "markdown",
   "metadata": {}
  },
  {
   "cell_type": "code",
   "execution_count": null,
   "metadata": {},
   "outputs": [],
   "source": [
    "X=np.zeros(measureTimes+1)\n",
    "V=np.zeros(measureTimes+1)\n",
    "for measure in range(measureTimes):\n",
    "    n=measure+1\n",
    "    estimateX=X[n-1]+interval*V[n-1]\n",
    "    alpha=0.2\n",
    "    beta=0.1\n",
    "\n",
    "    X[n]=estimateX+alpha*(Z[measure]-estimateX)\n",
    "    V[n]=V[n-1]+beta*(Z[measure]-estimateX)/interval\n",
    "    #print(V)\n"
   ]
  },
  {
   "source": [
    "alpha can not decrease with time anymore, for the state is updating all the time\n",
    "\n",
    "if update state with large number, the estimation is not so stable\n",
    "how about minimize the interval\n",
    "\n",
    "!!! important the error times by kalman gain is not new value, but estimate value according to prediction"
   ],
   "cell_type": "markdown",
   "metadata": {}
  },
  {
   "cell_type": "code",
   "execution_count": null,
   "metadata": {},
   "outputs": [],
   "source": [
    "plt.plot(X)\n",
    "plt.plot(Z,marker='o')\n",
    "plt.plot(preciseX)\n",
    "plt.plot(V)\n",
    "plt.plot([0,measureTimes],[velocity,velocity])\n",
    "plt.xlabel(\"measure times\")\n",
    "plt.ylabel(\"estimate value\")\n",
    "plt.legend(['measure','estimate x','real x','estimate v','real v'])\n",
    "plt.title(\"kalman filter for static object\")\n",
    "plt.show()"
   ]
  },
  {
   "cell_type": "code",
   "execution_count": null,
   "metadata": {},
   "outputs": [],
   "source": [
    "V"
   ]
  },
  {
   "cell_type": "code",
   "execution_count": null,
   "metadata": {},
   "outputs": [],
   "source": [
    "X"
   ]
  },
  {
   "cell_type": "code",
   "execution_count": null,
   "metadata": {},
   "outputs": [],
   "source": []
  },
  {
   "cell_type": "code",
   "execution_count": null,
   "metadata": {},
   "outputs": [],
   "source": []
  }
 ]
}