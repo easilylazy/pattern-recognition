{
 "metadata": {
  "language_info": {
   "codemirror_mode": {
    "name": "ipython",
    "version": 3
   },
   "file_extension": ".py",
   "mimetype": "text/x-python",
   "name": "python",
   "nbconvert_exporter": "python",
   "pygments_lexer": "ipython3",
   "version": "3.7.4-final"
  },
  "orig_nbformat": 2,
  "kernelspec": {
   "name": "python3",
   "display_name": "Python 3.7.4 64-bit",
   "metadata": {
    "interpreter": {
     "hash": "3f857618d8b6a3d270a8a45aea13fd0dc2a28a907e8d4ef70fe87ce2a92698f8"
    }
   }
  }
 },
 "nbformat": 4,
 "nbformat_minor": 2,
 "cells": [
  {
   "cell_type": "code",
   "execution_count": null,
   "metadata": {},
   "outputs": [],
   "source": [
    "from ipywidgets import interact, FloatSlider,IntSlider\n",
    "from numpy.random import randn\n",
    "import numpy as np\n",
    "import matplotlib.pyplot as plt"
   ]
  },
  {
   "source": [
    "## dynamic object "
   ],
   "cell_type": "markdown",
   "metadata": {}
  },
  {
   "cell_type": "code",
   "execution_count": 21,
   "metadata": {},
   "outputs": [
    {
     "output_type": "display_data",
     "data": {
      "text/plain": "interactive(children=(IntSlider(value=10, continuous_update=False, description='measureTimes', max=500, min=5)…",
      "application/vnd.jupyter.widget-view+json": {
       "version_major": 2,
       "version_minor": 0,
       "model_id": "cd442cce99a74c01b5b0321d910d0870"
      }
     },
     "metadata": {}
    }
   ],
   "source": [
    "def gen_data(interval=0.1, measureTimes=40, velocity=10, sigma=0.1):\n",
    "    interval=0.1 #s \n",
    "    Narray=np.asarray([n for n in range(measureTimes)])\n",
    "    preciseX=Narray*velocity*interval\n",
    "    ## generate measurements\n",
    "    Z=np.zeros(measureTimes)\n",
    "    #sigma=interval*velocity\n",
    "    for time in range(measureTimes):\n",
    "        Z[time]=np.random.normal(preciseX[time],sigma,1)\n",
    "    return Z,preciseX\n",
    "def ab_filter(Z, interval=0.1):\n",
    "    measureTimes=len(Z)\n",
    "    X=np.zeros(measureTimes+1)\n",
    "    V=np.zeros(measureTimes+1)\n",
    "    for measure in range(measureTimes):\n",
    "        n=measure+1\n",
    "        estimateX=X[n-1]+interval*V[n-1]\n",
    "        alpha=0.2\n",
    "        beta=0.1\n",
    "\n",
    "        X[n]=estimateX+alpha*(Z[measure]-estimateX)\n",
    "        V[n]=V[n-1]+beta*(Z[measure]-estimateX)/interval\n",
    "    return X,V\n",
    "def interactive_ab(measureTimes,v,sigma):\n",
    "    Z,preciseX=gen_data(measureTimes=measureTimes,velocity=v,sigma=sigma)\n",
    "    X,V=ab_filter(Z)\n",
    "    plt.plot(X)\n",
    "    plt.plot(Z,marker='o')\n",
    "    plt.plot(preciseX)\n",
    "    plt.plot(V)\n",
    "    plt.plot([0,measureTimes],[v,v])\n",
    "    plt.xlabel(\"measure times\")\n",
    "    plt.ylabel(\"estimate value\")\n",
    "    plt.legend(['measure','estimate x','real x','estimate v','real v'])\n",
    "    plt.title(\"kalman filter for static object\")\n",
    "    plt.show()\n",
    "interact(interactive_ab,           \n",
    "         measureTimes=IntSlider(value=10, min=5, max=500, continuous_update=False), \n",
    "         v=FloatSlider(value=5., min=0., max=50., continuous_update=False), \n",
    "         sigma=FloatSlider(value=0.1, min=0.01, max=2, step=.02, continuous_update=False), \n",
    "         h=FloatSlider(value=0.02, min=0.0, max=0.5, step=0.01, continuous_update=False));"
   ]
  },
  {
   "cell_type": "code",
   "execution_count": null,
   "metadata": {},
   "outputs": [],
   "source": [
    "np.random.normal()"
   ]
  },
  {
   "cell_type": "code",
   "execution_count": null,
   "metadata": {},
   "outputs": [],
   "source": []
  }
 ]
}