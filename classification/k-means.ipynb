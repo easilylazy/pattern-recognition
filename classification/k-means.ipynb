{
 "metadata": {
  "language_info": {
   "codemirror_mode": {
    "name": "ipython",
    "version": 3
   },
   "file_extension": ".py",
   "mimetype": "text/x-python",
   "name": "python",
   "nbconvert_exporter": "python",
   "pygments_lexer": "ipython3",
   "version": "3.7.4"
  },
  "orig_nbformat": 2,
  "kernelspec": {
   "name": "python374jvsc74a57bd03f857618d8b6a3d270a8a45aea13fd0dc2a28a907e8d4ef70fe87ce2a92698f8",
   "display_name": "Python 3.7.4 64-bit"
  }
 },
 "nbformat": 4,
 "nbformat_minor": 2,
 "cells": [
  {
   "cell_type": "code",
   "execution_count": 1,
   "metadata": {},
   "outputs": [],
   "source": [
    "import numpy as np"
   ]
  },
  {
   "cell_type": "code",
   "execution_count": 2,
   "metadata": {},
   "outputs": [],
   "source": []
  },
  {
   "cell_type": "code",
   "execution_count": 3,
   "metadata": {},
   "outputs": [],
   "source": [
    "X=np.array([[2,10],[2,5],[8,4],[5,8],[7,5],[6,4],[1,2],[4,9]])"
   ]
  },
  {
   "cell_type": "code",
   "execution_count": 30,
   "metadata": {},
   "outputs": [],
   "source": [
    "c=np.zeros([3,2])\n",
    "c[0]=X[0]\n",
    "c[1]=X[3]\n",
    "c[2]=X[6]"
   ]
  },
  {
   "cell_type": "code",
   "execution_count": 31,
   "metadata": {},
   "outputs": [
    {
     "output_type": "stream",
     "name": "stdout",
     "text": [
      "[[ 2 10]]\n[[8 4]\n [5 8]\n [7 5]\n [6 4]\n [4 9]]\n[[2 5]\n [1 2]]\n[[ 2.  10. ]\n [ 6.   6. ]\n [ 1.5  3.5]]\n[[ 2 10]\n [ 4  9]]\n[[8 4]\n [5 8]\n [7 5]\n [6 4]]\n[[2 5]\n [1 2]]\n[[3.   9.5 ]\n [6.5  5.25]\n [1.5  3.5 ]]\n[[ 2 10]\n [ 5  8]\n [ 4  9]]\n[[8 4]\n [7 5]\n [6 4]]\n[[2 5]\n [1 2]]\n[[3.66666667 9.        ]\n [7.         4.33333333]\n [1.5        3.5       ]]\n[[ 2 10]\n [ 5  8]\n [ 4  9]]\n[[8 4]\n [7 5]\n [6 4]]\n[[2 5]\n [1 2]]\n[[3.66666667 9.        ]\n [7.         4.33333333]\n [1.5        3.5       ]]\n[[ 2 10]\n [ 5  8]\n [ 4  9]]\n[[8 4]\n [7 5]\n [6 4]]\n[[2 5]\n [1 2]]\n[[3.66666667 9.        ]\n [7.         4.33333333]\n [1.5        3.5       ]]\n[[ 2 10]\n [ 5  8]\n [ 4  9]]\n[[8 4]\n [7 5]\n [6 4]]\n[[2 5]\n [1 2]]\n[[3.66666667 9.        ]\n [7.         4.33333333]\n [1.5        3.5       ]]\n[[ 2 10]\n [ 5  8]\n [ 4  9]]\n[[8 4]\n [7 5]\n [6 4]]\n[[2 5]\n [1 2]]\n[[3.66666667 9.        ]\n [7.         4.33333333]\n [1.5        3.5       ]]\n[[ 2 10]\n [ 5  8]\n [ 4  9]]\n[[8 4]\n [7 5]\n [6 4]]\n[[2 5]\n [1 2]]\n[[3.66666667 9.        ]\n [7.         4.33333333]\n [1.5        3.5       ]]\n[[ 2 10]\n [ 5  8]\n [ 4  9]]\n[[8 4]\n [7 5]\n [6 4]]\n[[2 5]\n [1 2]]\n[[3.66666667 9.        ]\n [7.         4.33333333]\n [1.5        3.5       ]]\n[[ 2 10]\n [ 5  8]\n [ 4  9]]\n[[8 4]\n [7 5]\n [6 4]]\n[[2 5]\n [1 2]]\n[[3.66666667 9.        ]\n [7.         4.33333333]\n [1.5        3.5       ]]\n"
     ]
    }
   ],
   "source": [
    "for i in range(10):\n",
    "    c1=[]\n",
    "    c2=[]\n",
    "    c3=[]\n",
    "\n",
    "    for x in X:\n",
    "        # 计算到每个中心的距离\n",
    "        dis=np.sum((x-c)**2,axis=1)\n",
    "        # print(np.sum((x-c)**2,axis=1))\n",
    "        minSite=np.argmin(dis)\n",
    "        # print(minSite)\n",
    "        if minSite==0:\n",
    "            c1.append(x)\n",
    "        elif minSite==1:\n",
    "            c2.append(x)\n",
    "        else:\n",
    "            c3.append(x)\n",
    "    c1=np.asarray(c1)\n",
    "    print(c1)\n",
    "    c2=np.asarray(c2)\n",
    "    print(c2)\n",
    "    c3=np.asarray(c3)\n",
    "    print(c3)\n",
    "    # 计算新的中心\n",
    "    c[0]=c1.mean(axis=0)\n",
    "    c[1]=c2.mean(axis=0)\n",
    "    c[2]=c3.mean(axis=0)\n",
    "    print(c)\n",
    "        "
   ]
  },
  {
   "cell_type": "code",
   "execution_count": 17,
   "metadata": {},
   "outputs": [
    {
     "output_type": "execute_result",
     "data": {
      "text/plain": [
       "array([ 2., 10.])"
      ]
     },
     "metadata": {},
     "execution_count": 17
    }
   ],
   "source": [
    "c1.mean(axis=0)"
   ]
  },
  {
   "cell_type": "code",
   "execution_count": 19,
   "metadata": {},
   "outputs": [
    {
     "output_type": "execute_result",
     "data": {
      "text/plain": [
       "array([[ 2. , 10. ],\n",
       "       [ 6. ,  6. ],\n",
       "       [ 1.5,  3.5]])"
      ]
     },
     "metadata": {},
     "execution_count": 19
    }
   ],
   "source": [
    "c"
   ]
  },
  {
   "cell_type": "code",
   "execution_count": null,
   "metadata": {},
   "outputs": [],
   "source": []
  }
 ]
}