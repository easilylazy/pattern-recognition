{
 "metadata": {
  "language_info": {
   "codemirror_mode": {
    "name": "ipython",
    "version": 3
   },
   "file_extension": ".py",
   "mimetype": "text/x-python",
   "name": "python",
   "nbconvert_exporter": "python",
   "pygments_lexer": "ipython3",
   "version": "3.7.4-final"
  },
  "orig_nbformat": 2,
  "kernelspec": {
   "name": "python3",
   "display_name": "Python 3.7.4 64-bit",
   "metadata": {
    "interpreter": {
     "hash": "3f857618d8b6a3d270a8a45aea13fd0dc2a28a907e8d4ef70fe87ce2a92698f8"
    }
   }
  }
 },
 "nbformat": 4,
 "nbformat_minor": 2,
 "cells": [
  {
   "cell_type": "code",
   "execution_count": 5,
   "metadata": {},
   "outputs": [],
   "source": [
    "import numpy as np\n",
    "import matplotlib.pyplot as plt"
   ]
  },
  {
   "source": [
    "## SSerr\n",
    "求解最小误差平方和的最佳解（Linear Regression Algorithm），并完成二元分类。\n",
    "- 函数的输入有：   \n",
    "    （a）一个N*d维的矩阵X，它的第i行是第i个数据向量；    \n",
    "    （b）一个N维列向量y，y的第i个元素包含了类（-1，1），并且该类与相应的向量相互对应；   \n",
    "- 函数的输出为：向量w，返回估计参数向量。\n"
   ],
   "cell_type": "markdown",
   "metadata": {}
  },
  {
   "cell_type": "code",
   "execution_count": 18,
   "metadata": {},
   "outputs": [],
   "source": [
    "def SSerr(X,y):\n",
    "    Xt=np.transpose(X)\n",
    "    Xp=np.linalg.pinv(Xt)\n",
    "    yt=np.transpose(y)\n",
    "    return np.dot(yt,Xp)"
   ]
  },
  {
   "cell_type": "code",
   "execution_count": 25,
   "metadata": {},
   "outputs": [],
   "source": [
    "def SSerr2(X,y):\n",
    "    Xt=np.transpose(X)\n",
    "    Xp=np.dot(np.linalg.inv(np.dot(Xt,X)),Xt)\n",
    "    #Xp=np.linalg.pinv(Xt)\n",
    "    yt=np.transpose(y)\n",
    "    return np.dot(Xp,y)"
   ]
  },
  {
   "cell_type": "code",
   "execution_count": 77,
   "metadata": {},
   "outputs": [],
   "source": [
    "def gradientE(X,y,w):\n",
    "    Xt=np.transpose(X)\n",
    "    return (np.dot(np.dot(Xt,X),w)-np.dot(Xt,y))\n"
   ]
  },
  {
   "cell_type": "code",
   "execution_count": 84,
   "metadata": {},
   "outputs": [],
   "source": [
    "def SSerr3(X,y):\n",
    "    y=y.reshape([X.shape[0],1])\n",
    "    # init w\n",
    "    w=np.zeros([X.shape[1],1])\n",
    "    # interate\n",
    "    learning_rate=0.1\n",
    "    epoch=1000\n",
    "    for i in range(epoch):\n",
    "        gradient=gradientE(X,y,w)\n",
    "        w=w-learning_rate*gradient\n",
    "        if i>epoch-20:\n",
    "            print(w)\n",
    "    #np.dot(X,w)"
   ]
  },
  {
   "cell_type": "code",
   "execution_count": 85,
   "metadata": {
    "tags": []
   },
   "outputs": [
    {
     "output_type": "stream",
     "name": "stdout",
     "text": [
      "[[-2.35783634]\n [ 2.23300971]]\n[[-2.35783634]\n [ 2.23300971]]\n[[-2.35783634]\n [ 2.23300971]]\n[[-2.35783634]\n [ 2.23300971]]\n[[-2.35783634]\n [ 2.23300971]]\n[[-2.35783634]\n [ 2.23300971]]\n[[-2.35783634]\n [ 2.23300971]]\n[[-2.35783634]\n [ 2.23300971]]\n[[-2.35783634]\n [ 2.23300971]]\n[[-2.35783634]\n [ 2.23300971]]\n[[-2.35783634]\n [ 2.23300971]]\n[[-2.35783634]\n [ 2.23300971]]\n[[-2.35783634]\n [ 2.23300971]]\n[[-2.35783634]\n [ 2.23300971]]\n[[-2.35783634]\n [ 2.23300971]]\n[[-2.35783634]\n [ 2.23300971]]\n[[-2.35783634]\n [ 2.23300971]]\n[[-2.35783634]\n [ 2.23300971]]\n[[-2.35783634]\n [ 2.23300971]]\n"
     ]
    }
   ],
   "source": [
    "SSerr3(Xnp,Ynp)"
   ]
  },
  {
   "cell_type": "code",
   "execution_count": 6,
   "metadata": {},
   "outputs": [],
   "source": [
    "\n",
    "dirtyData=[(0.2,0.7),1,\n",
    "(0.3,0.3),1,\n",
    "(0.4,0.5),1,\n",
    "(0.6,0.5),1,\n",
    "(0.1,0.4),1,\n",
    "(0.4,0.6),-1,\n",
    "(0.6,0.2),-1,\n",
    "(0.7,0.4),-1,\n",
    "(0.8,0.6),-1,\n",
    "(0.7,0.5),-1]\n",
    "X=[]\n",
    "Y=[]\n",
    "i=0\n",
    "for data in dirtyData:\n",
    "    #print(data)\n",
    "    if i%2==0:\n",
    "        X.append(data)\n",
    "    else:\n",
    "        Y.append(data)\n",
    "    i+=1"
   ]
  },
  {
   "cell_type": "code",
   "execution_count": 13,
   "metadata": {},
   "outputs": [
    {
     "output_type": "stream",
     "name": "stdout",
     "text": [
      "[-2.35783634  2.23300971]\n"
     ]
    }
   ],
   "source": [
    "print(SSerr(X,Y))"
   ]
  },
  {
   "cell_type": "code",
   "execution_count": 17,
   "metadata": {},
   "outputs": [
    {
     "output_type": "stream",
     "name": "stdout",
     "text": [
      "(10, 2)\n(10,)\n"
     ]
    }
   ],
   "source": [
    "Xnp=np.asarray(X)\n",
    "Ynp=np.asarray(Y)\n",
    "print(Xnp.shape)\n",
    "print(Ynp.shape)"
   ]
  },
  {
   "cell_type": "code",
   "execution_count": 24,
   "metadata": {},
   "outputs": [
    {
     "output_type": "stream",
     "name": "stdout",
     "text": [
      "[-2.35783634  2.23300971]\n"
     ]
    }
   ],
   "source": [
    "print(SSerr2(Xnp,Ynp))"
   ]
  },
  {
   "source": [
    "## LMS\n",
    "编写一个名为LMSalg的函数，用它来实现Widrow-Hoff算法（LMS算法），即用随机梯度下降法获得最佳解。\n",
    "函数的输入/输出有：\n",
    "- （a）一个N*d维的矩阵X，它的第i行是第i个数据向量；\n",
    "- （b）一个N维列向量y，y的第i个元素包含了类（-1，1），并且该类与相应的向量相互对应；\n",
    "- （c）用向量w_ini初始化参数向量；并且返回估计参数向量。\n"
   ],
   "cell_type": "markdown",
   "metadata": {}
  },
  {
   "cell_type": "code",
   "execution_count": null,
   "metadata": {},
   "outputs": [],
   "source": []
  }
 ]
}