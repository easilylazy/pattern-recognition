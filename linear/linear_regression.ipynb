{
 "metadata": {
  "language_info": {
   "codemirror_mode": {
    "name": "ipython",
    "version": 3
   },
   "file_extension": ".py",
   "mimetype": "text/x-python",
   "name": "python",
   "nbconvert_exporter": "python",
   "pygments_lexer": "ipython3",
   "version": "3.7.4-final"
  },
  "orig_nbformat": 2,
  "kernelspec": {
   "name": "python3",
   "display_name": "Python 3.7.4 64-bit",
   "metadata": {
    "interpreter": {
     "hash": "3f857618d8b6a3d270a8a45aea13fd0dc2a28a907e8d4ef70fe87ce2a92698f8"
    }
   }
  }
 },
 "nbformat": 4,
 "nbformat_minor": 2,
 "cells": [
  {
   "source": [
    "author: leezeeyee   \n",
    "date: 2021/3/14   \n",
    "link: [github](https://github.com/easilylazy/pattern-recognition) "
   ],
   "cell_type": "markdown",
   "metadata": {}
  },
  {
   "cell_type": "code",
   "execution_count": 1,
   "metadata": {},
   "outputs": [],
   "source": [
    "import numpy as np\n",
    "import matplotlib.pyplot as plt"
   ]
  },
  {
   "source": [
    "## SSerr\n",
    "求解最小误差平方和的最佳解（Linear Regression Algorithm），并完成二元分类。\n",
    "- 函数的输入有：   \n",
    "    （a）一个N*d维的矩阵X，它的第i行是第i个数据向量；    \n",
    "    （b）一个N维列向量y，y的第i个元素包含了类（-1，1），并且该类与相应的向量相互对应；   \n",
    "- 函数的输出为：向量w，返回估计参数向量。\n"
   ],
   "cell_type": "markdown",
   "metadata": {}
  },
  {
   "cell_type": "code",
   "execution_count": 2,
   "metadata": {},
   "outputs": [],
   "source": [
    "## 直接利用numpy函数pinv()求广义逆\n",
    "def SSerr(X,y):\n",
    "    Xt=np.transpose(X)\n",
    "    Xp=np.linalg.pinv(Xt)\n",
    "    yt=np.transpose(y)\n",
    "    return np.dot(yt,Xp)"
   ]
  },
  {
   "cell_type": "code",
   "execution_count": 3,
   "metadata": {},
   "outputs": [],
   "source": [
    "## 利用ppt定义的广义逆公式求取\n",
    "def SSerr2(X,y):\n",
    "    Xt=np.transpose(X)\n",
    "    Xp=np.dot(np.linalg.inv(np.dot(Xt,X)),Xt)\n",
    "    #Xp=np.linalg.pinv(Xt)\n",
    "    yt=np.transpose(y)\n",
    "    return np.dot(Xp,y)"
   ]
  },
  {
   "source": [
    "### 用习题中的数据进行验证测试"
   ],
   "cell_type": "markdown",
   "metadata": {}
  },
  {
   "cell_type": "code",
   "execution_count": 62,
   "metadata": {},
   "outputs": [],
   "source": [
    "def loadData():\n",
    "    \"\"\"\n",
    "    载入习题中数据，并转化为numpy的ndarray格式\n",
    "    Returns:\n",
    "        X(numpy.ndarray): N个二维数据[N,2]\n",
    "        Y(numpy.ndarray): N个分类结果[N,] (-1/1)\n",
    "    \"\"\"\n",
    "    dirtyData=[(0.2,0.7),1,\n",
    "    (0.3,0.3),1,\n",
    "    (0.4,0.5),1,\n",
    "    (0.6,0.5),1,\n",
    "    (0.1,0.4),1,\n",
    "    (0.4,0.6),-1,\n",
    "    (0.6,0.2),-1,\n",
    "    (0.7,0.4),-1,\n",
    "    (0.8,0.6),-1,\n",
    "    (0.7,0.5),-1]\n",
    "    X=[]\n",
    "    Y=[]\n",
    "    i=0\n",
    "    for data in dirtyData:\n",
    "        #print(data)\n",
    "        if i%2==0:\n",
    "            X.append(data)\n",
    "        else:\n",
    "            Y.append(data)\n",
    "        i+=1\n",
    "    Xnp=np.asarray(X)\n",
    "    Ynp=np.asarray(Y)\n",
    "    return Xnp,Ynp"
   ]
  },
  {
   "cell_type": "code",
   "execution_count": 64,
   "metadata": {},
   "outputs": [
    {
     "output_type": "stream",
     "name": "stdout",
     "text": [
      "SSerr method[-2.35783634  2.23300971]\nSSerr2 method[-2.35783634  2.23300971]\n"
     ]
    }
   ],
   "source": [
    "Xnp,Ynp=loadData()\n",
    "print('SSerr method'+str(SSerr(Xnp,Ynp)))\n",
    "print('SSerr2 method'+str(SSerr2(Xnp,Ynp)))"
   ]
  },
  {
   "cell_type": "code",
   "execution_count": 65,
   "metadata": {},
   "outputs": [],
   "source": [
    "## 求梯度\n",
    "def gradientE(X,y,w):\n",
    "    Xt=np.transpose(X)\n",
    "    return (np.dot(np.dot(Xt,X),w)-np.dot(Xt,y))"
   ]
  },
  {
   "cell_type": "code",
   "execution_count": 54,
   "metadata": {},
   "outputs": [],
   "source": [
    "## 通过梯度下降求取w\n",
    "def GD(X,y,results=5):\n",
    "    \"\"\"\n",
    "    Args:\n",
    "        X (numpy.ndarray): 维度[N,d]\n",
    "        y (numpy.ndarray): 维度[N,]或[N,1]\n",
    "        results (int):打印results个数的结果\n",
    "    \"\"\"\n",
    "    N=X.shape[0]\n",
    "    d=X.shape[1]\n",
    "    y=y.reshape([N,1])\n",
    "    # init w\n",
    "    w=np.zeros([d,1])\n",
    "    # interate\n",
    "    learning_rate=0.1\n",
    "    epoch=1000\n",
    "    for i in range(epoch):\n",
    "        gradient=gradientE(X,y,w)\n",
    "        w=w-learning_rate*gradient\n",
    "        if i>epoch-results:\n",
    "            print(w)\n",
    "    return w\n",
    "    #np.dot(X,w)"
   ]
  },
  {
   "cell_type": "code",
   "execution_count": 66,
   "metadata": {
    "tags": []
   },
   "outputs": [
    {
     "output_type": "stream",
     "name": "stdout",
     "text": [
      "[[-2.35783634]\n [ 2.23300971]]\n[[-2.35783634]\n [ 2.23300971]]\n[[-2.35783634]\n [ 2.23300971]]\n[[-2.35783634]\n [ 2.23300971]]\n"
     ]
    },
    {
     "output_type": "execute_result",
     "data": {
      "text/plain": [
       "array([[-2.35783634],\n",
       "       [ 2.23300971]])"
      ]
     },
     "metadata": {},
     "execution_count": 66
    }
   ],
   "source": [
    "Xnp,Ynp=loadData()\n",
    "GD(Xnp,Ynp)"
   ]
  },
  {
   "source": [
    "## LMS\n",
    "编写一个名为LMSalg的函数，用它来实现Widrow-Hoff算法（LMS算法），即用随机梯度下降法获得最佳解。\n",
    "函数的输入/输出有：\n",
    "- （a）一个N*d维的矩阵X，它的第i行是第i个数据向量；\n",
    "- （b）一个N维列向量y，y的第i个元素包含了类（-1，1），并且该类与相应的向量相互对应；\n",
    "- （c）用向量w_ini初始化参数向量；并且返回估计参数向量。\n"
   ],
   "cell_type": "markdown",
   "metadata": {}
  },
  {
   "cell_type": "code",
   "execution_count": 11,
   "metadata": {},
   "outputs": [],
   "source": [
    "def LMSalg(X,y):\n",
    "    N=X.shape[0]\n",
    "    d=X.shape[1]\n",
    "    y=y.reshape([N,1])\n",
    "    # init w\n",
    "    w=np.zeros([d,1])\n",
    "    # interate\n",
    "    learning_rate=0.1\n",
    "    epoch=1000\n",
    "    for e in range(epoch):\n",
    "        for i in range(N):\n",
    "            Xi=X[i].reshape(1,d)\n",
    "            yi=y[i].reshape(1,1)\n",
    "            gradient=gradientE(Xi,yi,w)\n",
    "            w=w-learning_rate*gradient\n",
    "        if e>epoch-20:\n",
    "            print(w)"
   ]
  },
  {
   "source": [
    "### addBias\n",
    "为维数为[N,d]的向量X添加偏置向量"
   ],
   "cell_type": "markdown",
   "metadata": {}
  },
  {
   "cell_type": "code",
   "execution_count": 12,
   "metadata": {},
   "outputs": [],
   "source": [
    "def addBias(X):\n",
    "    N=X.shape[0]\n",
    "    d=X.shape[1]\n",
    "    bias_vector=np.ones([N,1])\n",
    "    return np.column_stack((bias_vector,X))"
   ]
  },
  {
   "cell_type": "code",
   "execution_count": 13,
   "metadata": {},
   "outputs": [
    {
     "output_type": "execute_result",
     "data": {
      "text/plain": [
       "array([[1., 0., 0.],\n",
       "       [1., 0., 0.]])"
      ]
     },
     "metadata": {},
     "execution_count": 13
    }
   ],
   "source": [
    "addBias(np.zeros([2,2]))"
   ]
  },
  {
   "source": [
    "## Test"
   ],
   "cell_type": "markdown",
   "metadata": {}
  },
  {
   "cell_type": "code",
   "execution_count": 14,
   "metadata": {},
   "outputs": [
    {
     "output_type": "stream",
     "name": "stdout",
     "text": [
      "[[-2.42316689]\n [ 2.17869869]]\n[[-2.42316689]\n [ 2.17869869]]\n[[-2.42316689]\n [ 2.17869869]]\n[[-2.42316689]\n [ 2.17869869]]\n[[-2.42316689]\n [ 2.17869869]]\n[[-2.42316689]\n [ 2.17869869]]\n[[-2.42316689]\n [ 2.17869869]]\n[[-2.42316689]\n [ 2.17869869]]\n[[-2.42316689]\n [ 2.17869869]]\n[[-2.42316689]\n [ 2.17869869]]\n[[-2.42316689]\n [ 2.17869869]]\n[[-2.42316689]\n [ 2.17869869]]\n[[-2.42316689]\n [ 2.17869869]]\n[[-2.42316689]\n [ 2.17869869]]\n[[-2.42316689]\n [ 2.17869869]]\n[[-2.42316689]\n [ 2.17869869]]\n[[-2.42316689]\n [ 2.17869869]]\n[[-2.42316689]\n [ 2.17869869]]\n[[-2.42316689]\n [ 2.17869869]]\n"
     ]
    }
   ],
   "source": [
    "LMSalg(Xnp,Ynp)"
   ]
  },
  {
   "cell_type": "code",
   "execution_count": 15,
   "metadata": {},
   "outputs": [
    {
     "output_type": "stream",
     "name": "stdout",
     "text": [
      "[[ 1.43121472]\n [-3.21802089]\n [ 0.24135172]]\n[[ 1.43121472]\n [-3.21802089]\n [ 0.24135172]]\n[[ 1.43121472]\n [-3.21802089]\n [ 0.24135171]]\n[[ 1.43121472]\n [-3.21802089]\n [ 0.24135171]]\n[[ 1.43121472]\n [-3.21802089]\n [ 0.24135171]]\n[[ 1.43121473]\n [-3.21802089]\n [ 0.24135171]]\n[[ 1.43121473]\n [-3.21802089]\n [ 0.24135171]]\n[[ 1.43121473]\n [-3.21802089]\n [ 0.2413517 ]]\n[[ 1.43121473]\n [-3.21802089]\n [ 0.2413517 ]]\n[[ 1.43121473]\n [-3.21802089]\n [ 0.2413517 ]]\n[[ 1.43121473]\n [-3.2180209 ]\n [ 0.2413517 ]]\n[[ 1.43121473]\n [-3.2180209 ]\n [ 0.24135169]]\n[[ 1.43121473]\n [-3.2180209 ]\n [ 0.24135169]]\n[[ 1.43121473]\n [-3.2180209 ]\n [ 0.24135169]]\n[[ 1.43121474]\n [-3.2180209 ]\n [ 0.24135169]]\n[[ 1.43121474]\n [-3.2180209 ]\n [ 0.24135169]]\n[[ 1.43121474]\n [-3.2180209 ]\n [ 0.24135169]]\n[[ 1.43121474]\n [-3.2180209 ]\n [ 0.24135168]]\n[[ 1.43121474]\n [-3.2180209 ]\n [ 0.24135168]]\n"
     ]
    }
   ],
   "source": [
    "SSerr3(addBias(Xnp),Ynp)"
   ]
  },
  {
   "cell_type": "code",
   "execution_count": 16,
   "metadata": {},
   "outputs": [
    {
     "output_type": "execute_result",
     "data": {
      "text/plain": [
       "array([ 1.4312148 , -3.21802092,  0.24135157])"
      ]
     },
     "metadata": {},
     "execution_count": 16
    }
   ],
   "source": [
    "SSerr(addBias(Xnp),Ynp)"
   ]
  },
  {
   "cell_type": "code",
   "execution_count": 18,
   "metadata": {},
   "outputs": [],
   "source": [
    "W=SSerr2(addBias(Xnp),Ynp)"
   ]
  },
  {
   "cell_type": "code",
   "execution_count": 20,
   "metadata": {},
   "outputs": [
    {
     "output_type": "execute_result",
     "data": {
      "text/plain": [
       "array([ 0.95655672,  0.538214  ,  0.26468222, -0.37892196,  1.20595334,\n",
       "        0.28881738, -0.45132743, -0.72485921, -0.99839099, -0.70072405])"
      ]
     },
     "metadata": {},
     "execution_count": 20
    }
   ],
   "source": [
    "np.dot(W,np.transpose(addBias(Xnp)))"
   ]
  },
  {
   "cell_type": "code",
   "execution_count": 21,
   "metadata": {},
   "outputs": [
    {
     "output_type": "execute_result",
     "data": {
      "text/plain": [
       "array([ 1.09153953, -0.03744799,  0.17337032, -0.29819695,  0.65742025,\n",
       "        0.39667129, -0.96809986, -0.75728155, -0.54646325, -0.53398058])"
      ]
     },
     "metadata": {},
     "execution_count": 21
    }
   ],
   "source": [
    "W=SSerr2((Xnp),Ynp)\n",
    "np.dot(W,np.transpose((Xnp)))"
   ]
  },
  {
   "cell_type": "code",
   "execution_count": 22,
   "metadata": {},
   "outputs": [
    {
     "output_type": "execute_result",
     "data": {
      "text/plain": [
       "array([-2.35783634,  2.23300971])"
      ]
     },
     "metadata": {},
     "execution_count": 22
    }
   ],
   "source": [
    "W"
   ]
  },
  {
   "source": [
    "### GenerateData\n",
    "根据传入参数mu，d，N生成 **N** 个二维向量的数据集s0 和s1  \n",
    "- 数据集s0 的样本来自均值向量 $m1=[mu,0]^{T}$ 的正态分布，并且协方差矩阵$S0=I$ 。\n",
    "- 数据集s1 的样本来自均值向量 $m2=[-mu,0]^{T}$ 的正态分布，并且协方差矩阵$S1=I$ 。\n",
    "其中 $I$是一个2*2的单位矩阵。\n"
   ],
   "cell_type": "markdown",
   "metadata": {}
  },
  {
   "cell_type": "code",
   "execution_count": 23,
   "metadata": {},
   "outputs": [],
   "source": [
    "def GenerateData(mu,d,N):\n",
    "    I=np.eye(d)\n",
    "    mu0=np.array([mu,0])\n",
    "    mu1=np.array([-mu,0])\n",
    "\n",
    "    s0=np.random.multivariate_normal(mu0,I,N)\n",
    "    s1=np.random.multivariate_normal(mu1,I,N)\n",
    "    X=np.zeros([2*N,d])\n",
    "    X[:N]=s0\n",
    "    X[N:]=s1\n",
    "    y=np.zeros(2*N)\n",
    "    y[:N]=1\n",
    "    y[N:]=-1\n",
    "    return X,y"
   ]
  },
  {
   "cell_type": "code",
   "execution_count": 27,
   "metadata": {},
   "outputs": [],
   "source": [
    "X,y=GenerateData(5,2,10)"
   ]
  },
  {
   "cell_type": "code",
   "execution_count": 28,
   "metadata": {},
   "outputs": [
    {
     "output_type": "stream",
     "name": "stdout",
     "text": [
      "[[ 1.00000000e+00  4.94714510e+00  6.22719763e-01]\n [ 1.00000000e+00  6.24644066e+00  7.54674037e-03]\n [ 1.00000000e+00  7.84700782e+00  2.25320679e-01]\n [ 1.00000000e+00  4.63187051e+00  8.87171106e-01]\n [ 1.00000000e+00  6.08046239e+00 -3.38857821e-01]\n [ 1.00000000e+00  5.46005226e+00 -2.53282890e-02]\n [ 1.00000000e+00  3.95475309e+00  9.18790546e-01]\n [ 1.00000000e+00  5.33834892e+00  4.81183162e-01]\n [ 1.00000000e+00  4.83274393e+00 -1.27112699e+00]\n [ 1.00000000e+00  6.53029696e+00  7.28387555e-01]\n [ 1.00000000e+00 -4.30129752e+00 -8.92782226e-01]\n [ 1.00000000e+00 -4.94243413e+00  7.34203466e-01]\n [ 1.00000000e+00 -3.37707739e+00  6.75066818e-01]\n [ 1.00000000e+00 -5.74487443e+00 -1.85648713e+00]\n [ 1.00000000e+00 -5.36169178e+00 -5.56830179e-01]\n [ 1.00000000e+00 -4.93705834e+00  1.54082578e-01]\n [ 1.00000000e+00 -6.33911837e+00  1.04608564e+00]\n [ 1.00000000e+00 -4.29405837e+00  2.58587865e-01]\n [ 1.00000000e+00 -5.89237503e+00  1.81151345e+00]\n [ 1.00000000e+00 -4.90608139e+00 -2.49879184e-01]]\n"
     ]
    }
   ],
   "source": [
    "print(addBias(X))"
   ]
  },
  {
   "cell_type": "code",
   "execution_count": 40,
   "metadata": {},
   "outputs": [
    {
     "output_type": "execute_result",
     "data": {
      "text/plain": [
       "array([ 0.86145914,  1.08434649,  1.38176839,  0.81007348,  1.04591848,\n",
       "        0.93995386,  0.6871484 ,  0.92959142,  0.79620241,  1.15307432,\n",
       "       -0.86313632, -0.94211888, -0.65761424, -1.1493595 , -1.04893248,\n",
       "       -0.95472629, -1.18989741, -0.83484357, -1.09037616, -0.95853152])"
      ]
     },
     "metadata": {},
     "execution_count": 40
    }
   ],
   "source": [
    "W=SSerr2(addBias(X),y)\n",
    "np.dot(W,np.transpose(addBias(X)))"
   ]
  },
  {
   "cell_type": "code",
   "execution_count": 41,
   "metadata": {},
   "outputs": [
    {
     "output_type": "execute_result",
     "data": {
      "text/plain": [
       "[<matplotlib.lines.Line2D at 0x2090ec4c988>]"
      ]
     },
     "metadata": {},
     "execution_count": 41
    },
    {
     "output_type": "display_data",
     "data": {
      "text/plain": "<Figure size 432x288 with 1 Axes>",
      "image/svg+xml": "<?xml version=\"1.0\" encoding=\"utf-8\" standalone=\"no\"?>\r\n<!DOCTYPE svg PUBLIC \"-//W3C//DTD SVG 1.1//EN\"\r\n  \"http://www.w3.org/Graphics/SVG/1.1/DTD/svg11.dtd\">\r\n<!-- Created with matplotlib (https://matplotlib.org/) -->\r\n<svg height=\"251.727899pt\" version=\"1.1\" viewBox=\"0 0 380.482813 251.727899\" width=\"380.482813pt\" xmlns=\"http://www.w3.org/2000/svg\" xmlns:xlink=\"http://www.w3.org/1999/xlink\">\r\n <defs>\r\n  <style type=\"text/css\">\r\n*{stroke-linecap:butt;stroke-linejoin:round;}\r\n  </style>\r\n </defs>\r\n <g id=\"figure_1\">\r\n  <g id=\"patch_1\">\r\n   <path d=\"M -0 251.727899 \r\nL 380.482813 251.727899 \r\nL 380.482813 0 \r\nL -0 0 \r\nz\r\n\" style=\"fill:none;\"/>\r\n  </g>\r\n  <g id=\"axes_1\">\r\n   <g id=\"patch_2\">\r\n    <path d=\"M 38.482813 227.849774 \r\nL 373.282813 227.849774 \r\nL 373.282813 10.409774 \r\nL 38.482813 10.409774 \r\nz\r\n\" style=\"fill:#ffffff;\"/>\r\n   </g>\r\n   <g id=\"PathCollection_1\">\r\n    <defs>\r\n     <path d=\"M 0 2.236068 \r\nC 0.593012 2.236068 1.161816 2.000462 1.581139 1.581139 \r\nC 2.000462 1.161816 2.236068 0.593012 2.236068 0 \r\nC 2.236068 -0.593012 2.000462 -1.161816 1.581139 -1.581139 \r\nC 1.161816 -2.000462 0.593012 -2.236068 0 -2.236068 \r\nC -0.593012 -2.236068 -1.161816 -2.000462 -1.581139 -1.581139 \r\nC -2.000462 -1.161816 -2.236068 -0.593012 -2.236068 0 \r\nC -2.236068 0.593012 -2.000462 1.161816 -1.581139 1.581139 \r\nC -1.161816 2.000462 -0.593012 2.236068 0 2.236068 \r\nz\r\n\" id=\"C0_0_30a71373f5\"/>\r\n    </defs>\r\n    <g clip-path=\"url(#pe18bfec268)\">\r\n     <use style=\"fill:#5e4fa2;stroke:#5e4fa2;\" x=\"295.763384\" xlink:href=\"#C0_0_30a71373f5\" y=\"84.717436\"/>\r\n    </g>\r\n    <g clip-path=\"url(#pe18bfec268)\">\r\n     <use style=\"fill:#5e4fa2;stroke:#5e4fa2;\" x=\"323.613573\" xlink:href=\"#C0_0_30a71373f5\" y=\"117.644257\"/>\r\n    </g>\r\n    <g clip-path=\"url(#pe18bfec268)\">\r\n     <use style=\"fill:#5e4fa2;stroke:#5e4fa2;\" x=\"357.921471\" xlink:href=\"#C0_0_30a71373f5\" y=\"105.988018\"/>\r\n    </g>\r\n    <g clip-path=\"url(#pe18bfec268)\">\r\n     <use style=\"fill:#5e4fa2;stroke:#5e4fa2;\" x=\"289.005524\" xlink:href=\"#C0_0_30a71373f5\" y=\"70.562814\"/>\r\n    </g>\r\n    <g clip-path=\"url(#pe18bfec268)\">\r\n     <use style=\"fill:#5e4fa2;stroke:#5e4fa2;\" x=\"320.055856\" xlink:href=\"#C0_0_30a71373f5\" y=\"136.185383\"/>\r\n    </g>\r\n    <g clip-path=\"url(#pe18bfec268)\">\r\n     <use style=\"fill:#5e4fa2;stroke:#5e4fa2;\" x=\"306.757465\" xlink:href=\"#C0_0_30a71373f5\" y=\"119.403876\"/>\r\n    </g>\r\n    <g clip-path=\"url(#pe18bfec268)\">\r\n     <use style=\"fill:#5e4fa2;stroke:#5e4fa2;\" x=\"274.491621\" xlink:href=\"#C0_0_30a71373f5\" y=\"68.8704\"/>\r\n    </g>\r\n    <g clip-path=\"url(#pe18bfec268)\">\r\n     <use style=\"fill:#5e4fa2;stroke:#5e4fa2;\" x=\"304.148774\" xlink:href=\"#C0_0_30a71373f5\" y=\"92.29311\"/>\r\n    </g>\r\n    <g clip-path=\"url(#pe18bfec268)\">\r\n     <use style=\"fill:#5e4fa2;stroke:#5e4fa2;\" x=\"293.311213\" xlink:href=\"#C0_0_30a71373f5\" y=\"186.084611\"/>\r\n    </g>\r\n    <g clip-path=\"url(#pe18bfec268)\">\r\n     <use style=\"fill:#5e4fa2;stroke:#5e4fa2;\" x=\"329.697987\" xlink:href=\"#C0_0_30a71373f5\" y=\"79.061622\"/>\r\n    </g>\r\n    <g clip-path=\"url(#pe18bfec268)\">\r\n     <use style=\"fill:#9e0142;stroke:#9e0142;\" x=\"97.524514\" xlink:href=\"#C0_0_30a71373f5\" y=\"165.833902\"/>\r\n    </g>\r\n    <g clip-path=\"url(#pe18bfec268)\">\r\n     <use style=\"fill:#9e0142;stroke:#9e0142;\" x=\"83.781854\" xlink:href=\"#C0_0_30a71373f5\" y=\"78.750328\"/>\r\n    </g>\r\n    <g clip-path=\"url(#pe18bfec268)\">\r\n     <use style=\"fill:#9e0142;stroke:#9e0142;\" x=\"117.335022\" xlink:href=\"#C0_0_30a71373f5\" y=\"81.915587\"/>\r\n    </g>\r\n    <g clip-path=\"url(#pe18bfec268)\">\r\n     <use style=\"fill:#9e0142;stroke:#9e0142;\" x=\"66.581676\" xlink:href=\"#C0_0_30a71373f5\" y=\"217.415713\"/>\r\n    </g>\r\n    <g clip-path=\"url(#pe18bfec268)\">\r\n     <use style=\"fill:#9e0142;stroke:#9e0142;\" x=\"74.795134\" xlink:href=\"#C0_0_30a71373f5\" y=\"147.852241\"/>\r\n    </g>\r\n    <g clip-path=\"url(#pe18bfec268)\">\r\n     <use style=\"fill:#9e0142;stroke:#9e0142;\" x=\"83.897083\" xlink:href=\"#C0_0_30a71373f5\" y=\"109.801001\"/>\r\n    </g>\r\n    <g clip-path=\"url(#pe18bfec268)\">\r\n     <use style=\"fill:#9e0142;stroke:#9e0142;\" x=\"53.844154\" xlink:href=\"#C0_0_30a71373f5\" y=\"62.056995\"/>\r\n    </g>\r\n    <g clip-path=\"url(#pe18bfec268)\">\r\n     <use style=\"fill:#9e0142;stroke:#9e0142;\" x=\"97.679684\" xlink:href=\"#C0_0_30a71373f5\" y=\"104.207409\"/>\r\n    </g>\r\n    <g clip-path=\"url(#pe18bfec268)\">\r\n     <use style=\"fill:#9e0142;stroke:#9e0142;\" x=\"63.420025\" xlink:href=\"#C0_0_30a71373f5\" y=\"21.087865\"/>\r\n    </g>\r\n    <g clip-path=\"url(#pe18bfec268)\">\r\n     <use style=\"fill:#9e0142;stroke:#9e0142;\" x=\"84.561069\" xlink:href=\"#C0_0_30a71373f5\" y=\"131.422847\"/>\r\n    </g>\r\n   </g>\r\n   <g id=\"matplotlib.axis_1\">\r\n    <g id=\"xtick_1\">\r\n     <g id=\"line2d_1\">\r\n      <defs>\r\n       <path d=\"M 0 0 \r\nL 0 3.5 \r\n\" id=\"ma129893c0d\" style=\"stroke:#000000;stroke-width:0.8;\"/>\r\n      </defs>\r\n      <g>\r\n       <use style=\"stroke:#000000;stroke-width:0.8;\" x=\"61.113101\" xlink:href=\"#ma129893c0d\" y=\"227.849774\"/>\r\n      </g>\r\n     </g>\r\n     <g id=\"text_1\">\r\n      <!-- −6 -->\r\n      <defs>\r\n       <path d=\"M 10.59375 35.5 \r\nL 73.1875 35.5 \r\nL 73.1875 27.203125 \r\nL 10.59375 27.203125 \r\nz\r\n\" id=\"DejaVuSans-8722\"/>\r\n       <path d=\"M 33.015625 40.375 \r\nQ 26.375 40.375 22.484375 35.828125 \r\nQ 18.609375 31.296875 18.609375 23.390625 \r\nQ 18.609375 15.53125 22.484375 10.953125 \r\nQ 26.375 6.390625 33.015625 6.390625 \r\nQ 39.65625 6.390625 43.53125 10.953125 \r\nQ 47.40625 15.53125 47.40625 23.390625 \r\nQ 47.40625 31.296875 43.53125 35.828125 \r\nQ 39.65625 40.375 33.015625 40.375 \r\nz\r\nM 52.59375 71.296875 \r\nL 52.59375 62.3125 \r\nQ 48.875 64.0625 45.09375 64.984375 \r\nQ 41.3125 65.921875 37.59375 65.921875 \r\nQ 27.828125 65.921875 22.671875 59.328125 \r\nQ 17.53125 52.734375 16.796875 39.40625 \r\nQ 19.671875 43.65625 24.015625 45.921875 \r\nQ 28.375 48.1875 33.59375 48.1875 \r\nQ 44.578125 48.1875 50.953125 41.515625 \r\nQ 57.328125 34.859375 57.328125 23.390625 \r\nQ 57.328125 12.15625 50.6875 5.359375 \r\nQ 44.046875 -1.421875 33.015625 -1.421875 \r\nQ 20.359375 -1.421875 13.671875 8.265625 \r\nQ 6.984375 17.96875 6.984375 36.375 \r\nQ 6.984375 53.65625 15.1875 63.9375 \r\nQ 23.390625 74.21875 37.203125 74.21875 \r\nQ 40.921875 74.21875 44.703125 73.484375 \r\nQ 48.484375 72.75 52.59375 71.296875 \r\nz\r\n\" id=\"DejaVuSans-54\"/>\r\n      </defs>\r\n      <g transform=\"translate(53.742007 242.448211)scale(0.1 -0.1)\">\r\n       <use xlink:href=\"#DejaVuSans-8722\"/>\r\n       <use x=\"83.789062\" xlink:href=\"#DejaVuSans-54\"/>\r\n      </g>\r\n     </g>\r\n    </g>\r\n    <g id=\"xtick_2\">\r\n     <g id=\"line2d_2\">\r\n      <g>\r\n       <use style=\"stroke:#000000;stroke-width:0.8;\" x=\"103.982777\" xlink:href=\"#ma129893c0d\" y=\"227.849774\"/>\r\n      </g>\r\n     </g>\r\n     <g id=\"text_2\">\r\n      <!-- −4 -->\r\n      <defs>\r\n       <path d=\"M 37.796875 64.3125 \r\nL 12.890625 25.390625 \r\nL 37.796875 25.390625 \r\nz\r\nM 35.203125 72.90625 \r\nL 47.609375 72.90625 \r\nL 47.609375 25.390625 \r\nL 58.015625 25.390625 \r\nL 58.015625 17.1875 \r\nL 47.609375 17.1875 \r\nL 47.609375 0 \r\nL 37.796875 0 \r\nL 37.796875 17.1875 \r\nL 4.890625 17.1875 \r\nL 4.890625 26.703125 \r\nz\r\n\" id=\"DejaVuSans-52\"/>\r\n      </defs>\r\n      <g transform=\"translate(96.611683 242.448211)scale(0.1 -0.1)\">\r\n       <use xlink:href=\"#DejaVuSans-8722\"/>\r\n       <use x=\"83.789062\" xlink:href=\"#DejaVuSans-52\"/>\r\n      </g>\r\n     </g>\r\n    </g>\r\n    <g id=\"xtick_3\">\r\n     <g id=\"line2d_3\">\r\n      <g>\r\n       <use style=\"stroke:#000000;stroke-width:0.8;\" x=\"146.852453\" xlink:href=\"#ma129893c0d\" y=\"227.849774\"/>\r\n      </g>\r\n     </g>\r\n     <g id=\"text_3\">\r\n      <!-- −2 -->\r\n      <defs>\r\n       <path d=\"M 19.1875 8.296875 \r\nL 53.609375 8.296875 \r\nL 53.609375 0 \r\nL 7.328125 0 \r\nL 7.328125 8.296875 \r\nQ 12.9375 14.109375 22.625 23.890625 \r\nQ 32.328125 33.6875 34.8125 36.53125 \r\nQ 39.546875 41.84375 41.421875 45.53125 \r\nQ 43.3125 49.21875 43.3125 52.78125 \r\nQ 43.3125 58.59375 39.234375 62.25 \r\nQ 35.15625 65.921875 28.609375 65.921875 \r\nQ 23.96875 65.921875 18.8125 64.3125 \r\nQ 13.671875 62.703125 7.8125 59.421875 \r\nL 7.8125 69.390625 \r\nQ 13.765625 71.78125 18.9375 73 \r\nQ 24.125 74.21875 28.421875 74.21875 \r\nQ 39.75 74.21875 46.484375 68.546875 \r\nQ 53.21875 62.890625 53.21875 53.421875 \r\nQ 53.21875 48.921875 51.53125 44.890625 \r\nQ 49.859375 40.875 45.40625 35.40625 \r\nQ 44.1875 33.984375 37.640625 27.21875 \r\nQ 31.109375 20.453125 19.1875 8.296875 \r\nz\r\n\" id=\"DejaVuSans-50\"/>\r\n      </defs>\r\n      <g transform=\"translate(139.48136 242.448211)scale(0.1 -0.1)\">\r\n       <use xlink:href=\"#DejaVuSans-8722\"/>\r\n       <use x=\"83.789062\" xlink:href=\"#DejaVuSans-50\"/>\r\n      </g>\r\n     </g>\r\n    </g>\r\n    <g id=\"xtick_4\">\r\n     <g id=\"line2d_4\">\r\n      <g>\r\n       <use style=\"stroke:#000000;stroke-width:0.8;\" x=\"189.722129\" xlink:href=\"#ma129893c0d\" y=\"227.849774\"/>\r\n      </g>\r\n     </g>\r\n     <g id=\"text_4\">\r\n      <!-- 0 -->\r\n      <defs>\r\n       <path d=\"M 31.78125 66.40625 \r\nQ 24.171875 66.40625 20.328125 58.90625 \r\nQ 16.5 51.421875 16.5 36.375 \r\nQ 16.5 21.390625 20.328125 13.890625 \r\nQ 24.171875 6.390625 31.78125 6.390625 \r\nQ 39.453125 6.390625 43.28125 13.890625 \r\nQ 47.125 21.390625 47.125 36.375 \r\nQ 47.125 51.421875 43.28125 58.90625 \r\nQ 39.453125 66.40625 31.78125 66.40625 \r\nz\r\nM 31.78125 74.21875 \r\nQ 44.046875 74.21875 50.515625 64.515625 \r\nQ 56.984375 54.828125 56.984375 36.375 \r\nQ 56.984375 17.96875 50.515625 8.265625 \r\nQ 44.046875 -1.421875 31.78125 -1.421875 \r\nQ 19.53125 -1.421875 13.0625 8.265625 \r\nQ 6.59375 17.96875 6.59375 36.375 \r\nQ 6.59375 54.828125 13.0625 64.515625 \r\nQ 19.53125 74.21875 31.78125 74.21875 \r\nz\r\n\" id=\"DejaVuSans-48\"/>\r\n      </defs>\r\n      <g transform=\"translate(186.540879 242.448211)scale(0.1 -0.1)\">\r\n       <use xlink:href=\"#DejaVuSans-48\"/>\r\n      </g>\r\n     </g>\r\n    </g>\r\n    <g id=\"xtick_5\">\r\n     <g id=\"line2d_5\">\r\n      <g>\r\n       <use style=\"stroke:#000000;stroke-width:0.8;\" x=\"232.591806\" xlink:href=\"#ma129893c0d\" y=\"227.849774\"/>\r\n      </g>\r\n     </g>\r\n     <g id=\"text_5\">\r\n      <!-- 2 -->\r\n      <g transform=\"translate(229.410556 242.448211)scale(0.1 -0.1)\">\r\n       <use xlink:href=\"#DejaVuSans-50\"/>\r\n      </g>\r\n     </g>\r\n    </g>\r\n    <g id=\"xtick_6\">\r\n     <g id=\"line2d_6\">\r\n      <g>\r\n       <use style=\"stroke:#000000;stroke-width:0.8;\" x=\"275.461482\" xlink:href=\"#ma129893c0d\" y=\"227.849774\"/>\r\n      </g>\r\n     </g>\r\n     <g id=\"text_6\">\r\n      <!-- 4 -->\r\n      <g transform=\"translate(272.280232 242.448211)scale(0.1 -0.1)\">\r\n       <use xlink:href=\"#DejaVuSans-52\"/>\r\n      </g>\r\n     </g>\r\n    </g>\r\n    <g id=\"xtick_7\">\r\n     <g id=\"line2d_7\">\r\n      <g>\r\n       <use style=\"stroke:#000000;stroke-width:0.8;\" x=\"318.331158\" xlink:href=\"#ma129893c0d\" y=\"227.849774\"/>\r\n      </g>\r\n     </g>\r\n     <g id=\"text_7\">\r\n      <!-- 6 -->\r\n      <g transform=\"translate(315.149908 242.448211)scale(0.1 -0.1)\">\r\n       <use xlink:href=\"#DejaVuSans-54\"/>\r\n      </g>\r\n     </g>\r\n    </g>\r\n    <g id=\"xtick_8\">\r\n     <g id=\"line2d_8\">\r\n      <g>\r\n       <use style=\"stroke:#000000;stroke-width:0.8;\" x=\"361.200834\" xlink:href=\"#ma129893c0d\" y=\"227.849774\"/>\r\n      </g>\r\n     </g>\r\n     <g id=\"text_8\">\r\n      <!-- 8 -->\r\n      <defs>\r\n       <path d=\"M 31.78125 34.625 \r\nQ 24.75 34.625 20.71875 30.859375 \r\nQ 16.703125 27.09375 16.703125 20.515625 \r\nQ 16.703125 13.921875 20.71875 10.15625 \r\nQ 24.75 6.390625 31.78125 6.390625 \r\nQ 38.8125 6.390625 42.859375 10.171875 \r\nQ 46.921875 13.96875 46.921875 20.515625 \r\nQ 46.921875 27.09375 42.890625 30.859375 \r\nQ 38.875 34.625 31.78125 34.625 \r\nz\r\nM 21.921875 38.8125 \r\nQ 15.578125 40.375 12.03125 44.71875 \r\nQ 8.5 49.078125 8.5 55.328125 \r\nQ 8.5 64.0625 14.71875 69.140625 \r\nQ 20.953125 74.21875 31.78125 74.21875 \r\nQ 42.671875 74.21875 48.875 69.140625 \r\nQ 55.078125 64.0625 55.078125 55.328125 \r\nQ 55.078125 49.078125 51.53125 44.71875 \r\nQ 48 40.375 41.703125 38.8125 \r\nQ 48.828125 37.15625 52.796875 32.3125 \r\nQ 56.78125 27.484375 56.78125 20.515625 \r\nQ 56.78125 9.90625 50.3125 4.234375 \r\nQ 43.84375 -1.421875 31.78125 -1.421875 \r\nQ 19.734375 -1.421875 13.25 4.234375 \r\nQ 6.78125 9.90625 6.78125 20.515625 \r\nQ 6.78125 27.484375 10.78125 32.3125 \r\nQ 14.796875 37.15625 21.921875 38.8125 \r\nz\r\nM 18.3125 54.390625 \r\nQ 18.3125 48.734375 21.84375 45.5625 \r\nQ 25.390625 42.390625 31.78125 42.390625 \r\nQ 38.140625 42.390625 41.71875 45.5625 \r\nQ 45.3125 48.734375 45.3125 54.390625 \r\nQ 45.3125 60.0625 41.71875 63.234375 \r\nQ 38.140625 66.40625 31.78125 66.40625 \r\nQ 25.390625 66.40625 21.84375 63.234375 \r\nQ 18.3125 60.0625 18.3125 54.390625 \r\nz\r\n\" id=\"DejaVuSans-56\"/>\r\n      </defs>\r\n      <g transform=\"translate(358.019584 242.448211)scale(0.1 -0.1)\">\r\n       <use xlink:href=\"#DejaVuSans-56\"/>\r\n      </g>\r\n     </g>\r\n    </g>\r\n   </g>\r\n   <g id=\"matplotlib.axis_2\">\r\n    <g id=\"ytick_1\">\r\n     <g id=\"line2d_9\">\r\n      <defs>\r\n       <path d=\"M 0 0 \r\nL -3.5 0 \r\n\" id=\"m324877f3da\" style=\"stroke:#000000;stroke-width:0.8;\"/>\r\n      </defs>\r\n      <g>\r\n       <use style=\"stroke:#000000;stroke-width:0.8;\" x=\"38.482813\" xlink:href=\"#m324877f3da\" y=\"225.097165\"/>\r\n      </g>\r\n     </g>\r\n     <g id=\"text_9\">\r\n      <!-- −2.0 -->\r\n      <defs>\r\n       <path d=\"M 10.6875 12.40625 \r\nL 21 12.40625 \r\nL 21 0 \r\nL 10.6875 0 \r\nz\r\n\" id=\"DejaVuSans-46\"/>\r\n      </defs>\r\n      <g transform=\"translate(7.2 228.896384)scale(0.1 -0.1)\">\r\n       <use xlink:href=\"#DejaVuSans-8722\"/>\r\n       <use x=\"83.789062\" xlink:href=\"#DejaVuSans-50\"/>\r\n       <use x=\"147.412109\" xlink:href=\"#DejaVuSans-46\"/>\r\n       <use x=\"179.199219\" xlink:href=\"#DejaVuSans-48\"/>\r\n      </g>\r\n     </g>\r\n    </g>\r\n    <g id=\"ytick_2\">\r\n     <g id=\"line2d_10\">\r\n      <g>\r\n       <use style=\"stroke:#000000;stroke-width:0.8;\" x=\"38.482813\" xlink:href=\"#m324877f3da\" y=\"198.334922\"/>\r\n      </g>\r\n     </g>\r\n     <g id=\"text_10\">\r\n      <!-- −1.5 -->\r\n      <defs>\r\n       <path d=\"M 12.40625 8.296875 \r\nL 28.515625 8.296875 \r\nL 28.515625 63.921875 \r\nL 10.984375 60.40625 \r\nL 10.984375 69.390625 \r\nL 28.421875 72.90625 \r\nL 38.28125 72.90625 \r\nL 38.28125 8.296875 \r\nL 54.390625 8.296875 \r\nL 54.390625 0 \r\nL 12.40625 0 \r\nz\r\n\" id=\"DejaVuSans-49\"/>\r\n       <path d=\"M 10.796875 72.90625 \r\nL 49.515625 72.90625 \r\nL 49.515625 64.59375 \r\nL 19.828125 64.59375 \r\nL 19.828125 46.734375 \r\nQ 21.96875 47.46875 24.109375 47.828125 \r\nQ 26.265625 48.1875 28.421875 48.1875 \r\nQ 40.625 48.1875 47.75 41.5 \r\nQ 54.890625 34.8125 54.890625 23.390625 \r\nQ 54.890625 11.625 47.5625 5.09375 \r\nQ 40.234375 -1.421875 26.90625 -1.421875 \r\nQ 22.3125 -1.421875 17.546875 -0.640625 \r\nQ 12.796875 0.140625 7.71875 1.703125 \r\nL 7.71875 11.625 \r\nQ 12.109375 9.234375 16.796875 8.0625 \r\nQ 21.484375 6.890625 26.703125 6.890625 \r\nQ 35.15625 6.890625 40.078125 11.328125 \r\nQ 45.015625 15.765625 45.015625 23.390625 \r\nQ 45.015625 31 40.078125 35.4375 \r\nQ 35.15625 39.890625 26.703125 39.890625 \r\nQ 22.75 39.890625 18.8125 39.015625 \r\nQ 14.890625 38.140625 10.796875 36.28125 \r\nz\r\n\" id=\"DejaVuSans-53\"/>\r\n      </defs>\r\n      <g transform=\"translate(7.2 202.134141)scale(0.1 -0.1)\">\r\n       <use xlink:href=\"#DejaVuSans-8722\"/>\r\n       <use x=\"83.789062\" xlink:href=\"#DejaVuSans-49\"/>\r\n       <use x=\"147.412109\" xlink:href=\"#DejaVuSans-46\"/>\r\n       <use x=\"179.199219\" xlink:href=\"#DejaVuSans-53\"/>\r\n      </g>\r\n     </g>\r\n    </g>\r\n    <g id=\"ytick_3\">\r\n     <g id=\"line2d_11\">\r\n      <g>\r\n       <use style=\"stroke:#000000;stroke-width:0.8;\" x=\"38.482813\" xlink:href=\"#m324877f3da\" y=\"171.572679\"/>\r\n      </g>\r\n     </g>\r\n     <g id=\"text_11\">\r\n      <!-- −1.0 -->\r\n      <g transform=\"translate(7.2 175.371897)scale(0.1 -0.1)\">\r\n       <use xlink:href=\"#DejaVuSans-8722\"/>\r\n       <use x=\"83.789062\" xlink:href=\"#DejaVuSans-49\"/>\r\n       <use x=\"147.412109\" xlink:href=\"#DejaVuSans-46\"/>\r\n       <use x=\"179.199219\" xlink:href=\"#DejaVuSans-48\"/>\r\n      </g>\r\n     </g>\r\n    </g>\r\n    <g id=\"ytick_4\">\r\n     <g id=\"line2d_12\">\r\n      <g>\r\n       <use style=\"stroke:#000000;stroke-width:0.8;\" x=\"38.482813\" xlink:href=\"#m324877f3da\" y=\"144.810435\"/>\r\n      </g>\r\n     </g>\r\n     <g id=\"text_12\">\r\n      <!-- −0.5 -->\r\n      <g transform=\"translate(7.2 148.609654)scale(0.1 -0.1)\">\r\n       <use xlink:href=\"#DejaVuSans-8722\"/>\r\n       <use x=\"83.789062\" xlink:href=\"#DejaVuSans-48\"/>\r\n       <use x=\"147.412109\" xlink:href=\"#DejaVuSans-46\"/>\r\n       <use x=\"179.199219\" xlink:href=\"#DejaVuSans-53\"/>\r\n      </g>\r\n     </g>\r\n    </g>\r\n    <g id=\"ytick_5\">\r\n     <g id=\"line2d_13\">\r\n      <g>\r\n       <use style=\"stroke:#000000;stroke-width:0.8;\" x=\"38.482813\" xlink:href=\"#m324877f3da\" y=\"118.048192\"/>\r\n      </g>\r\n     </g>\r\n     <g id=\"text_13\">\r\n      <!-- 0.0 -->\r\n      <g transform=\"translate(15.579688 121.847411)scale(0.1 -0.1)\">\r\n       <use xlink:href=\"#DejaVuSans-48\"/>\r\n       <use x=\"63.623047\" xlink:href=\"#DejaVuSans-46\"/>\r\n       <use x=\"95.410156\" xlink:href=\"#DejaVuSans-48\"/>\r\n      </g>\r\n     </g>\r\n    </g>\r\n    <g id=\"ytick_6\">\r\n     <g id=\"line2d_14\">\r\n      <g>\r\n       <use style=\"stroke:#000000;stroke-width:0.8;\" x=\"38.482813\" xlink:href=\"#m324877f3da\" y=\"91.285949\"/>\r\n      </g>\r\n     </g>\r\n     <g id=\"text_14\">\r\n      <!-- 0.5 -->\r\n      <g transform=\"translate(15.579688 95.085167)scale(0.1 -0.1)\">\r\n       <use xlink:href=\"#DejaVuSans-48\"/>\r\n       <use x=\"63.623047\" xlink:href=\"#DejaVuSans-46\"/>\r\n       <use x=\"95.410156\" xlink:href=\"#DejaVuSans-53\"/>\r\n      </g>\r\n     </g>\r\n    </g>\r\n    <g id=\"ytick_7\">\r\n     <g id=\"line2d_15\">\r\n      <g>\r\n       <use style=\"stroke:#000000;stroke-width:0.8;\" x=\"38.482813\" xlink:href=\"#m324877f3da\" y=\"64.523705\"/>\r\n      </g>\r\n     </g>\r\n     <g id=\"text_15\">\r\n      <!-- 1.0 -->\r\n      <g transform=\"translate(15.579688 68.322924)scale(0.1 -0.1)\">\r\n       <use xlink:href=\"#DejaVuSans-49\"/>\r\n       <use x=\"63.623047\" xlink:href=\"#DejaVuSans-46\"/>\r\n       <use x=\"95.410156\" xlink:href=\"#DejaVuSans-48\"/>\r\n      </g>\r\n     </g>\r\n    </g>\r\n    <g id=\"ytick_8\">\r\n     <g id=\"line2d_16\">\r\n      <g>\r\n       <use style=\"stroke:#000000;stroke-width:0.8;\" x=\"38.482813\" xlink:href=\"#m324877f3da\" y=\"37.761462\"/>\r\n      </g>\r\n     </g>\r\n     <g id=\"text_16\">\r\n      <!-- 1.5 -->\r\n      <g transform=\"translate(15.579688 41.560681)scale(0.1 -0.1)\">\r\n       <use xlink:href=\"#DejaVuSans-49\"/>\r\n       <use x=\"63.623047\" xlink:href=\"#DejaVuSans-46\"/>\r\n       <use x=\"95.410156\" xlink:href=\"#DejaVuSans-53\"/>\r\n      </g>\r\n     </g>\r\n    </g>\r\n    <g id=\"ytick_9\">\r\n     <g id=\"line2d_17\">\r\n      <g>\r\n       <use style=\"stroke:#000000;stroke-width:0.8;\" x=\"38.482813\" xlink:href=\"#m324877f3da\" y=\"10.999219\"/>\r\n      </g>\r\n     </g>\r\n     <g id=\"text_17\">\r\n      <!-- 2.0 -->\r\n      <g transform=\"translate(15.579688 14.798438)scale(0.1 -0.1)\">\r\n       <use xlink:href=\"#DejaVuSans-50\"/>\r\n       <use x=\"63.623047\" xlink:href=\"#DejaVuSans-46\"/>\r\n       <use x=\"95.410156\" xlink:href=\"#DejaVuSans-48\"/>\r\n      </g>\r\n     </g>\r\n    </g>\r\n   </g>\r\n   <g id=\"line2d_18\">\r\n    <path clip-path=\"url(#pe18bfec268)\" d=\"M 184.70106 215.802974 \r\nL 194.743199 20.29341 \r\n\" style=\"fill:none;stroke:#1f77b4;stroke-linecap:square;stroke-width:1.5;\"/>\r\n   </g>\r\n   <g id=\"patch_3\">\r\n    <path d=\"M 38.482813 227.849774 \r\nL 38.482813 10.409774 \r\n\" style=\"fill:none;stroke:#000000;stroke-linecap:square;stroke-linejoin:miter;stroke-width:0.8;\"/>\r\n   </g>\r\n   <g id=\"patch_4\">\r\n    <path d=\"M 373.282813 227.849774 \r\nL 373.282813 10.409774 \r\n\" style=\"fill:none;stroke:#000000;stroke-linecap:square;stroke-linejoin:miter;stroke-width:0.8;\"/>\r\n   </g>\r\n   <g id=\"patch_5\">\r\n    <path d=\"M 38.482812 227.849774 \r\nL 373.282813 227.849774 \r\n\" style=\"fill:none;stroke:#000000;stroke-linecap:square;stroke-linejoin:miter;stroke-width:0.8;\"/>\r\n   </g>\r\n   <g id=\"patch_6\">\r\n    <path d=\"M 38.482812 10.409774 \r\nL 373.282813 10.409774 \r\n\" style=\"fill:none;stroke:#000000;stroke-linecap:square;stroke-linejoin:miter;stroke-width:0.8;\"/>\r\n   </g>\r\n  </g>\r\n </g>\r\n <defs>\r\n  <clipPath id=\"pe18bfec268\">\r\n   <rect height=\"217.44\" width=\"334.8\" x=\"38.482813\" y=\"10.409774\"/>\r\n  </clipPath>\r\n </defs>\r\n</svg>\r\n",
      "image/png": "[encoded data removed]"
     },
     "metadata": {
      "needs_background": "light"
     }
    }
   ],
   "source": [
    "wTr=W[1:].reshape(1,2)\n",
    "plt.scatter(X[:,0],X[:,1],c=y.transpose(),marker = 'o', s=20, cmap = plt.cm.Spectral)\n",
    "scale=10\n",
    "plt.plot([-wTr[0][1]*scale,wTr[0][1]*scale],[-wTr[0][0]*scale,wTr[0][0]*scale],'-')"
   ]
  },
  {
   "cell_type": "code",
   "execution_count": 35,
   "metadata": {},
   "outputs": [
    {
     "output_type": "execute_result",
     "data": {
      "text/plain": [
       "array([[0.18218905, 0.01058569]])"
      ]
     },
     "metadata": {},
     "execution_count": 35
    }
   ],
   "source": [
    "W.reshape(1,2)"
   ]
  },
  {
   "cell_type": "code",
   "execution_count": null,
   "metadata": {},
   "outputs": [],
   "source": []
  }
 ]
}