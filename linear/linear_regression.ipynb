{
 "metadata": {
  "language_info": {
   "codemirror_mode": {
    "name": "ipython",
    "version": 3
   },
   "file_extension": ".py",
   "mimetype": "text/x-python",
   "name": "python",
   "nbconvert_exporter": "python",
   "pygments_lexer": "ipython3",
   "version": "3.7.4-final"
  },
  "orig_nbformat": 2,
  "kernelspec": {
   "name": "python3",
   "display_name": "Python 3.7.4 64-bit",
   "metadata": {
    "interpreter": {
     "hash": "3f857618d8b6a3d270a8a45aea13fd0dc2a28a907e8d4ef70fe87ce2a92698f8"
    }
   }
  }
 },
 "nbformat": 4,
 "nbformat_minor": 2,
 "cells": [
  {
   "cell_type": "code",
   "execution_count": 3,
   "metadata": {},
   "outputs": [],
   "source": [
    "import numpy as np\n",
    "import matplotlib.pyplot as plt"
   ]
  },
  {
   "source": [
    "## SSerr\n",
    "求解最小误差平方和的最佳解（Linear Regression Algorithm），并完成二元分类。\n",
    "- 函数的输入有：   \n",
    "    （a）一个N*d维的矩阵X，它的第i行是第i个数据向量；    \n",
    "    （b）一个N维列向量y，y的第i个元素包含了类（-1，1），并且该类与相应的向量相互对应；   \n",
    "- 函数的输出为：向量w，返回估计参数向量。\n"
   ],
   "cell_type": "markdown",
   "metadata": {}
  },
  {
   "cell_type": "code",
   "execution_count": 4,
   "metadata": {},
   "outputs": [],
   "source": [
    "def SSerr(X,y):\n",
    "    Xt=np.transpose(X)\n",
    "    Xp=np.linalg.pinv(Xt)\n",
    "    yt=np.transpose(y)\n",
    "    return np.dot(yt,Xp)"
   ]
  },
  {
   "cell_type": "code",
   "execution_count": 5,
   "metadata": {},
   "outputs": [],
   "source": [
    "def SSerr2(X,y):\n",
    "    Xt=np.transpose(X)\n",
    "    Xp=np.dot(np.linalg.inv(np.dot(Xt,X)),Xt)\n",
    "    #Xp=np.linalg.pinv(Xt)\n",
    "    yt=np.transpose(y)\n",
    "    return np.dot(Xp,y)"
   ]
  },
  {
   "cell_type": "code",
   "execution_count": 6,
   "metadata": {},
   "outputs": [],
   "source": [
    "def gradientE(X,y,w):\n",
    "    Xt=np.transpose(X)\n",
    "    return (np.dot(np.dot(Xt,X),w)-np.dot(Xt,y))\n"
   ]
  },
  {
   "cell_type": "code",
   "execution_count": 7,
   "metadata": {},
   "outputs": [],
   "source": [
    "def SSerr3(X,y):\n",
    "    y=y.reshape([X.shape[0],1])\n",
    "    # init w\n",
    "    w=np.zeros([X.shape[1],1])\n",
    "    # interate\n",
    "    learning_rate=0.1\n",
    "    epoch=1000\n",
    "    for i in range(epoch):\n",
    "        gradient=gradientE(X,y,w)\n",
    "        w=w-learning_rate*gradient\n",
    "        if i>epoch-20:\n",
    "            print(w)\n",
    "    #np.dot(X,w)"
   ]
  },
  {
   "cell_type": "code",
   "execution_count": 8,
   "metadata": {
    "tags": []
   },
   "outputs": [
    {
     "output_type": "error",
     "ename": "NameError",
     "evalue": "name 'Xnp' is not defined",
     "traceback": [
      "\u001b[1;31m---------------------------------------------------------------------------\u001b[0m",
      "\u001b[1;31mNameError\u001b[0m                                 Traceback (most recent call last)",
      "\u001b[1;32m<ipython-input-8-7166d7839390>\u001b[0m in \u001b[0;36m<module>\u001b[1;34m\u001b[0m\n\u001b[1;32m----> 1\u001b[1;33m \u001b[0mSSerr3\u001b[0m\u001b[1;33m(\u001b[0m\u001b[0mXnp\u001b[0m\u001b[1;33m,\u001b[0m\u001b[0mYnp\u001b[0m\u001b[1;33m)\u001b[0m\u001b[1;33m\u001b[0m\u001b[1;33m\u001b[0m\u001b[0m\n\u001b[0m",
      "\u001b[1;31mNameError\u001b[0m: name 'Xnp' is not defined"
     ]
    }
   ],
   "source": [
    "SSerr3(Xnp,Ynp)"
   ]
  },
  {
   "cell_type": "code",
   "execution_count": null,
   "metadata": {},
   "outputs": [],
   "source": [
    "\n",
    "dirtyData=[(0.2,0.7),1,\n",
    "(0.3,0.3),1,\n",
    "(0.4,0.5),1,\n",
    "(0.6,0.5),1,\n",
    "(0.1,0.4),1,\n",
    "(0.4,0.6),-1,\n",
    "(0.6,0.2),-1,\n",
    "(0.7,0.4),-1,\n",
    "(0.8,0.6),-1,\n",
    "(0.7,0.5),-1]\n",
    "X=[]\n",
    "Y=[]\n",
    "i=0\n",
    "for data in dirtyData:\n",
    "    #print(data)\n",
    "    if i%2==0:\n",
    "        X.append(data)\n",
    "    else:\n",
    "        Y.append(data)\n",
    "    i+=1"
   ]
  },
  {
   "cell_type": "code",
   "execution_count": null,
   "metadata": {},
   "outputs": [],
   "source": [
    "print(SSerr(X,Y))"
   ]
  },
  {
   "cell_type": "code",
   "execution_count": null,
   "metadata": {},
   "outputs": [],
   "source": [
    "Xnp=np.asarray(X)\n",
    "Ynp=np.asarray(Y)\n",
    "print(Xnp.shape)\n",
    "print(Ynp.shape)"
   ]
  },
  {
   "cell_type": "code",
   "execution_count": null,
   "metadata": {},
   "outputs": [],
   "source": [
    "print(SSerr2(Xnp,Ynp))"
   ]
  },
  {
   "source": [
    "## LMS\n",
    "编写一个名为LMSalg的函数，用它来实现Widrow-Hoff算法（LMS算法），即用随机梯度下降法获得最佳解。\n",
    "函数的输入/输出有：\n",
    "- （a）一个N*d维的矩阵X，它的第i行是第i个数据向量；\n",
    "- （b）一个N维列向量y，y的第i个元素包含了类（-1，1），并且该类与相应的向量相互对应；\n",
    "- （c）用向量w_ini初始化参数向量；并且返回估计参数向量。\n"
   ],
   "cell_type": "markdown",
   "metadata": {}
  },
  {
   "cell_type": "code",
   "execution_count": null,
   "metadata": {},
   "outputs": [],
   "source": []
  },
  {
   "source": [
    "### addBias\n",
    "为维数为[N,d]的向量X添加偏置向量"
   ],
   "cell_type": "markdown",
   "metadata": {}
  },
  {
   "cell_type": "code",
   "execution_count": 15,
   "metadata": {},
   "outputs": [],
   "source": [
    "def addBias(X):\n",
    "    N=X.shape[0]\n",
    "    d=X.shape[1]\n",
    "    bias_vector=np.ones([N,1])\n",
    "    return np.column_stack((bias_vector,X))"
   ]
  },
  {
   "cell_type": "code",
   "execution_count": 16,
   "metadata": {},
   "outputs": [
    {
     "output_type": "execute_result",
     "data": {
      "text/plain": [
       "array([[1., 0., 0.],\n",
       "       [1., 0., 0.]])"
      ]
     },
     "metadata": {},
     "execution_count": 16
    }
   ],
   "source": [
    "addBias(np.zeros([2,2]))"
   ]
  },
  {
   "cell_type": "code",
   "execution_count": null,
   "metadata": {},
   "outputs": [],
   "source": []
  }
 ]
}