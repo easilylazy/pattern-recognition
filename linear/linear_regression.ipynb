{
 "metadata": {
  "language_info": {
   "codemirror_mode": {
    "name": "ipython",
    "version": 3
   },
   "file_extension": ".py",
   "mimetype": "text/x-python",
   "name": "python",
   "nbconvert_exporter": "python",
   "pygments_lexer": "ipython3",
   "version": "3.7.4-final"
  },
  "orig_nbformat": 2,
  "kernelspec": {
   "name": "python3",
   "display_name": "Python 3.7.4 64-bit",
   "metadata": {
    "interpreter": {
     "hash": "3f857618d8b6a3d270a8a45aea13fd0dc2a28a907e8d4ef70fe87ce2a92698f8"
    }
   }
  }
 },
 "nbformat": 4,
 "nbformat_minor": 2,
 "cells": [
  {
   "source": [
    "author: leezeeyee   \n",
    "date: 2021/3/14   \n",
    "link: [github](https://github.com/easilylazy/pattern-recognition) "
   ],
   "cell_type": "markdown",
   "metadata": {}
  },
  {
   "cell_type": "code",
   "execution_count": 1,
   "metadata": {},
   "outputs": [],
   "source": [
    "import numpy as np\n",
    "import matplotlib.pyplot as plt\n",
    "from IPython.display import clear_output"
   ]
  },
  {
   "source": [
    "## SSerr\n",
    "求解最小误差平方和的最佳解（Linear Regression Algorithm），并完成二元分类。\n",
    "- 函数的输入有：   \n",
    "    （a）一个N*d维的矩阵X，它的第i行是第i个数据向量；    \n",
    "    （b）一个N维列向量y，y的第i个元素包含了类（-1，1），并且该类与相应的向量相互对应；   \n",
    "- 函数的输出为：向量w，返回估计参数向量。\n"
   ],
   "cell_type": "markdown",
   "metadata": {}
  },
  {
   "cell_type": "code",
   "execution_count": 2,
   "metadata": {},
   "outputs": [],
   "source": [
    "## 直接利用numpy函数pinv()求广义逆\n",
    "def SSerr(X,y):\n",
    "    Xt=np.transpose(X)\n",
    "    Xp=np.linalg.pinv(Xt)\n",
    "    yt=np.transpose(y)\n",
    "    return np.dot(yt,Xp)"
   ]
  },
  {
   "cell_type": "code",
   "execution_count": 3,
   "metadata": {},
   "outputs": [],
   "source": [
    "## 利用ppt定义的广义逆公式求取\n",
    "def SSerr2(X,y):\n",
    "    Xt=np.transpose(X)\n",
    "    Xp=np.dot(np.linalg.inv(np.dot(Xt,X)),Xt)\n",
    "    return np.dot(Xp,y)"
   ]
  },
  {
   "source": [
    "### 用习题中的数据进行验证测试"
   ],
   "cell_type": "markdown",
   "metadata": {}
  },
  {
   "cell_type": "code",
   "execution_count": 4,
   "metadata": {},
   "outputs": [],
   "source": [
    "def loadData():\n",
    "    \"\"\"\n",
    "    载入习题中数据，并转化为numpy的ndarray格式\n",
    "    Returns:\n",
    "        X(numpy.ndarray): N个二维数据[N,2]\n",
    "        Y(numpy.ndarray): N个分类结果[N,] (-1/1)\n",
    "    \"\"\"\n",
    "    dirtyData=[(0.2,0.7),1,\n",
    "    (0.3,0.3),1,\n",
    "    (0.4,0.5),1,\n",
    "    (0.6,0.5),1,\n",
    "    (0.1,0.4),1,\n",
    "    (0.4,0.6),-1,\n",
    "    (0.6,0.2),-1,\n",
    "    (0.7,0.4),-1,\n",
    "    (0.8,0.6),-1,\n",
    "    (0.7,0.5),-1]\n",
    "    X=[]\n",
    "    Y=[]\n",
    "    i=0\n",
    "    for data in dirtyData:\n",
    "        #print(data)\n",
    "        if i%2==0:\n",
    "            X.append(data)\n",
    "        else:\n",
    "            Y.append(data)\n",
    "        i+=1\n",
    "    Xnp=np.asarray(X)\n",
    "    Ynp=np.asarray(Y)\n",
    "    return Xnp,Ynp"
   ]
  },
  {
   "cell_type": "code",
   "execution_count": 5,
   "metadata": {},
   "outputs": [
    {
     "output_type": "stream",
     "name": "stdout",
     "text": [
      "SSerr method[-2.35783634  2.23300971]\nSSerr2 method[-2.35783634  2.23300971]\n"
     ]
    }
   ],
   "source": [
    "Xnp,Ynp=loadData()\n",
    "print('SSerr method'+str(SSerr(Xnp,Ynp)))\n",
    "print('SSerr2 method'+str(SSerr2(Xnp,Ynp)))"
   ]
  },
  {
   "cell_type": "code",
   "execution_count": 6,
   "metadata": {},
   "outputs": [],
   "source": [
    "## 求梯度\n",
    "def gradientE(X,y,w):\n",
    "    Xt=np.transpose(X)\n",
    "    return (np.dot(np.dot(Xt,X),w)-np.dot(Xt,y))"
   ]
  },
  {
   "cell_type": "code",
   "execution_count": 7,
   "metadata": {},
   "outputs": [],
   "source": [
    "## 通过梯度下降求取w\n",
    "def GD(X,y,results=5):\n",
    "    \"\"\"\n",
    "    Args:\n",
    "        X (numpy.ndarray): 维度[N,d]\n",
    "        y (numpy.ndarray): 维度[N,]或[N,1]\n",
    "        results (int):打印results个数的结果\n",
    "    \"\"\"\n",
    "    N=X.shape[0]\n",
    "    d=X.shape[1]\n",
    "    y=y.reshape([N,1])\n",
    "    # init w\n",
    "    w=np.zeros([d,1])\n",
    "    # interate\n",
    "    learning_rate=0.1\n",
    "    epoch=1000\n",
    "    for i in range(epoch):\n",
    "        gradient=gradientE(X,y,w)\n",
    "        w=w-learning_rate*gradient\n",
    "        if i>epoch-results:\n",
    "            print(w)\n",
    "    return w\n",
    "    #np.dot(X,w)"
   ]
  },
  {
   "cell_type": "code",
   "execution_count": 8,
   "metadata": {
    "tags": []
   },
   "outputs": [
    {
     "output_type": "stream",
     "name": "stdout",
     "text": [
      "[[-2.35783634]\n [ 2.23300971]]\n[[-2.35783634]\n [ 2.23300971]]\n[[-2.35783634]\n [ 2.23300971]]\n[[-2.35783634]\n [ 2.23300971]]\n"
     ]
    },
    {
     "output_type": "execute_result",
     "data": {
      "text/plain": [
       "array([[-2.35783634],\n",
       "       [ 2.23300971]])"
      ]
     },
     "metadata": {},
     "execution_count": 8
    }
   ],
   "source": [
    "Xnp,Ynp=loadData()\n",
    "GD(Xnp,Ynp)"
   ]
  },
  {
   "source": [
    "## LMS\n",
    "编写一个名为LMSalg的函数，用它来实现Widrow-Hoff算法（LMS算法），即用随机梯度下降法获得最佳解。\n",
    "函数的输入/输出有：\n",
    "- （a）一个N*d维的矩阵X，它的第i行是第i个数据向量；\n",
    "- （b）一个N维列向量y，y的第i个元素包含了类（-1，1），并且该类与相应的向量相互对应；\n",
    "- （c）用向量w_ini初始化参数向量；并且返回估计参数向量。\n"
   ],
   "cell_type": "markdown",
   "metadata": {}
  },
  {
   "cell_type": "code",
   "execution_count": 9,
   "metadata": {},
   "outputs": [],
   "source": [
    "def LMSalg(X,y,showLen=5):\n",
    "    '''\n",
    "    选取部分向量进行梯度下降，即随机梯度下降法\n",
    "    Args:\n",
    "        showLen(int):展示的倒数几个结果\n",
    "    '''\n",
    "    N=X.shape[0]\n",
    "    d=X.shape[1]\n",
    "    y=y.reshape([N,1])\n",
    "    # init w\n",
    "    w=np.zeros([d,1])\n",
    "    # interate\n",
    "    learning_rate=0.1\n",
    "    epoch=1000\n",
    "    for e in range(epoch):\n",
    "        for i in range(N):\n",
    "            Xi=X[i].reshape(1,d)\n",
    "            yi=y[i].reshape(1,1)\n",
    "            gradient=gradientE(Xi,yi,w)\n",
    "            w=w-learning_rate*gradient\n",
    "        if e>epoch-20:\n",
    "            print(w)"
   ]
  },
  {
   "source": [
    "### addBias\n",
    "为维数为[N,d]的向量X添加偏置向量"
   ],
   "cell_type": "markdown",
   "metadata": {}
  },
  {
   "cell_type": "code",
   "execution_count": 10,
   "metadata": {},
   "outputs": [],
   "source": [
    "def addBias(X):\n",
    "    '''\n",
    "    为维数为N,d的向量X添加偏置向量\n",
    "    Args:\n",
    "        X(numpy.ndarray):shape为[N,d]\n",
    "    Returns:\n",
    "        numpy.ndarray:shape为[N,d+1]，且第一列列向量全为1\n",
    "    '''\n",
    "    N=X.shape[0]\n",
    "    d=X.shape[1]\n",
    "    bias_vector=np.ones([N,1])\n",
    "    return np.column_stack((bias_vector,X))"
   ]
  },
  {
   "cell_type": "code",
   "execution_count": 11,
   "metadata": {},
   "outputs": [
    {
     "output_type": "execute_result",
     "data": {
      "text/plain": [
       "array([[1., 0., 0.],\n",
       "       [1., 0., 0.]])"
      ]
     },
     "metadata": {},
     "execution_count": 11
    }
   ],
   "source": [
    "addBias(np.zeros([2,2]))"
   ]
  },
  {
   "source": [
    "## Test"
   ],
   "cell_type": "markdown",
   "metadata": {}
  },
  {
   "cell_type": "code",
   "execution_count": 71,
   "metadata": {},
   "outputs": [
    {
     "output_type": "stream",
     "name": "stdout",
     "text": [
      "[[-2.42316689]\n [ 2.17869869]]\n[[-2.42316689]\n [ 2.17869869]]\n[[-2.42316689]\n [ 2.17869869]]\n[[-2.42316689]\n [ 2.17869869]]\n[[-2.42316689]\n [ 2.17869869]]\n[[-2.42316689]\n [ 2.17869869]]\n[[-2.42316689]\n [ 2.17869869]]\n[[-2.42316689]\n [ 2.17869869]]\n[[-2.42316689]\n [ 2.17869869]]\n[[-2.42316689]\n [ 2.17869869]]\n[[-2.42316689]\n [ 2.17869869]]\n[[-2.42316689]\n [ 2.17869869]]\n[[-2.42316689]\n [ 2.17869869]]\n[[-2.42316689]\n [ 2.17869869]]\n[[-2.42316689]\n [ 2.17869869]]\n[[-2.42316689]\n [ 2.17869869]]\n[[-2.42316689]\n [ 2.17869869]]\n[[-2.42316689]\n [ 2.17869869]]\n[[-2.42316689]\n [ 2.17869869]]\n"
     ]
    }
   ],
   "source": [
    "LMSalg(Xnp,Ynp)"
   ]
  },
  {
   "cell_type": "code",
   "execution_count": 73,
   "metadata": {},
   "outputs": [
    {
     "output_type": "stream",
     "name": "stdout",
     "text": [
      "[[ 1.43121474]\n [-3.2180209 ]\n [ 0.24135169]]\n[[ 1.43121474]\n [-3.2180209 ]\n [ 0.24135169]]\n[[ 1.43121474]\n [-3.2180209 ]\n [ 0.24135168]]\n[[ 1.43121474]\n [-3.2180209 ]\n [ 0.24135168]]\n"
     ]
    },
    {
     "output_type": "execute_result",
     "data": {
      "text/plain": [
       "array([[ 1.43121474],\n",
       "       [-3.2180209 ],\n",
       "       [ 0.24135168]])"
      ]
     },
     "metadata": {},
     "execution_count": 73
    }
   ],
   "source": [
    "GD(addBias(Xnp),Ynp)"
   ]
  },
  {
   "cell_type": "code",
   "execution_count": 16,
   "metadata": {},
   "outputs": [
    {
     "output_type": "execute_result",
     "data": {
      "text/plain": [
       "array([ 1.4312148 , -3.21802092,  0.24135157])"
      ]
     },
     "metadata": {},
     "execution_count": 16
    }
   ],
   "source": [
    "SSerr(addBias(Xnp),Ynp)"
   ]
  },
  {
   "cell_type": "code",
   "execution_count": 18,
   "metadata": {},
   "outputs": [],
   "source": [
    "W=SSerr2(addBias(Xnp),Ynp)\n",
    "np.dot(W,np.transpose(addBias(Xnp)))"
   ]
  },
  {
   "cell_type": "code",
   "execution_count": 21,
   "metadata": {},
   "outputs": [
    {
     "output_type": "execute_result",
     "data": {
      "text/plain": [
       "array([ 1.09153953, -0.03744799,  0.17337032, -0.29819695,  0.65742025,\n",
       "        0.39667129, -0.96809986, -0.75728155, -0.54646325, -0.53398058])"
      ]
     },
     "metadata": {},
     "execution_count": 21
    }
   ],
   "source": [
    "W=SSerr2((Xnp),Ynp)\n",
    "np.dot(W,np.transpose((Xnp)))"
   ]
  },
  {
   "source": [
    "### GenerateData\n",
    "根据传入参数mu，d，N生成 **N** 个二维向量的数据集s0 和s1  \n",
    "- 数据集s0 的样本来自均值向量 $m1=[mu,0]^{T}$ 的正态分布，并且协方差矩阵$S0=I$ 。\n",
    "- 数据集s1 的样本来自均值向量 $m2=[-mu,0]^{T}$ 的正态分布，并且协方差矩阵$S1=I$ 。\n",
    "其中 $I$是一个2*2的单位矩阵。\n"
   ],
   "cell_type": "markdown",
   "metadata": {}
  },
  {
   "cell_type": "code",
   "execution_count": 23,
   "metadata": {},
   "outputs": [],
   "source": [
    "def GenerateData(mu,d,N):\n",
    "    I=np.eye(d)\n",
    "    mu0=np.array([mu,0])\n",
    "    mu1=np.array([-mu,0])\n",
    "\n",
    "    s0=np.random.multivariate_normal(mu0,I,N)\n",
    "    s1=np.random.multivariate_normal(mu1,I,N)\n",
    "    X=np.zeros([2*N,d])\n",
    "    X[:N]=s0\n",
    "    X[N:]=s1\n",
    "    y=np.zeros(2*N)\n",
    "    y[:N]=1\n",
    "    y[N:]=-1\n",
    "    return X,y"
   ]
  },
  {
   "cell_type": "code",
   "execution_count": 27,
   "metadata": {},
   "outputs": [],
   "source": [
    "X,y=GenerateData(5,2,10)"
   ]
  },
  {
   "cell_type": "code",
   "execution_count": 28,
   "metadata": {},
   "outputs": [
    {
     "output_type": "stream",
     "name": "stdout",
     "text": [
      "[[ 1.00000000e+00  4.94714510e+00  6.22719763e-01]\n [ 1.00000000e+00  6.24644066e+00  7.54674037e-03]\n [ 1.00000000e+00  7.84700782e+00  2.25320679e-01]\n [ 1.00000000e+00  4.63187051e+00  8.87171106e-01]\n [ 1.00000000e+00  6.08046239e+00 -3.38857821e-01]\n [ 1.00000000e+00  5.46005226e+00 -2.53282890e-02]\n [ 1.00000000e+00  3.95475309e+00  9.18790546e-01]\n [ 1.00000000e+00  5.33834892e+00  4.81183162e-01]\n [ 1.00000000e+00  4.83274393e+00 -1.27112699e+00]\n [ 1.00000000e+00  6.53029696e+00  7.28387555e-01]\n [ 1.00000000e+00 -4.30129752e+00 -8.92782226e-01]\n [ 1.00000000e+00 -4.94243413e+00  7.34203466e-01]\n [ 1.00000000e+00 -3.37707739e+00  6.75066818e-01]\n [ 1.00000000e+00 -5.74487443e+00 -1.85648713e+00]\n [ 1.00000000e+00 -5.36169178e+00 -5.56830179e-01]\n [ 1.00000000e+00 -4.93705834e+00  1.54082578e-01]\n [ 1.00000000e+00 -6.33911837e+00  1.04608564e+00]\n [ 1.00000000e+00 -4.29405837e+00  2.58587865e-01]\n [ 1.00000000e+00 -5.89237503e+00  1.81151345e+00]\n [ 1.00000000e+00 -4.90608139e+00 -2.49879184e-01]]\n"
     ]
    }
   ],
   "source": [
    "print(addBias(X))"
   ]
  },
  {
   "cell_type": "code",
   "execution_count": 40,
   "metadata": {},
   "outputs": [
    {
     "output_type": "execute_result",
     "data": {
      "text/plain": [
       "array([ 0.86145914,  1.08434649,  1.38176839,  0.81007348,  1.04591848,\n",
       "        0.93995386,  0.6871484 ,  0.92959142,  0.79620241,  1.15307432,\n",
       "       -0.86313632, -0.94211888, -0.65761424, -1.1493595 , -1.04893248,\n",
       "       -0.95472629, -1.18989741, -0.83484357, -1.09037616, -0.95853152])"
      ]
     },
     "metadata": {},
     "execution_count": 40
    }
   ],
   "source": [
    "W=SSerr2(addBias(X),y)\n",
    "np.dot(W,np.transpose(addBias(X)))"
   ]
  },
  {
   "cell_type": "code",
   "execution_count": 12,
   "metadata": {},
   "outputs": [],
   "source": [
    "class Point():\n",
    "    def __init__(self,x,y):\n",
    "        self.x=x\n",
    "        self.y=y\n",
    "\n"
   ]
  },
  {
   "cell_type": "code",
   "execution_count": 16,
   "metadata": {},
   "outputs": [],
   "source": [
    "def live_plot(X,y,W,bias,lims=(9,9),clear=True):\n",
    "    '''\n",
    "    清空输出框并绘制二维分类图像\n",
    "    Args:\n",
    "        X(numpy.ndarray):分类数据集\n",
    "        y(numpy.ndarray):分类标签 \n",
    "        W(numpy.ndarray):分界面法向量\n",
    "        lims(tuple):lims[0]为x方向的长度，类似lims[1]为y方向\n",
    "        bias(bool):True 含偏置向量，则取后两位绘图\n",
    "        clear(bool):True,清空输出框\n",
    "    '''\n",
    "    if clear:\n",
    "            clear_output(wait=True)\n",
    "    plt.figure(figsize=(7,5))\n",
    "    scale=2\n",
    "    if bias:\n",
    "        try:\n",
    "            W=W.reshape(3)\n",
    "            k=-W[1]/W[2]\n",
    "            b=-W[0]/W[2]\n",
    "        except Exception as e:\n",
    "            print('错误类型是',e.__class__.__name__)\n",
    "            print('错误明细是',e)\n",
    "    else:\n",
    "        try:\n",
    "            W=W.reshape(2)\n",
    "            k=-W[0]/W[1]\n",
    "            b=0\n",
    "        except Exception as e:\n",
    "            print('错误类型是',e.__class__.__name__)\n",
    "            print('错误明细是',e)\n",
    "    P1=Point(scale,k*scale+b)\n",
    "    P2=Point(-scale,-k*scale+b)\n",
    "    plt.scatter(X[:,0],X[:,1],c=y.transpose(),marker = 'o', s=20, cmap = plt.cm.Spectral)\n",
    "    plt.plot([P1.x,P2.x],[P1.y,P2.y],'-')\n",
    "    plt.xlim((-lims[0], lims[0]))\n",
    "    plt.ylim((-lims[1], lims[1]))\n",
    "    # plt.title(str(wTr))\n",
    "    # plt.grid(True)\n",
    "    # plt.xlabel('error'+str(error))\n",
    "    # plt.ylabel('epoch'+str(epoch))\n",
    "    plt.show()"
   ]
  },
  {
   "cell_type": "code",
   "execution_count": 17,
   "metadata": {},
   "outputs": [
    {
     "output_type": "display_data",
     "data": {
      "text/plain": "<Figure size 504x360 with 1 Axes>",
      "image/svg+xml": "<?xml version=\"1.0\" encoding=\"utf-8\" standalone=\"no\"?>\r\n<!DOCTYPE svg PUBLIC \"-//W3C//DTD SVG 1.1//EN\"\r\n  \"http://www.w3.org/Graphics/SVG/1.1/DTD/svg11.dtd\">\r\n<!-- Created with matplotlib (https://matplotlib.org/) -->\r\n<svg height=\"306.677344pt\" version=\"1.1\" viewBox=\"0 0 429.923437 306.677344\" width=\"429.923437pt\" xmlns=\"http://www.w3.org/2000/svg\" xmlns:xlink=\"http://www.w3.org/1999/xlink\">\r\n <defs>\r\n  <style type=\"text/css\">\r\n*{stroke-linecap:butt;stroke-linejoin:round;}\r\n  </style>\r\n </defs>\r\n <g id=\"figure_1\">\r\n  <g id=\"patch_1\">\r\n   <path d=\"M 0 306.677344 \r\nL 429.923437 306.677344 \r\nL 429.923437 0 \r\nL 0 0 \r\nz\r\n\" style=\"fill:none;\"/>\r\n  </g>\r\n  <g id=\"axes_1\">\r\n   <g id=\"patch_2\">\r\n    <path d=\"M 28.942188 282.799219 \r\nL 419.542188 282.799219 \r\nL 419.542188 10.999219 \r\nL 28.942188 10.999219 \r\nz\r\n\" style=\"fill:#ffffff;\"/>\r\n   </g>\r\n   <g id=\"PathCollection_1\">\r\n    <defs>\r\n     <path d=\"M 0 2.236068 \r\nC 0.593012 2.236068 1.161816 2.000462 1.581139 1.581139 \r\nC 2.000462 1.161816 2.236068 0.593012 2.236068 0 \r\nC 2.236068 -0.593012 2.000462 -1.161816 1.581139 -1.581139 \r\nC 1.161816 -2.000462 0.593012 -2.236068 0 -2.236068 \r\nC -0.593012 -2.236068 -1.161816 -2.000462 -1.581139 -1.581139 \r\nC -2.000462 -1.161816 -2.236068 -0.593012 -2.236068 0 \r\nC -2.236068 0.593012 -2.000462 1.161816 -1.581139 1.581139 \r\nC -1.161816 2.000462 -0.593012 2.236068 0 2.236068 \r\nz\r\n\" id=\"C0_0_61edbd340e\"/>\r\n    </defs>\r\n    <g clip-path=\"url(#p344252075d)\">\r\n     <use style=\"fill:#5e4fa2;stroke:#5e4fa2;\" x=\"237.262188\" xlink:href=\"#C0_0_61edbd340e\" y=\"115.189219\"/>\r\n    </g>\r\n    <g clip-path=\"url(#p344252075d)\">\r\n     <use style=\"fill:#5e4fa2;stroke:#5e4fa2;\" x=\"243.772188\" xlink:href=\"#C0_0_61edbd340e\" y=\"133.309219\"/>\r\n    </g>\r\n    <g clip-path=\"url(#p344252075d)\">\r\n     <use style=\"fill:#5e4fa2;stroke:#5e4fa2;\" x=\"250.282187\" xlink:href=\"#C0_0_61edbd340e\" y=\"124.249219\"/>\r\n    </g>\r\n    <g clip-path=\"url(#p344252075d)\">\r\n     <use style=\"fill:#5e4fa2;stroke:#5e4fa2;\" x=\"263.302188\" xlink:href=\"#C0_0_61edbd340e\" y=\"124.249219\"/>\r\n    </g>\r\n    <g clip-path=\"url(#p344252075d)\">\r\n     <use style=\"fill:#5e4fa2;stroke:#5e4fa2;\" x=\"230.752187\" xlink:href=\"#C0_0_61edbd340e\" y=\"128.779219\"/>\r\n    </g>\r\n    <g clip-path=\"url(#p344252075d)\">\r\n     <use style=\"fill:#9e0142;stroke:#9e0142;\" x=\"250.282187\" xlink:href=\"#C0_0_61edbd340e\" y=\"119.719219\"/>\r\n    </g>\r\n    <g clip-path=\"url(#p344252075d)\">\r\n     <use style=\"fill:#9e0142;stroke:#9e0142;\" x=\"263.302188\" xlink:href=\"#C0_0_61edbd340e\" y=\"137.839219\"/>\r\n    </g>\r\n    <g clip-path=\"url(#p344252075d)\">\r\n     <use style=\"fill:#9e0142;stroke:#9e0142;\" x=\"269.812187\" xlink:href=\"#C0_0_61edbd340e\" y=\"128.779219\"/>\r\n    </g>\r\n    <g clip-path=\"url(#p344252075d)\">\r\n     <use style=\"fill:#9e0142;stroke:#9e0142;\" x=\"276.322187\" xlink:href=\"#C0_0_61edbd340e\" y=\"119.719219\"/>\r\n    </g>\r\n    <g clip-path=\"url(#p344252075d)\">\r\n     <use style=\"fill:#9e0142;stroke:#9e0142;\" x=\"269.812187\" xlink:href=\"#C0_0_61edbd340e\" y=\"124.249219\"/>\r\n    </g>\r\n   </g>\r\n   <g id=\"matplotlib.axis_1\">\r\n    <g id=\"xtick_1\">\r\n     <g id=\"line2d_1\">\r\n      <defs>\r\n       <path d=\"M 0 0 \r\nL 0 3.5 \r\n\" id=\"mba69aef3b6\" style=\"stroke:#000000;stroke-width:0.8;\"/>\r\n      </defs>\r\n      <g>\r\n       <use style=\"stroke:#000000;stroke-width:0.8;\" x=\"28.942188\" xlink:href=\"#mba69aef3b6\" y=\"282.799219\"/>\r\n      </g>\r\n     </g>\r\n     <g id=\"text_1\">\r\n      <!-- −3 -->\r\n      <defs>\r\n       <path d=\"M 10.59375 35.5 \r\nL 73.1875 35.5 \r\nL 73.1875 27.203125 \r\nL 10.59375 27.203125 \r\nz\r\n\" id=\"DejaVuSans-8722\"/>\r\n       <path d=\"M 40.578125 39.3125 \r\nQ 47.65625 37.796875 51.625 33 \r\nQ 55.609375 28.21875 55.609375 21.1875 \r\nQ 55.609375 10.40625 48.1875 4.484375 \r\nQ 40.765625 -1.421875 27.09375 -1.421875 \r\nQ 22.515625 -1.421875 17.65625 -0.515625 \r\nQ 12.796875 0.390625 7.625 2.203125 \r\nL 7.625 11.71875 \r\nQ 11.71875 9.328125 16.59375 8.109375 \r\nQ 21.484375 6.890625 26.8125 6.890625 \r\nQ 36.078125 6.890625 40.9375 10.546875 \r\nQ 45.796875 14.203125 45.796875 21.1875 \r\nQ 45.796875 27.640625 41.28125 31.265625 \r\nQ 36.765625 34.90625 28.71875 34.90625 \r\nL 20.21875 34.90625 \r\nL 20.21875 43.015625 \r\nL 29.109375 43.015625 \r\nQ 36.375 43.015625 40.234375 45.921875 \r\nQ 44.09375 48.828125 44.09375 54.296875 \r\nQ 44.09375 59.90625 40.109375 62.90625 \r\nQ 36.140625 65.921875 28.71875 65.921875 \r\nQ 24.65625 65.921875 20.015625 65.03125 \r\nQ 15.375 64.15625 9.8125 62.3125 \r\nL 9.8125 71.09375 \r\nQ 15.4375 72.65625 20.34375 73.4375 \r\nQ 25.25 74.21875 29.59375 74.21875 \r\nQ 40.828125 74.21875 47.359375 69.109375 \r\nQ 53.90625 64.015625 53.90625 55.328125 \r\nQ 53.90625 49.265625 50.4375 45.09375 \r\nQ 46.96875 40.921875 40.578125 39.3125 \r\nz\r\n\" id=\"DejaVuSans-51\"/>\r\n      </defs>\r\n      <g transform=\"translate(21.571094 297.397656)scale(0.1 -0.1)\">\r\n       <use xlink:href=\"#DejaVuSans-8722\"/>\r\n       <use x=\"83.789062\" xlink:href=\"#DejaVuSans-51\"/>\r\n      </g>\r\n     </g>\r\n    </g>\r\n    <g id=\"xtick_2\">\r\n     <g id=\"line2d_2\">\r\n      <g>\r\n       <use style=\"stroke:#000000;stroke-width:0.8;\" x=\"94.042188\" xlink:href=\"#mba69aef3b6\" y=\"282.799219\"/>\r\n      </g>\r\n     </g>\r\n     <g id=\"text_2\">\r\n      <!-- −2 -->\r\n      <defs>\r\n       <path d=\"M 19.1875 8.296875 \r\nL 53.609375 8.296875 \r\nL 53.609375 0 \r\nL 7.328125 0 \r\nL 7.328125 8.296875 \r\nQ 12.9375 14.109375 22.625 23.890625 \r\nQ 32.328125 33.6875 34.8125 36.53125 \r\nQ 39.546875 41.84375 41.421875 45.53125 \r\nQ 43.3125 49.21875 43.3125 52.78125 \r\nQ 43.3125 58.59375 39.234375 62.25 \r\nQ 35.15625 65.921875 28.609375 65.921875 \r\nQ 23.96875 65.921875 18.8125 64.3125 \r\nQ 13.671875 62.703125 7.8125 59.421875 \r\nL 7.8125 69.390625 \r\nQ 13.765625 71.78125 18.9375 73 \r\nQ 24.125 74.21875 28.421875 74.21875 \r\nQ 39.75 74.21875 46.484375 68.546875 \r\nQ 53.21875 62.890625 53.21875 53.421875 \r\nQ 53.21875 48.921875 51.53125 44.890625 \r\nQ 49.859375 40.875 45.40625 35.40625 \r\nQ 44.1875 33.984375 37.640625 27.21875 \r\nQ 31.109375 20.453125 19.1875 8.296875 \r\nz\r\n\" id=\"DejaVuSans-50\"/>\r\n      </defs>\r\n      <g transform=\"translate(86.671094 297.397656)scale(0.1 -0.1)\">\r\n       <use xlink:href=\"#DejaVuSans-8722\"/>\r\n       <use x=\"83.789062\" xlink:href=\"#DejaVuSans-50\"/>\r\n      </g>\r\n     </g>\r\n    </g>\r\n    <g id=\"xtick_3\">\r\n     <g id=\"line2d_3\">\r\n      <g>\r\n       <use style=\"stroke:#000000;stroke-width:0.8;\" x=\"159.142188\" xlink:href=\"#mba69aef3b6\" y=\"282.799219\"/>\r\n      </g>\r\n     </g>\r\n     <g id=\"text_3\">\r\n      <!-- −1 -->\r\n      <defs>\r\n       <path d=\"M 12.40625 8.296875 \r\nL 28.515625 8.296875 \r\nL 28.515625 63.921875 \r\nL 10.984375 60.40625 \r\nL 10.984375 69.390625 \r\nL 28.421875 72.90625 \r\nL 38.28125 72.90625 \r\nL 38.28125 8.296875 \r\nL 54.390625 8.296875 \r\nL 54.390625 0 \r\nL 12.40625 0 \r\nz\r\n\" id=\"DejaVuSans-49\"/>\r\n      </defs>\r\n      <g transform=\"translate(151.771094 297.397656)scale(0.1 -0.1)\">\r\n       <use xlink:href=\"#DejaVuSans-8722\"/>\r\n       <use x=\"83.789062\" xlink:href=\"#DejaVuSans-49\"/>\r\n      </g>\r\n     </g>\r\n    </g>\r\n    <g id=\"xtick_4\">\r\n     <g id=\"line2d_4\">\r\n      <g>\r\n       <use style=\"stroke:#000000;stroke-width:0.8;\" x=\"224.242188\" xlink:href=\"#mba69aef3b6\" y=\"282.799219\"/>\r\n      </g>\r\n     </g>\r\n     <g id=\"text_4\">\r\n      <!-- 0 -->\r\n      <defs>\r\n       <path d=\"M 31.78125 66.40625 \r\nQ 24.171875 66.40625 20.328125 58.90625 \r\nQ 16.5 51.421875 16.5 36.375 \r\nQ 16.5 21.390625 20.328125 13.890625 \r\nQ 24.171875 6.390625 31.78125 6.390625 \r\nQ 39.453125 6.390625 43.28125 13.890625 \r\nQ 47.125 21.390625 47.125 36.375 \r\nQ 47.125 51.421875 43.28125 58.90625 \r\nQ 39.453125 66.40625 31.78125 66.40625 \r\nz\r\nM 31.78125 74.21875 \r\nQ 44.046875 74.21875 50.515625 64.515625 \r\nQ 56.984375 54.828125 56.984375 36.375 \r\nQ 56.984375 17.96875 50.515625 8.265625 \r\nQ 44.046875 -1.421875 31.78125 -1.421875 \r\nQ 19.53125 -1.421875 13.0625 8.265625 \r\nQ 6.59375 17.96875 6.59375 36.375 \r\nQ 6.59375 54.828125 13.0625 64.515625 \r\nQ 19.53125 74.21875 31.78125 74.21875 \r\nz\r\n\" id=\"DejaVuSans-48\"/>\r\n      </defs>\r\n      <g transform=\"translate(221.060937 297.397656)scale(0.1 -0.1)\">\r\n       <use xlink:href=\"#DejaVuSans-48\"/>\r\n      </g>\r\n     </g>\r\n    </g>\r\n    <g id=\"xtick_5\">\r\n     <g id=\"line2d_5\">\r\n      <g>\r\n       <use style=\"stroke:#000000;stroke-width:0.8;\" x=\"289.342188\" xlink:href=\"#mba69aef3b6\" y=\"282.799219\"/>\r\n      </g>\r\n     </g>\r\n     <g id=\"text_5\">\r\n      <!-- 1 -->\r\n      <g transform=\"translate(286.160938 297.397656)scale(0.1 -0.1)\">\r\n       <use xlink:href=\"#DejaVuSans-49\"/>\r\n      </g>\r\n     </g>\r\n    </g>\r\n    <g id=\"xtick_6\">\r\n     <g id=\"line2d_6\">\r\n      <g>\r\n       <use style=\"stroke:#000000;stroke-width:0.8;\" x=\"354.442187\" xlink:href=\"#mba69aef3b6\" y=\"282.799219\"/>\r\n      </g>\r\n     </g>\r\n     <g id=\"text_6\">\r\n      <!-- 2 -->\r\n      <g transform=\"translate(351.260938 297.397656)scale(0.1 -0.1)\">\r\n       <use xlink:href=\"#DejaVuSans-50\"/>\r\n      </g>\r\n     </g>\r\n    </g>\r\n    <g id=\"xtick_7\">\r\n     <g id=\"line2d_7\">\r\n      <g>\r\n       <use style=\"stroke:#000000;stroke-width:0.8;\" x=\"419.542187\" xlink:href=\"#mba69aef3b6\" y=\"282.799219\"/>\r\n      </g>\r\n     </g>\r\n     <g id=\"text_7\">\r\n      <!-- 3 -->\r\n      <g transform=\"translate(416.360937 297.397656)scale(0.1 -0.1)\">\r\n       <use xlink:href=\"#DejaVuSans-51\"/>\r\n      </g>\r\n     </g>\r\n    </g>\r\n   </g>\r\n   <g id=\"matplotlib.axis_2\">\r\n    <g id=\"ytick_1\">\r\n     <g id=\"line2d_8\">\r\n      <defs>\r\n       <path d=\"M 0 0 \r\nL -3.5 0 \r\n\" id=\"m132d795e1b\" style=\"stroke:#000000;stroke-width:0.8;\"/>\r\n      </defs>\r\n      <g>\r\n       <use style=\"stroke:#000000;stroke-width:0.8;\" x=\"28.942188\" xlink:href=\"#m132d795e1b\" y=\"282.799219\"/>\r\n      </g>\r\n     </g>\r\n     <g id=\"text_8\">\r\n      <!-- −3 -->\r\n      <g transform=\"translate(7.2 286.598437)scale(0.1 -0.1)\">\r\n       <use xlink:href=\"#DejaVuSans-8722\"/>\r\n       <use x=\"83.789062\" xlink:href=\"#DejaVuSans-51\"/>\r\n      </g>\r\n     </g>\r\n    </g>\r\n    <g id=\"ytick_2\">\r\n     <g id=\"line2d_9\">\r\n      <g>\r\n       <use style=\"stroke:#000000;stroke-width:0.8;\" x=\"28.942188\" xlink:href=\"#m132d795e1b\" y=\"237.499219\"/>\r\n      </g>\r\n     </g>\r\n     <g id=\"text_9\">\r\n      <!-- −2 -->\r\n      <g transform=\"translate(7.2 241.298437)scale(0.1 -0.1)\">\r\n       <use xlink:href=\"#DejaVuSans-8722\"/>\r\n       <use x=\"83.789062\" xlink:href=\"#DejaVuSans-50\"/>\r\n      </g>\r\n     </g>\r\n    </g>\r\n    <g id=\"ytick_3\">\r\n     <g id=\"line2d_10\">\r\n      <g>\r\n       <use style=\"stroke:#000000;stroke-width:0.8;\" x=\"28.942188\" xlink:href=\"#m132d795e1b\" y=\"192.199219\"/>\r\n      </g>\r\n     </g>\r\n     <g id=\"text_10\">\r\n      <!-- −1 -->\r\n      <g transform=\"translate(7.2 195.998437)scale(0.1 -0.1)\">\r\n       <use xlink:href=\"#DejaVuSans-8722\"/>\r\n       <use x=\"83.789062\" xlink:href=\"#DejaVuSans-49\"/>\r\n      </g>\r\n     </g>\r\n    </g>\r\n    <g id=\"ytick_4\">\r\n     <g id=\"line2d_11\">\r\n      <g>\r\n       <use style=\"stroke:#000000;stroke-width:0.8;\" x=\"28.942188\" xlink:href=\"#m132d795e1b\" y=\"146.899219\"/>\r\n      </g>\r\n     </g>\r\n     <g id=\"text_11\">\r\n      <!-- 0 -->\r\n      <g transform=\"translate(15.579688 150.698437)scale(0.1 -0.1)\">\r\n       <use xlink:href=\"#DejaVuSans-48\"/>\r\n      </g>\r\n     </g>\r\n    </g>\r\n    <g id=\"ytick_5\">\r\n     <g id=\"line2d_12\">\r\n      <g>\r\n       <use style=\"stroke:#000000;stroke-width:0.8;\" x=\"28.942188\" xlink:href=\"#m132d795e1b\" y=\"101.599219\"/>\r\n      </g>\r\n     </g>\r\n     <g id=\"text_12\">\r\n      <!-- 1 -->\r\n      <g transform=\"translate(15.579688 105.398437)scale(0.1 -0.1)\">\r\n       <use xlink:href=\"#DejaVuSans-49\"/>\r\n      </g>\r\n     </g>\r\n    </g>\r\n    <g id=\"ytick_6\">\r\n     <g id=\"line2d_13\">\r\n      <g>\r\n       <use style=\"stroke:#000000;stroke-width:0.8;\" x=\"28.942188\" xlink:href=\"#m132d795e1b\" y=\"56.299219\"/>\r\n      </g>\r\n     </g>\r\n     <g id=\"text_13\">\r\n      <!-- 2 -->\r\n      <g transform=\"translate(15.579688 60.098437)scale(0.1 -0.1)\">\r\n       <use xlink:href=\"#DejaVuSans-50\"/>\r\n      </g>\r\n     </g>\r\n    </g>\r\n    <g id=\"ytick_7\">\r\n     <g id=\"line2d_14\">\r\n      <g>\r\n       <use style=\"stroke:#000000;stroke-width:0.8;\" x=\"28.942188\" xlink:href=\"#m132d795e1b\" y=\"10.999219\"/>\r\n      </g>\r\n     </g>\r\n     <g id=\"text_14\">\r\n      <!-- 3 -->\r\n      <g transform=\"translate(15.579688 14.798437)scale(0.1 -0.1)\">\r\n       <use xlink:href=\"#DejaVuSans-51\"/>\r\n      </g>\r\n     </g>\r\n    </g>\r\n   </g>\r\n   <g id=\"line2d_15\">\r\n    <path clip-path=\"url(#p344252075d)\" d=\"M 269.136206 -1 \r\nL 235.866512 307.677344 \r\n\" style=\"fill:none;stroke:#1f77b4;stroke-linecap:square;stroke-width:1.5;\"/>\r\n   </g>\r\n   <g id=\"patch_3\">\r\n    <path d=\"M 28.942188 282.799219 \r\nL 28.942188 10.999219 \r\n\" style=\"fill:none;stroke:#000000;stroke-linecap:square;stroke-linejoin:miter;stroke-width:0.8;\"/>\r\n   </g>\r\n   <g id=\"patch_4\">\r\n    <path d=\"M 419.542188 282.799219 \r\nL 419.542188 10.999219 \r\n\" style=\"fill:none;stroke:#000000;stroke-linecap:square;stroke-linejoin:miter;stroke-width:0.8;\"/>\r\n   </g>\r\n   <g id=\"patch_5\">\r\n    <path d=\"M 28.942188 282.799219 \r\nL 419.542187 282.799219 \r\n\" style=\"fill:none;stroke:#000000;stroke-linecap:square;stroke-linejoin:miter;stroke-width:0.8;\"/>\r\n   </g>\r\n   <g id=\"patch_6\">\r\n    <path d=\"M 28.942188 10.999219 \r\nL 419.542187 10.999219 \r\n\" style=\"fill:none;stroke:#000000;stroke-linecap:square;stroke-linejoin:miter;stroke-width:0.8;\"/>\r\n   </g>\r\n  </g>\r\n </g>\r\n <defs>\r\n  <clipPath id=\"p344252075d\">\r\n   <rect height=\"271.8\" width=\"390.6\" x=\"28.942188\" y=\"10.999219\"/>\r\n  </clipPath>\r\n </defs>\r\n</svg>\r\n",
      "image/png": "[encoded data removed]"
     },
     "metadata": {
      "needs_background": "light"
     }
    }
   ],
   "source": [
    "X,Y=loadData()\n",
    "W=SSerr2(addBias(X),Y)\n",
    "\n",
    "live_plot(X,Y,W,lims=(3,3),bias=True,clear=True)"
   ]
  },
  {
   "cell_type": "code",
   "execution_count": 18,
   "metadata": {},
   "outputs": [
    {
     "output_type": "display_data",
     "data": {
      "text/plain": "<Figure size 504x360 with 1 Axes>",
      "image/svg+xml": "<?xml version=\"1.0\" encoding=\"utf-8\" standalone=\"no\"?>\r\n<!DOCTYPE svg PUBLIC \"-//W3C//DTD SVG 1.1//EN\"\r\n  \"http://www.w3.org/Graphics/SVG/1.1/DTD/svg11.dtd\">\r\n<!-- Created with matplotlib (https://matplotlib.org/) -->\r\n<svg height=\"306.677344pt\" version=\"1.1\" viewBox=\"0 0 429.923437 306.677344\" width=\"429.923437pt\" xmlns=\"http://www.w3.org/2000/svg\" xmlns:xlink=\"http://www.w3.org/1999/xlink\">\r\n <defs>\r\n  <style type=\"text/css\">\r\n*{stroke-linecap:butt;stroke-linejoin:round;}\r\n  </style>\r\n </defs>\r\n <g id=\"figure_1\">\r\n  <g id=\"patch_1\">\r\n   <path d=\"M 0 306.677344 \r\nL 429.923437 306.677344 \r\nL 429.923437 0 \r\nL 0 0 \r\nz\r\n\" style=\"fill:none;\"/>\r\n  </g>\r\n  <g id=\"axes_1\">\r\n   <g id=\"patch_2\">\r\n    <path d=\"M 28.942188 282.799219 \r\nL 419.542188 282.799219 \r\nL 419.542188 10.999219 \r\nL 28.942188 10.999219 \r\nz\r\n\" style=\"fill:#ffffff;\"/>\r\n   </g>\r\n   <g id=\"PathCollection_1\">\r\n    <defs>\r\n     <path d=\"M 0 2.236068 \r\nC 0.593012 2.236068 1.161816 2.000462 1.581139 1.581139 \r\nC 2.000462 1.161816 2.236068 0.593012 2.236068 0 \r\nC 2.236068 -0.593012 2.000462 -1.161816 1.581139 -1.581139 \r\nC 1.161816 -2.000462 0.593012 -2.236068 0 -2.236068 \r\nC -0.593012 -2.236068 -1.161816 -2.000462 -1.581139 -1.581139 \r\nC -2.000462 -1.161816 -2.236068 -0.593012 -2.236068 0 \r\nC -2.236068 0.593012 -2.000462 1.161816 -1.581139 1.581139 \r\nC -1.161816 2.000462 -0.593012 2.236068 0 2.236068 \r\nz\r\n\" id=\"C0_0_a8d4fbd87f\"/>\r\n    </defs>\r\n    <g clip-path=\"url(#p9dfedf50dd)\">\r\n     <use style=\"fill:#5e4fa2;stroke:#5e4fa2;\" x=\"237.262188\" xlink:href=\"#C0_0_a8d4fbd87f\" y=\"115.189219\"/>\r\n    </g>\r\n    <g clip-path=\"url(#p9dfedf50dd)\">\r\n     <use style=\"fill:#5e4fa2;stroke:#5e4fa2;\" x=\"243.772188\" xlink:href=\"#C0_0_a8d4fbd87f\" y=\"133.309219\"/>\r\n    </g>\r\n    <g clip-path=\"url(#p9dfedf50dd)\">\r\n     <use style=\"fill:#5e4fa2;stroke:#5e4fa2;\" x=\"250.282187\" xlink:href=\"#C0_0_a8d4fbd87f\" y=\"124.249219\"/>\r\n    </g>\r\n    <g clip-path=\"url(#p9dfedf50dd)\">\r\n     <use style=\"fill:#5e4fa2;stroke:#5e4fa2;\" x=\"263.302188\" xlink:href=\"#C0_0_a8d4fbd87f\" y=\"124.249219\"/>\r\n    </g>\r\n    <g clip-path=\"url(#p9dfedf50dd)\">\r\n     <use style=\"fill:#5e4fa2;stroke:#5e4fa2;\" x=\"230.752187\" xlink:href=\"#C0_0_a8d4fbd87f\" y=\"128.779219\"/>\r\n    </g>\r\n    <g clip-path=\"url(#p9dfedf50dd)\">\r\n     <use style=\"fill:#9e0142;stroke:#9e0142;\" x=\"250.282187\" xlink:href=\"#C0_0_a8d4fbd87f\" y=\"119.719219\"/>\r\n    </g>\r\n    <g clip-path=\"url(#p9dfedf50dd)\">\r\n     <use style=\"fill:#9e0142;stroke:#9e0142;\" x=\"263.302188\" xlink:href=\"#C0_0_a8d4fbd87f\" y=\"137.839219\"/>\r\n    </g>\r\n    <g clip-path=\"url(#p9dfedf50dd)\">\r\n     <use style=\"fill:#9e0142;stroke:#9e0142;\" x=\"269.812187\" xlink:href=\"#C0_0_a8d4fbd87f\" y=\"128.779219\"/>\r\n    </g>\r\n    <g clip-path=\"url(#p9dfedf50dd)\">\r\n     <use style=\"fill:#9e0142;stroke:#9e0142;\" x=\"276.322187\" xlink:href=\"#C0_0_a8d4fbd87f\" y=\"119.719219\"/>\r\n    </g>\r\n    <g clip-path=\"url(#p9dfedf50dd)\">\r\n     <use style=\"fill:#9e0142;stroke:#9e0142;\" x=\"269.812187\" xlink:href=\"#C0_0_a8d4fbd87f\" y=\"124.249219\"/>\r\n    </g>\r\n   </g>\r\n   <g id=\"matplotlib.axis_1\">\r\n    <g id=\"xtick_1\">\r\n     <g id=\"line2d_1\">\r\n      <defs>\r\n       <path d=\"M 0 0 \r\nL 0 3.5 \r\n\" id=\"m06d0a5c17f\" style=\"stroke:#000000;stroke-width:0.8;\"/>\r\n      </defs>\r\n      <g>\r\n       <use style=\"stroke:#000000;stroke-width:0.8;\" x=\"28.942188\" xlink:href=\"#m06d0a5c17f\" y=\"282.799219\"/>\r\n      </g>\r\n     </g>\r\n     <g id=\"text_1\">\r\n      <!-- −3 -->\r\n      <defs>\r\n       <path d=\"M 10.59375 35.5 \r\nL 73.1875 35.5 \r\nL 73.1875 27.203125 \r\nL 10.59375 27.203125 \r\nz\r\n\" id=\"DejaVuSans-8722\"/>\r\n       <path d=\"M 40.578125 39.3125 \r\nQ 47.65625 37.796875 51.625 33 \r\nQ 55.609375 28.21875 55.609375 21.1875 \r\nQ 55.609375 10.40625 48.1875 4.484375 \r\nQ 40.765625 -1.421875 27.09375 -1.421875 \r\nQ 22.515625 -1.421875 17.65625 -0.515625 \r\nQ 12.796875 0.390625 7.625 2.203125 \r\nL 7.625 11.71875 \r\nQ 11.71875 9.328125 16.59375 8.109375 \r\nQ 21.484375 6.890625 26.8125 6.890625 \r\nQ 36.078125 6.890625 40.9375 10.546875 \r\nQ 45.796875 14.203125 45.796875 21.1875 \r\nQ 45.796875 27.640625 41.28125 31.265625 \r\nQ 36.765625 34.90625 28.71875 34.90625 \r\nL 20.21875 34.90625 \r\nL 20.21875 43.015625 \r\nL 29.109375 43.015625 \r\nQ 36.375 43.015625 40.234375 45.921875 \r\nQ 44.09375 48.828125 44.09375 54.296875 \r\nQ 44.09375 59.90625 40.109375 62.90625 \r\nQ 36.140625 65.921875 28.71875 65.921875 \r\nQ 24.65625 65.921875 20.015625 65.03125 \r\nQ 15.375 64.15625 9.8125 62.3125 \r\nL 9.8125 71.09375 \r\nQ 15.4375 72.65625 20.34375 73.4375 \r\nQ 25.25 74.21875 29.59375 74.21875 \r\nQ 40.828125 74.21875 47.359375 69.109375 \r\nQ 53.90625 64.015625 53.90625 55.328125 \r\nQ 53.90625 49.265625 50.4375 45.09375 \r\nQ 46.96875 40.921875 40.578125 39.3125 \r\nz\r\n\" id=\"DejaVuSans-51\"/>\r\n      </defs>\r\n      <g transform=\"translate(21.571094 297.397656)scale(0.1 -0.1)\">\r\n       <use xlink:href=\"#DejaVuSans-8722\"/>\r\n       <use x=\"83.789062\" xlink:href=\"#DejaVuSans-51\"/>\r\n      </g>\r\n     </g>\r\n    </g>\r\n    <g id=\"xtick_2\">\r\n     <g id=\"line2d_2\">\r\n      <g>\r\n       <use style=\"stroke:#000000;stroke-width:0.8;\" x=\"94.042188\" xlink:href=\"#m06d0a5c17f\" y=\"282.799219\"/>\r\n      </g>\r\n     </g>\r\n     <g id=\"text_2\">\r\n      <!-- −2 -->\r\n      <defs>\r\n       <path d=\"M 19.1875 8.296875 \r\nL 53.609375 8.296875 \r\nL 53.609375 0 \r\nL 7.328125 0 \r\nL 7.328125 8.296875 \r\nQ 12.9375 14.109375 22.625 23.890625 \r\nQ 32.328125 33.6875 34.8125 36.53125 \r\nQ 39.546875 41.84375 41.421875 45.53125 \r\nQ 43.3125 49.21875 43.3125 52.78125 \r\nQ 43.3125 58.59375 39.234375 62.25 \r\nQ 35.15625 65.921875 28.609375 65.921875 \r\nQ 23.96875 65.921875 18.8125 64.3125 \r\nQ 13.671875 62.703125 7.8125 59.421875 \r\nL 7.8125 69.390625 \r\nQ 13.765625 71.78125 18.9375 73 \r\nQ 24.125 74.21875 28.421875 74.21875 \r\nQ 39.75 74.21875 46.484375 68.546875 \r\nQ 53.21875 62.890625 53.21875 53.421875 \r\nQ 53.21875 48.921875 51.53125 44.890625 \r\nQ 49.859375 40.875 45.40625 35.40625 \r\nQ 44.1875 33.984375 37.640625 27.21875 \r\nQ 31.109375 20.453125 19.1875 8.296875 \r\nz\r\n\" id=\"DejaVuSans-50\"/>\r\n      </defs>\r\n      <g transform=\"translate(86.671094 297.397656)scale(0.1 -0.1)\">\r\n       <use xlink:href=\"#DejaVuSans-8722\"/>\r\n       <use x=\"83.789062\" xlink:href=\"#DejaVuSans-50\"/>\r\n      </g>\r\n     </g>\r\n    </g>\r\n    <g id=\"xtick_3\">\r\n     <g id=\"line2d_3\">\r\n      <g>\r\n       <use style=\"stroke:#000000;stroke-width:0.8;\" x=\"159.142188\" xlink:href=\"#m06d0a5c17f\" y=\"282.799219\"/>\r\n      </g>\r\n     </g>\r\n     <g id=\"text_3\">\r\n      <!-- −1 -->\r\n      <defs>\r\n       <path d=\"M 12.40625 8.296875 \r\nL 28.515625 8.296875 \r\nL 28.515625 63.921875 \r\nL 10.984375 60.40625 \r\nL 10.984375 69.390625 \r\nL 28.421875 72.90625 \r\nL 38.28125 72.90625 \r\nL 38.28125 8.296875 \r\nL 54.390625 8.296875 \r\nL 54.390625 0 \r\nL 12.40625 0 \r\nz\r\n\" id=\"DejaVuSans-49\"/>\r\n      </defs>\r\n      <g transform=\"translate(151.771094 297.397656)scale(0.1 -0.1)\">\r\n       <use xlink:href=\"#DejaVuSans-8722\"/>\r\n       <use x=\"83.789062\" xlink:href=\"#DejaVuSans-49\"/>\r\n      </g>\r\n     </g>\r\n    </g>\r\n    <g id=\"xtick_4\">\r\n     <g id=\"line2d_4\">\r\n      <g>\r\n       <use style=\"stroke:#000000;stroke-width:0.8;\" x=\"224.242188\" xlink:href=\"#m06d0a5c17f\" y=\"282.799219\"/>\r\n      </g>\r\n     </g>\r\n     <g id=\"text_4\">\r\n      <!-- 0 -->\r\n      <defs>\r\n       <path d=\"M 31.78125 66.40625 \r\nQ 24.171875 66.40625 20.328125 58.90625 \r\nQ 16.5 51.421875 16.5 36.375 \r\nQ 16.5 21.390625 20.328125 13.890625 \r\nQ 24.171875 6.390625 31.78125 6.390625 \r\nQ 39.453125 6.390625 43.28125 13.890625 \r\nQ 47.125 21.390625 47.125 36.375 \r\nQ 47.125 51.421875 43.28125 58.90625 \r\nQ 39.453125 66.40625 31.78125 66.40625 \r\nz\r\nM 31.78125 74.21875 \r\nQ 44.046875 74.21875 50.515625 64.515625 \r\nQ 56.984375 54.828125 56.984375 36.375 \r\nQ 56.984375 17.96875 50.515625 8.265625 \r\nQ 44.046875 -1.421875 31.78125 -1.421875 \r\nQ 19.53125 -1.421875 13.0625 8.265625 \r\nQ 6.59375 17.96875 6.59375 36.375 \r\nQ 6.59375 54.828125 13.0625 64.515625 \r\nQ 19.53125 74.21875 31.78125 74.21875 \r\nz\r\n\" id=\"DejaVuSans-48\"/>\r\n      </defs>\r\n      <g transform=\"translate(221.060937 297.397656)scale(0.1 -0.1)\">\r\n       <use xlink:href=\"#DejaVuSans-48\"/>\r\n      </g>\r\n     </g>\r\n    </g>\r\n    <g id=\"xtick_5\">\r\n     <g id=\"line2d_5\">\r\n      <g>\r\n       <use style=\"stroke:#000000;stroke-width:0.8;\" x=\"289.342188\" xlink:href=\"#m06d0a5c17f\" y=\"282.799219\"/>\r\n      </g>\r\n     </g>\r\n     <g id=\"text_5\">\r\n      <!-- 1 -->\r\n      <g transform=\"translate(286.160938 297.397656)scale(0.1 -0.1)\">\r\n       <use xlink:href=\"#DejaVuSans-49\"/>\r\n      </g>\r\n     </g>\r\n    </g>\r\n    <g id=\"xtick_6\">\r\n     <g id=\"line2d_6\">\r\n      <g>\r\n       <use style=\"stroke:#000000;stroke-width:0.8;\" x=\"354.442187\" xlink:href=\"#m06d0a5c17f\" y=\"282.799219\"/>\r\n      </g>\r\n     </g>\r\n     <g id=\"text_6\">\r\n      <!-- 2 -->\r\n      <g transform=\"translate(351.260938 297.397656)scale(0.1 -0.1)\">\r\n       <use xlink:href=\"#DejaVuSans-50\"/>\r\n      </g>\r\n     </g>\r\n    </g>\r\n    <g id=\"xtick_7\">\r\n     <g id=\"line2d_7\">\r\n      <g>\r\n       <use style=\"stroke:#000000;stroke-width:0.8;\" x=\"419.542187\" xlink:href=\"#m06d0a5c17f\" y=\"282.799219\"/>\r\n      </g>\r\n     </g>\r\n     <g id=\"text_7\">\r\n      <!-- 3 -->\r\n      <g transform=\"translate(416.360937 297.397656)scale(0.1 -0.1)\">\r\n       <use xlink:href=\"#DejaVuSans-51\"/>\r\n      </g>\r\n     </g>\r\n    </g>\r\n   </g>\r\n   <g id=\"matplotlib.axis_2\">\r\n    <g id=\"ytick_1\">\r\n     <g id=\"line2d_8\">\r\n      <defs>\r\n       <path d=\"M 0 0 \r\nL -3.5 0 \r\n\" id=\"m8048138689\" style=\"stroke:#000000;stroke-width:0.8;\"/>\r\n      </defs>\r\n      <g>\r\n       <use style=\"stroke:#000000;stroke-width:0.8;\" x=\"28.942188\" xlink:href=\"#m8048138689\" y=\"282.799219\"/>\r\n      </g>\r\n     </g>\r\n     <g id=\"text_8\">\r\n      <!-- −3 -->\r\n      <g transform=\"translate(7.2 286.598437)scale(0.1 -0.1)\">\r\n       <use xlink:href=\"#DejaVuSans-8722\"/>\r\n       <use x=\"83.789062\" xlink:href=\"#DejaVuSans-51\"/>\r\n      </g>\r\n     </g>\r\n    </g>\r\n    <g id=\"ytick_2\">\r\n     <g id=\"line2d_9\">\r\n      <g>\r\n       <use style=\"stroke:#000000;stroke-width:0.8;\" x=\"28.942188\" xlink:href=\"#m8048138689\" y=\"237.499219\"/>\r\n      </g>\r\n     </g>\r\n     <g id=\"text_9\">\r\n      <!-- −2 -->\r\n      <g transform=\"translate(7.2 241.298437)scale(0.1 -0.1)\">\r\n       <use xlink:href=\"#DejaVuSans-8722\"/>\r\n       <use x=\"83.789062\" xlink:href=\"#DejaVuSans-50\"/>\r\n      </g>\r\n     </g>\r\n    </g>\r\n    <g id=\"ytick_3\">\r\n     <g id=\"line2d_10\">\r\n      <g>\r\n       <use style=\"stroke:#000000;stroke-width:0.8;\" x=\"28.942188\" xlink:href=\"#m8048138689\" y=\"192.199219\"/>\r\n      </g>\r\n     </g>\r\n     <g id=\"text_10\">\r\n      <!-- −1 -->\r\n      <g transform=\"translate(7.2 195.998437)scale(0.1 -0.1)\">\r\n       <use xlink:href=\"#DejaVuSans-8722\"/>\r\n       <use x=\"83.789062\" xlink:href=\"#DejaVuSans-49\"/>\r\n      </g>\r\n     </g>\r\n    </g>\r\n    <g id=\"ytick_4\">\r\n     <g id=\"line2d_11\">\r\n      <g>\r\n       <use style=\"stroke:#000000;stroke-width:0.8;\" x=\"28.942188\" xlink:href=\"#m8048138689\" y=\"146.899219\"/>\r\n      </g>\r\n     </g>\r\n     <g id=\"text_11\">\r\n      <!-- 0 -->\r\n      <g transform=\"translate(15.579688 150.698437)scale(0.1 -0.1)\">\r\n       <use xlink:href=\"#DejaVuSans-48\"/>\r\n      </g>\r\n     </g>\r\n    </g>\r\n    <g id=\"ytick_5\">\r\n     <g id=\"line2d_12\">\r\n      <g>\r\n       <use style=\"stroke:#000000;stroke-width:0.8;\" x=\"28.942188\" xlink:href=\"#m8048138689\" y=\"101.599219\"/>\r\n      </g>\r\n     </g>\r\n     <g id=\"text_12\">\r\n      <!-- 1 -->\r\n      <g transform=\"translate(15.579688 105.398437)scale(0.1 -0.1)\">\r\n       <use xlink:href=\"#DejaVuSans-49\"/>\r\n      </g>\r\n     </g>\r\n    </g>\r\n    <g id=\"ytick_6\">\r\n     <g id=\"line2d_13\">\r\n      <g>\r\n       <use style=\"stroke:#000000;stroke-width:0.8;\" x=\"28.942188\" xlink:href=\"#m8048138689\" y=\"56.299219\"/>\r\n      </g>\r\n     </g>\r\n     <g id=\"text_13\">\r\n      <!-- 2 -->\r\n      <g transform=\"translate(15.579688 60.098437)scale(0.1 -0.1)\">\r\n       <use xlink:href=\"#DejaVuSans-50\"/>\r\n      </g>\r\n     </g>\r\n    </g>\r\n    <g id=\"ytick_7\">\r\n     <g id=\"line2d_14\">\r\n      <g>\r\n       <use style=\"stroke:#000000;stroke-width:0.8;\" x=\"28.942188\" xlink:href=\"#m8048138689\" y=\"10.999219\"/>\r\n      </g>\r\n     </g>\r\n     <g id=\"text_14\">\r\n      <!-- 3 -->\r\n      <g transform=\"translate(15.579688 14.798437)scale(0.1 -0.1)\">\r\n       <use xlink:href=\"#DejaVuSans-51\"/>\r\n      </g>\r\n     </g>\r\n    </g>\r\n   </g>\r\n   <g id=\"line2d_15\">\r\n    <path clip-path=\"url(#p9dfedf50dd)\" d=\"M 354.442187 51.234622 \r\nL 94.042188 242.563815 \r\n\" style=\"fill:none;stroke:#1f77b4;stroke-linecap:square;stroke-width:1.5;\"/>\r\n   </g>\r\n   <g id=\"patch_3\">\r\n    <path d=\"M 28.942188 282.799219 \r\nL 28.942188 10.999219 \r\n\" style=\"fill:none;stroke:#000000;stroke-linecap:square;stroke-linejoin:miter;stroke-width:0.8;\"/>\r\n   </g>\r\n   <g id=\"patch_4\">\r\n    <path d=\"M 419.542188 282.799219 \r\nL 419.542188 10.999219 \r\n\" style=\"fill:none;stroke:#000000;stroke-linecap:square;stroke-linejoin:miter;stroke-width:0.8;\"/>\r\n   </g>\r\n   <g id=\"patch_5\">\r\n    <path d=\"M 28.942188 282.799219 \r\nL 419.542187 282.799219 \r\n\" style=\"fill:none;stroke:#000000;stroke-linecap:square;stroke-linejoin:miter;stroke-width:0.8;\"/>\r\n   </g>\r\n   <g id=\"patch_6\">\r\n    <path d=\"M 28.942188 10.999219 \r\nL 419.542187 10.999219 \r\n\" style=\"fill:none;stroke:#000000;stroke-linecap:square;stroke-linejoin:miter;stroke-width:0.8;\"/>\r\n   </g>\r\n  </g>\r\n </g>\r\n <defs>\r\n  <clipPath id=\"p9dfedf50dd\">\r\n   <rect height=\"271.8\" width=\"390.6\" x=\"28.942188\" y=\"10.999219\"/>\r\n  </clipPath>\r\n </defs>\r\n</svg>\r\n",
      "image/png": "[encoded data removed]"
     },
     "metadata": {
      "needs_background": "light"
     }
    }
   ],
   "source": [
    "X,Y=loadData()\n",
    "W=SSerr2((X),Y)\n",
    "\n",
    "live_plot(X,Y,W,lims=(3,3),bias=False,clear=True)"
   ]
  }
 ]
}