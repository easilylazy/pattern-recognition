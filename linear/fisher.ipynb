{
 "metadata": {
  "language_info": {
   "codemirror_mode": {
    "name": "ipython",
    "version": 3
   },
   "file_extension": ".py",
   "mimetype": "text/x-python",
   "name": "python",
   "nbconvert_exporter": "python",
   "pygments_lexer": "ipython3",
   "version": "3.7.4-final"
  },
  "orig_nbformat": 2,
  "kernelspec": {
   "name": "python3",
   "display_name": "Python 3.7.4 64-bit",
   "metadata": {
    "interpreter": {
     "hash": "3f857618d8b6a3d270a8a45aea13fd0dc2a28a907e8d4ef70fe87ce2a92698f8"
    }
   }
  }
 },
 "nbformat": 4,
 "nbformat_minor": 2,
 "cells": [
  {
   "source": [
    "###\n",
    "已知两类样本的数据如下： \n",
    " \n",
    " \n",
    "试用Fisher判别函数法，求出最佳投影方向W，及分类阈值y0\n",
    "\n",
    "思路：\n",
    "令J(w)最大\n"
   ],
   "cell_type": "markdown",
   "metadata": {}
  },
  {
   "cell_type": "code",
   "execution_count": 1,
   "metadata": {},
   "outputs": [],
   "source": [
    "import numpy as np"
   ]
  },
  {
   "source": [
    "### 对数据的理解\n",
    "首先w1与w2分别为两个类别的数据  \n",
    "这个例子中，一个数据有两个维度，则需要将这两个维度投影到易分离两个类别的新空间   \n",
    "通过fisher算法，可以表征类间差别和类内相似，进而找到最佳投影方向！"
   ],
   "cell_type": "markdown",
   "metadata": {}
  },
  {
   "cell_type": "code",
   "execution_count": 2,
   "metadata": {},
   "outputs": [],
   "source": [
    "w1=[(5,37),(7,30),(10,35),(11.5,40),(14,38),(12,31)]\n",
    "w2=[(35,21.5),(39,21.7),(34,16),(37,17)]"
   ]
  },
  {
   "cell_type": "code",
   "execution_count": 4,
   "metadata": {},
   "outputs": [],
   "source": [
    "w1=np.asarray(w1)\n",
    "w2=np.asarray(w2)"
   ]
  },
  {
   "cell_type": "code",
   "execution_count": 5,
   "metadata": {},
   "outputs": [
    {
     "output_type": "execute_result",
     "data": {
      "text/plain": [
       "array([[ 5. , 37. ],\n",
       "       [ 7. , 30. ],\n",
       "       [10. , 35. ],\n",
       "       [11.5, 40. ],\n",
       "       [14. , 38. ],\n",
       "       [12. , 31. ]])"
      ]
     },
     "metadata": {},
     "execution_count": 5
    }
   ],
   "source": [
    "w1"
   ]
  },
  {
   "source": [
    "由于每一行数据是单个数据结果，不利于应用平均函数\n",
    "我们可以利用numpy的swapaxes交换行列，在只有两维时等价于\n",
    "``` python\n",
    "X0=w1[:,0]\n",
    "X1=w1[:,1]\n",
    "\n",
    "```"
   ],
   "cell_type": "markdown",
   "metadata": {}
  },
  {
   "cell_type": "code",
   "execution_count": 9,
   "metadata": {},
   "outputs": [],
   "source": [
    "X1=np.swapaxes(w1,0,1)\n",
    "X2=np.swapaxes(w2,0,1)"
   ]
  },
  {
   "source": [
    "计算交换行列后的平均数，其实利用numpy的函数也可以轻松计算得出按列求平均的结果，即`axis=0`"
   ],
   "cell_type": "markdown",
   "metadata": {}
  },
  {
   "cell_type": "code",
   "execution_count": 14,
   "metadata": {},
   "outputs": [
    {
     "output_type": "stream",
     "name": "stdout",
     "text": [
      "[ 9.91666667 35.16666667]\n[[11.24166667  3.31666667]\n [ 3.31666667 15.76666667]]\n"
     ]
    }
   ],
   "source": [
    "# compute mean for each row\n",
    "print(X1.mean(axis=1))\n",
    "Miu1=X1.mean(axis=1)\n",
    "Miu2=X2.mean(axis=1)\n",
    "print(np.cov(X1))"
   ]
  },
  {
   "cell_type": "code",
   "execution_count": 28,
   "metadata": {},
   "outputs": [
    {
     "output_type": "execute_result",
     "data": {
      "text/plain": [
       "array([[-4.91666667,  1.83333333],\n",
       "       [-2.91666667, -5.16666667],\n",
       "       [ 0.08333333, -0.16666667],\n",
       "       [ 1.58333333,  4.83333333],\n",
       "       [ 4.08333333,  2.83333333],\n",
       "       [ 2.08333333, -4.16666667]])"
      ]
     },
     "metadata": {},
     "execution_count": 28
    }
   ],
   "source": [
    "# 看一下原始数据减去平均值的结果，numpy就是正常的矩阵减法：原数据的每一行都减去平均值，符合需要\n",
    "w1-Miu1"
   ]
  },
  {
   "source": [
    "### 协方差covariance\n",
    "使用numpy内置函数cov()与ppt上的公式计算结果不同，因为标准的协方差公式为  \n",
    "$$cov=\\frac{1}{n-1} lazyCov$$\n",
    "$$lazyCov=(X-\\mu)(X-\\mu)^{T}$$"
   ],
   "cell_type": "markdown",
   "metadata": {}
  },
  {
   "cell_type": "code",
   "execution_count": 23,
   "metadata": {},
   "outputs": [],
   "source": [
    "def lazyCov(X,miu):\n",
    "    return np.dot(np.transpose(X-miu),X-miu)"
   ]
  },
  {
   "cell_type": "code",
   "execution_count": 30,
   "metadata": {},
   "outputs": [],
   "source": [
    "Sigma1=lazyCov(w1,Miu1)\n",
    "Sigma2=lazyCov(w2,Miu2)"
   ]
  },
  {
   "cell_type": "code",
   "execution_count": 25,
   "metadata": {},
   "outputs": [
    {
     "output_type": "execute_result",
     "data": {
      "text/plain": [
       "array([[11.24166667,  3.31666667],\n",
       "       [ 3.31666667, 15.76666667]])"
      ]
     },
     "metadata": {},
     "execution_count": 25
    }
   ],
   "source": [
    "lazyCov(w1,Miu1)/5"
   ]
  },
  {
   "cell_type": "code",
   "execution_count": 31,
   "metadata": {},
   "outputs": [
    {
     "output_type": "execute_result",
     "data": {
      "text/plain": [
       "array([[14.75,  9.55],\n",
       "       [ 9.55, 26.53]])"
      ]
     },
     "metadata": {},
     "execution_count": 31
    }
   ],
   "source": [
    "Sigma2"
   ]
  },
  {
   "source": [
    "### 类间差别与类内相似"
   ],
   "cell_type": "markdown",
   "metadata": {}
  },
  {
   "cell_type": "code",
   "execution_count": 36,
   "metadata": {},
   "outputs": [
    {
     "output_type": "stream",
     "name": "stdout",
     "text": [
      "953.1913888888889\n"
     ]
    }
   ],
   "source": [
    "Sb=np.dot(Miu1-Miu2,np.transpose(Miu1-Miu2))\n",
    "print(Sb)"
   ]
  },
  {
   "cell_type": "code",
   "execution_count": 50,
   "metadata": {},
   "outputs": [
    {
     "output_type": "stream",
     "name": "stdout",
     "text": [
      "[[ 693.44444444 -424.40555556]\n [-424.40555556  259.74694444]]\n[-26.33333333  16.11666667]\n(2,)\n"
     ]
    }
   ],
   "source": [
    "Sb=np.dot(np.transpose(Miu1-Miu2).reshape(2,1),(Miu1-Miu2).reshape(1,2))\n",
    "print(Sb)\n",
    "print(Miu1-Miu2)\n",
    "print(np.transpose(Miu1-Miu2).shape)"
   ]
  },
  {
   "cell_type": "code",
   "execution_count": 35,
   "metadata": {},
   "outputs": [
    {
     "output_type": "stream",
     "name": "stdout",
     "text": [
      "[[ 70.95833333  26.13333333]\n [ 26.13333333 105.36333333]]\n"
     ]
    }
   ],
   "source": [
    "Sw=Sigma1+Sigma2\n",
    "print(Sw)"
   ]
  },
  {
   "source": [
    "### 经过一系列推导，可知最佳的projection$w*$由下面的公式决定：\n",
    "$$w*=(\\sigma_{1}+\\sigma_{2})^{-1}(\\mu_{1}-\\mu_{2})$$"
   ],
   "cell_type": "markdown",
   "metadata": {}
  },
  {
   "cell_type": "code",
   "execution_count": 67,
   "metadata": {},
   "outputs": [
    {
     "output_type": "stream",
     "name": "stdout",
     "text": [
      "[[-0.47041598  0.26964033]]\n"
     ]
    }
   ],
   "source": [
    "projectionW=np.dot((Miu1-Miu2).reshape(1,2),np.linalg.inv(Sigma1+Sigma2))\n",
    "print(projectionW)"
   ]
  },
  {
   "cell_type": "code",
   "execution_count": 65,
   "metadata": {},
   "outputs": [
    {
     "output_type": "stream",
     "name": "stdout",
     "text": [
      "[-3.54926888]\n"
     ]
    }
   ],
   "source": [
    "Zt=np.dot(projectionW,(Miu1+Miu2).transpose())/2\n",
    "print(Zt)"
   ]
  },
  {
   "cell_type": "code",
   "execution_count": 68,
   "metadata": {},
   "outputs": [],
   "source": [
    "Z1=np.dot(projectionW,w1.transpose())\n",
    "Z2=np.dot(projectionW,w2.transpose())"
   ]
  },
  {
   "source": [
    "### 检验分类结果，全部区分开来"
   ],
   "cell_type": "markdown",
   "metadata": {}
  },
  {
   "cell_type": "code",
   "execution_count": 70,
   "metadata": {},
   "outputs": [
    {
     "output_type": "stream",
     "name": "stdout",
     "text": [
      "[7.62461243 4.79629813 4.73325185 5.37582954 3.66050892 2.71385855]\n[]\n[]\n[-10.6672922  -12.49502806 -11.67989805 -12.82150566]\n"
     ]
    }
   ],
   "source": [
    "print(Z1[Z1>Zt])\n",
    "print(Z1[Z1<Zt])\n",
    "print(Z2[Z2>Zt])\n",
    "print(Z2[Z2<Zt])"
   ]
  }
 ]
}