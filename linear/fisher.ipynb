{
 "metadata": {
  "language_info": {
   "codemirror_mode": {
    "name": "ipython",
    "version": 3
   },
   "file_extension": ".py",
   "mimetype": "text/x-python",
   "name": "python",
   "nbconvert_exporter": "python",
   "pygments_lexer": "ipython3",
   "version": "3.7.4-final"
  },
  "orig_nbformat": 2,
  "kernelspec": {
   "name": "python3",
   "display_name": "Python 3.7.4 64-bit",
   "metadata": {
    "interpreter": {
     "hash": "3f857618d8b6a3d270a8a45aea13fd0dc2a28a907e8d4ef70fe87ce2a92698f8"
    }
   }
  }
 },
 "nbformat": 4,
 "nbformat_minor": 2,
 "cells": [
  {
   "source": [
    "###\n",
    "已知两类样本的数据如下： \n",
    " \n",
    " \n",
    "试用Fisher判别函数法，求出最佳投影方向W，及分类阈值y0\n",
    "\n",
    "思路：\n",
    "令J(w)最大\n"
   ],
   "cell_type": "markdown",
   "metadata": {}
  },
  {
   "cell_type": "code",
   "execution_count": 7,
   "metadata": {},
   "outputs": [],
   "source": [
    "import numpy as np"
   ]
  },
  {
   "cell_type": "code",
   "execution_count": 1,
   "metadata": {},
   "outputs": [],
   "source": [
    "w1=[(5,37),(7,30),(10,35),(11.5,40),(14,38),(12,31)]\n",
    "w2=[(35,21.5),(39,21.7),(34,16),(37,17)]"
   ]
  },
  {
   "cell_type": "code",
   "execution_count": 8,
   "metadata": {},
   "outputs": [],
   "source": [
    "X1=[]\n",
    "Y1=[]\n",
    "X2=[]\n",
    "Y2=[]\n",
    "for w in w1:\n",
    "    X1.append(w[0])\n",
    "    Y1.append(w[1])\n",
    "for w in w2:\n",
    "    X2.append(w[0])\n",
    "    Y2.append(w[1])\n",
    "X1=np.asarray(X1)\n",
    "Y1=np.asarray(Y1)\n",
    "X2=np.asarray(X2)\n",
    "Y2=np.asarray(Y2)"
   ]
  },
  {
   "cell_type": "code",
   "execution_count": 16,
   "metadata": {},
   "outputs": [
    {
     "output_type": "execute_result",
     "data": {
      "text/plain": [
       "array([ 5. ,  7. , 10. , 11.5, 14. , 12. ])"
      ]
     },
     "metadata": {},
     "execution_count": 16
    }
   ],
   "source": [
    "X1"
   ]
  },
  {
   "cell_type": "code",
   "execution_count": 19,
   "metadata": {},
   "outputs": [
    {
     "output_type": "stream",
     "name": "stdout",
     "text": [
      "9.916666666666666\n11.241666666666665\n"
     ]
    }
   ],
   "source": [
    "print(X1.mean())\n",
    "print(np.cov(X1))"
   ]
  },
  {
   "cell_type": "code",
   "execution_count": 20,
   "metadata": {},
   "outputs": [],
   "source": [
    "def lazyCov(X):\n",
    "    miu=X.mean()\n",
    "    print(X-miu)\n",
    "    return np.dot(X-miu,np.transpose(X-miu))"
   ]
  },
  {
   "cell_type": "code",
   "execution_count": 21,
   "metadata": {},
   "outputs": [
    {
     "output_type": "stream",
     "name": "stdout",
     "text": [
      "[-4.91666667 -2.91666667  0.08333333  1.58333333  4.08333333  2.08333333]\n"
     ]
    },
    {
     "output_type": "execute_result",
     "data": {
      "text/plain": [
       "56.20833333333332"
      ]
     },
     "metadata": {},
     "execution_count": 21
    }
   ],
   "source": [
    "lazyCov(X1)"
   ]
  },
  {
   "cell_type": "code",
   "execution_count": null,
   "metadata": {},
   "outputs": [],
   "source": []
  }
 ]
}