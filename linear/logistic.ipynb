{
 "metadata": {
  "language_info": {
   "codemirror_mode": {
    "name": "ipython",
    "version": 3
   },
   "file_extension": ".py",
   "mimetype": "text/x-python",
   "name": "python",
   "nbconvert_exporter": "python",
   "pygments_lexer": "ipython3",
   "version": "3.7.4-final"
  },
  "orig_nbformat": 2,
  "kernelspec": {
   "name": "python3",
   "display_name": "Python 3.7.4 64-bit",
   "metadata": {
    "interpreter": {
     "hash": "3f857618d8b6a3d270a8a45aea13fd0dc2a28a907e8d4ef70fe87ce2a92698f8"
    }
   }
  }
 },
 "nbformat": 4,
 "nbformat_minor": 2,
 "cells": [
  {
   "source": [
    "author: leezeeyee   \n",
    "date: 2021/3/17   \n",
    "link: [github](https://github.com/easilylazy/pattern-recognition) "
   ],
   "cell_type": "markdown",
   "metadata": {}
  },
  {
   "cell_type": "code",
   "execution_count": 1,
   "metadata": {},
   "outputs": [],
   "source": [
    "import numpy as np"
   ]
  },
  {
   "source": [
    "怎么更新呢？\n",
    "还是通过学习率，进行错误的惩罚"
   ],
   "cell_type": "markdown",
   "metadata": {}
  },
  {
   "cell_type": "code",
   "execution_count": 8,
   "metadata": {},
   "outputs": [],
   "source": [
    "def sigmoid(s):\n",
    "    return 1/(1+np.exp(-s))"
   ]
  },
  {
   "cell_type": "code",
   "execution_count": 9,
   "metadata": {},
   "outputs": [
    {
     "output_type": "execute_result",
     "data": {
      "text/plain": [
       "0.5"
      ]
     },
     "metadata": {},
     "execution_count": 9
    }
   ],
   "source": [
    "sigmoid(0)"
   ]
  },
  {
   "cell_type": "code",
   "execution_count": 20,
   "metadata": {},
   "outputs": [],
   "source": [
    "def cross_entropy_err(X,y,W):\n",
    "    res=np.dot(X,W)\n",
    "    return np.dot(sigmoid(-np.dot(y,res.transpose())),-np.dot(y,X))\n"
   ]
  },
  {
   "cell_type": "code",
   "execution_count": 21,
   "metadata": {},
   "outputs": [],
   "source": [
    "def GenerateData(mu,d,N):\n",
    "    '''\n",
    "    根据传入参数mu，d，N生成 N 个二维向量的数据集s0 和s1\n",
    "    Args:\n",
    "        mu:均值\n",
    "        d(int):每个数据维度\n",
    "        N(int):每个分类有N条数据\n",
    "    Returns:\n",
    "        X(numpy.ndarray):维度为[N*2,d],前N行为一类，后N行为另一类\n",
    "        y(numpy.ndarray):维度为[N*2]，标注数据的类别\n",
    "    '''\n",
    "    I=np.eye(d)\n",
    "    mu0=np.array([mu,0])\n",
    "    mu1=np.array([-mu,0])\n",
    "\n",
    "    s0=np.random.multivariate_normal(mu0,I,N)\n",
    "    s1=np.random.multivariate_normal(mu1,I,N)\n",
    "    X=np.zeros([2*N,d])\n",
    "    X[:N]=s0\n",
    "    X[N:]=s1\n",
    "    y=np.zeros(2*N)\n",
    "    y[:N]=1\n",
    "    y[N:]=-1\n",
    "    return X,y"
   ]
  },
  {
   "cell_type": "code",
   "execution_count": 28,
   "metadata": {},
   "outputs": [],
   "source": [
    "def logistic(learning_rate=0.1):\n",
    "    X,y=GenerateData(3,2,10)\n",
    "    d=X.shape[1]\n",
    "    W=np.zeros(d)\n",
    "    for i in range(10):\n",
    "        err=cross_entropy_err(X,y,W)\n",
    "        if abs(err).max()<1e-6:\n",
    "            print('achieve optimal')\n",
    "            print(W)\n",
    "            break\n",
    "        W=W-learning_rate*err\n",
    "        print(err)\n",
    "        print(W)"
   ]
  },
  {
   "cell_type": "code",
   "execution_count": 29,
   "metadata": {},
   "outputs": [
    {
     "output_type": "stream",
     "name": "stdout",
     "text": [
      "[-31.8734707    3.81847104]\n[ 3.18734707 -0.3818471 ]\nachieve optimal\n[ 3.18734707 -0.3818471 ]\n"
     ]
    }
   ],
   "source": [
    "logistic()"
   ]
  },
  {
   "cell_type": "code",
   "execution_count": null,
   "metadata": {},
   "outputs": [],
   "source": []
  }
 ]
}